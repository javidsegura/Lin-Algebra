{
 "cells": [
  {
   "cell_type": "markdown",
   "metadata": {},
   "source": [
    "# MODERN PORTFOLIO THEORY & CAPITAL ASSET PRICING MODEL"
   ]
  },
  {
   "cell_type": "markdown",
   "metadata": {},
   "source": [
    "## 0) Set-up"
   ]
  },
  {
   "cell_type": "code",
   "execution_count": 1,
   "metadata": {},
   "outputs": [],
   "source": [
    "import yfinance as yf\n",
    "import pandas as pd\n",
    "import matplotlib.pyplot as plt\n",
    "import numpy as np\n",
    "\n",
    "import seaborn as sns"
   ]
  },
  {
   "cell_type": "code",
   "execution_count": 2,
   "metadata": {},
   "outputs": [],
   "source": [
    "from library.main import Portfolio"
   ]
  },
  {
   "cell_type": "code",
   "execution_count": 3,
   "metadata": {},
   "outputs": [],
   "source": [
    "portfolio = Portfolio()"
   ]
  },
  {
   "cell_type": "code",
   "execution_count": 4,
   "metadata": {},
   "outputs": [
    {
     "data": {
      "text/html": [
       "<div>\n",
       "<style scoped>\n",
       "    .dataframe tbody tr th:only-of-type {\n",
       "        vertical-align: middle;\n",
       "    }\n",
       "\n",
       "    .dataframe tbody tr th {\n",
       "        vertical-align: top;\n",
       "    }\n",
       "\n",
       "    .dataframe thead th {\n",
       "        text-align: right;\n",
       "    }\n",
       "</style>\n",
       "<table border=\"1\" class=\"dataframe\">\n",
       "  <thead>\n",
       "    <tr style=\"text-align: right;\">\n",
       "      <th></th>\n",
       "      <th>Symbol</th>\n",
       "      <th>Security</th>\n",
       "      <th>GICS Sector</th>\n",
       "      <th>GICS Sub-Industry</th>\n",
       "      <th>Headquarters Location</th>\n",
       "      <th>Date added</th>\n",
       "      <th>CIK</th>\n",
       "      <th>Founded</th>\n",
       "    </tr>\n",
       "  </thead>\n",
       "  <tbody>\n",
       "    <tr>\n",
       "      <th>0</th>\n",
       "      <td>MMM</td>\n",
       "      <td>3M</td>\n",
       "      <td>Industrials</td>\n",
       "      <td>Industrial Conglomerates</td>\n",
       "      <td>Saint Paul, Minnesota</td>\n",
       "      <td>1957-03-04</td>\n",
       "      <td>66740</td>\n",
       "      <td>1902</td>\n",
       "    </tr>\n",
       "    <tr>\n",
       "      <th>1</th>\n",
       "      <td>AOS</td>\n",
       "      <td>A. O. Smith</td>\n",
       "      <td>Industrials</td>\n",
       "      <td>Building Products</td>\n",
       "      <td>Milwaukee, Wisconsin</td>\n",
       "      <td>2017-07-26</td>\n",
       "      <td>91142</td>\n",
       "      <td>1916</td>\n",
       "    </tr>\n",
       "    <tr>\n",
       "      <th>2</th>\n",
       "      <td>ABT</td>\n",
       "      <td>Abbott Laboratories</td>\n",
       "      <td>Health Care</td>\n",
       "      <td>Health Care Equipment</td>\n",
       "      <td>North Chicago, Illinois</td>\n",
       "      <td>1957-03-04</td>\n",
       "      <td>1800</td>\n",
       "      <td>1888</td>\n",
       "    </tr>\n",
       "    <tr>\n",
       "      <th>3</th>\n",
       "      <td>ABBV</td>\n",
       "      <td>AbbVie</td>\n",
       "      <td>Health Care</td>\n",
       "      <td>Biotechnology</td>\n",
       "      <td>North Chicago, Illinois</td>\n",
       "      <td>2012-12-31</td>\n",
       "      <td>1551152</td>\n",
       "      <td>2013 (1888)</td>\n",
       "    </tr>\n",
       "    <tr>\n",
       "      <th>4</th>\n",
       "      <td>ACN</td>\n",
       "      <td>Accenture</td>\n",
       "      <td>Information Technology</td>\n",
       "      <td>IT Consulting &amp; Other Services</td>\n",
       "      <td>Dublin, Ireland</td>\n",
       "      <td>2011-07-06</td>\n",
       "      <td>1467373</td>\n",
       "      <td>1989</td>\n",
       "    </tr>\n",
       "    <tr>\n",
       "      <th>...</th>\n",
       "      <td>...</td>\n",
       "      <td>...</td>\n",
       "      <td>...</td>\n",
       "      <td>...</td>\n",
       "      <td>...</td>\n",
       "      <td>...</td>\n",
       "      <td>...</td>\n",
       "      <td>...</td>\n",
       "    </tr>\n",
       "    <tr>\n",
       "      <th>498</th>\n",
       "      <td>XYL</td>\n",
       "      <td>Xylem Inc.</td>\n",
       "      <td>Industrials</td>\n",
       "      <td>Industrial Machinery &amp; Supplies &amp; Components</td>\n",
       "      <td>White Plains, New York</td>\n",
       "      <td>2011-11-01</td>\n",
       "      <td>1524472</td>\n",
       "      <td>2011</td>\n",
       "    </tr>\n",
       "    <tr>\n",
       "      <th>499</th>\n",
       "      <td>YUM</td>\n",
       "      <td>Yum! Brands</td>\n",
       "      <td>Consumer Discretionary</td>\n",
       "      <td>Restaurants</td>\n",
       "      <td>Louisville, Kentucky</td>\n",
       "      <td>1997-10-06</td>\n",
       "      <td>1041061</td>\n",
       "      <td>1997</td>\n",
       "    </tr>\n",
       "    <tr>\n",
       "      <th>500</th>\n",
       "      <td>ZBRA</td>\n",
       "      <td>Zebra Technologies</td>\n",
       "      <td>Information Technology</td>\n",
       "      <td>Electronic Equipment &amp; Instruments</td>\n",
       "      <td>Lincolnshire, Illinois</td>\n",
       "      <td>2019-12-23</td>\n",
       "      <td>877212</td>\n",
       "      <td>1969</td>\n",
       "    </tr>\n",
       "    <tr>\n",
       "      <th>501</th>\n",
       "      <td>ZBH</td>\n",
       "      <td>Zimmer Biomet</td>\n",
       "      <td>Health Care</td>\n",
       "      <td>Health Care Equipment</td>\n",
       "      <td>Warsaw, Indiana</td>\n",
       "      <td>2001-08-07</td>\n",
       "      <td>1136869</td>\n",
       "      <td>1927</td>\n",
       "    </tr>\n",
       "    <tr>\n",
       "      <th>502</th>\n",
       "      <td>ZTS</td>\n",
       "      <td>Zoetis</td>\n",
       "      <td>Health Care</td>\n",
       "      <td>Pharmaceuticals</td>\n",
       "      <td>Parsippany, New Jersey</td>\n",
       "      <td>2013-06-21</td>\n",
       "      <td>1555280</td>\n",
       "      <td>1952</td>\n",
       "    </tr>\n",
       "  </tbody>\n",
       "</table>\n",
       "<p>503 rows × 8 columns</p>\n",
       "</div>"
      ],
      "text/plain": [
       "    Symbol             Security             GICS Sector  \\\n",
       "0      MMM                   3M             Industrials   \n",
       "1      AOS          A. O. Smith             Industrials   \n",
       "2      ABT  Abbott Laboratories             Health Care   \n",
       "3     ABBV               AbbVie             Health Care   \n",
       "4      ACN            Accenture  Information Technology   \n",
       "..     ...                  ...                     ...   \n",
       "498    XYL           Xylem Inc.             Industrials   \n",
       "499    YUM          Yum! Brands  Consumer Discretionary   \n",
       "500   ZBRA   Zebra Technologies  Information Technology   \n",
       "501    ZBH        Zimmer Biomet             Health Care   \n",
       "502    ZTS               Zoetis             Health Care   \n",
       "\n",
       "                                GICS Sub-Industry    Headquarters Location  \\\n",
       "0                        Industrial Conglomerates    Saint Paul, Minnesota   \n",
       "1                               Building Products     Milwaukee, Wisconsin   \n",
       "2                           Health Care Equipment  North Chicago, Illinois   \n",
       "3                                   Biotechnology  North Chicago, Illinois   \n",
       "4                  IT Consulting & Other Services          Dublin, Ireland   \n",
       "..                                            ...                      ...   \n",
       "498  Industrial Machinery & Supplies & Components   White Plains, New York   \n",
       "499                                   Restaurants     Louisville, Kentucky   \n",
       "500            Electronic Equipment & Instruments   Lincolnshire, Illinois   \n",
       "501                         Health Care Equipment          Warsaw, Indiana   \n",
       "502                               Pharmaceuticals   Parsippany, New Jersey   \n",
       "\n",
       "     Date added      CIK      Founded  \n",
       "0    1957-03-04    66740         1902  \n",
       "1    2017-07-26    91142         1916  \n",
       "2    1957-03-04     1800         1888  \n",
       "3    2012-12-31  1551152  2013 (1888)  \n",
       "4    2011-07-06  1467373         1989  \n",
       "..          ...      ...          ...  \n",
       "498  2011-11-01  1524472         2011  \n",
       "499  1997-10-06  1041061         1997  \n",
       "500  2019-12-23   877212         1969  \n",
       "501  2001-08-07  1136869         1927  \n",
       "502  2013-06-21  1555280         1952  \n",
       "\n",
       "[503 rows x 8 columns]"
      ]
     },
     "execution_count": 4,
     "metadata": {},
     "output_type": "execute_result"
    }
   ],
   "source": [
    "sp500 =portfolio.extract_tickers()\n",
    "sp500"
   ]
  },
  {
   "cell_type": "code",
   "execution_count": 5,
   "metadata": {},
   "outputs": [
    {
     "data": {
      "text/plain": [
       "['MMM',\n",
       " 'AOS',\n",
       " 'ABT',\n",
       " 'ABBV',\n",
       " 'ACN',\n",
       " 'ADBE',\n",
       " 'AMD',\n",
       " 'AES',\n",
       " 'AFL',\n",
       " 'A',\n",
       " 'APD',\n",
       " 'ABNB',\n",
       " 'AKAM',\n",
       " 'ALB',\n",
       " 'ARE',\n",
       " 'ALGN',\n",
       " 'ALLE',\n",
       " 'LNT',\n",
       " 'ALL',\n",
       " 'GOOGL',\n",
       " 'GOOG',\n",
       " 'MO',\n",
       " 'AMZN',\n",
       " 'AMCR',\n",
       " 'AEE',\n",
       " 'AEP',\n",
       " 'AXP',\n",
       " 'AIG',\n",
       " 'AMT',\n",
       " 'AWK',\n",
       " 'AMP',\n",
       " 'AME',\n",
       " 'AMGN',\n",
       " 'APH',\n",
       " 'ADI',\n",
       " 'ANSS',\n",
       " 'AON',\n",
       " 'APA',\n",
       " 'APO',\n",
       " 'AAPL',\n",
       " 'AMAT',\n",
       " 'APTV',\n",
       " 'ACGL',\n",
       " 'ADM',\n",
       " 'ANET',\n",
       " 'AJG',\n",
       " 'AIZ',\n",
       " 'T',\n",
       " 'ATO',\n",
       " 'ADSK',\n",
       " 'ADP',\n",
       " 'AZO',\n",
       " 'AVB',\n",
       " 'AVY',\n",
       " 'AXON',\n",
       " 'BKR',\n",
       " 'BALL',\n",
       " 'BAC',\n",
       " 'BAX',\n",
       " 'BDX',\n",
       " 'BRK.B',\n",
       " 'BBY',\n",
       " 'TECH',\n",
       " 'BIIB',\n",
       " 'BLK',\n",
       " 'BX',\n",
       " 'BK',\n",
       " 'BA',\n",
       " 'BKNG',\n",
       " 'BSX',\n",
       " 'BMY',\n",
       " 'AVGO',\n",
       " 'BR',\n",
       " 'BRO',\n",
       " 'BF.B',\n",
       " 'BLDR',\n",
       " 'BG',\n",
       " 'BXP',\n",
       " 'CHRW',\n",
       " 'CDNS',\n",
       " 'CZR',\n",
       " 'CPT',\n",
       " 'CPB',\n",
       " 'COF',\n",
       " 'CAH',\n",
       " 'KMX',\n",
       " 'CCL',\n",
       " 'CARR',\n",
       " 'CAT',\n",
       " 'CBOE',\n",
       " 'CBRE',\n",
       " 'CDW',\n",
       " 'COR',\n",
       " 'CNC',\n",
       " 'CNP',\n",
       " 'CF',\n",
       " 'CRL',\n",
       " 'SCHW',\n",
       " 'CHTR',\n",
       " 'CVX']"
      ]
     },
     "execution_count": 5,
     "metadata": {},
     "output_type": "execute_result"
    }
   ],
   "source": [
    "# Get the first 100 tickers\n",
    "list_of_tickers = sp500[\"Symbol\"][:100].tolist()\n",
    "list_of_tickers"
   ]
  },
  {
   "cell_type": "code",
   "execution_count": 7,
   "metadata": {},
   "outputs": [],
   "source": [
    "start_date = \"2000-01-01\"\n",
    "end_date = \"2019-12-31\""
   ]
  },
  {
   "cell_type": "code",
   "execution_count": 8,
   "metadata": {},
   "outputs": [
    {
     "name": "stdout",
     "output_type": "stream",
     "text": [
      "=> Downloading data for MMM from 2000-01-01 to 2019-12-31\n"
     ]
    },
    {
     "name": "stderr",
     "output_type": "stream",
     "text": [
      "[*********************100%***********************]  1 of 1 completed\n"
     ]
    },
    {
     "name": "stdout",
     "output_type": "stream",
     "text": [
      "=> Downloading data for AOS from 2000-01-01 to 2019-12-31\n"
     ]
    },
    {
     "name": "stderr",
     "output_type": "stream",
     "text": [
      "[*********************100%***********************]  1 of 1 completed\n"
     ]
    },
    {
     "name": "stdout",
     "output_type": "stream",
     "text": [
      "=> Downloading data for ABT from 2000-01-01 to 2019-12-31\n"
     ]
    },
    {
     "name": "stderr",
     "output_type": "stream",
     "text": [
      "[*********************100%***********************]  1 of 1 completed\n"
     ]
    },
    {
     "name": "stdout",
     "output_type": "stream",
     "text": [
      "=> Downloading data for ABBV from 2000-01-01 to 2019-12-31\n"
     ]
    },
    {
     "name": "stderr",
     "output_type": "stream",
     "text": [
      "[*********************100%***********************]  1 of 1 completed\n"
     ]
    },
    {
     "name": "stdout",
     "output_type": "stream",
     "text": [
      "=> Downloading data for ACN from 2000-01-01 to 2019-12-31\n"
     ]
    },
    {
     "name": "stderr",
     "output_type": "stream",
     "text": [
      "[*********************100%***********************]  1 of 1 completed\n"
     ]
    },
    {
     "name": "stdout",
     "output_type": "stream",
     "text": [
      "=> Downloading data for ADBE from 2000-01-01 to 2019-12-31\n"
     ]
    },
    {
     "name": "stderr",
     "output_type": "stream",
     "text": [
      "[*********************100%***********************]  1 of 1 completed\n"
     ]
    },
    {
     "name": "stdout",
     "output_type": "stream",
     "text": [
      "=> Downloading data for AMD from 2000-01-01 to 2019-12-31\n"
     ]
    },
    {
     "name": "stderr",
     "output_type": "stream",
     "text": [
      "[*********************100%***********************]  1 of 1 completed\n"
     ]
    },
    {
     "name": "stdout",
     "output_type": "stream",
     "text": [
      "=> Downloading data for AES from 2000-01-01 to 2019-12-31\n"
     ]
    },
    {
     "name": "stderr",
     "output_type": "stream",
     "text": [
      "[*********************100%***********************]  1 of 1 completed\n"
     ]
    },
    {
     "name": "stdout",
     "output_type": "stream",
     "text": [
      "=> Downloading data for AFL from 2000-01-01 to 2019-12-31\n"
     ]
    },
    {
     "name": "stderr",
     "output_type": "stream",
     "text": [
      "[*********************100%***********************]  1 of 1 completed\n"
     ]
    },
    {
     "name": "stdout",
     "output_type": "stream",
     "text": [
      "=> Downloading data for A from 2000-01-01 to 2019-12-31\n"
     ]
    },
    {
     "name": "stderr",
     "output_type": "stream",
     "text": [
      "[*********************100%***********************]  1 of 1 completed\n"
     ]
    },
    {
     "name": "stdout",
     "output_type": "stream",
     "text": [
      "=> Downloading data for APD from 2000-01-01 to 2019-12-31\n"
     ]
    },
    {
     "name": "stderr",
     "output_type": "stream",
     "text": [
      "[*********************100%***********************]  1 of 1 completed\n"
     ]
    },
    {
     "name": "stdout",
     "output_type": "stream",
     "text": [
      "=> Downloading data for ABNB from 2000-01-01 to 2019-12-31\n"
     ]
    },
    {
     "name": "stderr",
     "output_type": "stream",
     "text": [
      "[*********************100%***********************]  1 of 1 completed\n",
      "\n",
      "1 Failed download:\n",
      "['ABNB']: YFPricesMissingError('possibly delisted; no price data found  (1d 2000-01-01 -> 2019-12-31) (Yahoo error = \"Data doesn\\'t exist for startDate = 946702800, endDate = 1577768400\")')\n"
     ]
    },
    {
     "name": "stdout",
     "output_type": "stream",
     "text": [
      "Error downloading data for ABNB: No data for ABNB in 2000-01-01–2019-12-31\n",
      "=> Downloading data for AKAM from 2000-01-01 to 2019-12-31\n"
     ]
    },
    {
     "name": "stderr",
     "output_type": "stream",
     "text": [
      "[*********************100%***********************]  1 of 1 completed\n"
     ]
    },
    {
     "name": "stdout",
     "output_type": "stream",
     "text": [
      "=> Downloading data for ALB from 2000-01-01 to 2019-12-31\n"
     ]
    },
    {
     "name": "stderr",
     "output_type": "stream",
     "text": [
      "[*********************100%***********************]  1 of 1 completed\n"
     ]
    },
    {
     "name": "stdout",
     "output_type": "stream",
     "text": [
      "=> Downloading data for ARE from 2000-01-01 to 2019-12-31\n"
     ]
    },
    {
     "name": "stderr",
     "output_type": "stream",
     "text": [
      "[*********************100%***********************]  1 of 1 completed\n"
     ]
    },
    {
     "name": "stdout",
     "output_type": "stream",
     "text": [
      "=> Downloading data for ALGN from 2000-01-01 to 2019-12-31\n"
     ]
    },
    {
     "name": "stderr",
     "output_type": "stream",
     "text": [
      "[*********************100%***********************]  1 of 1 completed\n"
     ]
    },
    {
     "name": "stdout",
     "output_type": "stream",
     "text": [
      "=> Downloading data for ALLE from 2000-01-01 to 2019-12-31\n"
     ]
    },
    {
     "name": "stderr",
     "output_type": "stream",
     "text": [
      "[*********************100%***********************]  1 of 1 completed\n"
     ]
    },
    {
     "name": "stdout",
     "output_type": "stream",
     "text": [
      "=> Downloading data for LNT from 2000-01-01 to 2019-12-31\n"
     ]
    },
    {
     "name": "stderr",
     "output_type": "stream",
     "text": [
      "[*********************100%***********************]  1 of 1 completed\n"
     ]
    },
    {
     "name": "stdout",
     "output_type": "stream",
     "text": [
      "=> Downloading data for ALL from 2000-01-01 to 2019-12-31\n"
     ]
    },
    {
     "name": "stderr",
     "output_type": "stream",
     "text": [
      "[*********************100%***********************]  1 of 1 completed\n"
     ]
    },
    {
     "name": "stdout",
     "output_type": "stream",
     "text": [
      "=> Downloading data for GOOGL from 2000-01-01 to 2019-12-31\n"
     ]
    },
    {
     "name": "stderr",
     "output_type": "stream",
     "text": [
      "[*********************100%***********************]  1 of 1 completed\n"
     ]
    },
    {
     "name": "stdout",
     "output_type": "stream",
     "text": [
      "=> Downloading data for GOOG from 2000-01-01 to 2019-12-31\n"
     ]
    },
    {
     "name": "stderr",
     "output_type": "stream",
     "text": [
      "[*********************100%***********************]  1 of 1 completed\n"
     ]
    },
    {
     "name": "stdout",
     "output_type": "stream",
     "text": [
      "=> Downloading data for MO from 2000-01-01 to 2019-12-31\n"
     ]
    },
    {
     "name": "stderr",
     "output_type": "stream",
     "text": [
      "[*********************100%***********************]  1 of 1 completed\n"
     ]
    },
    {
     "name": "stdout",
     "output_type": "stream",
     "text": [
      "=> Downloading data for AMZN from 2000-01-01 to 2019-12-31\n"
     ]
    },
    {
     "name": "stderr",
     "output_type": "stream",
     "text": [
      "[*********************100%***********************]  1 of 1 completed\n"
     ]
    },
    {
     "name": "stdout",
     "output_type": "stream",
     "text": [
      "=> Downloading data for AMCR from 2000-01-01 to 2019-12-31\n"
     ]
    },
    {
     "name": "stderr",
     "output_type": "stream",
     "text": [
      "[*********************100%***********************]  1 of 1 completed\n"
     ]
    },
    {
     "name": "stdout",
     "output_type": "stream",
     "text": [
      "=> Downloading data for AEE from 2000-01-01 to 2019-12-31\n"
     ]
    },
    {
     "name": "stderr",
     "output_type": "stream",
     "text": [
      "[*********************100%***********************]  1 of 1 completed\n"
     ]
    },
    {
     "name": "stdout",
     "output_type": "stream",
     "text": [
      "=> Downloading data for AEP from 2000-01-01 to 2019-12-31\n"
     ]
    },
    {
     "name": "stderr",
     "output_type": "stream",
     "text": [
      "[*********************100%***********************]  1 of 1 completed\n"
     ]
    },
    {
     "name": "stdout",
     "output_type": "stream",
     "text": [
      "=> Downloading data for AXP from 2000-01-01 to 2019-12-31\n"
     ]
    },
    {
     "name": "stderr",
     "output_type": "stream",
     "text": [
      "[*********************100%***********************]  1 of 1 completed\n"
     ]
    },
    {
     "name": "stdout",
     "output_type": "stream",
     "text": [
      "=> Downloading data for AIG from 2000-01-01 to 2019-12-31\n"
     ]
    },
    {
     "name": "stderr",
     "output_type": "stream",
     "text": [
      "[*********************100%***********************]  1 of 1 completed\n"
     ]
    },
    {
     "name": "stdout",
     "output_type": "stream",
     "text": [
      "=> Downloading data for AMT from 2000-01-01 to 2019-12-31\n"
     ]
    },
    {
     "name": "stderr",
     "output_type": "stream",
     "text": [
      "[*********************100%***********************]  1 of 1 completed\n"
     ]
    },
    {
     "name": "stdout",
     "output_type": "stream",
     "text": [
      "=> Downloading data for AWK from 2000-01-01 to 2019-12-31\n"
     ]
    },
    {
     "name": "stderr",
     "output_type": "stream",
     "text": [
      "[*********************100%***********************]  1 of 1 completed\n"
     ]
    },
    {
     "name": "stdout",
     "output_type": "stream",
     "text": [
      "=> Downloading data for AMP from 2000-01-01 to 2019-12-31\n"
     ]
    },
    {
     "name": "stderr",
     "output_type": "stream",
     "text": [
      "[*********************100%***********************]  1 of 1 completed\n"
     ]
    },
    {
     "name": "stdout",
     "output_type": "stream",
     "text": [
      "=> Downloading data for AME from 2000-01-01 to 2019-12-31\n"
     ]
    },
    {
     "name": "stderr",
     "output_type": "stream",
     "text": [
      "[*********************100%***********************]  1 of 1 completed\n"
     ]
    },
    {
     "name": "stdout",
     "output_type": "stream",
     "text": [
      "=> Downloading data for AMGN from 2000-01-01 to 2019-12-31\n"
     ]
    },
    {
     "name": "stderr",
     "output_type": "stream",
     "text": [
      "[*********************100%***********************]  1 of 1 completed\n"
     ]
    },
    {
     "name": "stdout",
     "output_type": "stream",
     "text": [
      "=> Downloading data for APH from 2000-01-01 to 2019-12-31\n"
     ]
    },
    {
     "name": "stderr",
     "output_type": "stream",
     "text": [
      "[*********************100%***********************]  1 of 1 completed\n"
     ]
    },
    {
     "name": "stdout",
     "output_type": "stream",
     "text": [
      "=> Downloading data for ADI from 2000-01-01 to 2019-12-31\n"
     ]
    },
    {
     "name": "stderr",
     "output_type": "stream",
     "text": [
      "[*********************100%***********************]  1 of 1 completed\n"
     ]
    },
    {
     "name": "stdout",
     "output_type": "stream",
     "text": [
      "=> Downloading data for ANSS from 2000-01-01 to 2019-12-31\n"
     ]
    },
    {
     "name": "stderr",
     "output_type": "stream",
     "text": [
      "[*********************100%***********************]  1 of 1 completed\n"
     ]
    },
    {
     "name": "stdout",
     "output_type": "stream",
     "text": [
      "=> Downloading data for AON from 2000-01-01 to 2019-12-31\n"
     ]
    },
    {
     "name": "stderr",
     "output_type": "stream",
     "text": [
      "[*********************100%***********************]  1 of 1 completed\n"
     ]
    },
    {
     "name": "stdout",
     "output_type": "stream",
     "text": [
      "=> Downloading data for APA from 2000-01-01 to 2019-12-31\n"
     ]
    },
    {
     "name": "stderr",
     "output_type": "stream",
     "text": [
      "[*********************100%***********************]  1 of 1 completed\n"
     ]
    },
    {
     "name": "stdout",
     "output_type": "stream",
     "text": [
      "=> Downloading data for APO from 2000-01-01 to 2019-12-31\n"
     ]
    },
    {
     "name": "stderr",
     "output_type": "stream",
     "text": [
      "[*********************100%***********************]  1 of 1 completed\n"
     ]
    },
    {
     "name": "stdout",
     "output_type": "stream",
     "text": [
      "=> Downloading data for AAPL from 2000-01-01 to 2019-12-31\n"
     ]
    },
    {
     "name": "stderr",
     "output_type": "stream",
     "text": [
      "[*********************100%***********************]  1 of 1 completed\n"
     ]
    },
    {
     "name": "stdout",
     "output_type": "stream",
     "text": [
      "=> Downloading data for AMAT from 2000-01-01 to 2019-12-31\n"
     ]
    },
    {
     "name": "stderr",
     "output_type": "stream",
     "text": [
      "[*********************100%***********************]  1 of 1 completed\n"
     ]
    },
    {
     "name": "stdout",
     "output_type": "stream",
     "text": [
      "=> Downloading data for APTV from 2000-01-01 to 2019-12-31\n"
     ]
    },
    {
     "name": "stderr",
     "output_type": "stream",
     "text": [
      "[*********************100%***********************]  1 of 1 completed\n"
     ]
    },
    {
     "name": "stdout",
     "output_type": "stream",
     "text": [
      "=> Downloading data for ACGL from 2000-01-01 to 2019-12-31\n"
     ]
    },
    {
     "name": "stderr",
     "output_type": "stream",
     "text": [
      "[*********************100%***********************]  1 of 1 completed\n"
     ]
    },
    {
     "name": "stdout",
     "output_type": "stream",
     "text": [
      "=> Downloading data for ADM from 2000-01-01 to 2019-12-31\n"
     ]
    },
    {
     "name": "stderr",
     "output_type": "stream",
     "text": [
      "[*********************100%***********************]  1 of 1 completed\n"
     ]
    },
    {
     "name": "stdout",
     "output_type": "stream",
     "text": [
      "=> Downloading data for ANET from 2000-01-01 to 2019-12-31\n"
     ]
    },
    {
     "name": "stderr",
     "output_type": "stream",
     "text": [
      "[*********************100%***********************]  1 of 1 completed\n"
     ]
    },
    {
     "name": "stdout",
     "output_type": "stream",
     "text": [
      "=> Downloading data for AJG from 2000-01-01 to 2019-12-31\n"
     ]
    },
    {
     "name": "stderr",
     "output_type": "stream",
     "text": [
      "[*********************100%***********************]  1 of 1 completed\n"
     ]
    },
    {
     "name": "stdout",
     "output_type": "stream",
     "text": [
      "=> Downloading data for AIZ from 2000-01-01 to 2019-12-31\n"
     ]
    },
    {
     "name": "stderr",
     "output_type": "stream",
     "text": [
      "[*********************100%***********************]  1 of 1 completed\n"
     ]
    },
    {
     "name": "stdout",
     "output_type": "stream",
     "text": [
      "=> Downloading data for T from 2000-01-01 to 2019-12-31\n"
     ]
    },
    {
     "name": "stderr",
     "output_type": "stream",
     "text": [
      "[*********************100%***********************]  1 of 1 completed\n"
     ]
    },
    {
     "name": "stdout",
     "output_type": "stream",
     "text": [
      "=> Downloading data for ATO from 2000-01-01 to 2019-12-31\n"
     ]
    },
    {
     "name": "stderr",
     "output_type": "stream",
     "text": [
      "[*********************100%***********************]  1 of 1 completed\n"
     ]
    },
    {
     "name": "stdout",
     "output_type": "stream",
     "text": [
      "=> Downloading data for ADSK from 2000-01-01 to 2019-12-31\n"
     ]
    },
    {
     "name": "stderr",
     "output_type": "stream",
     "text": [
      "[*********************100%***********************]  1 of 1 completed\n"
     ]
    },
    {
     "name": "stdout",
     "output_type": "stream",
     "text": [
      "=> Downloading data for ADP from 2000-01-01 to 2019-12-31\n"
     ]
    },
    {
     "name": "stderr",
     "output_type": "stream",
     "text": [
      "[*********************100%***********************]  1 of 1 completed\n"
     ]
    },
    {
     "name": "stdout",
     "output_type": "stream",
     "text": [
      "=> Downloading data for AZO from 2000-01-01 to 2019-12-31\n"
     ]
    },
    {
     "name": "stderr",
     "output_type": "stream",
     "text": [
      "[*********************100%***********************]  1 of 1 completed\n"
     ]
    },
    {
     "name": "stdout",
     "output_type": "stream",
     "text": [
      "=> Downloading data for AVB from 2000-01-01 to 2019-12-31\n"
     ]
    },
    {
     "name": "stderr",
     "output_type": "stream",
     "text": [
      "[*********************100%***********************]  1 of 1 completed\n"
     ]
    },
    {
     "name": "stdout",
     "output_type": "stream",
     "text": [
      "=> Downloading data for AVY from 2000-01-01 to 2019-12-31\n"
     ]
    },
    {
     "name": "stderr",
     "output_type": "stream",
     "text": [
      "[*********************100%***********************]  1 of 1 completed\n"
     ]
    },
    {
     "name": "stdout",
     "output_type": "stream",
     "text": [
      "=> Downloading data for AXON from 2000-01-01 to 2019-12-31\n"
     ]
    },
    {
     "name": "stderr",
     "output_type": "stream",
     "text": [
      "[*********************100%***********************]  1 of 1 completed\n"
     ]
    },
    {
     "name": "stdout",
     "output_type": "stream",
     "text": [
      "=> Downloading data for BKR from 2000-01-01 to 2019-12-31\n"
     ]
    },
    {
     "name": "stderr",
     "output_type": "stream",
     "text": [
      "[*********************100%***********************]  1 of 1 completed\n"
     ]
    },
    {
     "name": "stdout",
     "output_type": "stream",
     "text": [
      "=> Downloading data for BALL from 2000-01-01 to 2019-12-31\n"
     ]
    },
    {
     "name": "stderr",
     "output_type": "stream",
     "text": [
      "[*********************100%***********************]  1 of 1 completed\n"
     ]
    },
    {
     "name": "stdout",
     "output_type": "stream",
     "text": [
      "=> Downloading data for BAC from 2000-01-01 to 2019-12-31\n"
     ]
    },
    {
     "name": "stderr",
     "output_type": "stream",
     "text": [
      "[*********************100%***********************]  1 of 1 completed\n"
     ]
    },
    {
     "name": "stdout",
     "output_type": "stream",
     "text": [
      "=> Downloading data for BAX from 2000-01-01 to 2019-12-31\n"
     ]
    },
    {
     "name": "stderr",
     "output_type": "stream",
     "text": [
      "[*********************100%***********************]  1 of 1 completed\n"
     ]
    },
    {
     "name": "stdout",
     "output_type": "stream",
     "text": [
      "=> Downloading data for BDX from 2000-01-01 to 2019-12-31\n"
     ]
    },
    {
     "name": "stderr",
     "output_type": "stream",
     "text": [
      "[*********************100%***********************]  1 of 1 completed\n"
     ]
    },
    {
     "name": "stdout",
     "output_type": "stream",
     "text": [
      "=> Downloading data for BRK.B from 2000-01-01 to 2019-12-31\n"
     ]
    },
    {
     "name": "stderr",
     "output_type": "stream",
     "text": [
      "[*********************100%***********************]  1 of 1 completed\n",
      "\n",
      "1 Failed download:\n",
      "['BRK.B']: YFTzMissingError('possibly delisted; no timezone found')\n"
     ]
    },
    {
     "name": "stdout",
     "output_type": "stream",
     "text": [
      "Error downloading data for BRK.B: No data for BRK.B in 2000-01-01–2019-12-31\n",
      "=> Downloading data for BBY from 2000-01-01 to 2019-12-31\n"
     ]
    },
    {
     "name": "stderr",
     "output_type": "stream",
     "text": [
      "[*********************100%***********************]  1 of 1 completed\n"
     ]
    },
    {
     "name": "stdout",
     "output_type": "stream",
     "text": [
      "=> Downloading data for TECH from 2000-01-01 to 2019-12-31\n"
     ]
    },
    {
     "name": "stderr",
     "output_type": "stream",
     "text": [
      "[*********************100%***********************]  1 of 1 completed\n"
     ]
    },
    {
     "name": "stdout",
     "output_type": "stream",
     "text": [
      "=> Downloading data for BIIB from 2000-01-01 to 2019-12-31\n"
     ]
    },
    {
     "name": "stderr",
     "output_type": "stream",
     "text": [
      "[*********************100%***********************]  1 of 1 completed\n"
     ]
    },
    {
     "name": "stdout",
     "output_type": "stream",
     "text": [
      "=> Downloading data for BLK from 2000-01-01 to 2019-12-31\n"
     ]
    },
    {
     "name": "stderr",
     "output_type": "stream",
     "text": [
      "[*********************100%***********************]  1 of 1 completed\n"
     ]
    },
    {
     "name": "stdout",
     "output_type": "stream",
     "text": [
      "=> Downloading data for BX from 2000-01-01 to 2019-12-31\n"
     ]
    },
    {
     "name": "stderr",
     "output_type": "stream",
     "text": [
      "[*********************100%***********************]  1 of 1 completed\n"
     ]
    },
    {
     "name": "stdout",
     "output_type": "stream",
     "text": [
      "=> Downloading data for BK from 2000-01-01 to 2019-12-31\n"
     ]
    },
    {
     "name": "stderr",
     "output_type": "stream",
     "text": [
      "[*********************100%***********************]  1 of 1 completed\n"
     ]
    },
    {
     "name": "stdout",
     "output_type": "stream",
     "text": [
      "=> Downloading data for BA from 2000-01-01 to 2019-12-31\n"
     ]
    },
    {
     "name": "stderr",
     "output_type": "stream",
     "text": [
      "[*********************100%***********************]  1 of 1 completed\n"
     ]
    },
    {
     "name": "stdout",
     "output_type": "stream",
     "text": [
      "=> Downloading data for BKNG from 2000-01-01 to 2019-12-31\n"
     ]
    },
    {
     "name": "stderr",
     "output_type": "stream",
     "text": [
      "[*********************100%***********************]  1 of 1 completed\n"
     ]
    },
    {
     "name": "stdout",
     "output_type": "stream",
     "text": [
      "=> Downloading data for BSX from 2000-01-01 to 2019-12-31\n"
     ]
    },
    {
     "name": "stderr",
     "output_type": "stream",
     "text": [
      "[*********************100%***********************]  1 of 1 completed\n"
     ]
    },
    {
     "name": "stdout",
     "output_type": "stream",
     "text": [
      "=> Downloading data for BMY from 2000-01-01 to 2019-12-31\n"
     ]
    },
    {
     "name": "stderr",
     "output_type": "stream",
     "text": [
      "[*********************100%***********************]  1 of 1 completed\n"
     ]
    },
    {
     "name": "stdout",
     "output_type": "stream",
     "text": [
      "=> Downloading data for AVGO from 2000-01-01 to 2019-12-31\n"
     ]
    },
    {
     "name": "stderr",
     "output_type": "stream",
     "text": [
      "[*********************100%***********************]  1 of 1 completed\n"
     ]
    },
    {
     "name": "stdout",
     "output_type": "stream",
     "text": [
      "=> Downloading data for BR from 2000-01-01 to 2019-12-31\n"
     ]
    },
    {
     "name": "stderr",
     "output_type": "stream",
     "text": [
      "[*********************100%***********************]  1 of 1 completed\n"
     ]
    },
    {
     "name": "stdout",
     "output_type": "stream",
     "text": [
      "=> Downloading data for BRO from 2000-01-01 to 2019-12-31\n"
     ]
    },
    {
     "name": "stderr",
     "output_type": "stream",
     "text": [
      "[*********************100%***********************]  1 of 1 completed\n",
      "[*********************100%***********************]  1 of 1 completed\n",
      "\n",
      "1 Failed download:\n",
      "['BF.B']: YFPricesMissingError('possibly delisted; no price data found  (1d 2000-01-01 -> 2019-12-31)')\n"
     ]
    },
    {
     "name": "stdout",
     "output_type": "stream",
     "text": [
      "=> Downloading data for BF.B from 2000-01-01 to 2019-12-31\n",
      "Error downloading data for BF.B: No data for BF.B in 2000-01-01–2019-12-31\n",
      "=> Downloading data for BLDR from 2000-01-01 to 2019-12-31\n"
     ]
    },
    {
     "name": "stderr",
     "output_type": "stream",
     "text": [
      "[*********************100%***********************]  1 of 1 completed\n"
     ]
    },
    {
     "name": "stdout",
     "output_type": "stream",
     "text": [
      "=> Downloading data for BG from 2000-01-01 to 2019-12-31\n"
     ]
    },
    {
     "name": "stderr",
     "output_type": "stream",
     "text": [
      "[*********************100%***********************]  1 of 1 completed\n"
     ]
    },
    {
     "name": "stdout",
     "output_type": "stream",
     "text": [
      "=> Downloading data for BXP from 2000-01-01 to 2019-12-31\n"
     ]
    },
    {
     "name": "stderr",
     "output_type": "stream",
     "text": [
      "[*********************100%***********************]  1 of 1 completed\n"
     ]
    },
    {
     "name": "stdout",
     "output_type": "stream",
     "text": [
      "=> Downloading data for CHRW from 2000-01-01 to 2019-12-31\n"
     ]
    },
    {
     "name": "stderr",
     "output_type": "stream",
     "text": [
      "[*********************100%***********************]  1 of 1 completed\n"
     ]
    },
    {
     "name": "stdout",
     "output_type": "stream",
     "text": [
      "=> Downloading data for CDNS from 2000-01-01 to 2019-12-31\n"
     ]
    },
    {
     "name": "stderr",
     "output_type": "stream",
     "text": [
      "[*********************100%***********************]  1 of 1 completed\n"
     ]
    },
    {
     "name": "stdout",
     "output_type": "stream",
     "text": [
      "=> Downloading data for CZR from 2000-01-01 to 2019-12-31\n"
     ]
    },
    {
     "name": "stderr",
     "output_type": "stream",
     "text": [
      "[*********************100%***********************]  1 of 1 completed\n"
     ]
    },
    {
     "name": "stdout",
     "output_type": "stream",
     "text": [
      "=> Downloading data for CPT from 2000-01-01 to 2019-12-31\n"
     ]
    },
    {
     "name": "stderr",
     "output_type": "stream",
     "text": [
      "[*********************100%***********************]  1 of 1 completed\n"
     ]
    },
    {
     "name": "stdout",
     "output_type": "stream",
     "text": [
      "=> Downloading data for CPB from 2000-01-01 to 2019-12-31\n"
     ]
    },
    {
     "name": "stderr",
     "output_type": "stream",
     "text": [
      "[*********************100%***********************]  1 of 1 completed\n"
     ]
    },
    {
     "name": "stdout",
     "output_type": "stream",
     "text": [
      "=> Downloading data for COF from 2000-01-01 to 2019-12-31\n"
     ]
    },
    {
     "name": "stderr",
     "output_type": "stream",
     "text": [
      "[*********************100%***********************]  1 of 1 completed\n"
     ]
    },
    {
     "name": "stdout",
     "output_type": "stream",
     "text": [
      "=> Downloading data for CAH from 2000-01-01 to 2019-12-31\n"
     ]
    },
    {
     "name": "stderr",
     "output_type": "stream",
     "text": [
      "[*********************100%***********************]  1 of 1 completed\n"
     ]
    },
    {
     "name": "stdout",
     "output_type": "stream",
     "text": [
      "=> Downloading data for KMX from 2000-01-01 to 2019-12-31\n"
     ]
    },
    {
     "name": "stderr",
     "output_type": "stream",
     "text": [
      "[*********************100%***********************]  1 of 1 completed\n"
     ]
    },
    {
     "name": "stdout",
     "output_type": "stream",
     "text": [
      "=> Downloading data for CCL from 2000-01-01 to 2019-12-31\n"
     ]
    },
    {
     "name": "stderr",
     "output_type": "stream",
     "text": [
      "[*********************100%***********************]  1 of 1 completed\n"
     ]
    },
    {
     "name": "stdout",
     "output_type": "stream",
     "text": [
      "=> Downloading data for CARR from 2000-01-01 to 2019-12-31\n"
     ]
    },
    {
     "name": "stderr",
     "output_type": "stream",
     "text": [
      "[*********************100%***********************]  1 of 1 completed\n",
      "\n",
      "1 Failed download:\n",
      "['CARR']: YFPricesMissingError('possibly delisted; no price data found  (1d 2000-01-01 -> 2019-12-31) (Yahoo error = \"Data doesn\\'t exist for startDate = 946702800, endDate = 1577768400\")')\n"
     ]
    },
    {
     "name": "stdout",
     "output_type": "stream",
     "text": [
      "Error downloading data for CARR: No data for CARR in 2000-01-01–2019-12-31\n",
      "=> Downloading data for CAT from 2000-01-01 to 2019-12-31\n"
     ]
    },
    {
     "name": "stderr",
     "output_type": "stream",
     "text": [
      "[*********************100%***********************]  1 of 1 completed\n"
     ]
    },
    {
     "name": "stdout",
     "output_type": "stream",
     "text": [
      "=> Downloading data for CBOE from 2000-01-01 to 2019-12-31\n"
     ]
    },
    {
     "name": "stderr",
     "output_type": "stream",
     "text": [
      "[*********************100%***********************]  1 of 1 completed\n"
     ]
    },
    {
     "name": "stdout",
     "output_type": "stream",
     "text": [
      "=> Downloading data for CBRE from 2000-01-01 to 2019-12-31\n"
     ]
    },
    {
     "name": "stderr",
     "output_type": "stream",
     "text": [
      "[*********************100%***********************]  1 of 1 completed\n"
     ]
    },
    {
     "name": "stdout",
     "output_type": "stream",
     "text": [
      "=> Downloading data for CDW from 2000-01-01 to 2019-12-31\n"
     ]
    },
    {
     "name": "stderr",
     "output_type": "stream",
     "text": [
      "[*********************100%***********************]  1 of 1 completed\n"
     ]
    },
    {
     "name": "stdout",
     "output_type": "stream",
     "text": [
      "=> Downloading data for COR from 2000-01-01 to 2019-12-31\n"
     ]
    },
    {
     "name": "stderr",
     "output_type": "stream",
     "text": [
      "[*********************100%***********************]  1 of 1 completed\n"
     ]
    },
    {
     "name": "stdout",
     "output_type": "stream",
     "text": [
      "=> Downloading data for CNC from 2000-01-01 to 2019-12-31\n"
     ]
    },
    {
     "name": "stderr",
     "output_type": "stream",
     "text": [
      "[*********************100%***********************]  1 of 1 completed\n"
     ]
    },
    {
     "name": "stdout",
     "output_type": "stream",
     "text": [
      "=> Downloading data for CNP from 2000-01-01 to 2019-12-31\n"
     ]
    },
    {
     "name": "stderr",
     "output_type": "stream",
     "text": [
      "[*********************100%***********************]  1 of 1 completed\n"
     ]
    },
    {
     "name": "stdout",
     "output_type": "stream",
     "text": [
      "=> Downloading data for CF from 2000-01-01 to 2019-12-31\n"
     ]
    },
    {
     "name": "stderr",
     "output_type": "stream",
     "text": [
      "[*********************100%***********************]  1 of 1 completed\n"
     ]
    },
    {
     "name": "stdout",
     "output_type": "stream",
     "text": [
      "=> Downloading data for CRL from 2000-01-01 to 2019-12-31\n"
     ]
    },
    {
     "name": "stderr",
     "output_type": "stream",
     "text": [
      "[*********************100%***********************]  1 of 1 completed\n"
     ]
    },
    {
     "name": "stdout",
     "output_type": "stream",
     "text": [
      "=> Downloading data for SCHW from 2000-01-01 to 2019-12-31\n"
     ]
    },
    {
     "name": "stderr",
     "output_type": "stream",
     "text": [
      "[*********************100%***********************]  1 of 1 completed\n"
     ]
    },
    {
     "name": "stdout",
     "output_type": "stream",
     "text": [
      "=> Downloading data for CHTR from 2000-01-01 to 2019-12-31\n"
     ]
    },
    {
     "name": "stderr",
     "output_type": "stream",
     "text": [
      "[*********************100%***********************]  1 of 1 completed\n"
     ]
    },
    {
     "name": "stdout",
     "output_type": "stream",
     "text": [
      "=> Downloading data for CVX from 2000-01-01 to 2019-12-31\n"
     ]
    },
    {
     "name": "stderr",
     "output_type": "stream",
     "text": [
      "[*********************100%***********************]  1 of 1 completed\n"
     ]
    }
   ],
   "source": [
    "portfolio.update_tickers(list_of_tickers, start_date, end_date)"
   ]
  },
  {
   "cell_type": "code",
   "execution_count": 9,
   "metadata": {},
   "outputs": [],
   "source": [
    "#portfolio.analyze_securities()"
   ]
  },
  {
   "cell_type": "markdown",
   "metadata": {},
   "source": [
    "Now lets observe the expected returns if we were to invest solely in a single asset"
   ]
  },
  {
   "cell_type": "code",
   "execution_count": 10,
   "metadata": {},
   "outputs": [
    {
     "name": "stdout",
     "output_type": "stream",
     "text": [
      "Security: MMM\n",
      "Mean expected return: 0.00046497162818076533\n",
      "Risk: 0.014523089246911876\n",
      "\n",
      "\n",
      "Security: AOS\n",
      "Mean expected return: 0.0008044227601074301\n",
      "Risk: 0.021028783095518717\n",
      "\n",
      "\n",
      "Security: ABT\n",
      "Mean expected return: 0.0005600136090924622\n",
      "Risk: 0.014826630425803388\n",
      "\n",
      "\n",
      "Security: ABBV\n",
      "Mean expected return: 0.0008293448475341942\n",
      "Risk: 0.017271628062239086\n",
      "\n",
      "\n",
      "Security: ACN\n",
      "Mean expected return: 0.0008010428577227986\n",
      "Risk: 0.01874346569836641\n",
      "\n",
      "\n",
      "Security: ADBE\n",
      "Mean expected return: 0.0009710595743764483\n",
      "Risk: 0.027282841019954564\n",
      "\n",
      "\n",
      "Security: AMD\n",
      "Mean expected return: 0.0010160754314046754\n",
      "Risk: 0.04015535591989144\n",
      "\n",
      "\n",
      "Security: AES\n",
      "Mean expected return: 0.0004738639937901373\n",
      "Risk: 0.03283365397442502\n",
      "\n",
      "\n",
      "Security: AFL\n",
      "Mean expected return: 0.000639838487893715\n",
      "Risk: 0.02256702345551587\n",
      "\n",
      "\n",
      "Security: A\n",
      "Mean expected return: 0.0004902357286655081\n",
      "Risk: 0.02713047448727868\n",
      "\n",
      "\n",
      "Security: APD\n",
      "Mean expected return: 0.0006450623436656995\n",
      "Risk: 0.01707534544838477\n",
      "\n",
      "\n",
      "Security: AKAM\n",
      "Mean expected return: 0.0006384759350206703\n",
      "Risk: 0.04303162222850159\n",
      "\n",
      "\n",
      "Security: ALB\n",
      "Mean expected return: 0.0007198210630391099\n",
      "Risk: 0.021775878893021888\n",
      "\n",
      "\n",
      "Security: ARE\n",
      "Mean expected return: 0.0006473290319341193\n",
      "Risk: 0.01896038132977057\n",
      "\n",
      "\n",
      "Security: ALGN\n",
      "Mean expected return: 0.0013280013087413362\n",
      "Risk: 0.03868615770616549\n",
      "\n",
      "\n",
      "Security: ALLE\n",
      "Mean expected return: 0.0007297840648977497\n",
      "Risk: 0.013191137640701124\n",
      "\n",
      "\n",
      "Security: LNT\n",
      "Mean expected return: 0.0005522469316705667\n",
      "Risk: 0.01389905320781179\n",
      "\n",
      "\n",
      "Security: ALL\n",
      "Mean expected return: 0.0005921831211221309\n",
      "Risk: 0.019225303823595323\n",
      "\n",
      "\n",
      "Security: GOOGL\n",
      "Mean expected return: 0.0010256801505636945\n",
      "Risk: 0.018862835425960962\n",
      "\n",
      "\n",
      "Security: GOOG\n",
      "Mean expected return: 0.0010268496565745949\n",
      "Risk: 0.018898232727664253\n",
      "\n",
      "\n",
      "Security: MO\n",
      "Mean expected return: 0.0007682985721669714\n",
      "Risk: 0.015339903539836176\n",
      "\n",
      "\n",
      "Security: AMZN\n",
      "Mean expected return: 0.0011325425110704527\n",
      "Risk: 0.03286595896201861\n",
      "\n",
      "\n",
      "Security: AMCR\n",
      "Mean expected return: 0.0003980616820441002\n",
      "Risk: 0.013138312685323835\n",
      "\n",
      "\n",
      "Security: AEE\n",
      "Mean expected return: 0.00045254065650174227\n",
      "Risk: 0.01295811310838769\n",
      "\n",
      "\n",
      "Security: AEP\n",
      "Mean expected return: 0.0005156211130122827\n",
      "Risk: 0.01528525946704722\n",
      "\n",
      "\n",
      "Security: AXP\n",
      "Mean expected return: 0.0004927663476929279\n",
      "Risk: 0.021970911059181485\n",
      "\n",
      "\n",
      "Security: AIG\n",
      "Mean expected return: 9.395719253140951e-05\n",
      "Risk: 0.03645662657918108\n",
      "\n",
      "\n",
      "Security: AMT\n",
      "Mean expected return: 0.0008732455255739501\n",
      "Risk: 0.02952720880960139\n",
      "\n",
      "\n",
      "Security: AWK\n",
      "Mean expected return: 0.0008004558671464663\n",
      "Risk: 0.013125114246740356\n",
      "\n",
      "\n",
      "Security: AMP\n",
      "Mean expected return: 0.0008263673505706625\n",
      "Risk: 0.02562500967042528\n",
      "\n",
      "\n",
      "Security: AME\n",
      "Mean expected return: 0.0008947296439269465\n",
      "Risk: 0.01760922420645368\n",
      "\n",
      "\n",
      "Security: AMGN\n",
      "Mean expected return: 0.000504111466230871\n",
      "Risk: 0.019950070770355988\n",
      "\n",
      "\n",
      "Security: APH\n",
      "Mean expected return: 0.0009119380978730581\n",
      "Risk: 0.022386240454612634\n",
      "\n",
      "\n",
      "Security: ADI\n",
      "Mean expected return: 0.0006139730471143236\n",
      "Risk: 0.02637133481724714\n",
      "\n",
      "\n",
      "Security: ANSS\n",
      "Mean expected return: 0.0011791694027682269\n",
      "Risk: 0.023629631018684892\n",
      "\n",
      "\n",
      "Security: AON\n",
      "Mean expected return: 0.0005766759491563434\n",
      "Risk: 0.01855057816986112\n",
      "\n",
      "\n",
      "Security: APA\n",
      "Mean expected return: 0.0004478251829170195\n",
      "Risk: 0.02431916161706835\n",
      "\n",
      "\n",
      "Security: APO\n",
      "Mean expected return: 0.0009795170249621815\n",
      "Risk: 0.01944046810493609\n",
      "\n",
      "\n",
      "Security: AAPL\n",
      "Mean expected return: 0.0012188985625633752\n",
      "Risk: 0.025393902067769127\n",
      "\n",
      "\n",
      "Security: AMAT\n",
      "Mean expected return: 0.0005486901631163647\n",
      "Risk: 0.02713771649513381\n",
      "\n",
      "\n",
      "Security: APTV\n",
      "Mean expected return: 0.001014098980327121\n",
      "Risk: 0.017355642136869413\n",
      "\n",
      "\n",
      "Security: ACGL\n",
      "Mean expected return: 0.000814254055721207\n",
      "Risk: 0.015440164355438284\n",
      "\n",
      "\n",
      "Security: ADM\n",
      "Mean expected return: 0.000556615514324598\n",
      "Risk: 0.01925623055889829\n",
      "\n",
      "\n",
      "Security: ANET\n",
      "Mean expected return: 0.0013250786856637338\n",
      "Risk: 0.027916395752147223\n",
      "\n",
      "\n",
      "Security: AJG\n",
      "Mean expected return: 0.0006239107581582544\n",
      "Risk: 0.016310324706777866\n",
      "\n",
      "\n",
      "Security: AIZ\n",
      "Mean expected return: 0.0006895427989217959\n",
      "Risk: 0.020151097591289954\n",
      "\n",
      "\n",
      "Security: T\n",
      "Mean expected return: 0.0003501444267359\n",
      "Risk: 0.016031967922768016\n",
      "\n",
      "\n",
      "Security: ATO\n",
      "Mean expected return: 0.0005906888656634239\n",
      "Risk: 0.013457499082720203\n",
      "\n",
      "\n",
      "Security: ADSK\n",
      "Mean expected return: 0.0009641513441542181\n",
      "Risk: 0.02614841208841083\n",
      "\n",
      "\n",
      "Security: ADP\n",
      "Mean expected return: 0.00048193559009556054\n",
      "Risk: 0.015231659175347918\n",
      "\n",
      "\n",
      "Security: AZO\n",
      "Mean expected return: 0.0008796138222919254\n",
      "Risk: 0.01748350782639144\n",
      "\n",
      "\n",
      "Security: AVB\n",
      "Mean expected return: 0.0007001554370682686\n",
      "Risk: 0.018831137830490084\n",
      "\n",
      "\n",
      "Security: AVY\n",
      "Mean expected return: 0.00038982621261655\n",
      "Risk: 0.018094421584109524\n",
      "\n",
      "\n",
      "Security: AXON\n",
      "Mean expected return: 0.0018610180497767716\n",
      "Risk: 0.03958294998054747\n",
      "\n",
      "\n",
      "Security: BKR\n",
      "Mean expected return: 0.0004837234427203541\n",
      "Risk: 0.024919094111746667\n",
      "\n",
      "\n",
      "Security: BALL\n",
      "Mean expected return: 0.0008207728256969119\n",
      "Risk: 0.016530222897159268\n",
      "\n",
      "\n",
      "Security: BAC\n",
      "Mean expected return: 0.0005871039389871932\n",
      "Risk: 0.028703302780317786\n",
      "\n",
      "\n",
      "Security: BAX\n",
      "Mean expected return: 0.0005309501282679136\n",
      "Risk: 0.016029227615887917\n",
      "\n",
      "\n",
      "Security: BDX\n",
      "Mean expected return: 0.0006377042504166059\n",
      "Risk: 0.014915349571068897\n",
      "\n",
      "\n",
      "Security: BBY\n",
      "Mean expected return: 0.0007391138551510666\n",
      "Risk: 0.028773072591753723\n",
      "\n",
      "\n",
      "Security: TECH\n",
      "Mean expected return: 0.0006825997417551816\n",
      "Risk: 0.022495340820516904\n",
      "\n",
      "\n",
      "Security: BIIB\n",
      "Mean expected return: 0.0008837851878085107\n",
      "Risk: 0.029168051011357693\n",
      "\n",
      "\n",
      "Security: BLK\n",
      "Mean expected return: 0.0009811704863291748\n",
      "Risk: 0.021517138600707163\n",
      "\n",
      "\n",
      "Security: BX\n",
      "Mean expected return: 0.0007199422020283609\n",
      "Risk: 0.029153937959509893\n",
      "\n",
      "\n",
      "Security: BK\n",
      "Mean expected return: 0.0004033588800913162\n",
      "Risk: 0.023302986278837694\n",
      "\n",
      "\n",
      "Security: BA\n",
      "Mean expected return: 0.000680034151000674\n",
      "Risk: 0.018828437846945635\n",
      "\n",
      "\n",
      "Security: BKNG\n",
      "Mean expected return: 0.00116555948763793\n",
      "Risk: 0.0394368787211038\n",
      "\n",
      "\n",
      "Security: BSX\n",
      "Mean expected return: 0.0005337785731661039\n",
      "Risk: 0.022906863636118307\n",
      "\n",
      "\n",
      "Security: BMY\n",
      "Mean expected return: 0.000311793789680765\n",
      "Risk: 0.017655476017535136\n",
      "\n",
      "\n",
      "Security: AVGO\n",
      "Mean expected return: 0.0014375241465069302\n",
      "Risk: 0.021375198322538154\n",
      "\n",
      "\n",
      "Security: BR\n",
      "Mean expected return: 0.0007863860670458809\n",
      "Risk: 0.01669854553410833\n",
      "\n",
      "\n",
      "Security: BRO\n",
      "Mean expected return: 0.0007298776962920621\n",
      "Risk: 0.0158635371824258\n",
      "\n",
      "\n",
      "Security: BLDR\n",
      "Mean expected return: 0.001127983861746119\n",
      "Risk: 0.04524077589085654\n",
      "\n",
      "\n",
      "Security: BG\n",
      "Mean expected return: 0.0005680500854371442\n",
      "Risk: 0.02118268381486224\n",
      "\n",
      "\n",
      "Security: BXP\n",
      "Mean expected return: 0.000664644575882232\n",
      "Risk: 0.01943249863512414\n",
      "\n",
      "\n",
      "Security: CHRW\n",
      "Mean expected return: 0.0006737083914347828\n",
      "Risk: 0.01971104470190269\n",
      "\n",
      "\n",
      "Security: CDNS\n",
      "Mean expected return: 0.0005732377208042251\n",
      "Risk: 0.025967619293519255\n",
      "\n",
      "\n",
      "Security: CZR\n",
      "Mean expected return: 0.0022710062315889285\n",
      "Risk: 0.024767274950466264\n",
      "\n",
      "\n",
      "Security: CPT\n",
      "Mean expected return: 0.0006620797916812325\n",
      "Risk: 0.01944756748339928\n",
      "\n",
      "\n",
      "Security: CPB\n",
      "Mean expected return: 0.0002705369140542831\n",
      "Risk: 0.014407011880484781\n",
      "\n",
      "\n",
      "Security: COF\n",
      "Mean expected return: 0.0006327394717145253\n",
      "Risk: 0.029127001223308777\n",
      "\n",
      "\n",
      "Security: CAH\n",
      "Mean expected return: 0.0003770174108210381\n",
      "Risk: 0.018071365432630906\n",
      "\n",
      "\n",
      "Security: KMX\n",
      "Mean expected return: 0.001289644277912663\n",
      "Risk: 0.02926257442313371\n",
      "\n",
      "\n",
      "Security: CCL\n",
      "Mean expected return: 0.00036204532488870987\n",
      "Risk: 0.02225247023227298\n",
      "\n",
      "\n",
      "Security: CAT\n",
      "Mean expected return: 0.0006663864582996159\n",
      "Risk: 0.020077852891660055\n",
      "\n",
      "\n",
      "Security: CBOE\n",
      "Mean expected return: 0.0007622562749014677\n",
      "Risk: 0.014322275424021655\n",
      "\n",
      "\n",
      "Security: CBRE\n",
      "Mean expected return: 0.001189420970043915\n",
      "Risk: 0.035351495054313044\n",
      "\n",
      "\n",
      "Security: CDW\n",
      "Mean expected return: 0.001402841864045779\n",
      "Risk: 0.015046283465885432\n",
      "\n",
      "\n",
      "Security: COR\n",
      "Mean expected return: 0.0008293071167094857\n",
      "Risk: 0.01881595870231649\n",
      "\n",
      "\n",
      "Security: CNC\n",
      "Mean expected return: 0.0011933265758364466\n",
      "Risk: 0.026605383743036285\n",
      "\n",
      "\n",
      "Security: CNP\n",
      "Mean expected return: 0.0005326881610930613\n",
      "Risk: 0.02221449471661514\n",
      "\n",
      "\n",
      "Security: CF\n",
      "Mean expected return: 0.0012288518482537322\n",
      "Risk: 0.028961218626846346\n",
      "\n",
      "\n",
      "Security: CRL\n",
      "Mean expected return: 0.0006099536521748443\n",
      "Risk: 0.02073436126379806\n",
      "\n",
      "\n",
      "Security: SCHW\n",
      "Mean expected return: 0.0005398463133202346\n",
      "Risk: 0.026989632264977487\n",
      "\n",
      "\n",
      "Security: CHTR\n",
      "Mean expected return: 0.0011889813061635515\n",
      "Risk: 0.017011328180725444\n",
      "\n",
      "\n",
      "Security: CVX\n",
      "Mean expected return: 0.0004738187034776635\n",
      "Risk: 0.015831768549789803\n",
      "\n",
      "\n"
     ]
    }
   ],
   "source": [
    "portfolio.data_extractor.analayze_single_security_returns()"
   ]
  },
  {
   "cell_type": "code",
   "execution_count": 11,
   "metadata": {},
   "outputs": [
    {
     "name": "stderr",
     "output_type": "stream",
     "text": [
      "/Users/javierdominguezsegura/Academics/College/Courses/2nd year/Lin Algebra/library/plots/plots.py:136: UserWarning: No artists with labels found to put in legend.  Note that artists whose label start with an underscore are ignored when legend() is called with no argument.\n",
      "  ax.legend()\n"
     ]
    },
    {
     "data": {
      "image/png": "[encoded data removed]",
      "text/plain": [
       "<Figure size 1000x600 with 1 Axes>"
      ]
     },
     "metadata": {},
     "output_type": "display_data"
    }
   ],
   "source": [
    "portfolio.plots.plot_results(include_individual_securities=True)"
   ]
  },
  {
   "cell_type": "markdown",
   "metadata": {},
   "source": [
    "As you will be able to observe in our library, the way we extract returns is by levearing yfinance's dataframe column 'Adj close'. It stands for adjusted close (price) and it account for the splits and dividends over time. We then compute the percentage change over time of this returns (current value and prior). Note these measures are taken on a daily basis. If you are interested into reading more about this way of computing the returns, you can [read yahoo's blog](https://help.yahoo.com/kb/SLN28256.html#:~:text=What%20is%20the%20adjusted%20close%3F)."
   ]
  },
  {
   "cell_type": "markdown",
   "metadata": {},
   "source": [
    "In accordance with the CER (cosntant expected return) model -- returns follow a i.i.d normal distribution we need to check the fitting of such distribution and alert of possible violations of this assumption."
   ]
  },
  {
   "cell_type": "markdown",
   "metadata": {},
   "source": [
    "<hr>"
   ]
  },
  {
   "cell_type": "markdown",
   "metadata": {},
   "source": [
    "## 1) Extracting matrices "
   ]
  },
  {
   "cell_type": "code",
   "execution_count": 31,
   "metadata": {},
   "outputs": [],
   "source": [
    "portfolio.data_extractor.compute_matrices()"
   ]
  },
  {
   "cell_type": "code",
   "execution_count": 32,
   "metadata": {},
   "outputs": [
    {
     "data": {
      "text/plain": [
       "array([[2.10962070e-04, 1.27483541e-04, 7.96522539e-05, ...,\n",
       "        1.84493110e-04, 6.81211596e-05, 1.09669265e-04],\n",
       "       [1.27483541e-04, 4.42297668e-04, 7.79535260e-05, ...,\n",
       "        2.22737389e-04, 8.90023498e-05, 1.18765297e-04],\n",
       "       [7.96522539e-05, 7.79535260e-05, 2.19872691e-04, ...,\n",
       "        1.15316894e-04, 5.63427046e-05, 7.77381311e-05],\n",
       "       ...,\n",
       "       [1.84493110e-04, 2.22737389e-04, 1.15316894e-04, ...,\n",
       "        7.28585127e-04, 9.71071378e-05, 1.65036980e-04],\n",
       "       [6.81211596e-05, 8.90023498e-05, 5.63427046e-05, ...,\n",
       "        9.71071378e-05, 2.89500488e-04, 6.59973064e-05],\n",
       "       [1.09669265e-04, 1.18765297e-04, 7.77381311e-05, ...,\n",
       "        1.65036980e-04, 6.59973064e-05, 2.50694745e-04]], shape=(96, 96))"
      ]
     },
     "execution_count": 32,
     "metadata": {},
     "output_type": "execute_result"
    }
   ],
   "source": [
    "portfolio.data_extractor.SIGMA"
   ]
  },
  {
   "cell_type": "code",
   "execution_count": 33,
   "metadata": {},
   "outputs": [
    {
     "data": {
      "text/plain": [
       "array([[ 1.04624383e+04,  3.08778971e+01,  1.97681860e+02, ...,\n",
       "        -1.48017622e+02,  1.67083153e+01, -3.47676699e+02],\n",
       "       [ 3.08778971e+01,  3.56092772e+03,  3.67537998e+02, ...,\n",
       "         1.75120997e+02,  7.49495271e+01, -4.44613061e+02],\n",
       "       [ 1.97681860e+02,  3.67537998e+02,  8.70457005e+03, ...,\n",
       "         5.34705582e+00,  2.46281442e+02, -3.99178535e+02],\n",
       "       ...,\n",
       "       [-1.48017622e+02,  1.75120997e+02,  5.34705582e+00, ...,\n",
       "         3.16623617e+03,  1.63801543e+01,  2.25714478e+02],\n",
       "       [ 1.67083153e+01,  7.49495271e+01,  2.46281442e+02, ...,\n",
       "         1.63801543e+01,  4.44775837e+03,  1.87774154e+02],\n",
       "       [-3.47676699e+02, -4.44613061e+02, -3.99178535e+02, ...,\n",
       "         2.25714478e+02,  1.87774154e+02,  1.06635800e+04]],\n",
       "      shape=(96, 96))"
      ]
     },
     "execution_count": 33,
     "metadata": {},
     "output_type": "execute_result"
    }
   ],
   "source": [
    "portfolio.data_extractor.SIGMA_INV"
   ]
  },
  {
   "cell_type": "code",
   "execution_count": 34,
   "metadata": {},
   "outputs": [
    {
     "data": {
      "text/plain": [
       "array([[4.64971628e-04],\n",
       "       [8.04422760e-04],\n",
       "       [5.60013609e-04],\n",
       "       [8.29344848e-04],\n",
       "       [8.01042858e-04],\n",
       "       [9.71059574e-04],\n",
       "       [1.01607543e-03],\n",
       "       [4.73863994e-04],\n",
       "       [6.39838488e-04],\n",
       "       [4.90235729e-04],\n",
       "       [6.45062344e-04],\n",
       "       [6.38475935e-04],\n",
       "       [7.19821063e-04],\n",
       "       [6.47329032e-04],\n",
       "       [1.32800131e-03],\n",
       "       [7.29784065e-04],\n",
       "       [5.52246932e-04],\n",
       "       [5.92183121e-04],\n",
       "       [1.02568015e-03],\n",
       "       [1.02684966e-03],\n",
       "       [7.68298572e-04],\n",
       "       [1.13254251e-03],\n",
       "       [3.98061682e-04],\n",
       "       [4.52540657e-04],\n",
       "       [5.15621113e-04],\n",
       "       [4.92766348e-04],\n",
       "       [9.39571925e-05],\n",
       "       [8.73245526e-04],\n",
       "       [8.00455867e-04],\n",
       "       [8.26367351e-04],\n",
       "       [8.94729644e-04],\n",
       "       [5.04111466e-04],\n",
       "       [9.11938098e-04],\n",
       "       [6.13973047e-04],\n",
       "       [1.17916940e-03],\n",
       "       [5.76675949e-04],\n",
       "       [4.47825183e-04],\n",
       "       [9.79517025e-04],\n",
       "       [1.21889856e-03],\n",
       "       [5.48690163e-04],\n",
       "       [1.01409898e-03],\n",
       "       [8.14254056e-04],\n",
       "       [5.56615514e-04],\n",
       "       [1.32507869e-03],\n",
       "       [6.23910758e-04],\n",
       "       [6.89542799e-04],\n",
       "       [3.50144427e-04],\n",
       "       [5.90688866e-04],\n",
       "       [9.64151344e-04],\n",
       "       [4.81935590e-04],\n",
       "       [8.79613822e-04],\n",
       "       [7.00155437e-04],\n",
       "       [3.89826213e-04],\n",
       "       [1.86101805e-03],\n",
       "       [4.83723443e-04],\n",
       "       [8.20772826e-04],\n",
       "       [5.87103939e-04],\n",
       "       [5.30950128e-04],\n",
       "       [6.37704250e-04],\n",
       "       [7.39113855e-04],\n",
       "       [6.82599742e-04],\n",
       "       [8.83785188e-04],\n",
       "       [9.81170486e-04],\n",
       "       [7.19942202e-04],\n",
       "       [4.03358880e-04],\n",
       "       [6.80034151e-04],\n",
       "       [1.16555949e-03],\n",
       "       [5.33778573e-04],\n",
       "       [3.11793790e-04],\n",
       "       [1.43752415e-03],\n",
       "       [7.86386067e-04],\n",
       "       [7.29877696e-04],\n",
       "       [1.12798386e-03],\n",
       "       [5.68050085e-04],\n",
       "       [6.64644576e-04],\n",
       "       [6.73708391e-04],\n",
       "       [5.73237721e-04],\n",
       "       [2.27100623e-03],\n",
       "       [6.62079792e-04],\n",
       "       [2.70536914e-04],\n",
       "       [6.32739472e-04],\n",
       "       [3.77017411e-04],\n",
       "       [1.28964428e-03],\n",
       "       [3.62045325e-04],\n",
       "       [6.66386458e-04],\n",
       "       [7.62256275e-04],\n",
       "       [1.18942097e-03],\n",
       "       [1.40284186e-03],\n",
       "       [8.29307117e-04],\n",
       "       [1.19332658e-03],\n",
       "       [5.32688161e-04],\n",
       "       [1.22885185e-03],\n",
       "       [6.09953652e-04],\n",
       "       [5.39846313e-04],\n",
       "       [1.18898131e-03],\n",
       "       [4.73818703e-04]])"
      ]
     },
     "execution_count": 34,
     "metadata": {},
     "output_type": "execute_result"
    }
   ],
   "source": [
    "portfolio.data_extractor.MU"
   ]
  },
  {
   "cell_type": "code",
   "execution_count": 35,
   "metadata": {},
   "outputs": [
    {
     "data": {
      "text/plain": [
       "array([[1.],\n",
       "       [1.],\n",
       "       [1.],\n",
       "       [1.],\n",
       "       [1.],\n",
       "       [1.],\n",
       "       [1.],\n",
       "       [1.],\n",
       "       [1.],\n",
       "       [1.],\n",
       "       [1.],\n",
       "       [1.],\n",
       "       [1.],\n",
       "       [1.],\n",
       "       [1.],\n",
       "       [1.],\n",
       "       [1.],\n",
       "       [1.],\n",
       "       [1.],\n",
       "       [1.],\n",
       "       [1.],\n",
       "       [1.],\n",
       "       [1.],\n",
       "       [1.],\n",
       "       [1.],\n",
       "       [1.],\n",
       "       [1.],\n",
       "       [1.],\n",
       "       [1.],\n",
       "       [1.],\n",
       "       [1.],\n",
       "       [1.],\n",
       "       [1.],\n",
       "       [1.],\n",
       "       [1.],\n",
       "       [1.],\n",
       "       [1.],\n",
       "       [1.],\n",
       "       [1.],\n",
       "       [1.],\n",
       "       [1.],\n",
       "       [1.],\n",
       "       [1.],\n",
       "       [1.],\n",
       "       [1.],\n",
       "       [1.],\n",
       "       [1.],\n",
       "       [1.],\n",
       "       [1.],\n",
       "       [1.],\n",
       "       [1.],\n",
       "       [1.],\n",
       "       [1.],\n",
       "       [1.],\n",
       "       [1.],\n",
       "       [1.],\n",
       "       [1.],\n",
       "       [1.],\n",
       "       [1.],\n",
       "       [1.],\n",
       "       [1.],\n",
       "       [1.],\n",
       "       [1.],\n",
       "       [1.],\n",
       "       [1.],\n",
       "       [1.],\n",
       "       [1.],\n",
       "       [1.],\n",
       "       [1.],\n",
       "       [1.],\n",
       "       [1.],\n",
       "       [1.],\n",
       "       [1.],\n",
       "       [1.],\n",
       "       [1.],\n",
       "       [1.],\n",
       "       [1.],\n",
       "       [1.],\n",
       "       [1.],\n",
       "       [1.],\n",
       "       [1.],\n",
       "       [1.],\n",
       "       [1.],\n",
       "       [1.],\n",
       "       [1.],\n",
       "       [1.],\n",
       "       [1.],\n",
       "       [1.],\n",
       "       [1.],\n",
       "       [1.],\n",
       "       [1.],\n",
       "       [1.],\n",
       "       [1.],\n",
       "       [1.],\n",
       "       [1.],\n",
       "       [1.]])"
      ]
     },
     "execution_count": 35,
     "metadata": {},
     "output_type": "execute_result"
    }
   ],
   "source": [
    "portfolio.data_extractor.ONE_VECTOR"
   ]
  },
  {
   "cell_type": "markdown",
   "metadata": {},
   "source": [
    "We want to smooth out noise, thus we can cleverly apply PCA to the Sigma matrix. This will significanlty improve the robustness of our model. This is accomplished by making the model less sensitive to estimation errors in the original sigma"
   ]
  },
  {
   "cell_type": "code",
   "execution_count": 36,
   "metadata": {},
   "outputs": [
    {
     "data": {
      "text/plain": [
       "(array([[2.42715281e-04, 1.27500768e-04, 8.13548889e-05, ...,\n",
       "         1.83751094e-04, 6.85258407e-05, 1.07647615e-04],\n",
       "        [1.27500768e-04, 4.37678865e-04, 8.05772620e-05, ...,\n",
       "         2.20826904e-04, 8.79872206e-05, 1.18695614e-04],\n",
       "        [8.13548889e-05, 8.05772620e-05, 2.33071567e-04, ...,\n",
       "         1.14649733e-04, 5.53975411e-05, 7.62096741e-05],\n",
       "        ...,\n",
       "        [1.83751094e-04, 2.20826904e-04, 1.14649733e-04, ...,\n",
       "         7.24072475e-04, 9.82199443e-05, 1.64221154e-04],\n",
       "        [6.85258407e-05, 8.79872206e-05, 5.53975411e-05, ...,\n",
       "         9.82199443e-05, 2.74080550e-04, 6.62320961e-05],\n",
       "        [1.07647615e-04, 1.18695614e-04, 7.62096741e-05, ...,\n",
       "         1.64221154e-04, 6.62320961e-05, 2.93966487e-04]], shape=(96, 96)),\n",
       " array([[7429.84629223,  -74.12472231, -168.15170713, ..., -115.59718173,\n",
       "          -87.7914557 , -141.78058665],\n",
       "        [ -74.12472231, 4096.08209208,  132.05765847, ...,   65.54982467,\n",
       "          -65.79751589,  144.81504395],\n",
       "        [-168.15170713,  132.05765847, 7100.09382417, ...,  -19.68904797,\n",
       "           96.06509685, -102.08832091],\n",
       "        ...,\n",
       "        [-115.59718173,   65.54982467,  -19.68904797, ..., 3420.40518776,\n",
       "           11.08228077,  -27.39768885],\n",
       "        [ -87.7914557 ,  -65.79751589,   96.06509685, ...,   11.08228077,\n",
       "         5057.75960198,  -57.3856729 ],\n",
       "        [-141.78058665,  144.81504395, -102.08832091, ...,  -27.39768885,\n",
       "          -57.3856729 , 7154.99430906]], shape=(96, 96)))"
      ]
     },
     "execution_count": 36,
     "metadata": {},
     "output_type": "execute_result"
    }
   ],
   "source": [
    "portfolio.data_extractor.pca_shrinkage(var_threshold=0.90)"
   ]
  },
  {
   "cell_type": "code",
   "execution_count": 37,
   "metadata": {},
   "outputs": [],
   "source": [
    "# Lets update the class with the new computed data\n",
    "portfolio.update_data()"
   ]
  },
  {
   "cell_type": "markdown",
   "metadata": {},
   "source": [
    "# 2) Global Minimum Variance Portfolio\n",
    "A baseline for our modelling in the risk-return space"
   ]
  },
  {
   "cell_type": "code",
   "execution_count": 38,
   "metadata": {},
   "outputs": [],
   "source": [
    "results_dict = portfolio.compute_global_minimum_variance_portfolio()"
   ]
  },
  {
   "cell_type": "code",
   "execution_count": 39,
   "metadata": {},
   "outputs": [
    {
     "data": {
      "text/plain": [
       "(array([[ 0.01562162],\n",
       "        [-0.01483211],\n",
       "        [ 0.00085813],\n",
       "        [ 0.03680157],\n",
       "        [-0.00643271],\n",
       "        [-0.01128512],\n",
       "        [-0.01097618],\n",
       "        [-0.0089383 ],\n",
       "        [ 0.00334887],\n",
       "        [-0.00399781],\n",
       "        [-0.0004953 ],\n",
       "        [-0.00350623],\n",
       "        [-0.02780944],\n",
       "        [ 0.02323339],\n",
       "        [-0.00458324],\n",
       "        [ 0.0643861 ],\n",
       "        [ 0.03117876],\n",
       "        [ 0.0222328 ],\n",
       "        [-0.00245601],\n",
       "        [-0.00215977],\n",
       "        [ 0.03624497],\n",
       "        [ 0.00620625],\n",
       "        [ 0.23897985],\n",
       "        [ 0.03822006],\n",
       "        [ 0.01713758],\n",
       "        [ 0.0127795 ],\n",
       "        [-0.00603749],\n",
       "        [ 0.01098734],\n",
       "        [ 0.04679071],\n",
       "        [-0.09876805],\n",
       "        [-0.01649963],\n",
       "        [-0.03088355],\n",
       "        [ 0.01293249],\n",
       "        [ 0.01261688],\n",
       "        [-0.00109769],\n",
       "        [-0.01781322],\n",
       "        [-0.0046249 ],\n",
       "        [ 0.02897175],\n",
       "        [ 0.01148303],\n",
       "        [-0.00687557],\n",
       "        [ 0.04532739],\n",
       "        [ 0.07522431],\n",
       "        [-0.02012526],\n",
       "        [ 0.02688858],\n",
       "        [ 0.00709413],\n",
       "        [-0.00178935],\n",
       "        [ 0.03327688],\n",
       "        [ 0.0433675 ],\n",
       "        [-0.01540093],\n",
       "        [-0.00337473],\n",
       "        [ 0.0444338 ],\n",
       "        [ 0.03185264],\n",
       "        [-0.00912083],\n",
       "        [-0.00383085],\n",
       "        [ 0.01377124],\n",
       "        [ 0.00665174],\n",
       "        [ 0.02128148],\n",
       "        [ 0.00462141],\n",
       "        [ 0.02683044],\n",
       "        [-0.00714583],\n",
       "        [ 0.00298634],\n",
       "        [ 0.00288363],\n",
       "        [-0.00409674],\n",
       "        [-0.02961182],\n",
       "        [-0.00759286],\n",
       "        [-0.01854565],\n",
       "        [ 0.0013343 ],\n",
       "        [-0.02211987],\n",
       "        [ 0.0134194 ],\n",
       "        [-0.00449809],\n",
       "        [-0.00708687],\n",
       "        [ 0.02657604],\n",
       "        [-0.01845283],\n",
       "        [ 0.04888887],\n",
       "        [ 0.02495989],\n",
       "        [ 0.02754086],\n",
       "        [ 0.00582775],\n",
       "        [ 0.01554748],\n",
       "        [ 0.04022687],\n",
       "        [ 0.05155021],\n",
       "        [ 0.00458991],\n",
       "        [-0.00279347],\n",
       "        [ 0.00047702],\n",
       "        [ 0.00670653],\n",
       "        [-0.01859184],\n",
       "        [ 0.10231108],\n",
       "        [-0.03414791],\n",
       "        [ 0.05948724],\n",
       "        [ 0.00359506],\n",
       "        [-0.00925988],\n",
       "        [-0.01570589],\n",
       "        [-0.00350227],\n",
       "        [ 0.00356556],\n",
       "        [-0.00720255],\n",
       "        [ 0.02255929],\n",
       "        [ 0.02740208]]),\n",
       " np.float64(0.9999999999999999))"
      ]
     },
     "execution_count": 39,
     "metadata": {},
     "output_type": "execute_result"
    }
   ],
   "source": [
    "results_dict[\"weights\"], results_dict[\"weights\"].sum()"
   ]
  },
  {
   "cell_type": "code",
   "execution_count": 40,
   "metadata": {},
   "outputs": [
    {
     "data": {
      "text/plain": [
       "(0.0006576054109019866, 3.094286693222718e-05)"
      ]
     },
     "execution_count": 40,
     "metadata": {},
     "output_type": "execute_result"
    }
   ],
   "source": [
    "results_dict[\"expected_return\"], results_dict[\"expected_variance\"]"
   ]
  },
  {
   "cell_type": "markdown",
   "metadata": {},
   "source": [
    "# 3) Efficient Portfolios\n",
    "Note we do not restrict to long positions on the securities. We allow for shorting"
   ]
  },
  {
   "cell_type": "code",
   "execution_count": 41,
   "metadata": {},
   "outputs": [
    {
     "data": {
      "text/html": [
       "<div>\n",
       "<style scoped>\n",
       "    .dataframe tbody tr th:only-of-type {\n",
       "        vertical-align: middle;\n",
       "    }\n",
       "\n",
       "    .dataframe tbody tr th {\n",
       "        vertical-align: top;\n",
       "    }\n",
       "\n",
       "    .dataframe thead th {\n",
       "        text-align: right;\n",
       "    }\n",
       "</style>\n",
       "<table border=\"1\" class=\"dataframe\">\n",
       "  <thead>\n",
       "    <tr style=\"text-align: right;\">\n",
       "      <th></th>\n",
       "      <th>weights</th>\n",
       "      <th>variance</th>\n",
       "      <th>sigma</th>\n",
       "      <th>expected_return</th>\n",
       "    </tr>\n",
       "  </thead>\n",
       "  <tbody>\n",
       "    <tr>\n",
       "      <th>0</th>\n",
       "      <td>[[0.055948459821573246], [0.004466514964010314...</td>\n",
       "      <td>0.000045</td>\n",
       "      <td>0.006728</td>\n",
       "      <td>0.000094</td>\n",
       "    </tr>\n",
       "    <tr>\n",
       "      <th>1</th>\n",
       "      <td>[[0.054375132579314756], [0.003713590634022337...</td>\n",
       "      <td>0.000044</td>\n",
       "      <td>0.006646</td>\n",
       "      <td>0.000116</td>\n",
       "    </tr>\n",
       "    <tr>\n",
       "      <th>2</th>\n",
       "      <td>[[0.052801805337056695], [0.002960666304034368...</td>\n",
       "      <td>0.000043</td>\n",
       "      <td>0.006566</td>\n",
       "      <td>0.000138</td>\n",
       "    </tr>\n",
       "    <tr>\n",
       "      <th>3</th>\n",
       "      <td>[[0.051228478094798344], [0.002207741974046294...</td>\n",
       "      <td>0.000042</td>\n",
       "      <td>0.006489</td>\n",
       "      <td>0.000160</td>\n",
       "    </tr>\n",
       "    <tr>\n",
       "      <th>4</th>\n",
       "      <td>[[0.04965515085254013], [0.0014548176440583524...</td>\n",
       "      <td>0.000041</td>\n",
       "      <td>0.006414</td>\n",
       "      <td>0.000182</td>\n",
       "    </tr>\n",
       "    <tr>\n",
       "      <th>...</th>\n",
       "      <td>...</td>\n",
       "      <td>...</td>\n",
       "      <td>...</td>\n",
       "      <td>...</td>\n",
       "    </tr>\n",
       "    <tr>\n",
       "      <th>95</th>\n",
       "      <td>[[-0.09351762819296096], [-0.06706129638485078...</td>\n",
       "      <td>0.000136</td>\n",
       "      <td>0.011653</td>\n",
       "      <td>0.002183</td>\n",
       "    </tr>\n",
       "    <tr>\n",
       "      <th>96</th>\n",
       "      <td>[[-0.09509095543521924], [-0.06781422071483886...</td>\n",
       "      <td>0.000139</td>\n",
       "      <td>0.011783</td>\n",
       "      <td>0.002205</td>\n",
       "    </tr>\n",
       "    <tr>\n",
       "      <th>97</th>\n",
       "      <td>[[-0.09666428267747751], [-0.0685671450448268]...</td>\n",
       "      <td>0.000142</td>\n",
       "      <td>0.011914</td>\n",
       "      <td>0.002227</td>\n",
       "    </tr>\n",
       "    <tr>\n",
       "      <th>98</th>\n",
       "      <td>[[-0.0982376099197358], [-0.06932006937481484]...</td>\n",
       "      <td>0.000145</td>\n",
       "      <td>0.012044</td>\n",
       "      <td>0.002249</td>\n",
       "    </tr>\n",
       "    <tr>\n",
       "      <th>99</th>\n",
       "      <td>[[-0.09981093716199392], [-0.07007299370480286...</td>\n",
       "      <td>0.000148</td>\n",
       "      <td>0.012176</td>\n",
       "      <td>0.002271</td>\n",
       "    </tr>\n",
       "  </tbody>\n",
       "</table>\n",
       "<p>100 rows × 4 columns</p>\n",
       "</div>"
      ],
      "text/plain": [
       "                                              weights  variance     sigma  \\\n",
       "0   [[0.055948459821573246], [0.004466514964010314...  0.000045  0.006728   \n",
       "1   [[0.054375132579314756], [0.003713590634022337...  0.000044  0.006646   \n",
       "2   [[0.052801805337056695], [0.002960666304034368...  0.000043  0.006566   \n",
       "3   [[0.051228478094798344], [0.002207741974046294...  0.000042  0.006489   \n",
       "4   [[0.04965515085254013], [0.0014548176440583524...  0.000041  0.006414   \n",
       "..                                                ...       ...       ...   \n",
       "95  [[-0.09351762819296096], [-0.06706129638485078...  0.000136  0.011653   \n",
       "96  [[-0.09509095543521924], [-0.06781422071483886...  0.000139  0.011783   \n",
       "97  [[-0.09666428267747751], [-0.0685671450448268]...  0.000142  0.011914   \n",
       "98  [[-0.0982376099197358], [-0.06932006937481484]...  0.000145  0.012044   \n",
       "99  [[-0.09981093716199392], [-0.07007299370480286...  0.000148  0.012176   \n",
       "\n",
       "    expected_return  \n",
       "0          0.000094  \n",
       "1          0.000116  \n",
       "2          0.000138  \n",
       "3          0.000160  \n",
       "4          0.000182  \n",
       "..              ...  \n",
       "95         0.002183  \n",
       "96         0.002205  \n",
       "97         0.002227  \n",
       "98         0.002249  \n",
       "99         0.002271  \n",
       "\n",
       "[100 rows x 4 columns]"
      ]
     },
     "execution_count": 41,
     "metadata": {},
     "output_type": "execute_result"
    }
   ],
   "source": [
    "df = portfolio.compute_efficient_frontier()\n",
    "df"
   ]
  },
  {
   "cell_type": "code",
   "execution_count": 42,
   "metadata": {},
   "outputs": [
    {
     "data": {
      "image/png": "[encoded data removed]",
      "text/plain": [
       "<Figure size 1000x600 with 1 Axes>"
      ]
     },
     "metadata": {},
     "output_type": "display_data"
    }
   ],
   "source": [
    "portfolio.plots.plot_results(include_gmvp=True, include_efficient_frontier=True, include_individual_securities=True)"
   ]
  },
  {
   "cell_type": "markdown",
   "metadata": {},
   "source": [
    "# 4) Capital Asset Pricing Model"
   ]
  },
  {
   "cell_type": "code",
   "execution_count": 43,
   "metadata": {},
   "outputs": [
    {
     "data": {
      "text/plain": [
       "7.85849419846496e-05"
      ]
     },
     "execution_count": 43,
     "metadata": {},
     "output_type": "execute_result"
    }
   ],
   "source": [
    "annual_risk_free_rate = 0.02\n",
    "daily_risk_free_rate = (1 + annual_risk_free_rate)**(1/252) - 1 # Formula (assuming 252 days of trading)\n",
    "daily_risk_free_rate"
   ]
  },
  {
   "cell_type": "code",
   "execution_count": 44,
   "metadata": {},
   "outputs": [],
   "source": [
    "results_dict = portfolio.compute_sharpe_portfolio(daily_risk_free_rate)"
   ]
  },
  {
   "cell_type": "code",
   "execution_count": 45,
   "metadata": {},
   "outputs": [
    {
     "data": {
      "text/plain": [
       "array([[-0.06922474],\n",
       "       [-0.0554358 ],\n",
       "       [-0.02440022],\n",
       "       [ 0.08689355],\n",
       "       [ 0.01187818],\n",
       "       [ 0.03146817],\n",
       "       [-0.01302548],\n",
       "       [-0.01032782],\n",
       "       [ 0.07948067],\n",
       "       [-0.0364685 ],\n",
       "       [ 0.01464298],\n",
       "       [-0.00257533],\n",
       "       [-0.06121288],\n",
       "       [-0.02621807],\n",
       "       [ 0.00715428],\n",
       "       [ 0.00230279],\n",
       "       [ 0.05329166],\n",
       "       [ 0.03661238],\n",
       "       [ 0.00669883],\n",
       "       [ 0.00586777],\n",
       "       [ 0.12018162],\n",
       "       [ 0.00844213],\n",
       "       [ 0.13020221],\n",
       "       [ 0.02675699],\n",
       "       [ 0.07025842],\n",
       "       [ 0.00338576],\n",
       "       [-0.03071525],\n",
       "       [ 0.04356409],\n",
       "       [ 0.13877927],\n",
       "       [-0.03235671],\n",
       "       [ 0.01834095],\n",
       "       [-0.04635747],\n",
       "       [ 0.04821144],\n",
       "       [ 0.02247856],\n",
       "       [ 0.01858161],\n",
       "       [-0.05459394],\n",
       "       [-0.1095308 ],\n",
       "       [ 0.05608544],\n",
       "       [ 0.04843062],\n",
       "       [-0.09963433],\n",
       "       [ 0.07077449],\n",
       "       [ 0.08595545],\n",
       "       [-0.05392564],\n",
       "       [ 0.04789958],\n",
       "       [-0.0169488 ],\n",
       "       [ 0.01107346],\n",
       "       [-0.04024545],\n",
       "       [ 0.06849122],\n",
       "       [-0.04291364],\n",
       "       [-0.08397545],\n",
       "       [ 0.1423682 ],\n",
       "       [ 0.03256088],\n",
       "       [-0.11605192],\n",
       "       [ 0.03042405],\n",
       "       [ 0.00678317],\n",
       "       [ 0.05893265],\n",
       "       [-0.01235399],\n",
       "       [-0.03072439],\n",
       "       [ 0.01399559],\n",
       "       [-0.01158819],\n",
       "       [-0.00198674],\n",
       "       [ 0.02825919],\n",
       "       [-0.02258986],\n",
       "       [ 0.00695033],\n",
       "       [-0.0302007 ],\n",
       "       [-0.01567664],\n",
       "       [ 0.01955   ],\n",
       "       [-0.07465941],\n",
       "       [-0.06725042],\n",
       "       [ 0.10376284],\n",
       "       [-0.00988308],\n",
       "       [ 0.02275889],\n",
       "       [ 0.00949909],\n",
       "       [ 0.02029969],\n",
       "       [-0.00417615],\n",
       "       [ 0.03300145],\n",
       "       [-0.03087291],\n",
       "       [ 0.17340683],\n",
       "       [ 0.00585448],\n",
       "       [-0.03128449],\n",
       "       [ 0.01366599],\n",
       "       [-0.10443603],\n",
       "       [ 0.03963374],\n",
       "       [-0.07206598],\n",
       "       [-0.05890087],\n",
       "       [ 0.08171668],\n",
       "       [ 0.04658982],\n",
       "       [ 0.23073289],\n",
       "       [ 0.08121677],\n",
       "       [ 0.00966523],\n",
       "       [-0.02563564],\n",
       "       [ 0.06196283],\n",
       "       [-0.08250642],\n",
       "       [-0.0309631 ],\n",
       "       [ 0.10140806],\n",
       "       [-0.00529068]])"
      ]
     },
     "execution_count": 45,
     "metadata": {},
     "output_type": "execute_result"
    }
   ],
   "source": [
    "results_dict[\"weights\"]"
   ]
  },
  {
   "cell_type": "code",
   "execution_count": 46,
   "metadata": {},
   "outputs": [
    {
     "data": {
      "text/plain": [
       "0.001843502920989438"
      ]
     },
     "execution_count": 46,
     "metadata": {},
     "output_type": "execute_result"
    }
   ],
   "source": [
    "results_dict[\"expected_return\"]"
   ]
  },
  {
   "cell_type": "code",
   "execution_count": 47,
   "metadata": {},
   "outputs": [
    {
     "data": {
      "text/plain": [
       "9.431725664682349e-05"
      ]
     },
     "execution_count": 47,
     "metadata": {},
     "output_type": "execute_result"
    }
   ],
   "source": [
    "results_dict[\"expected_variance\"]"
   ]
  },
  {
   "cell_type": "code",
   "execution_count": 48,
   "metadata": {},
   "outputs": [
    {
     "data": {
      "text/plain": [
       "0.18173097103492142"
      ]
     },
     "execution_count": 48,
     "metadata": {},
     "output_type": "execute_result"
    }
   ],
   "source": [
    "results_dict[\"sharpe_ratio\"]"
   ]
  },
  {
   "cell_type": "code",
   "execution_count": 49,
   "metadata": {},
   "outputs": [
    {
     "data": {
      "image/png": "[encoded data removed]",
      "text/plain": [
       "<Figure size 1000x600 with 1 Axes>"
      ]
     },
     "metadata": {},
     "output_type": "display_data"
    }
   ],
   "source": [
    "portfolio.plots.plot_results(include_gmvp=True, include_efficient_frontier=True, include_sharpe=True, include_individual_securities=True)"
   ]
  }
 ],
 "metadata": {
  "kernelspec": {
   "display_name": ".venv",
   "language": "python",
   "name": "python3"
  },
  "language_info": {
   "codemirror_mode": {
    "name": "ipython",
    "version": 3
   },
   "file_extension": ".py",
   "mimetype": "text/x-python",
   "name": "python",
   "nbconvert_exporter": "python",
   "pygments_lexer": "ipython3",
   "version": "3.11.10"
  }
 },
 "nbformat": 4,
 "nbformat_minor": 2
}
