{
 "cells": [
  {
   "cell_type": "markdown",
   "metadata": {},
   "source": [
    "# MODERN PORTFOLIO THEORY & CAPITAL ASSET PRICING MODEL"
   ]
  },
  {
   "cell_type": "markdown",
   "metadata": {},
   "source": [
    "## 0) Set-up"
   ]
  },
  {
   "cell_type": "code",
   "execution_count": 1,
   "metadata": {},
   "outputs": [],
   "source": [
    "import yfinance as yf\n",
    "import pandas as pd\n",
    "import matplotlib.pyplot as plt\n",
    "import numpy as np\n",
    "\n",
    "import seaborn as sns"
   ]
  },
  {
   "cell_type": "code",
   "execution_count": 2,
   "metadata": {},
   "outputs": [],
   "source": [
    "from library.main import Portfolio"
   ]
  },
  {
   "cell_type": "code",
   "execution_count": 3,
   "metadata": {},
   "outputs": [],
   "source": [
    "portfolio = Portfolio()"
   ]
  },
  {
   "cell_type": "code",
   "execution_count": 4,
   "metadata": {},
   "outputs": [
    {
     "data": {
      "text/html": [
       "<div>\n",
       "<style scoped>\n",
       "    .dataframe tbody tr th:only-of-type {\n",
       "        vertical-align: middle;\n",
       "    }\n",
       "\n",
       "    .dataframe tbody tr th {\n",
       "        vertical-align: top;\n",
       "    }\n",
       "\n",
       "    .dataframe thead th {\n",
       "        text-align: right;\n",
       "    }\n",
       "</style>\n",
       "<table border=\"1\" class=\"dataframe\">\n",
       "  <thead>\n",
       "    <tr style=\"text-align: right;\">\n",
       "      <th></th>\n",
       "      <th>Symbol</th>\n",
       "      <th>Security</th>\n",
       "      <th>GICS Sector</th>\n",
       "      <th>GICS Sub-Industry</th>\n",
       "      <th>Headquarters Location</th>\n",
       "      <th>Date added</th>\n",
       "      <th>CIK</th>\n",
       "      <th>Founded</th>\n",
       "    </tr>\n",
       "  </thead>\n",
       "  <tbody>\n",
       "    <tr>\n",
       "      <th>0</th>\n",
       "      <td>MMM</td>\n",
       "      <td>3M</td>\n",
       "      <td>Industrials</td>\n",
       "      <td>Industrial Conglomerates</td>\n",
       "      <td>Saint Paul, Minnesota</td>\n",
       "      <td>1957-03-04</td>\n",
       "      <td>66740</td>\n",
       "      <td>1902</td>\n",
       "    </tr>\n",
       "    <tr>\n",
       "      <th>1</th>\n",
       "      <td>AOS</td>\n",
       "      <td>A. O. Smith</td>\n",
       "      <td>Industrials</td>\n",
       "      <td>Building Products</td>\n",
       "      <td>Milwaukee, Wisconsin</td>\n",
       "      <td>2017-07-26</td>\n",
       "      <td>91142</td>\n",
       "      <td>1916</td>\n",
       "    </tr>\n",
       "    <tr>\n",
       "      <th>2</th>\n",
       "      <td>ABT</td>\n",
       "      <td>Abbott Laboratories</td>\n",
       "      <td>Health Care</td>\n",
       "      <td>Health Care Equipment</td>\n",
       "      <td>North Chicago, Illinois</td>\n",
       "      <td>1957-03-04</td>\n",
       "      <td>1800</td>\n",
       "      <td>1888</td>\n",
       "    </tr>\n",
       "    <tr>\n",
       "      <th>3</th>\n",
       "      <td>ABBV</td>\n",
       "      <td>AbbVie</td>\n",
       "      <td>Health Care</td>\n",
       "      <td>Biotechnology</td>\n",
       "      <td>North Chicago, Illinois</td>\n",
       "      <td>2012-12-31</td>\n",
       "      <td>1551152</td>\n",
       "      <td>2013 (1888)</td>\n",
       "    </tr>\n",
       "    <tr>\n",
       "      <th>4</th>\n",
       "      <td>ACN</td>\n",
       "      <td>Accenture</td>\n",
       "      <td>Information Technology</td>\n",
       "      <td>IT Consulting &amp; Other Services</td>\n",
       "      <td>Dublin, Ireland</td>\n",
       "      <td>2011-07-06</td>\n",
       "      <td>1467373</td>\n",
       "      <td>1989</td>\n",
       "    </tr>\n",
       "    <tr>\n",
       "      <th>...</th>\n",
       "      <td>...</td>\n",
       "      <td>...</td>\n",
       "      <td>...</td>\n",
       "      <td>...</td>\n",
       "      <td>...</td>\n",
       "      <td>...</td>\n",
       "      <td>...</td>\n",
       "      <td>...</td>\n",
       "    </tr>\n",
       "    <tr>\n",
       "      <th>498</th>\n",
       "      <td>XYL</td>\n",
       "      <td>Xylem Inc.</td>\n",
       "      <td>Industrials</td>\n",
       "      <td>Industrial Machinery &amp; Supplies &amp; Components</td>\n",
       "      <td>White Plains, New York</td>\n",
       "      <td>2011-11-01</td>\n",
       "      <td>1524472</td>\n",
       "      <td>2011</td>\n",
       "    </tr>\n",
       "    <tr>\n",
       "      <th>499</th>\n",
       "      <td>YUM</td>\n",
       "      <td>Yum! Brands</td>\n",
       "      <td>Consumer Discretionary</td>\n",
       "      <td>Restaurants</td>\n",
       "      <td>Louisville, Kentucky</td>\n",
       "      <td>1997-10-06</td>\n",
       "      <td>1041061</td>\n",
       "      <td>1997</td>\n",
       "    </tr>\n",
       "    <tr>\n",
       "      <th>500</th>\n",
       "      <td>ZBRA</td>\n",
       "      <td>Zebra Technologies</td>\n",
       "      <td>Information Technology</td>\n",
       "      <td>Electronic Equipment &amp; Instruments</td>\n",
       "      <td>Lincolnshire, Illinois</td>\n",
       "      <td>2019-12-23</td>\n",
       "      <td>877212</td>\n",
       "      <td>1969</td>\n",
       "    </tr>\n",
       "    <tr>\n",
       "      <th>501</th>\n",
       "      <td>ZBH</td>\n",
       "      <td>Zimmer Biomet</td>\n",
       "      <td>Health Care</td>\n",
       "      <td>Health Care Equipment</td>\n",
       "      <td>Warsaw, Indiana</td>\n",
       "      <td>2001-08-07</td>\n",
       "      <td>1136869</td>\n",
       "      <td>1927</td>\n",
       "    </tr>\n",
       "    <tr>\n",
       "      <th>502</th>\n",
       "      <td>ZTS</td>\n",
       "      <td>Zoetis</td>\n",
       "      <td>Health Care</td>\n",
       "      <td>Pharmaceuticals</td>\n",
       "      <td>Parsippany, New Jersey</td>\n",
       "      <td>2013-06-21</td>\n",
       "      <td>1555280</td>\n",
       "      <td>1952</td>\n",
       "    </tr>\n",
       "  </tbody>\n",
       "</table>\n",
       "<p>503 rows × 8 columns</p>\n",
       "</div>"
      ],
      "text/plain": [
       "    Symbol             Security             GICS Sector  \\\n",
       "0      MMM                   3M             Industrials   \n",
       "1      AOS          A. O. Smith             Industrials   \n",
       "2      ABT  Abbott Laboratories             Health Care   \n",
       "3     ABBV               AbbVie             Health Care   \n",
       "4      ACN            Accenture  Information Technology   \n",
       "..     ...                  ...                     ...   \n",
       "498    XYL           Xylem Inc.             Industrials   \n",
       "499    YUM          Yum! Brands  Consumer Discretionary   \n",
       "500   ZBRA   Zebra Technologies  Information Technology   \n",
       "501    ZBH        Zimmer Biomet             Health Care   \n",
       "502    ZTS               Zoetis             Health Care   \n",
       "\n",
       "                                GICS Sub-Industry    Headquarters Location  \\\n",
       "0                        Industrial Conglomerates    Saint Paul, Minnesota   \n",
       "1                               Building Products     Milwaukee, Wisconsin   \n",
       "2                           Health Care Equipment  North Chicago, Illinois   \n",
       "3                                   Biotechnology  North Chicago, Illinois   \n",
       "4                  IT Consulting & Other Services          Dublin, Ireland   \n",
       "..                                            ...                      ...   \n",
       "498  Industrial Machinery & Supplies & Components   White Plains, New York   \n",
       "499                                   Restaurants     Louisville, Kentucky   \n",
       "500            Electronic Equipment & Instruments   Lincolnshire, Illinois   \n",
       "501                         Health Care Equipment          Warsaw, Indiana   \n",
       "502                               Pharmaceuticals   Parsippany, New Jersey   \n",
       "\n",
       "     Date added      CIK      Founded  \n",
       "0    1957-03-04    66740         1902  \n",
       "1    2017-07-26    91142         1916  \n",
       "2    1957-03-04     1800         1888  \n",
       "3    2012-12-31  1551152  2013 (1888)  \n",
       "4    2011-07-06  1467373         1989  \n",
       "..          ...      ...          ...  \n",
       "498  2011-11-01  1524472         2011  \n",
       "499  1997-10-06  1041061         1997  \n",
       "500  2019-12-23   877212         1969  \n",
       "501  2001-08-07  1136869         1927  \n",
       "502  2013-06-21  1555280         1952  \n",
       "\n",
       "[503 rows x 8 columns]"
      ]
     },
     "execution_count": 4,
     "metadata": {},
     "output_type": "execute_result"
    }
   ],
   "source": [
    "sp500 =portfolio.extract_tickers()\n",
    "sp500"
   ]
  },
  {
   "cell_type": "code",
   "execution_count": 5,
   "metadata": {},
   "outputs": [
    {
     "data": {
      "text/plain": [
       "['MMM',\n",
       " 'AOS',\n",
       " 'ABT',\n",
       " 'ABBV',\n",
       " 'ACN',\n",
       " 'ADBE',\n",
       " 'AMD',\n",
       " 'AES',\n",
       " 'AFL',\n",
       " 'A',\n",
       " 'APD',\n",
       " 'ABNB',\n",
       " 'AKAM',\n",
       " 'ALB',\n",
       " 'ARE',\n",
       " 'ALGN',\n",
       " 'ALLE',\n",
       " 'LNT',\n",
       " 'ALL',\n",
       " 'GOOGL',\n",
       " 'GOOG',\n",
       " 'MO',\n",
       " 'AMZN',\n",
       " 'AMCR',\n",
       " 'AEE',\n",
       " 'AEP',\n",
       " 'AXP',\n",
       " 'AIG',\n",
       " 'AMT',\n",
       " 'AWK',\n",
       " 'AMP',\n",
       " 'AME',\n",
       " 'AMGN',\n",
       " 'APH',\n",
       " 'ADI',\n",
       " 'ANSS',\n",
       " 'AON',\n",
       " 'APA',\n",
       " 'APO',\n",
       " 'AAPL',\n",
       " 'AMAT',\n",
       " 'APTV',\n",
       " 'ACGL',\n",
       " 'ADM',\n",
       " 'ANET',\n",
       " 'AJG',\n",
       " 'AIZ',\n",
       " 'T',\n",
       " 'ATO',\n",
       " 'ADSK',\n",
       " 'ADP',\n",
       " 'AZO',\n",
       " 'AVB',\n",
       " 'AVY',\n",
       " 'AXON',\n",
       " 'BKR',\n",
       " 'BALL',\n",
       " 'BAC',\n",
       " 'BAX',\n",
       " 'BDX',\n",
       " 'BRK.B',\n",
       " 'BBY',\n",
       " 'TECH',\n",
       " 'BIIB',\n",
       " 'BLK',\n",
       " 'BX',\n",
       " 'BK',\n",
       " 'BA',\n",
       " 'BKNG',\n",
       " 'BSX',\n",
       " 'BMY',\n",
       " 'AVGO',\n",
       " 'BR',\n",
       " 'BRO',\n",
       " 'BF.B',\n",
       " 'BLDR',\n",
       " 'BG',\n",
       " 'BXP',\n",
       " 'CHRW',\n",
       " 'CDNS',\n",
       " 'CZR',\n",
       " 'CPT',\n",
       " 'CPB',\n",
       " 'COF',\n",
       " 'CAH',\n",
       " 'KMX',\n",
       " 'CCL',\n",
       " 'CARR',\n",
       " 'CAT',\n",
       " 'CBOE',\n",
       " 'CBRE',\n",
       " 'CDW',\n",
       " 'COR',\n",
       " 'CNC',\n",
       " 'CNP',\n",
       " 'CF',\n",
       " 'CRL',\n",
       " 'SCHW',\n",
       " 'CHTR',\n",
       " 'CVX',\n",
       " 'CMG',\n",
       " 'CB',\n",
       " 'CHD',\n",
       " 'CI',\n",
       " 'CINF',\n",
       " 'CTAS',\n",
       " 'CSCO',\n",
       " 'C',\n",
       " 'CFG',\n",
       " 'CLX',\n",
       " 'CME',\n",
       " 'CMS',\n",
       " 'KO',\n",
       " 'CTSH',\n",
       " 'CL',\n",
       " 'CMCSA',\n",
       " 'CAG',\n",
       " 'COP',\n",
       " 'ED',\n",
       " 'STZ',\n",
       " 'CEG',\n",
       " 'COO',\n",
       " 'CPRT',\n",
       " 'GLW',\n",
       " 'CPAY',\n",
       " 'CTVA',\n",
       " 'CSGP',\n",
       " 'COST',\n",
       " 'CTRA',\n",
       " 'CRWD',\n",
       " 'CCI',\n",
       " 'CSX',\n",
       " 'CMI',\n",
       " 'CVS',\n",
       " 'DHR',\n",
       " 'DRI',\n",
       " 'DVA',\n",
       " 'DAY',\n",
       " 'DECK',\n",
       " 'DE',\n",
       " 'DELL',\n",
       " 'DAL',\n",
       " 'DVN',\n",
       " 'DXCM',\n",
       " 'FANG',\n",
       " 'DLR',\n",
       " 'DFS',\n",
       " 'DG',\n",
       " 'DLTR',\n",
       " 'D',\n",
       " 'DPZ',\n",
       " 'DASH',\n",
       " 'DOV',\n",
       " 'DOW',\n",
       " 'DHI',\n",
       " 'DTE',\n",
       " 'DUK',\n",
       " 'DD',\n",
       " 'EMN',\n",
       " 'ETN',\n",
       " 'EBAY',\n",
       " 'ECL',\n",
       " 'EIX',\n",
       " 'EW',\n",
       " 'EA',\n",
       " 'ELV',\n",
       " 'EMR',\n",
       " 'ENPH',\n",
       " 'ETR',\n",
       " 'EOG',\n",
       " 'EPAM',\n",
       " 'EQT',\n",
       " 'EFX',\n",
       " 'EQIX',\n",
       " 'EQR',\n",
       " 'ERIE',\n",
       " 'ESS',\n",
       " 'EL',\n",
       " 'EG',\n",
       " 'EVRG',\n",
       " 'ES',\n",
       " 'EXC',\n",
       " 'EXE',\n",
       " 'EXPE',\n",
       " 'EXPD',\n",
       " 'EXR',\n",
       " 'XOM',\n",
       " 'FFIV',\n",
       " 'FDS',\n",
       " 'FICO',\n",
       " 'FAST',\n",
       " 'FRT',\n",
       " 'FDX',\n",
       " 'FIS',\n",
       " 'FITB',\n",
       " 'FSLR',\n",
       " 'FE',\n",
       " 'FI',\n",
       " 'F',\n",
       " 'FTNT',\n",
       " 'FTV',\n",
       " 'FOXA',\n",
       " 'FOX',\n",
       " 'BEN',\n",
       " 'FCX',\n",
       " 'GRMN',\n",
       " 'IT',\n",
       " 'GE',\n",
       " 'GEHC',\n",
       " 'GEV',\n",
       " 'GEN',\n",
       " 'GNRC',\n",
       " 'GD',\n",
       " 'GIS',\n",
       " 'GM',\n",
       " 'GPC',\n",
       " 'GILD',\n",
       " 'GPN',\n",
       " 'GL',\n",
       " 'GDDY',\n",
       " 'GS',\n",
       " 'HAL',\n",
       " 'HIG',\n",
       " 'HAS',\n",
       " 'HCA',\n",
       " 'DOC',\n",
       " 'HSIC',\n",
       " 'HSY',\n",
       " 'HES',\n",
       " 'HPE',\n",
       " 'HLT',\n",
       " 'HOLX',\n",
       " 'HD',\n",
       " 'HON',\n",
       " 'HRL',\n",
       " 'HST',\n",
       " 'HWM',\n",
       " 'HPQ',\n",
       " 'HUBB',\n",
       " 'HUM',\n",
       " 'HBAN',\n",
       " 'HII',\n",
       " 'IBM',\n",
       " 'IEX',\n",
       " 'IDXX',\n",
       " 'ITW',\n",
       " 'INCY',\n",
       " 'IR',\n",
       " 'PODD',\n",
       " 'INTC',\n",
       " 'ICE',\n",
       " 'IFF',\n",
       " 'IP',\n",
       " 'IPG',\n",
       " 'INTU',\n",
       " 'ISRG',\n",
       " 'IVZ',\n",
       " 'INVH',\n",
       " 'IQV',\n",
       " 'IRM',\n",
       " 'JBHT',\n",
       " 'JBL',\n",
       " 'JKHY',\n",
       " 'J',\n",
       " 'JNJ',\n",
       " 'JCI',\n",
       " 'JPM',\n",
       " 'JNPR',\n",
       " 'K',\n",
       " 'KVUE',\n",
       " 'KDP',\n",
       " 'KEY',\n",
       " 'KEYS',\n",
       " 'KMB',\n",
       " 'KIM',\n",
       " 'KMI',\n",
       " 'KKR',\n",
       " 'KLAC',\n",
       " 'KHC',\n",
       " 'KR',\n",
       " 'LHX',\n",
       " 'LH',\n",
       " 'LRCX',\n",
       " 'LW',\n",
       " 'LVS',\n",
       " 'LDOS',\n",
       " 'LEN',\n",
       " 'LII',\n",
       " 'LLY',\n",
       " 'LIN',\n",
       " 'LYV',\n",
       " 'LKQ',\n",
       " 'LMT',\n",
       " 'L',\n",
       " 'LOW',\n",
       " 'LULU',\n",
       " 'LYB',\n",
       " 'MTB',\n",
       " 'MPC',\n",
       " 'MKTX',\n",
       " 'MAR',\n",
       " 'MMC',\n",
       " 'MLM',\n",
       " 'MAS',\n",
       " 'MA',\n",
       " 'MTCH',\n",
       " 'MKC',\n",
       " 'MCD',\n",
       " 'MCK',\n",
       " 'MDT',\n",
       " 'MRK',\n",
       " 'META',\n",
       " 'MET',\n",
       " 'MTD',\n",
       " 'MGM',\n",
       " 'MCHP',\n",
       " 'MU',\n",
       " 'MSFT',\n",
       " 'MAA',\n",
       " 'MRNA',\n",
       " 'MHK',\n",
       " 'MOH',\n",
       " 'TAP',\n",
       " 'MDLZ',\n",
       " 'MPWR',\n",
       " 'MNST',\n",
       " 'MCO',\n",
       " 'MS',\n",
       " 'MOS',\n",
       " 'MSI',\n",
       " 'MSCI',\n",
       " 'NDAQ',\n",
       " 'NTAP',\n",
       " 'NFLX',\n",
       " 'NEM',\n",
       " 'NWSA',\n",
       " 'NWS',\n",
       " 'NEE',\n",
       " 'NKE',\n",
       " 'NI',\n",
       " 'NDSN',\n",
       " 'NSC',\n",
       " 'NTRS',\n",
       " 'NOC',\n",
       " 'NCLH',\n",
       " 'NRG',\n",
       " 'NUE',\n",
       " 'NVDA',\n",
       " 'NVR',\n",
       " 'NXPI',\n",
       " 'ORLY',\n",
       " 'OXY',\n",
       " 'ODFL',\n",
       " 'OMC',\n",
       " 'ON',\n",
       " 'OKE',\n",
       " 'ORCL',\n",
       " 'OTIS',\n",
       " 'PCAR',\n",
       " 'PKG',\n",
       " 'PLTR',\n",
       " 'PANW',\n",
       " 'PARA',\n",
       " 'PH',\n",
       " 'PAYX',\n",
       " 'PAYC',\n",
       " 'PYPL',\n",
       " 'PNR',\n",
       " 'PEP',\n",
       " 'PFE',\n",
       " 'PCG',\n",
       " 'PM',\n",
       " 'PSX',\n",
       " 'PNW',\n",
       " 'PNC',\n",
       " 'POOL',\n",
       " 'PPG',\n",
       " 'PPL',\n",
       " 'PFG',\n",
       " 'PG',\n",
       " 'PGR',\n",
       " 'PLD',\n",
       " 'PRU',\n",
       " 'PEG',\n",
       " 'PTC',\n",
       " 'PSA',\n",
       " 'PHM',\n",
       " 'PWR',\n",
       " 'QCOM',\n",
       " 'DGX',\n",
       " 'RL',\n",
       " 'RJF',\n",
       " 'RTX',\n",
       " 'O',\n",
       " 'REG',\n",
       " 'REGN',\n",
       " 'RF',\n",
       " 'RSG',\n",
       " 'RMD',\n",
       " 'RVTY',\n",
       " 'ROK',\n",
       " 'ROL',\n",
       " 'ROP',\n",
       " 'ROST',\n",
       " 'RCL',\n",
       " 'SPGI',\n",
       " 'CRM',\n",
       " 'SBAC',\n",
       " 'SLB',\n",
       " 'STX',\n",
       " 'SRE',\n",
       " 'NOW',\n",
       " 'SHW',\n",
       " 'SPG',\n",
       " 'SWKS',\n",
       " 'SJM',\n",
       " 'SW',\n",
       " 'SNA',\n",
       " 'SOLV',\n",
       " 'SO',\n",
       " 'LUV',\n",
       " 'SWK',\n",
       " 'SBUX',\n",
       " 'STT',\n",
       " 'STLD',\n",
       " 'STE',\n",
       " 'SYK',\n",
       " 'SMCI',\n",
       " 'SYF',\n",
       " 'SNPS',\n",
       " 'SYY',\n",
       " 'TMUS',\n",
       " 'TROW',\n",
       " 'TTWO',\n",
       " 'TPR',\n",
       " 'TRGP',\n",
       " 'TGT',\n",
       " 'TEL',\n",
       " 'TDY',\n",
       " 'TER',\n",
       " 'TSLA',\n",
       " 'TXN',\n",
       " 'TPL',\n",
       " 'TXT',\n",
       " 'TMO',\n",
       " 'TJX',\n",
       " 'TKO',\n",
       " 'TSCO',\n",
       " 'TT',\n",
       " 'TDG',\n",
       " 'TRV',\n",
       " 'TRMB',\n",
       " 'TFC',\n",
       " 'TYL',\n",
       " 'TSN',\n",
       " 'USB',\n",
       " 'UBER',\n",
       " 'UDR',\n",
       " 'ULTA',\n",
       " 'UNP',\n",
       " 'UAL',\n",
       " 'UPS',\n",
       " 'URI',\n",
       " 'UNH',\n",
       " 'UHS',\n",
       " 'VLO',\n",
       " 'VTR',\n",
       " 'VLTO',\n",
       " 'VRSN',\n",
       " 'VRSK',\n",
       " 'VZ',\n",
       " 'VRTX',\n",
       " 'VTRS',\n",
       " 'VICI',\n",
       " 'V',\n",
       " 'VST',\n",
       " 'VMC',\n",
       " 'WRB',\n",
       " 'GWW',\n",
       " 'WAB',\n",
       " 'WBA',\n",
       " 'WMT',\n",
       " 'DIS',\n",
       " 'WBD',\n",
       " 'WM',\n",
       " 'WAT',\n",
       " 'WEC',\n",
       " 'WFC',\n",
       " 'WELL',\n",
       " 'WST',\n",
       " 'WDC',\n",
       " 'WY',\n",
       " 'WSM',\n",
       " 'WMB',\n",
       " 'WTW',\n",
       " 'WDAY',\n",
       " 'WYNN',\n",
       " 'XEL',\n",
       " 'XYL',\n",
       " 'YUM',\n",
       " 'ZBRA',\n",
       " 'ZBH']"
      ]
     },
     "execution_count": 5,
     "metadata": {},
     "output_type": "execute_result"
    }
   ],
   "source": [
    "# Get the first 100 tickers\n",
    "list_of_tickers = sp500[\"Symbol\"][:-1].tolist()\n",
    "list_of_tickers"
   ]
  },
  {
   "cell_type": "code",
   "execution_count": 6,
   "metadata": {},
   "outputs": [],
   "source": [
    "start_date = \"2000-01-01\"\n",
    "end_date = \"2019-12-31\""
   ]
  },
  {
   "cell_type": "code",
   "execution_count": 7,
   "metadata": {},
   "outputs": [
    {
     "name": "stdout",
     "output_type": "stream",
     "text": [
      "=> Downloading data for MMM from 2000-01-01 to 2019-12-31\n"
     ]
    },
    {
     "name": "stderr",
     "output_type": "stream",
     "text": [
      "[*********************100%***********************]  1 of 1 completed\n"
     ]
    },
    {
     "name": "stdout",
     "output_type": "stream",
     "text": [
      "=> Downloading data for AOS from 2000-01-01 to 2019-12-31\n"
     ]
    },
    {
     "name": "stderr",
     "output_type": "stream",
     "text": [
      "[*********************100%***********************]  1 of 1 completed\n"
     ]
    },
    {
     "name": "stdout",
     "output_type": "stream",
     "text": [
      "=> Downloading data for ABT from 2000-01-01 to 2019-12-31\n"
     ]
    },
    {
     "name": "stderr",
     "output_type": "stream",
     "text": [
      "[*********************100%***********************]  1 of 1 completed\n"
     ]
    },
    {
     "name": "stdout",
     "output_type": "stream",
     "text": [
      "=> Downloading data for ABBV from 2000-01-01 to 2019-12-31\n"
     ]
    },
    {
     "name": "stderr",
     "output_type": "stream",
     "text": [
      "[*********************100%***********************]  1 of 1 completed\n"
     ]
    },
    {
     "name": "stdout",
     "output_type": "stream",
     "text": [
      "=> Downloading data for ACN from 2000-01-01 to 2019-12-31\n"
     ]
    },
    {
     "name": "stderr",
     "output_type": "stream",
     "text": [
      "[*********************100%***********************]  1 of 1 completed\n"
     ]
    },
    {
     "name": "stdout",
     "output_type": "stream",
     "text": [
      "=> Downloading data for ADBE from 2000-01-01 to 2019-12-31\n"
     ]
    },
    {
     "name": "stderr",
     "output_type": "stream",
     "text": [
      "[*********************100%***********************]  1 of 1 completed\n",
      "[*********************100%***********************]  1 of 1 completed\n"
     ]
    },
    {
     "name": "stdout",
     "output_type": "stream",
     "text": [
      "=> Downloading data for AMD from 2000-01-01 to 2019-12-31\n",
      "=> Downloading data for AES from 2000-01-01 to 2019-12-31\n"
     ]
    },
    {
     "name": "stderr",
     "output_type": "stream",
     "text": [
      "[*********************100%***********************]  1 of 1 completed\n"
     ]
    },
    {
     "name": "stdout",
     "output_type": "stream",
     "text": [
      "=> Downloading data for AFL from 2000-01-01 to 2019-12-31\n"
     ]
    },
    {
     "name": "stderr",
     "output_type": "stream",
     "text": [
      "[*********************100%***********************]  1 of 1 completed\n"
     ]
    },
    {
     "name": "stdout",
     "output_type": "stream",
     "text": [
      "=> Downloading data for A from 2000-01-01 to 2019-12-31\n"
     ]
    },
    {
     "name": "stderr",
     "output_type": "stream",
     "text": [
      "[*********************100%***********************]  1 of 1 completed\n"
     ]
    },
    {
     "name": "stdout",
     "output_type": "stream",
     "text": [
      "=> Downloading data for APD from 2000-01-01 to 2019-12-31\n"
     ]
    },
    {
     "name": "stderr",
     "output_type": "stream",
     "text": [
      "[*********************100%***********************]  1 of 1 completed\n"
     ]
    },
    {
     "name": "stdout",
     "output_type": "stream",
     "text": [
      "=> Downloading data for ABNB from 2000-01-01 to 2019-12-31\n"
     ]
    },
    {
     "name": "stderr",
     "output_type": "stream",
     "text": [
      "[*********************100%***********************]  1 of 1 completed\n",
      "\n",
      "1 Failed download:\n",
      "['ABNB']: YFPricesMissingError('possibly delisted; no price data found  (1d 2000-01-01 -> 2019-12-31) (Yahoo error = \"Data doesn\\'t exist for startDate = 946702800, endDate = 1577768400\")')\n"
     ]
    },
    {
     "name": "stdout",
     "output_type": "stream",
     "text": [
      "Error downloading data for ABNB: No data for ABNB in 2000-01-01–2019-12-31\n",
      "=> Downloading data for AKAM from 2000-01-01 to 2019-12-31\n"
     ]
    },
    {
     "name": "stderr",
     "output_type": "stream",
     "text": [
      "[*********************100%***********************]  1 of 1 completed\n"
     ]
    },
    {
     "name": "stdout",
     "output_type": "stream",
     "text": [
      "=> Downloading data for ALB from 2000-01-01 to 2019-12-31\n"
     ]
    },
    {
     "name": "stderr",
     "output_type": "stream",
     "text": [
      "[*********************100%***********************]  1 of 1 completed\n"
     ]
    },
    {
     "name": "stdout",
     "output_type": "stream",
     "text": [
      "=> Downloading data for ARE from 2000-01-01 to 2019-12-31\n"
     ]
    },
    {
     "name": "stderr",
     "output_type": "stream",
     "text": [
      "[*********************100%***********************]  1 of 1 completed\n"
     ]
    },
    {
     "name": "stdout",
     "output_type": "stream",
     "text": [
      "=> Downloading data for ALGN from 2000-01-01 to 2019-12-31\n"
     ]
    },
    {
     "name": "stderr",
     "output_type": "stream",
     "text": [
      "[*********************100%***********************]  1 of 1 completed\n"
     ]
    },
    {
     "name": "stdout",
     "output_type": "stream",
     "text": [
      "=> Downloading data for ALLE from 2000-01-01 to 2019-12-31\n"
     ]
    },
    {
     "name": "stderr",
     "output_type": "stream",
     "text": [
      "[*********************100%***********************]  1 of 1 completed\n"
     ]
    },
    {
     "name": "stdout",
     "output_type": "stream",
     "text": [
      "=> Downloading data for LNT from 2000-01-01 to 2019-12-31\n"
     ]
    },
    {
     "name": "stderr",
     "output_type": "stream",
     "text": [
      "[*********************100%***********************]  1 of 1 completed\n"
     ]
    },
    {
     "name": "stdout",
     "output_type": "stream",
     "text": [
      "=> Downloading data for ALL from 2000-01-01 to 2019-12-31\n"
     ]
    },
    {
     "name": "stderr",
     "output_type": "stream",
     "text": [
      "[*********************100%***********************]  1 of 1 completed\n"
     ]
    },
    {
     "name": "stdout",
     "output_type": "stream",
     "text": [
      "=> Downloading data for GOOGL from 2000-01-01 to 2019-12-31\n"
     ]
    },
    {
     "name": "stderr",
     "output_type": "stream",
     "text": [
      "[*********************100%***********************]  1 of 1 completed\n"
     ]
    },
    {
     "name": "stdout",
     "output_type": "stream",
     "text": [
      "=> Downloading data for GOOG from 2000-01-01 to 2019-12-31\n"
     ]
    },
    {
     "name": "stderr",
     "output_type": "stream",
     "text": [
      "[*********************100%***********************]  1 of 1 completed\n"
     ]
    },
    {
     "name": "stdout",
     "output_type": "stream",
     "text": [
      "=> Downloading data for MO from 2000-01-01 to 2019-12-31\n"
     ]
    },
    {
     "name": "stderr",
     "output_type": "stream",
     "text": [
      "[*********************100%***********************]  1 of 1 completed\n"
     ]
    },
    {
     "name": "stdout",
     "output_type": "stream",
     "text": [
      "=> Downloading data for AMZN from 2000-01-01 to 2019-12-31\n"
     ]
    },
    {
     "name": "stderr",
     "output_type": "stream",
     "text": [
      "[*********************100%***********************]  1 of 1 completed\n"
     ]
    },
    {
     "name": "stdout",
     "output_type": "stream",
     "text": [
      "=> Downloading data for AMCR from 2000-01-01 to 2019-12-31\n"
     ]
    },
    {
     "name": "stderr",
     "output_type": "stream",
     "text": [
      "[*********************100%***********************]  1 of 1 completed\n"
     ]
    },
    {
     "name": "stdout",
     "output_type": "stream",
     "text": [
      "=> Downloading data for AEE from 2000-01-01 to 2019-12-31\n"
     ]
    },
    {
     "name": "stderr",
     "output_type": "stream",
     "text": [
      "[*********************100%***********************]  1 of 1 completed\n"
     ]
    },
    {
     "name": "stdout",
     "output_type": "stream",
     "text": [
      "=> Downloading data for AEP from 2000-01-01 to 2019-12-31\n"
     ]
    },
    {
     "name": "stderr",
     "output_type": "stream",
     "text": [
      "[*********************100%***********************]  1 of 1 completed\n"
     ]
    },
    {
     "name": "stdout",
     "output_type": "stream",
     "text": [
      "=> Downloading data for AXP from 2000-01-01 to 2019-12-31\n"
     ]
    },
    {
     "name": "stderr",
     "output_type": "stream",
     "text": [
      "[*********************100%***********************]  1 of 1 completed\n"
     ]
    },
    {
     "name": "stdout",
     "output_type": "stream",
     "text": [
      "=> Downloading data for AIG from 2000-01-01 to 2019-12-31\n"
     ]
    },
    {
     "name": "stderr",
     "output_type": "stream",
     "text": [
      "[*********************100%***********************]  1 of 1 completed\n"
     ]
    },
    {
     "name": "stdout",
     "output_type": "stream",
     "text": [
      "=> Downloading data for AMT from 2000-01-01 to 2019-12-31\n"
     ]
    },
    {
     "name": "stderr",
     "output_type": "stream",
     "text": [
      "[*********************100%***********************]  1 of 1 completed\n"
     ]
    },
    {
     "name": "stdout",
     "output_type": "stream",
     "text": [
      "=> Downloading data for AWK from 2000-01-01 to 2019-12-31\n"
     ]
    },
    {
     "name": "stderr",
     "output_type": "stream",
     "text": [
      "[*********************100%***********************]  1 of 1 completed\n"
     ]
    },
    {
     "name": "stdout",
     "output_type": "stream",
     "text": [
      "=> Downloading data for AMP from 2000-01-01 to 2019-12-31\n"
     ]
    },
    {
     "name": "stderr",
     "output_type": "stream",
     "text": [
      "[*********************100%***********************]  1 of 1 completed\n"
     ]
    },
    {
     "name": "stdout",
     "output_type": "stream",
     "text": [
      "=> Downloading data for AME from 2000-01-01 to 2019-12-31\n"
     ]
    },
    {
     "name": "stderr",
     "output_type": "stream",
     "text": [
      "[*********************100%***********************]  1 of 1 completed\n"
     ]
    },
    {
     "name": "stdout",
     "output_type": "stream",
     "text": [
      "=> Downloading data for AMGN from 2000-01-01 to 2019-12-31\n"
     ]
    },
    {
     "name": "stderr",
     "output_type": "stream",
     "text": [
      "[*********************100%***********************]  1 of 1 completed\n"
     ]
    },
    {
     "name": "stdout",
     "output_type": "stream",
     "text": [
      "=> Downloading data for APH from 2000-01-01 to 2019-12-31\n"
     ]
    },
    {
     "name": "stderr",
     "output_type": "stream",
     "text": [
      "[*********************100%***********************]  1 of 1 completed\n"
     ]
    },
    {
     "name": "stdout",
     "output_type": "stream",
     "text": [
      "=> Downloading data for ADI from 2000-01-01 to 2019-12-31\n"
     ]
    },
    {
     "name": "stderr",
     "output_type": "stream",
     "text": [
      "[*********************100%***********************]  1 of 1 completed\n"
     ]
    },
    {
     "name": "stdout",
     "output_type": "stream",
     "text": [
      "=> Downloading data for ANSS from 2000-01-01 to 2019-12-31\n"
     ]
    },
    {
     "name": "stderr",
     "output_type": "stream",
     "text": [
      "[*********************100%***********************]  1 of 1 completed\n"
     ]
    },
    {
     "name": "stdout",
     "output_type": "stream",
     "text": [
      "=> Downloading data for AON from 2000-01-01 to 2019-12-31\n"
     ]
    },
    {
     "name": "stderr",
     "output_type": "stream",
     "text": [
      "[*********************100%***********************]  1 of 1 completed\n"
     ]
    },
    {
     "name": "stdout",
     "output_type": "stream",
     "text": [
      "=> Downloading data for APA from 2000-01-01 to 2019-12-31\n"
     ]
    },
    {
     "name": "stderr",
     "output_type": "stream",
     "text": [
      "[*********************100%***********************]  1 of 1 completed\n"
     ]
    },
    {
     "name": "stdout",
     "output_type": "stream",
     "text": [
      "=> Downloading data for APO from 2000-01-01 to 2019-12-31\n"
     ]
    },
    {
     "name": "stderr",
     "output_type": "stream",
     "text": [
      "[*********************100%***********************]  1 of 1 completed\n"
     ]
    },
    {
     "name": "stdout",
     "output_type": "stream",
     "text": [
      "=> Downloading data for AAPL from 2000-01-01 to 2019-12-31\n"
     ]
    },
    {
     "name": "stderr",
     "output_type": "stream",
     "text": [
      "[*********************100%***********************]  1 of 1 completed\n"
     ]
    },
    {
     "name": "stdout",
     "output_type": "stream",
     "text": [
      "=> Downloading data for AMAT from 2000-01-01 to 2019-12-31\n"
     ]
    },
    {
     "name": "stderr",
     "output_type": "stream",
     "text": [
      "[*********************100%***********************]  1 of 1 completed\n"
     ]
    },
    {
     "name": "stdout",
     "output_type": "stream",
     "text": [
      "=> Downloading data for APTV from 2000-01-01 to 2019-12-31\n"
     ]
    },
    {
     "name": "stderr",
     "output_type": "stream",
     "text": [
      "[*********************100%***********************]  1 of 1 completed\n"
     ]
    },
    {
     "name": "stdout",
     "output_type": "stream",
     "text": [
      "=> Downloading data for ACGL from 2000-01-01 to 2019-12-31\n"
     ]
    },
    {
     "name": "stderr",
     "output_type": "stream",
     "text": [
      "[*********************100%***********************]  1 of 1 completed\n"
     ]
    },
    {
     "name": "stdout",
     "output_type": "stream",
     "text": [
      "=> Downloading data for ADM from 2000-01-01 to 2019-12-31\n"
     ]
    },
    {
     "name": "stderr",
     "output_type": "stream",
     "text": [
      "[*********************100%***********************]  1 of 1 completed\n",
      "[*********************100%***********************]  1 of 1 completed\n"
     ]
    },
    {
     "name": "stdout",
     "output_type": "stream",
     "text": [
      "=> Downloading data for ANET from 2000-01-01 to 2019-12-31\n",
      "=> Downloading data for AJG from 2000-01-01 to 2019-12-31\n"
     ]
    },
    {
     "name": "stderr",
     "output_type": "stream",
     "text": [
      "[*********************100%***********************]  1 of 1 completed\n"
     ]
    },
    {
     "name": "stdout",
     "output_type": "stream",
     "text": [
      "=> Downloading data for AIZ from 2000-01-01 to 2019-12-31\n"
     ]
    },
    {
     "name": "stderr",
     "output_type": "stream",
     "text": [
      "[*********************100%***********************]  1 of 1 completed\n"
     ]
    },
    {
     "name": "stdout",
     "output_type": "stream",
     "text": [
      "=> Downloading data for T from 2000-01-01 to 2019-12-31\n"
     ]
    },
    {
     "name": "stderr",
     "output_type": "stream",
     "text": [
      "[*********************100%***********************]  1 of 1 completed\n"
     ]
    },
    {
     "name": "stdout",
     "output_type": "stream",
     "text": [
      "=> Downloading data for ATO from 2000-01-01 to 2019-12-31\n"
     ]
    },
    {
     "name": "stderr",
     "output_type": "stream",
     "text": [
      "[*********************100%***********************]  1 of 1 completed\n"
     ]
    },
    {
     "name": "stdout",
     "output_type": "stream",
     "text": [
      "=> Downloading data for ADSK from 2000-01-01 to 2019-12-31\n"
     ]
    },
    {
     "name": "stderr",
     "output_type": "stream",
     "text": [
      "[*********************100%***********************]  1 of 1 completed\n"
     ]
    },
    {
     "name": "stdout",
     "output_type": "stream",
     "text": [
      "=> Downloading data for ADP from 2000-01-01 to 2019-12-31\n"
     ]
    },
    {
     "name": "stderr",
     "output_type": "stream",
     "text": [
      "[*********************100%***********************]  1 of 1 completed\n"
     ]
    },
    {
     "name": "stdout",
     "output_type": "stream",
     "text": [
      "=> Downloading data for AZO from 2000-01-01 to 2019-12-31\n"
     ]
    },
    {
     "name": "stderr",
     "output_type": "stream",
     "text": [
      "[*********************100%***********************]  1 of 1 completed\n"
     ]
    },
    {
     "name": "stdout",
     "output_type": "stream",
     "text": [
      "=> Downloading data for AVB from 2000-01-01 to 2019-12-31\n"
     ]
    },
    {
     "name": "stderr",
     "output_type": "stream",
     "text": [
      "[*********************100%***********************]  1 of 1 completed\n"
     ]
    },
    {
     "name": "stdout",
     "output_type": "stream",
     "text": [
      "=> Downloading data for AVY from 2000-01-01 to 2019-12-31\n"
     ]
    },
    {
     "name": "stderr",
     "output_type": "stream",
     "text": [
      "[*********************100%***********************]  1 of 1 completed\n"
     ]
    },
    {
     "name": "stdout",
     "output_type": "stream",
     "text": [
      "=> Downloading data for AXON from 2000-01-01 to 2019-12-31\n"
     ]
    },
    {
     "name": "stderr",
     "output_type": "stream",
     "text": [
      "[*********************100%***********************]  1 of 1 completed\n"
     ]
    },
    {
     "name": "stdout",
     "output_type": "stream",
     "text": [
      "=> Downloading data for BKR from 2000-01-01 to 2019-12-31\n"
     ]
    },
    {
     "name": "stderr",
     "output_type": "stream",
     "text": [
      "[*********************100%***********************]  1 of 1 completed\n"
     ]
    },
    {
     "name": "stdout",
     "output_type": "stream",
     "text": [
      "=> Downloading data for BALL from 2000-01-01 to 2019-12-31\n"
     ]
    },
    {
     "name": "stderr",
     "output_type": "stream",
     "text": [
      "[*********************100%***********************]  1 of 1 completed\n"
     ]
    },
    {
     "name": "stdout",
     "output_type": "stream",
     "text": [
      "=> Downloading data for BAC from 2000-01-01 to 2019-12-31\n"
     ]
    },
    {
     "name": "stderr",
     "output_type": "stream",
     "text": [
      "[*********************100%***********************]  1 of 1 completed\n"
     ]
    },
    {
     "name": "stdout",
     "output_type": "stream",
     "text": [
      "=> Downloading data for BAX from 2000-01-01 to 2019-12-31\n"
     ]
    },
    {
     "name": "stderr",
     "output_type": "stream",
     "text": [
      "[*********************100%***********************]  1 of 1 completed\n"
     ]
    },
    {
     "name": "stdout",
     "output_type": "stream",
     "text": [
      "=> Downloading data for BDX from 2000-01-01 to 2019-12-31\n"
     ]
    },
    {
     "name": "stderr",
     "output_type": "stream",
     "text": [
      "[*********************100%***********************]  1 of 1 completed\n"
     ]
    },
    {
     "name": "stdout",
     "output_type": "stream",
     "text": [
      "=> Downloading data for BRK.B from 2000-01-01 to 2019-12-31\n"
     ]
    },
    {
     "name": "stderr",
     "output_type": "stream",
     "text": [
      "[*********************100%***********************]  1 of 1 completed\n",
      "\n",
      "1 Failed download:\n",
      "['BRK.B']: YFTzMissingError('possibly delisted; no timezone found')\n"
     ]
    },
    {
     "name": "stdout",
     "output_type": "stream",
     "text": [
      "Error downloading data for BRK.B: No data for BRK.B in 2000-01-01–2019-12-31\n",
      "=> Downloading data for BBY from 2000-01-01 to 2019-12-31\n"
     ]
    },
    {
     "name": "stderr",
     "output_type": "stream",
     "text": [
      "[*********************100%***********************]  1 of 1 completed\n"
     ]
    },
    {
     "name": "stdout",
     "output_type": "stream",
     "text": [
      "=> Downloading data for TECH from 2000-01-01 to 2019-12-31\n"
     ]
    },
    {
     "name": "stderr",
     "output_type": "stream",
     "text": [
      "[*********************100%***********************]  1 of 1 completed\n"
     ]
    },
    {
     "name": "stdout",
     "output_type": "stream",
     "text": [
      "=> Downloading data for BIIB from 2000-01-01 to 2019-12-31\n"
     ]
    },
    {
     "name": "stderr",
     "output_type": "stream",
     "text": [
      "[*********************100%***********************]  1 of 1 completed\n"
     ]
    },
    {
     "name": "stdout",
     "output_type": "stream",
     "text": [
      "=> Downloading data for BLK from 2000-01-01 to 2019-12-31\n"
     ]
    },
    {
     "name": "stderr",
     "output_type": "stream",
     "text": [
      "[*********************100%***********************]  1 of 1 completed\n"
     ]
    },
    {
     "name": "stdout",
     "output_type": "stream",
     "text": [
      "=> Downloading data for BX from 2000-01-01 to 2019-12-31\n"
     ]
    },
    {
     "name": "stderr",
     "output_type": "stream",
     "text": [
      "[*********************100%***********************]  1 of 1 completed\n"
     ]
    },
    {
     "name": "stdout",
     "output_type": "stream",
     "text": [
      "=> Downloading data for BK from 2000-01-01 to 2019-12-31\n"
     ]
    },
    {
     "name": "stderr",
     "output_type": "stream",
     "text": [
      "[*********************100%***********************]  1 of 1 completed\n"
     ]
    },
    {
     "name": "stdout",
     "output_type": "stream",
     "text": [
      "=> Downloading data for BA from 2000-01-01 to 2019-12-31\n"
     ]
    },
    {
     "name": "stderr",
     "output_type": "stream",
     "text": [
      "[*********************100%***********************]  1 of 1 completed\n"
     ]
    },
    {
     "name": "stdout",
     "output_type": "stream",
     "text": [
      "=> Downloading data for BKNG from 2000-01-01 to 2019-12-31\n"
     ]
    },
    {
     "name": "stderr",
     "output_type": "stream",
     "text": [
      "[*********************100%***********************]  1 of 1 completed\n"
     ]
    },
    {
     "name": "stdout",
     "output_type": "stream",
     "text": [
      "=> Downloading data for BSX from 2000-01-01 to 2019-12-31\n"
     ]
    },
    {
     "name": "stderr",
     "output_type": "stream",
     "text": [
      "[*********************100%***********************]  1 of 1 completed\n"
     ]
    },
    {
     "name": "stdout",
     "output_type": "stream",
     "text": [
      "=> Downloading data for BMY from 2000-01-01 to 2019-12-31\n"
     ]
    },
    {
     "name": "stderr",
     "output_type": "stream",
     "text": [
      "[*********************100%***********************]  1 of 1 completed\n"
     ]
    },
    {
     "name": "stdout",
     "output_type": "stream",
     "text": [
      "=> Downloading data for AVGO from 2000-01-01 to 2019-12-31\n"
     ]
    },
    {
     "name": "stderr",
     "output_type": "stream",
     "text": [
      "[*********************100%***********************]  1 of 1 completed\n"
     ]
    },
    {
     "name": "stdout",
     "output_type": "stream",
     "text": [
      "=> Downloading data for BR from 2000-01-01 to 2019-12-31\n"
     ]
    },
    {
     "name": "stderr",
     "output_type": "stream",
     "text": [
      "[*********************100%***********************]  1 of 1 completed\n"
     ]
    },
    {
     "name": "stdout",
     "output_type": "stream",
     "text": [
      "=> Downloading data for BRO from 2000-01-01 to 2019-12-31\n"
     ]
    },
    {
     "name": "stderr",
     "output_type": "stream",
     "text": [
      "[*********************100%***********************]  1 of 1 completed\n"
     ]
    },
    {
     "name": "stdout",
     "output_type": "stream",
     "text": [
      "=> Downloading data for BF.B from 2000-01-01 to 2019-12-31\n"
     ]
    },
    {
     "name": "stderr",
     "output_type": "stream",
     "text": [
      "[*********************100%***********************]  1 of 1 completed\n",
      "\n",
      "1 Failed download:\n",
      "['BF.B']: YFPricesMissingError('possibly delisted; no price data found  (1d 2000-01-01 -> 2019-12-31)')\n"
     ]
    },
    {
     "name": "stdout",
     "output_type": "stream",
     "text": [
      "Error downloading data for BF.B: No data for BF.B in 2000-01-01–2019-12-31\n",
      "=> Downloading data for BLDR from 2000-01-01 to 2019-12-31\n"
     ]
    },
    {
     "name": "stderr",
     "output_type": "stream",
     "text": [
      "[*********************100%***********************]  1 of 1 completed\n"
     ]
    },
    {
     "name": "stdout",
     "output_type": "stream",
     "text": [
      "=> Downloading data for BG from 2000-01-01 to 2019-12-31\n"
     ]
    },
    {
     "name": "stderr",
     "output_type": "stream",
     "text": [
      "[*********************100%***********************]  1 of 1 completed\n"
     ]
    },
    {
     "name": "stdout",
     "output_type": "stream",
     "text": [
      "=> Downloading data for BXP from 2000-01-01 to 2019-12-31\n"
     ]
    },
    {
     "name": "stderr",
     "output_type": "stream",
     "text": [
      "[*********************100%***********************]  1 of 1 completed\n"
     ]
    },
    {
     "name": "stdout",
     "output_type": "stream",
     "text": [
      "=> Downloading data for CHRW from 2000-01-01 to 2019-12-31\n"
     ]
    },
    {
     "name": "stderr",
     "output_type": "stream",
     "text": [
      "[*********************100%***********************]  1 of 1 completed\n"
     ]
    },
    {
     "name": "stdout",
     "output_type": "stream",
     "text": [
      "=> Downloading data for CDNS from 2000-01-01 to 2019-12-31\n"
     ]
    },
    {
     "name": "stderr",
     "output_type": "stream",
     "text": [
      "[*********************100%***********************]  1 of 1 completed\n"
     ]
    },
    {
     "name": "stdout",
     "output_type": "stream",
     "text": [
      "=> Downloading data for CZR from 2000-01-01 to 2019-12-31\n"
     ]
    },
    {
     "name": "stderr",
     "output_type": "stream",
     "text": [
      "[*********************100%***********************]  1 of 1 completed\n"
     ]
    },
    {
     "name": "stdout",
     "output_type": "stream",
     "text": [
      "=> Downloading data for CPT from 2000-01-01 to 2019-12-31\n"
     ]
    },
    {
     "name": "stderr",
     "output_type": "stream",
     "text": [
      "[*********************100%***********************]  1 of 1 completed\n"
     ]
    },
    {
     "name": "stdout",
     "output_type": "stream",
     "text": [
      "=> Downloading data for CPB from 2000-01-01 to 2019-12-31\n"
     ]
    },
    {
     "name": "stderr",
     "output_type": "stream",
     "text": [
      "[*********************100%***********************]  1 of 1 completed\n"
     ]
    },
    {
     "name": "stdout",
     "output_type": "stream",
     "text": [
      "=> Downloading data for COF from 2000-01-01 to 2019-12-31\n"
     ]
    },
    {
     "name": "stderr",
     "output_type": "stream",
     "text": [
      "[*********************100%***********************]  1 of 1 completed\n"
     ]
    },
    {
     "name": "stdout",
     "output_type": "stream",
     "text": [
      "=> Downloading data for CAH from 2000-01-01 to 2019-12-31\n"
     ]
    },
    {
     "name": "stderr",
     "output_type": "stream",
     "text": [
      "[*********************100%***********************]  1 of 1 completed\n"
     ]
    },
    {
     "name": "stdout",
     "output_type": "stream",
     "text": [
      "=> Downloading data for KMX from 2000-01-01 to 2019-12-31\n"
     ]
    },
    {
     "name": "stderr",
     "output_type": "stream",
     "text": [
      "[*********************100%***********************]  1 of 1 completed\n"
     ]
    },
    {
     "name": "stdout",
     "output_type": "stream",
     "text": [
      "=> Downloading data for CCL from 2000-01-01 to 2019-12-31\n"
     ]
    },
    {
     "name": "stderr",
     "output_type": "stream",
     "text": [
      "[*********************100%***********************]  1 of 1 completed\n"
     ]
    },
    {
     "name": "stdout",
     "output_type": "stream",
     "text": [
      "=> Downloading data for CARR from 2000-01-01 to 2019-12-31\n"
     ]
    },
    {
     "name": "stderr",
     "output_type": "stream",
     "text": [
      "[*********************100%***********************]  1 of 1 completed\n",
      "\n",
      "1 Failed download:\n",
      "['CARR']: YFPricesMissingError('possibly delisted; no price data found  (1d 2000-01-01 -> 2019-12-31) (Yahoo error = \"Data doesn\\'t exist for startDate = 946702800, endDate = 1577768400\")')\n"
     ]
    },
    {
     "name": "stdout",
     "output_type": "stream",
     "text": [
      "Error downloading data for CARR: No data for CARR in 2000-01-01–2019-12-31\n",
      "=> Downloading data for CAT from 2000-01-01 to 2019-12-31\n"
     ]
    },
    {
     "name": "stderr",
     "output_type": "stream",
     "text": [
      "[*********************100%***********************]  1 of 1 completed\n"
     ]
    },
    {
     "name": "stdout",
     "output_type": "stream",
     "text": [
      "=> Downloading data for CBOE from 2000-01-01 to 2019-12-31\n"
     ]
    },
    {
     "name": "stderr",
     "output_type": "stream",
     "text": [
      "[*********************100%***********************]  1 of 1 completed\n"
     ]
    },
    {
     "name": "stdout",
     "output_type": "stream",
     "text": [
      "=> Downloading data for CBRE from 2000-01-01 to 2019-12-31\n"
     ]
    },
    {
     "name": "stderr",
     "output_type": "stream",
     "text": [
      "[*********************100%***********************]  1 of 1 completed\n"
     ]
    },
    {
     "name": "stdout",
     "output_type": "stream",
     "text": [
      "=> Downloading data for CDW from 2000-01-01 to 2019-12-31\n"
     ]
    },
    {
     "name": "stderr",
     "output_type": "stream",
     "text": [
      "[*********************100%***********************]  1 of 1 completed\n"
     ]
    },
    {
     "name": "stdout",
     "output_type": "stream",
     "text": [
      "=> Downloading data for COR from 2000-01-01 to 2019-12-31\n"
     ]
    },
    {
     "name": "stderr",
     "output_type": "stream",
     "text": [
      "[*********************100%***********************]  1 of 1 completed\n"
     ]
    },
    {
     "name": "stdout",
     "output_type": "stream",
     "text": [
      "=> Downloading data for CNC from 2000-01-01 to 2019-12-31\n"
     ]
    },
    {
     "name": "stderr",
     "output_type": "stream",
     "text": [
      "[*********************100%***********************]  1 of 1 completed\n"
     ]
    },
    {
     "name": "stdout",
     "output_type": "stream",
     "text": [
      "=> Downloading data for CNP from 2000-01-01 to 2019-12-31\n"
     ]
    },
    {
     "name": "stderr",
     "output_type": "stream",
     "text": [
      "[*********************100%***********************]  1 of 1 completed\n"
     ]
    },
    {
     "name": "stdout",
     "output_type": "stream",
     "text": [
      "=> Downloading data for CF from 2000-01-01 to 2019-12-31\n"
     ]
    },
    {
     "name": "stderr",
     "output_type": "stream",
     "text": [
      "[*********************100%***********************]  1 of 1 completed\n"
     ]
    },
    {
     "name": "stdout",
     "output_type": "stream",
     "text": [
      "=> Downloading data for CRL from 2000-01-01 to 2019-12-31\n"
     ]
    },
    {
     "name": "stderr",
     "output_type": "stream",
     "text": [
      "[*********************100%***********************]  1 of 1 completed\n"
     ]
    },
    {
     "name": "stdout",
     "output_type": "stream",
     "text": [
      "=> Downloading data for SCHW from 2000-01-01 to 2019-12-31\n"
     ]
    },
    {
     "name": "stderr",
     "output_type": "stream",
     "text": [
      "[*********************100%***********************]  1 of 1 completed\n"
     ]
    },
    {
     "name": "stdout",
     "output_type": "stream",
     "text": [
      "=> Downloading data for CHTR from 2000-01-01 to 2019-12-31\n"
     ]
    },
    {
     "name": "stderr",
     "output_type": "stream",
     "text": [
      "[*********************100%***********************]  1 of 1 completed\n"
     ]
    },
    {
     "name": "stdout",
     "output_type": "stream",
     "text": [
      "=> Downloading data for CVX from 2000-01-01 to 2019-12-31\n"
     ]
    },
    {
     "name": "stderr",
     "output_type": "stream",
     "text": [
      "[*********************100%***********************]  1 of 1 completed\n"
     ]
    },
    {
     "name": "stdout",
     "output_type": "stream",
     "text": [
      "=> Downloading data for CMG from 2000-01-01 to 2019-12-31\n"
     ]
    },
    {
     "name": "stderr",
     "output_type": "stream",
     "text": [
      "[*********************100%***********************]  1 of 1 completed\n"
     ]
    },
    {
     "name": "stdout",
     "output_type": "stream",
     "text": [
      "=> Downloading data for CB from 2000-01-01 to 2019-12-31\n"
     ]
    },
    {
     "name": "stderr",
     "output_type": "stream",
     "text": [
      "[*********************100%***********************]  1 of 1 completed\n"
     ]
    },
    {
     "name": "stdout",
     "output_type": "stream",
     "text": [
      "=> Downloading data for CHD from 2000-01-01 to 2019-12-31\n"
     ]
    },
    {
     "name": "stderr",
     "output_type": "stream",
     "text": [
      "[*********************100%***********************]  1 of 1 completed\n"
     ]
    },
    {
     "name": "stdout",
     "output_type": "stream",
     "text": [
      "=> Downloading data for CI from 2000-01-01 to 2019-12-31\n"
     ]
    },
    {
     "name": "stderr",
     "output_type": "stream",
     "text": [
      "[*********************100%***********************]  1 of 1 completed\n"
     ]
    },
    {
     "name": "stdout",
     "output_type": "stream",
     "text": [
      "=> Downloading data for CINF from 2000-01-01 to 2019-12-31\n"
     ]
    },
    {
     "name": "stderr",
     "output_type": "stream",
     "text": [
      "[*********************100%***********************]  1 of 1 completed\n"
     ]
    },
    {
     "name": "stdout",
     "output_type": "stream",
     "text": [
      "=> Downloading data for CTAS from 2000-01-01 to 2019-12-31\n"
     ]
    },
    {
     "name": "stderr",
     "output_type": "stream",
     "text": [
      "[*********************100%***********************]  1 of 1 completed\n"
     ]
    },
    {
     "name": "stdout",
     "output_type": "stream",
     "text": [
      "=> Downloading data for CSCO from 2000-01-01 to 2019-12-31\n"
     ]
    },
    {
     "name": "stderr",
     "output_type": "stream",
     "text": [
      "[*********************100%***********************]  1 of 1 completed\n"
     ]
    },
    {
     "name": "stdout",
     "output_type": "stream",
     "text": [
      "=> Downloading data for C from 2000-01-01 to 2019-12-31\n"
     ]
    },
    {
     "name": "stderr",
     "output_type": "stream",
     "text": [
      "[*********************100%***********************]  1 of 1 completed\n"
     ]
    },
    {
     "name": "stdout",
     "output_type": "stream",
     "text": [
      "=> Downloading data for CFG from 2000-01-01 to 2019-12-31\n"
     ]
    },
    {
     "name": "stderr",
     "output_type": "stream",
     "text": [
      "[*********************100%***********************]  1 of 1 completed\n"
     ]
    },
    {
     "name": "stdout",
     "output_type": "stream",
     "text": [
      "=> Downloading data for CLX from 2000-01-01 to 2019-12-31\n"
     ]
    },
    {
     "name": "stderr",
     "output_type": "stream",
     "text": [
      "[*********************100%***********************]  1 of 1 completed\n"
     ]
    },
    {
     "name": "stdout",
     "output_type": "stream",
     "text": [
      "=> Downloading data for CME from 2000-01-01 to 2019-12-31\n"
     ]
    },
    {
     "name": "stderr",
     "output_type": "stream",
     "text": [
      "[*********************100%***********************]  1 of 1 completed\n"
     ]
    },
    {
     "name": "stdout",
     "output_type": "stream",
     "text": [
      "=> Downloading data for CMS from 2000-01-01 to 2019-12-31\n"
     ]
    },
    {
     "name": "stderr",
     "output_type": "stream",
     "text": [
      "[*********************100%***********************]  1 of 1 completed\n"
     ]
    },
    {
     "name": "stdout",
     "output_type": "stream",
     "text": [
      "=> Downloading data for KO from 2000-01-01 to 2019-12-31\n"
     ]
    },
    {
     "name": "stderr",
     "output_type": "stream",
     "text": [
      "[*********************100%***********************]  1 of 1 completed\n"
     ]
    },
    {
     "name": "stdout",
     "output_type": "stream",
     "text": [
      "=> Downloading data for CTSH from 2000-01-01 to 2019-12-31\n"
     ]
    },
    {
     "name": "stderr",
     "output_type": "stream",
     "text": [
      "[*********************100%***********************]  1 of 1 completed\n"
     ]
    },
    {
     "name": "stdout",
     "output_type": "stream",
     "text": [
      "=> Downloading data for CL from 2000-01-01 to 2019-12-31\n"
     ]
    },
    {
     "name": "stderr",
     "output_type": "stream",
     "text": [
      "[*********************100%***********************]  1 of 1 completed\n"
     ]
    },
    {
     "name": "stdout",
     "output_type": "stream",
     "text": [
      "=> Downloading data for CMCSA from 2000-01-01 to 2019-12-31\n"
     ]
    },
    {
     "name": "stderr",
     "output_type": "stream",
     "text": [
      "[*********************100%***********************]  1 of 1 completed\n"
     ]
    },
    {
     "name": "stdout",
     "output_type": "stream",
     "text": [
      "=> Downloading data for CAG from 2000-01-01 to 2019-12-31\n"
     ]
    },
    {
     "name": "stderr",
     "output_type": "stream",
     "text": [
      "[*********************100%***********************]  1 of 1 completed\n"
     ]
    },
    {
     "name": "stdout",
     "output_type": "stream",
     "text": [
      "=> Downloading data for COP from 2000-01-01 to 2019-12-31\n"
     ]
    },
    {
     "name": "stderr",
     "output_type": "stream",
     "text": [
      "[*********************100%***********************]  1 of 1 completed\n"
     ]
    },
    {
     "name": "stdout",
     "output_type": "stream",
     "text": [
      "=> Downloading data for ED from 2000-01-01 to 2019-12-31\n"
     ]
    },
    {
     "name": "stderr",
     "output_type": "stream",
     "text": [
      "[*********************100%***********************]  1 of 1 completed\n"
     ]
    },
    {
     "name": "stdout",
     "output_type": "stream",
     "text": [
      "=> Downloading data for STZ from 2000-01-01 to 2019-12-31\n"
     ]
    },
    {
     "name": "stderr",
     "output_type": "stream",
     "text": [
      "[*********************100%***********************]  1 of 1 completed\n"
     ]
    },
    {
     "name": "stdout",
     "output_type": "stream",
     "text": [
      "=> Downloading data for CEG from 2000-01-01 to 2019-12-31\n"
     ]
    },
    {
     "name": "stderr",
     "output_type": "stream",
     "text": [
      "[*********************100%***********************]  1 of 1 completed\n",
      "\n",
      "1 Failed download:\n",
      "['CEG']: YFPricesMissingError('possibly delisted; no price data found  (1d 2000-01-01 -> 2019-12-31) (Yahoo error = \"Data doesn\\'t exist for startDate = 946702800, endDate = 1577768400\")')\n"
     ]
    },
    {
     "name": "stdout",
     "output_type": "stream",
     "text": [
      "Error downloading data for CEG: No data for CEG in 2000-01-01–2019-12-31\n",
      "=> Downloading data for COO from 2000-01-01 to 2019-12-31\n"
     ]
    },
    {
     "name": "stderr",
     "output_type": "stream",
     "text": [
      "[*********************100%***********************]  1 of 1 completed\n"
     ]
    },
    {
     "name": "stdout",
     "output_type": "stream",
     "text": [
      "=> Downloading data for CPRT from 2000-01-01 to 2019-12-31\n"
     ]
    },
    {
     "name": "stderr",
     "output_type": "stream",
     "text": [
      "[*********************100%***********************]  1 of 1 completed\n"
     ]
    },
    {
     "name": "stdout",
     "output_type": "stream",
     "text": [
      "=> Downloading data for GLW from 2000-01-01 to 2019-12-31\n"
     ]
    },
    {
     "name": "stderr",
     "output_type": "stream",
     "text": [
      "[*********************100%***********************]  1 of 1 completed\n"
     ]
    },
    {
     "name": "stdout",
     "output_type": "stream",
     "text": [
      "=> Downloading data for CPAY from 2000-01-01 to 2019-12-31\n"
     ]
    },
    {
     "name": "stderr",
     "output_type": "stream",
     "text": [
      "[*********************100%***********************]  1 of 1 completed\n",
      "[*********************100%***********************]  1 of 1 completed\n"
     ]
    },
    {
     "name": "stdout",
     "output_type": "stream",
     "text": [
      "=> Downloading data for CTVA from 2000-01-01 to 2019-12-31\n",
      "=> Downloading data for CSGP from 2000-01-01 to 2019-12-31\n"
     ]
    },
    {
     "name": "stderr",
     "output_type": "stream",
     "text": [
      "[*********************100%***********************]  1 of 1 completed\n"
     ]
    },
    {
     "name": "stdout",
     "output_type": "stream",
     "text": [
      "=> Downloading data for COST from 2000-01-01 to 2019-12-31\n"
     ]
    },
    {
     "name": "stderr",
     "output_type": "stream",
     "text": [
      "[*********************100%***********************]  1 of 1 completed\n"
     ]
    },
    {
     "name": "stdout",
     "output_type": "stream",
     "text": [
      "=> Downloading data for CTRA from 2000-01-01 to 2019-12-31\n"
     ]
    },
    {
     "name": "stderr",
     "output_type": "stream",
     "text": [
      "[*********************100%***********************]  1 of 1 completed\n",
      "[*********************100%***********************]  1 of 1 completed\n"
     ]
    },
    {
     "name": "stdout",
     "output_type": "stream",
     "text": [
      "=> Downloading data for CRWD from 2000-01-01 to 2019-12-31\n",
      "=> Downloading data for CCI from 2000-01-01 to 2019-12-31\n"
     ]
    },
    {
     "name": "stderr",
     "output_type": "stream",
     "text": [
      "[*********************100%***********************]  1 of 1 completed\n"
     ]
    },
    {
     "name": "stdout",
     "output_type": "stream",
     "text": [
      "=> Downloading data for CSX from 2000-01-01 to 2019-12-31\n"
     ]
    },
    {
     "name": "stderr",
     "output_type": "stream",
     "text": [
      "[*********************100%***********************]  1 of 1 completed\n"
     ]
    },
    {
     "name": "stdout",
     "output_type": "stream",
     "text": [
      "=> Downloading data for CMI from 2000-01-01 to 2019-12-31\n"
     ]
    },
    {
     "name": "stderr",
     "output_type": "stream",
     "text": [
      "[*********************100%***********************]  1 of 1 completed\n"
     ]
    },
    {
     "name": "stdout",
     "output_type": "stream",
     "text": [
      "=> Downloading data for CVS from 2000-01-01 to 2019-12-31\n"
     ]
    },
    {
     "name": "stderr",
     "output_type": "stream",
     "text": [
      "[*********************100%***********************]  1 of 1 completed\n"
     ]
    },
    {
     "name": "stdout",
     "output_type": "stream",
     "text": [
      "=> Downloading data for DHR from 2000-01-01 to 2019-12-31\n"
     ]
    },
    {
     "name": "stderr",
     "output_type": "stream",
     "text": [
      "[*********************100%***********************]  1 of 1 completed\n"
     ]
    },
    {
     "name": "stdout",
     "output_type": "stream",
     "text": [
      "=> Downloading data for DRI from 2000-01-01 to 2019-12-31\n"
     ]
    },
    {
     "name": "stderr",
     "output_type": "stream",
     "text": [
      "[*********************100%***********************]  1 of 1 completed\n"
     ]
    },
    {
     "name": "stdout",
     "output_type": "stream",
     "text": [
      "=> Downloading data for DVA from 2000-01-01 to 2019-12-31\n"
     ]
    },
    {
     "name": "stderr",
     "output_type": "stream",
     "text": [
      "[*********************100%***********************]  1 of 1 completed\n",
      "[*********************100%***********************]  1 of 1 completed\n"
     ]
    },
    {
     "name": "stdout",
     "output_type": "stream",
     "text": [
      "=> Downloading data for DAY from 2000-01-01 to 2019-12-31\n",
      "=> Downloading data for DECK from 2000-01-01 to 2019-12-31\n"
     ]
    },
    {
     "name": "stderr",
     "output_type": "stream",
     "text": [
      "[*********************100%***********************]  1 of 1 completed\n"
     ]
    },
    {
     "name": "stdout",
     "output_type": "stream",
     "text": [
      "=> Downloading data for DE from 2000-01-01 to 2019-12-31\n"
     ]
    },
    {
     "name": "stderr",
     "output_type": "stream",
     "text": [
      "[*********************100%***********************]  1 of 1 completed\n",
      "[*********************100%***********************]  1 of 1 completed\n"
     ]
    },
    {
     "name": "stdout",
     "output_type": "stream",
     "text": [
      "=> Downloading data for DELL from 2000-01-01 to 2019-12-31\n",
      "=> Downloading data for DAL from 2000-01-01 to 2019-12-31\n"
     ]
    },
    {
     "name": "stderr",
     "output_type": "stream",
     "text": [
      "[*********************100%***********************]  1 of 1 completed\n"
     ]
    },
    {
     "name": "stdout",
     "output_type": "stream",
     "text": [
      "=> Downloading data for DVN from 2000-01-01 to 2019-12-31\n"
     ]
    },
    {
     "name": "stderr",
     "output_type": "stream",
     "text": [
      "[*********************100%***********************]  1 of 1 completed\n"
     ]
    },
    {
     "name": "stdout",
     "output_type": "stream",
     "text": [
      "=> Downloading data for DXCM from 2000-01-01 to 2019-12-31\n"
     ]
    },
    {
     "name": "stderr",
     "output_type": "stream",
     "text": [
      "[*********************100%***********************]  1 of 1 completed\n"
     ]
    },
    {
     "name": "stdout",
     "output_type": "stream",
     "text": [
      "=> Downloading data for FANG from 2000-01-01 to 2019-12-31\n"
     ]
    },
    {
     "name": "stderr",
     "output_type": "stream",
     "text": [
      "[*********************100%***********************]  1 of 1 completed\n"
     ]
    },
    {
     "name": "stdout",
     "output_type": "stream",
     "text": [
      "=> Downloading data for DLR from 2000-01-01 to 2019-12-31\n"
     ]
    },
    {
     "name": "stderr",
     "output_type": "stream",
     "text": [
      "[*********************100%***********************]  1 of 1 completed\n"
     ]
    },
    {
     "name": "stdout",
     "output_type": "stream",
     "text": [
      "=> Downloading data for DFS from 2000-01-01 to 2019-12-31\n"
     ]
    },
    {
     "name": "stderr",
     "output_type": "stream",
     "text": [
      "[*********************100%***********************]  1 of 1 completed\n"
     ]
    },
    {
     "name": "stdout",
     "output_type": "stream",
     "text": [
      "=> Downloading data for DG from 2000-01-01 to 2019-12-31\n"
     ]
    },
    {
     "name": "stderr",
     "output_type": "stream",
     "text": [
      "[*********************100%***********************]  1 of 1 completed\n"
     ]
    },
    {
     "name": "stdout",
     "output_type": "stream",
     "text": [
      "=> Downloading data for DLTR from 2000-01-01 to 2019-12-31\n"
     ]
    },
    {
     "name": "stderr",
     "output_type": "stream",
     "text": [
      "[*********************100%***********************]  1 of 1 completed\n"
     ]
    },
    {
     "name": "stdout",
     "output_type": "stream",
     "text": [
      "=> Downloading data for D from 2000-01-01 to 2019-12-31\n"
     ]
    },
    {
     "name": "stderr",
     "output_type": "stream",
     "text": [
      "[*********************100%***********************]  1 of 1 completed\n"
     ]
    },
    {
     "name": "stdout",
     "output_type": "stream",
     "text": [
      "=> Downloading data for DPZ from 2000-01-01 to 2019-12-31\n"
     ]
    },
    {
     "name": "stderr",
     "output_type": "stream",
     "text": [
      "[*********************100%***********************]  1 of 1 completed\n"
     ]
    },
    {
     "name": "stdout",
     "output_type": "stream",
     "text": [
      "=> Downloading data for DASH from 2000-01-01 to 2019-12-31\n"
     ]
    },
    {
     "name": "stderr",
     "output_type": "stream",
     "text": [
      "[*********************100%***********************]  1 of 1 completed\n",
      "\n",
      "1 Failed download:\n",
      "['DASH']: YFPricesMissingError('possibly delisted; no price data found  (1d 2000-01-01 -> 2019-12-31) (Yahoo error = \"Data doesn\\'t exist for startDate = 946702800, endDate = 1577768400\")')\n"
     ]
    },
    {
     "name": "stdout",
     "output_type": "stream",
     "text": [
      "Error downloading data for DASH: No data for DASH in 2000-01-01–2019-12-31\n",
      "=> Downloading data for DOV from 2000-01-01 to 2019-12-31\n"
     ]
    },
    {
     "name": "stderr",
     "output_type": "stream",
     "text": [
      "[*********************100%***********************]  1 of 1 completed\n",
      "[*********************100%***********************]  1 of 1 completed\n"
     ]
    },
    {
     "name": "stdout",
     "output_type": "stream",
     "text": [
      "=> Downloading data for DOW from 2000-01-01 to 2019-12-31\n",
      "=> Downloading data for DHI from 2000-01-01 to 2019-12-31\n"
     ]
    },
    {
     "name": "stderr",
     "output_type": "stream",
     "text": [
      "[*********************100%***********************]  1 of 1 completed\n"
     ]
    },
    {
     "name": "stdout",
     "output_type": "stream",
     "text": [
      "=> Downloading data for DTE from 2000-01-01 to 2019-12-31\n"
     ]
    },
    {
     "name": "stderr",
     "output_type": "stream",
     "text": [
      "[*********************100%***********************]  1 of 1 completed\n"
     ]
    },
    {
     "name": "stdout",
     "output_type": "stream",
     "text": [
      "=> Downloading data for DUK from 2000-01-01 to 2019-12-31\n"
     ]
    },
    {
     "name": "stderr",
     "output_type": "stream",
     "text": [
      "[*********************100%***********************]  1 of 1 completed\n"
     ]
    },
    {
     "name": "stdout",
     "output_type": "stream",
     "text": [
      "=> Downloading data for DD from 2000-01-01 to 2019-12-31\n"
     ]
    },
    {
     "name": "stderr",
     "output_type": "stream",
     "text": [
      "[*********************100%***********************]  1 of 1 completed\n"
     ]
    },
    {
     "name": "stdout",
     "output_type": "stream",
     "text": [
      "=> Downloading data for EMN from 2000-01-01 to 2019-12-31\n"
     ]
    },
    {
     "name": "stderr",
     "output_type": "stream",
     "text": [
      "[*********************100%***********************]  1 of 1 completed\n"
     ]
    },
    {
     "name": "stdout",
     "output_type": "stream",
     "text": [
      "=> Downloading data for ETN from 2000-01-01 to 2019-12-31\n"
     ]
    },
    {
     "name": "stderr",
     "output_type": "stream",
     "text": [
      "[*********************100%***********************]  1 of 1 completed\n"
     ]
    },
    {
     "name": "stdout",
     "output_type": "stream",
     "text": [
      "=> Downloading data for EBAY from 2000-01-01 to 2019-12-31\n"
     ]
    },
    {
     "name": "stderr",
     "output_type": "stream",
     "text": [
      "[*********************100%***********************]  1 of 1 completed\n"
     ]
    },
    {
     "name": "stdout",
     "output_type": "stream",
     "text": [
      "=> Downloading data for ECL from 2000-01-01 to 2019-12-31\n"
     ]
    },
    {
     "name": "stderr",
     "output_type": "stream",
     "text": [
      "[*********************100%***********************]  1 of 1 completed\n"
     ]
    },
    {
     "name": "stdout",
     "output_type": "stream",
     "text": [
      "=> Downloading data for EIX from 2000-01-01 to 2019-12-31\n"
     ]
    },
    {
     "name": "stderr",
     "output_type": "stream",
     "text": [
      "[*********************100%***********************]  1 of 1 completed\n"
     ]
    },
    {
     "name": "stdout",
     "output_type": "stream",
     "text": [
      "=> Downloading data for EW from 2000-01-01 to 2019-12-31\n"
     ]
    },
    {
     "name": "stderr",
     "output_type": "stream",
     "text": [
      "[*********************100%***********************]  1 of 1 completed\n"
     ]
    },
    {
     "name": "stdout",
     "output_type": "stream",
     "text": [
      "=> Downloading data for EA from 2000-01-01 to 2019-12-31\n"
     ]
    },
    {
     "name": "stderr",
     "output_type": "stream",
     "text": [
      "[*********************100%***********************]  1 of 1 completed\n"
     ]
    },
    {
     "name": "stdout",
     "output_type": "stream",
     "text": [
      "=> Downloading data for ELV from 2000-01-01 to 2019-12-31\n"
     ]
    },
    {
     "name": "stderr",
     "output_type": "stream",
     "text": [
      "[*********************100%***********************]  1 of 1 completed\n"
     ]
    },
    {
     "name": "stdout",
     "output_type": "stream",
     "text": [
      "=> Downloading data for EMR from 2000-01-01 to 2019-12-31\n"
     ]
    },
    {
     "name": "stderr",
     "output_type": "stream",
     "text": [
      "[*********************100%***********************]  1 of 1 completed\n"
     ]
    },
    {
     "name": "stdout",
     "output_type": "stream",
     "text": [
      "=> Downloading data for ENPH from 2000-01-01 to 2019-12-31\n"
     ]
    },
    {
     "name": "stderr",
     "output_type": "stream",
     "text": [
      "[*********************100%***********************]  1 of 1 completed\n"
     ]
    },
    {
     "name": "stdout",
     "output_type": "stream",
     "text": [
      "=> Downloading data for ETR from 2000-01-01 to 2019-12-31\n"
     ]
    },
    {
     "name": "stderr",
     "output_type": "stream",
     "text": [
      "[*********************100%***********************]  1 of 1 completed\n"
     ]
    },
    {
     "name": "stdout",
     "output_type": "stream",
     "text": [
      "=> Downloading data for EOG from 2000-01-01 to 2019-12-31\n"
     ]
    },
    {
     "name": "stderr",
     "output_type": "stream",
     "text": [
      "[*********************100%***********************]  1 of 1 completed\n"
     ]
    },
    {
     "name": "stdout",
     "output_type": "stream",
     "text": [
      "=> Downloading data for EPAM from 2000-01-01 to 2019-12-31\n"
     ]
    },
    {
     "name": "stderr",
     "output_type": "stream",
     "text": [
      "[*********************100%***********************]  1 of 1 completed\n"
     ]
    },
    {
     "name": "stdout",
     "output_type": "stream",
     "text": [
      "=> Downloading data for EQT from 2000-01-01 to 2019-12-31\n"
     ]
    },
    {
     "name": "stderr",
     "output_type": "stream",
     "text": [
      "[*********************100%***********************]  1 of 1 completed\n"
     ]
    },
    {
     "name": "stdout",
     "output_type": "stream",
     "text": [
      "=> Downloading data for EFX from 2000-01-01 to 2019-12-31\n"
     ]
    },
    {
     "name": "stderr",
     "output_type": "stream",
     "text": [
      "[*********************100%***********************]  1 of 1 completed\n"
     ]
    },
    {
     "name": "stdout",
     "output_type": "stream",
     "text": [
      "=> Downloading data for EQIX from 2000-01-01 to 2019-12-31\n"
     ]
    },
    {
     "name": "stderr",
     "output_type": "stream",
     "text": [
      "[*********************100%***********************]  1 of 1 completed\n"
     ]
    },
    {
     "name": "stdout",
     "output_type": "stream",
     "text": [
      "=> Downloading data for EQR from 2000-01-01 to 2019-12-31\n"
     ]
    },
    {
     "name": "stderr",
     "output_type": "stream",
     "text": [
      "[*********************100%***********************]  1 of 1 completed\n"
     ]
    },
    {
     "name": "stdout",
     "output_type": "stream",
     "text": [
      "=> Downloading data for ERIE from 2000-01-01 to 2019-12-31\n"
     ]
    },
    {
     "name": "stderr",
     "output_type": "stream",
     "text": [
      "[*********************100%***********************]  1 of 1 completed\n"
     ]
    },
    {
     "name": "stdout",
     "output_type": "stream",
     "text": [
      "=> Downloading data for ESS from 2000-01-01 to 2019-12-31\n"
     ]
    },
    {
     "name": "stderr",
     "output_type": "stream",
     "text": [
      "[*********************100%***********************]  1 of 1 completed\n"
     ]
    },
    {
     "name": "stdout",
     "output_type": "stream",
     "text": [
      "=> Downloading data for EL from 2000-01-01 to 2019-12-31\n"
     ]
    },
    {
     "name": "stderr",
     "output_type": "stream",
     "text": [
      "[*********************100%***********************]  1 of 1 completed\n"
     ]
    },
    {
     "name": "stdout",
     "output_type": "stream",
     "text": [
      "=> Downloading data for EG from 2000-01-01 to 2019-12-31\n"
     ]
    },
    {
     "name": "stderr",
     "output_type": "stream",
     "text": [
      "[*********************100%***********************]  1 of 1 completed\n"
     ]
    },
    {
     "name": "stdout",
     "output_type": "stream",
     "text": [
      "=> Downloading data for EVRG from 2000-01-01 to 2019-12-31\n"
     ]
    },
    {
     "name": "stderr",
     "output_type": "stream",
     "text": [
      "[*********************100%***********************]  1 of 1 completed\n"
     ]
    },
    {
     "name": "stdout",
     "output_type": "stream",
     "text": [
      "=> Downloading data for ES from 2000-01-01 to 2019-12-31\n"
     ]
    },
    {
     "name": "stderr",
     "output_type": "stream",
     "text": [
      "[*********************100%***********************]  1 of 1 completed\n"
     ]
    },
    {
     "name": "stdout",
     "output_type": "stream",
     "text": [
      "=> Downloading data for EXC from 2000-01-01 to 2019-12-31\n"
     ]
    },
    {
     "name": "stderr",
     "output_type": "stream",
     "text": [
      "[*********************100%***********************]  1 of 1 completed\n"
     ]
    },
    {
     "name": "stdout",
     "output_type": "stream",
     "text": [
      "=> Downloading data for EXE from 2000-01-01 to 2019-12-31\n"
     ]
    },
    {
     "name": "stderr",
     "output_type": "stream",
     "text": [
      "[*********************100%***********************]  1 of 1 completed\n",
      "\n",
      "1 Failed download:\n",
      "['EXE']: YFPricesMissingError('possibly delisted; no price data found  (1d 2000-01-01 -> 2019-12-31) (Yahoo error = \"Data doesn\\'t exist for startDate = 946702800, endDate = 1577768400\")')\n"
     ]
    },
    {
     "name": "stdout",
     "output_type": "stream",
     "text": [
      "Error downloading data for EXE: No data for EXE in 2000-01-01–2019-12-31\n",
      "=> Downloading data for EXPE from 2000-01-01 to 2019-12-31\n"
     ]
    },
    {
     "name": "stderr",
     "output_type": "stream",
     "text": [
      "[*********************100%***********************]  1 of 1 completed\n"
     ]
    },
    {
     "name": "stdout",
     "output_type": "stream",
     "text": [
      "=> Downloading data for EXPD from 2000-01-01 to 2019-12-31\n"
     ]
    },
    {
     "name": "stderr",
     "output_type": "stream",
     "text": [
      "[*********************100%***********************]  1 of 1 completed\n"
     ]
    },
    {
     "name": "stdout",
     "output_type": "stream",
     "text": [
      "=> Downloading data for EXR from 2000-01-01 to 2019-12-31\n"
     ]
    },
    {
     "name": "stderr",
     "output_type": "stream",
     "text": [
      "[*********************100%***********************]  1 of 1 completed\n"
     ]
    },
    {
     "name": "stdout",
     "output_type": "stream",
     "text": [
      "=> Downloading data for XOM from 2000-01-01 to 2019-12-31\n"
     ]
    },
    {
     "name": "stderr",
     "output_type": "stream",
     "text": [
      "[*********************100%***********************]  1 of 1 completed\n"
     ]
    },
    {
     "name": "stdout",
     "output_type": "stream",
     "text": [
      "=> Downloading data for FFIV from 2000-01-01 to 2019-12-31\n"
     ]
    },
    {
     "name": "stderr",
     "output_type": "stream",
     "text": [
      "[*********************100%***********************]  1 of 1 completed\n"
     ]
    },
    {
     "name": "stdout",
     "output_type": "stream",
     "text": [
      "=> Downloading data for FDS from 2000-01-01 to 2019-12-31\n"
     ]
    },
    {
     "name": "stderr",
     "output_type": "stream",
     "text": [
      "[*********************100%***********************]  1 of 1 completed\n"
     ]
    },
    {
     "name": "stdout",
     "output_type": "stream",
     "text": [
      "=> Downloading data for FICO from 2000-01-01 to 2019-12-31\n"
     ]
    },
    {
     "name": "stderr",
     "output_type": "stream",
     "text": [
      "[*********************100%***********************]  1 of 1 completed\n"
     ]
    },
    {
     "name": "stdout",
     "output_type": "stream",
     "text": [
      "=> Downloading data for FAST from 2000-01-01 to 2019-12-31\n"
     ]
    },
    {
     "name": "stderr",
     "output_type": "stream",
     "text": [
      "[*********************100%***********************]  1 of 1 completed\n"
     ]
    },
    {
     "name": "stdout",
     "output_type": "stream",
     "text": [
      "=> Downloading data for FRT from 2000-01-01 to 2019-12-31\n"
     ]
    },
    {
     "name": "stderr",
     "output_type": "stream",
     "text": [
      "[*********************100%***********************]  1 of 1 completed\n"
     ]
    },
    {
     "name": "stdout",
     "output_type": "stream",
     "text": [
      "=> Downloading data for FDX from 2000-01-01 to 2019-12-31\n"
     ]
    },
    {
     "name": "stderr",
     "output_type": "stream",
     "text": [
      "[*********************100%***********************]  1 of 1 completed\n"
     ]
    },
    {
     "name": "stdout",
     "output_type": "stream",
     "text": [
      "=> Downloading data for FIS from 2000-01-01 to 2019-12-31\n"
     ]
    },
    {
     "name": "stderr",
     "output_type": "stream",
     "text": [
      "[*********************100%***********************]  1 of 1 completed\n"
     ]
    },
    {
     "name": "stdout",
     "output_type": "stream",
     "text": [
      "=> Downloading data for FITB from 2000-01-01 to 2019-12-31\n"
     ]
    },
    {
     "name": "stderr",
     "output_type": "stream",
     "text": [
      "[*********************100%***********************]  1 of 1 completed\n",
      "[*********************100%***********************]  1 of 1 completed\n"
     ]
    },
    {
     "name": "stdout",
     "output_type": "stream",
     "text": [
      "=> Downloading data for FSLR from 2000-01-01 to 2019-12-31\n",
      "=> Downloading data for FE from 2000-01-01 to 2019-12-31\n"
     ]
    },
    {
     "name": "stderr",
     "output_type": "stream",
     "text": [
      "[*********************100%***********************]  1 of 1 completed\n"
     ]
    },
    {
     "name": "stdout",
     "output_type": "stream",
     "text": [
      "=> Downloading data for FI from 2000-01-01 to 2019-12-31\n"
     ]
    },
    {
     "name": "stderr",
     "output_type": "stream",
     "text": [
      "[*********************100%***********************]  1 of 1 completed\n"
     ]
    },
    {
     "name": "stdout",
     "output_type": "stream",
     "text": [
      "=> Downloading data for F from 2000-01-01 to 2019-12-31\n"
     ]
    },
    {
     "name": "stderr",
     "output_type": "stream",
     "text": [
      "[*********************100%***********************]  1 of 1 completed\n"
     ]
    },
    {
     "name": "stdout",
     "output_type": "stream",
     "text": [
      "=> Downloading data for FTNT from 2000-01-01 to 2019-12-31\n"
     ]
    },
    {
     "name": "stderr",
     "output_type": "stream",
     "text": [
      "[*********************100%***********************]  1 of 1 completed\n"
     ]
    },
    {
     "name": "stdout",
     "output_type": "stream",
     "text": [
      "=> Downloading data for FTV from 2000-01-01 to 2019-12-31\n"
     ]
    },
    {
     "name": "stderr",
     "output_type": "stream",
     "text": [
      "[*********************100%***********************]  1 of 1 completed\n",
      "[*********************100%***********************]  1 of 1 completed\n"
     ]
    },
    {
     "name": "stdout",
     "output_type": "stream",
     "text": [
      "=> Downloading data for FOXA from 2000-01-01 to 2019-12-31\n",
      "=> Downloading data for FOX from 2000-01-01 to 2019-12-31\n"
     ]
    },
    {
     "name": "stderr",
     "output_type": "stream",
     "text": [
      "[*********************100%***********************]  1 of 1 completed\n"
     ]
    },
    {
     "name": "stdout",
     "output_type": "stream",
     "text": [
      "=> Downloading data for BEN from 2000-01-01 to 2019-12-31\n"
     ]
    },
    {
     "name": "stderr",
     "output_type": "stream",
     "text": [
      "[*********************100%***********************]  1 of 1 completed\n"
     ]
    },
    {
     "name": "stdout",
     "output_type": "stream",
     "text": [
      "=> Downloading data for FCX from 2000-01-01 to 2019-12-31\n"
     ]
    },
    {
     "name": "stderr",
     "output_type": "stream",
     "text": [
      "[*********************100%***********************]  1 of 1 completed\n"
     ]
    },
    {
     "name": "stdout",
     "output_type": "stream",
     "text": [
      "=> Downloading data for GRMN from 2000-01-01 to 2019-12-31\n"
     ]
    },
    {
     "name": "stderr",
     "output_type": "stream",
     "text": [
      "[*********************100%***********************]  1 of 1 completed\n"
     ]
    },
    {
     "name": "stdout",
     "output_type": "stream",
     "text": [
      "=> Downloading data for IT from 2000-01-01 to 2019-12-31\n"
     ]
    },
    {
     "name": "stderr",
     "output_type": "stream",
     "text": [
      "[*********************100%***********************]  1 of 1 completed\n"
     ]
    },
    {
     "name": "stdout",
     "output_type": "stream",
     "text": [
      "=> Downloading data for GE from 2000-01-01 to 2019-12-31\n"
     ]
    },
    {
     "name": "stderr",
     "output_type": "stream",
     "text": [
      "[*********************100%***********************]  1 of 1 completed\n"
     ]
    },
    {
     "name": "stdout",
     "output_type": "stream",
     "text": [
      "=> Downloading data for GEHC from 2000-01-01 to 2019-12-31\n"
     ]
    },
    {
     "name": "stderr",
     "output_type": "stream",
     "text": [
      "[*********************100%***********************]  1 of 1 completed\n",
      "\n",
      "1 Failed download:\n",
      "['GEHC']: YFPricesMissingError('possibly delisted; no price data found  (1d 2000-01-01 -> 2019-12-31) (Yahoo error = \"Data doesn\\'t exist for startDate = 946702800, endDate = 1577768400\")')\n"
     ]
    },
    {
     "name": "stdout",
     "output_type": "stream",
     "text": [
      "Error downloading data for GEHC: No data for GEHC in 2000-01-01–2019-12-31\n",
      "=> Downloading data for GEV from 2000-01-01 to 2019-12-31\n"
     ]
    },
    {
     "name": "stderr",
     "output_type": "stream",
     "text": [
      "[*********************100%***********************]  1 of 1 completed\n",
      "\n",
      "1 Failed download:\n",
      "['GEV']: YFPricesMissingError('possibly delisted; no price data found  (1d 2000-01-01 -> 2019-12-31) (Yahoo error = \"Data doesn\\'t exist for startDate = 946702800, endDate = 1577768400\")')\n"
     ]
    },
    {
     "name": "stdout",
     "output_type": "stream",
     "text": [
      "Error downloading data for GEV: No data for GEV in 2000-01-01–2019-12-31\n",
      "=> Downloading data for GEN from 2000-01-01 to 2019-12-31\n"
     ]
    },
    {
     "name": "stderr",
     "output_type": "stream",
     "text": [
      "[*********************100%***********************]  1 of 1 completed\n"
     ]
    },
    {
     "name": "stdout",
     "output_type": "stream",
     "text": [
      "=> Downloading data for GNRC from 2000-01-01 to 2019-12-31\n"
     ]
    },
    {
     "name": "stderr",
     "output_type": "stream",
     "text": [
      "[*********************100%***********************]  1 of 1 completed\n"
     ]
    },
    {
     "name": "stdout",
     "output_type": "stream",
     "text": [
      "=> Downloading data for GD from 2000-01-01 to 2019-12-31\n"
     ]
    },
    {
     "name": "stderr",
     "output_type": "stream",
     "text": [
      "[*********************100%***********************]  1 of 1 completed\n"
     ]
    },
    {
     "name": "stdout",
     "output_type": "stream",
     "text": [
      "=> Downloading data for GIS from 2000-01-01 to 2019-12-31\n"
     ]
    },
    {
     "name": "stderr",
     "output_type": "stream",
     "text": [
      "[*********************100%***********************]  1 of 1 completed\n",
      "[*********************100%***********************]  1 of 1 completed\n"
     ]
    },
    {
     "name": "stdout",
     "output_type": "stream",
     "text": [
      "=> Downloading data for GM from 2000-01-01 to 2019-12-31\n",
      "=> Downloading data for GPC from 2000-01-01 to 2019-12-31\n"
     ]
    },
    {
     "name": "stderr",
     "output_type": "stream",
     "text": [
      "[*********************100%***********************]  1 of 1 completed\n"
     ]
    },
    {
     "name": "stdout",
     "output_type": "stream",
     "text": [
      "=> Downloading data for GILD from 2000-01-01 to 2019-12-31\n"
     ]
    },
    {
     "name": "stderr",
     "output_type": "stream",
     "text": [
      "[*********************100%***********************]  1 of 1 completed\n"
     ]
    },
    {
     "name": "stdout",
     "output_type": "stream",
     "text": [
      "=> Downloading data for GPN from 2000-01-01 to 2019-12-31\n"
     ]
    },
    {
     "name": "stderr",
     "output_type": "stream",
     "text": [
      "[*********************100%***********************]  1 of 1 completed\n"
     ]
    },
    {
     "name": "stdout",
     "output_type": "stream",
     "text": [
      "=> Downloading data for GL from 2000-01-01 to 2019-12-31\n"
     ]
    },
    {
     "name": "stderr",
     "output_type": "stream",
     "text": [
      "[*********************100%***********************]  1 of 1 completed\n"
     ]
    },
    {
     "name": "stdout",
     "output_type": "stream",
     "text": [
      "=> Downloading data for GDDY from 2000-01-01 to 2019-12-31\n"
     ]
    },
    {
     "name": "stderr",
     "output_type": "stream",
     "text": [
      "[*********************100%***********************]  1 of 1 completed\n"
     ]
    },
    {
     "name": "stdout",
     "output_type": "stream",
     "text": [
      "=> Downloading data for GS from 2000-01-01 to 2019-12-31\n"
     ]
    },
    {
     "name": "stderr",
     "output_type": "stream",
     "text": [
      "[*********************100%***********************]  1 of 1 completed\n"
     ]
    },
    {
     "name": "stdout",
     "output_type": "stream",
     "text": [
      "=> Downloading data for HAL from 2000-01-01 to 2019-12-31\n"
     ]
    },
    {
     "name": "stderr",
     "output_type": "stream",
     "text": [
      "[*********************100%***********************]  1 of 1 completed\n"
     ]
    },
    {
     "name": "stdout",
     "output_type": "stream",
     "text": [
      "=> Downloading data for HIG from 2000-01-01 to 2019-12-31\n"
     ]
    },
    {
     "name": "stderr",
     "output_type": "stream",
     "text": [
      "[*********************100%***********************]  1 of 1 completed\n"
     ]
    },
    {
     "name": "stdout",
     "output_type": "stream",
     "text": [
      "=> Downloading data for HAS from 2000-01-01 to 2019-12-31\n"
     ]
    },
    {
     "name": "stderr",
     "output_type": "stream",
     "text": [
      "[*********************100%***********************]  1 of 1 completed\n"
     ]
    },
    {
     "name": "stdout",
     "output_type": "stream",
     "text": [
      "=> Downloading data for HCA from 2000-01-01 to 2019-12-31\n"
     ]
    },
    {
     "name": "stderr",
     "output_type": "stream",
     "text": [
      "[*********************100%***********************]  1 of 1 completed\n"
     ]
    },
    {
     "name": "stdout",
     "output_type": "stream",
     "text": [
      "=> Downloading data for DOC from 2000-01-01 to 2019-12-31\n"
     ]
    },
    {
     "name": "stderr",
     "output_type": "stream",
     "text": [
      "[*********************100%***********************]  1 of 1 completed\n"
     ]
    },
    {
     "name": "stdout",
     "output_type": "stream",
     "text": [
      "=> Downloading data for HSIC from 2000-01-01 to 2019-12-31\n"
     ]
    },
    {
     "name": "stderr",
     "output_type": "stream",
     "text": [
      "[*********************100%***********************]  1 of 1 completed\n"
     ]
    },
    {
     "name": "stdout",
     "output_type": "stream",
     "text": [
      "=> Downloading data for HSY from 2000-01-01 to 2019-12-31\n"
     ]
    },
    {
     "name": "stderr",
     "output_type": "stream",
     "text": [
      "[*********************100%***********************]  1 of 1 completed\n"
     ]
    },
    {
     "name": "stdout",
     "output_type": "stream",
     "text": [
      "=> Downloading data for HES from 2000-01-01 to 2019-12-31\n"
     ]
    },
    {
     "name": "stderr",
     "output_type": "stream",
     "text": [
      "[*********************100%***********************]  1 of 1 completed\n",
      "[*********************100%***********************]  1 of 1 completed\n"
     ]
    },
    {
     "name": "stdout",
     "output_type": "stream",
     "text": [
      "=> Downloading data for HPE from 2000-01-01 to 2019-12-31\n",
      "=> Downloading data for HLT from 2000-01-01 to 2019-12-31\n"
     ]
    },
    {
     "name": "stderr",
     "output_type": "stream",
     "text": [
      "[*********************100%***********************]  1 of 1 completed\n"
     ]
    },
    {
     "name": "stdout",
     "output_type": "stream",
     "text": [
      "=> Downloading data for HOLX from 2000-01-01 to 2019-12-31\n"
     ]
    },
    {
     "name": "stderr",
     "output_type": "stream",
     "text": [
      "[*********************100%***********************]  1 of 1 completed\n"
     ]
    },
    {
     "name": "stdout",
     "output_type": "stream",
     "text": [
      "=> Downloading data for HD from 2000-01-01 to 2019-12-31\n"
     ]
    },
    {
     "name": "stderr",
     "output_type": "stream",
     "text": [
      "[*********************100%***********************]  1 of 1 completed\n"
     ]
    },
    {
     "name": "stdout",
     "output_type": "stream",
     "text": [
      "=> Downloading data for HON from 2000-01-01 to 2019-12-31\n"
     ]
    },
    {
     "name": "stderr",
     "output_type": "stream",
     "text": [
      "[*********************100%***********************]  1 of 1 completed\n"
     ]
    },
    {
     "name": "stdout",
     "output_type": "stream",
     "text": [
      "=> Downloading data for HRL from 2000-01-01 to 2019-12-31\n"
     ]
    },
    {
     "name": "stderr",
     "output_type": "stream",
     "text": [
      "[*********************100%***********************]  1 of 1 completed\n"
     ]
    },
    {
     "name": "stdout",
     "output_type": "stream",
     "text": [
      "=> Downloading data for HST from 2000-01-01 to 2019-12-31\n"
     ]
    },
    {
     "name": "stderr",
     "output_type": "stream",
     "text": [
      "[*********************100%***********************]  1 of 1 completed\n"
     ]
    },
    {
     "name": "stdout",
     "output_type": "stream",
     "text": [
      "=> Downloading data for HWM from 2000-01-01 to 2019-12-31\n"
     ]
    },
    {
     "name": "stderr",
     "output_type": "stream",
     "text": [
      "[*********************100%***********************]  1 of 1 completed\n"
     ]
    },
    {
     "name": "stdout",
     "output_type": "stream",
     "text": [
      "=> Downloading data for HPQ from 2000-01-01 to 2019-12-31\n"
     ]
    },
    {
     "name": "stderr",
     "output_type": "stream",
     "text": [
      "[*********************100%***********************]  1 of 1 completed\n"
     ]
    },
    {
     "name": "stdout",
     "output_type": "stream",
     "text": [
      "=> Downloading data for HUBB from 2000-01-01 to 2019-12-31\n"
     ]
    },
    {
     "name": "stderr",
     "output_type": "stream",
     "text": [
      "[*********************100%***********************]  1 of 1 completed\n"
     ]
    },
    {
     "name": "stdout",
     "output_type": "stream",
     "text": [
      "=> Downloading data for HUM from 2000-01-01 to 2019-12-31\n"
     ]
    },
    {
     "name": "stderr",
     "output_type": "stream",
     "text": [
      "[*********************100%***********************]  1 of 1 completed\n"
     ]
    },
    {
     "name": "stdout",
     "output_type": "stream",
     "text": [
      "=> Downloading data for HBAN from 2000-01-01 to 2019-12-31\n"
     ]
    },
    {
     "name": "stderr",
     "output_type": "stream",
     "text": [
      "[*********************100%***********************]  1 of 1 completed\n"
     ]
    },
    {
     "name": "stdout",
     "output_type": "stream",
     "text": [
      "=> Downloading data for HII from 2000-01-01 to 2019-12-31\n"
     ]
    },
    {
     "name": "stderr",
     "output_type": "stream",
     "text": [
      "[*********************100%***********************]  1 of 1 completed\n"
     ]
    },
    {
     "name": "stdout",
     "output_type": "stream",
     "text": [
      "=> Downloading data for IBM from 2000-01-01 to 2019-12-31\n"
     ]
    },
    {
     "name": "stderr",
     "output_type": "stream",
     "text": [
      "[*********************100%***********************]  1 of 1 completed\n"
     ]
    },
    {
     "name": "stdout",
     "output_type": "stream",
     "text": [
      "=> Downloading data for IEX from 2000-01-01 to 2019-12-31\n"
     ]
    },
    {
     "name": "stderr",
     "output_type": "stream",
     "text": [
      "[*********************100%***********************]  1 of 1 completed\n"
     ]
    },
    {
     "name": "stdout",
     "output_type": "stream",
     "text": [
      "=> Downloading data for IDXX from 2000-01-01 to 2019-12-31\n"
     ]
    },
    {
     "name": "stderr",
     "output_type": "stream",
     "text": [
      "[*********************100%***********************]  1 of 1 completed\n"
     ]
    },
    {
     "name": "stdout",
     "output_type": "stream",
     "text": [
      "=> Downloading data for ITW from 2000-01-01 to 2019-12-31\n"
     ]
    },
    {
     "name": "stderr",
     "output_type": "stream",
     "text": [
      "[*********************100%***********************]  1 of 1 completed\n"
     ]
    },
    {
     "name": "stdout",
     "output_type": "stream",
     "text": [
      "=> Downloading data for INCY from 2000-01-01 to 2019-12-31\n"
     ]
    },
    {
     "name": "stderr",
     "output_type": "stream",
     "text": [
      "[*********************100%***********************]  1 of 1 completed\n"
     ]
    },
    {
     "name": "stdout",
     "output_type": "stream",
     "text": [
      "=> Downloading data for IR from 2000-01-01 to 2019-12-31\n"
     ]
    },
    {
     "name": "stderr",
     "output_type": "stream",
     "text": [
      "[*********************100%***********************]  1 of 1 completed\n"
     ]
    },
    {
     "name": "stdout",
     "output_type": "stream",
     "text": [
      "=> Downloading data for PODD from 2000-01-01 to 2019-12-31\n"
     ]
    },
    {
     "name": "stderr",
     "output_type": "stream",
     "text": [
      "[*********************100%***********************]  1 of 1 completed\n"
     ]
    },
    {
     "name": "stdout",
     "output_type": "stream",
     "text": [
      "=> Downloading data for INTC from 2000-01-01 to 2019-12-31\n"
     ]
    },
    {
     "name": "stderr",
     "output_type": "stream",
     "text": [
      "[*********************100%***********************]  1 of 1 completed\n"
     ]
    },
    {
     "name": "stdout",
     "output_type": "stream",
     "text": [
      "=> Downloading data for ICE from 2000-01-01 to 2019-12-31\n"
     ]
    },
    {
     "name": "stderr",
     "output_type": "stream",
     "text": [
      "[*********************100%***********************]  1 of 1 completed\n"
     ]
    },
    {
     "name": "stdout",
     "output_type": "stream",
     "text": [
      "=> Downloading data for IFF from 2000-01-01 to 2019-12-31\n"
     ]
    },
    {
     "name": "stderr",
     "output_type": "stream",
     "text": [
      "[*********************100%***********************]  1 of 1 completed\n"
     ]
    },
    {
     "name": "stdout",
     "output_type": "stream",
     "text": [
      "=> Downloading data for IP from 2000-01-01 to 2019-12-31\n"
     ]
    },
    {
     "name": "stderr",
     "output_type": "stream",
     "text": [
      "[*********************100%***********************]  1 of 1 completed\n"
     ]
    },
    {
     "name": "stdout",
     "output_type": "stream",
     "text": [
      "=> Downloading data for IPG from 2000-01-01 to 2019-12-31\n"
     ]
    },
    {
     "name": "stderr",
     "output_type": "stream",
     "text": [
      "[*********************100%***********************]  1 of 1 completed\n"
     ]
    },
    {
     "name": "stdout",
     "output_type": "stream",
     "text": [
      "=> Downloading data for INTU from 2000-01-01 to 2019-12-31\n"
     ]
    },
    {
     "name": "stderr",
     "output_type": "stream",
     "text": [
      "[*********************100%***********************]  1 of 1 completed\n"
     ]
    },
    {
     "name": "stdout",
     "output_type": "stream",
     "text": [
      "=> Downloading data for ISRG from 2000-01-01 to 2019-12-31\n"
     ]
    },
    {
     "name": "stderr",
     "output_type": "stream",
     "text": [
      "[*********************100%***********************]  1 of 1 completed\n"
     ]
    },
    {
     "name": "stdout",
     "output_type": "stream",
     "text": [
      "=> Downloading data for IVZ from 2000-01-01 to 2019-12-31\n"
     ]
    },
    {
     "name": "stderr",
     "output_type": "stream",
     "text": [
      "[*********************100%***********************]  1 of 1 completed\n",
      "[*********************100%***********************]  1 of 1 completed\n"
     ]
    },
    {
     "name": "stdout",
     "output_type": "stream",
     "text": [
      "=> Downloading data for INVH from 2000-01-01 to 2019-12-31\n",
      "=> Downloading data for IQV from 2000-01-01 to 2019-12-31\n"
     ]
    },
    {
     "name": "stderr",
     "output_type": "stream",
     "text": [
      "[*********************100%***********************]  1 of 1 completed\n"
     ]
    },
    {
     "name": "stdout",
     "output_type": "stream",
     "text": [
      "=> Downloading data for IRM from 2000-01-01 to 2019-12-31\n"
     ]
    },
    {
     "name": "stderr",
     "output_type": "stream",
     "text": [
      "[*********************100%***********************]  1 of 1 completed\n"
     ]
    },
    {
     "name": "stdout",
     "output_type": "stream",
     "text": [
      "=> Downloading data for JBHT from 2000-01-01 to 2019-12-31\n"
     ]
    },
    {
     "name": "stderr",
     "output_type": "stream",
     "text": [
      "[*********************100%***********************]  1 of 1 completed\n"
     ]
    },
    {
     "name": "stdout",
     "output_type": "stream",
     "text": [
      "=> Downloading data for JBL from 2000-01-01 to 2019-12-31\n"
     ]
    },
    {
     "name": "stderr",
     "output_type": "stream",
     "text": [
      "[*********************100%***********************]  1 of 1 completed\n"
     ]
    },
    {
     "name": "stdout",
     "output_type": "stream",
     "text": [
      "=> Downloading data for JKHY from 2000-01-01 to 2019-12-31\n"
     ]
    },
    {
     "name": "stderr",
     "output_type": "stream",
     "text": [
      "[*********************100%***********************]  1 of 1 completed\n"
     ]
    },
    {
     "name": "stdout",
     "output_type": "stream",
     "text": [
      "=> Downloading data for J from 2000-01-01 to 2019-12-31\n"
     ]
    },
    {
     "name": "stderr",
     "output_type": "stream",
     "text": [
      "[*********************100%***********************]  1 of 1 completed\n"
     ]
    },
    {
     "name": "stdout",
     "output_type": "stream",
     "text": [
      "=> Downloading data for JNJ from 2000-01-01 to 2019-12-31\n"
     ]
    },
    {
     "name": "stderr",
     "output_type": "stream",
     "text": [
      "[*********************100%***********************]  1 of 1 completed\n"
     ]
    },
    {
     "name": "stdout",
     "output_type": "stream",
     "text": [
      "=> Downloading data for JCI from 2000-01-01 to 2019-12-31\n"
     ]
    },
    {
     "name": "stderr",
     "output_type": "stream",
     "text": [
      "[*********************100%***********************]  1 of 1 completed\n"
     ]
    },
    {
     "name": "stdout",
     "output_type": "stream",
     "text": [
      "=> Downloading data for JPM from 2000-01-01 to 2019-12-31\n"
     ]
    },
    {
     "name": "stderr",
     "output_type": "stream",
     "text": [
      "[*********************100%***********************]  1 of 1 completed\n"
     ]
    },
    {
     "name": "stdout",
     "output_type": "stream",
     "text": [
      "=> Downloading data for JNPR from 2000-01-01 to 2019-12-31\n"
     ]
    },
    {
     "name": "stderr",
     "output_type": "stream",
     "text": [
      "[*********************100%***********************]  1 of 1 completed\n"
     ]
    },
    {
     "name": "stdout",
     "output_type": "stream",
     "text": [
      "=> Downloading data for K from 2000-01-01 to 2019-12-31\n"
     ]
    },
    {
     "name": "stderr",
     "output_type": "stream",
     "text": [
      "[*********************100%***********************]  1 of 1 completed\n"
     ]
    },
    {
     "name": "stdout",
     "output_type": "stream",
     "text": [
      "=> Downloading data for KVUE from 2000-01-01 to 2019-12-31\n"
     ]
    },
    {
     "name": "stderr",
     "output_type": "stream",
     "text": [
      "[*********************100%***********************]  1 of 1 completed\n",
      "\n",
      "1 Failed download:\n",
      "['KVUE']: YFPricesMissingError('possibly delisted; no price data found  (1d 2000-01-01 -> 2019-12-31) (Yahoo error = \"Data doesn\\'t exist for startDate = 946702800, endDate = 1577768400\")')\n"
     ]
    },
    {
     "name": "stdout",
     "output_type": "stream",
     "text": [
      "Error downloading data for KVUE: No data for KVUE in 2000-01-01–2019-12-31\n",
      "=> Downloading data for KDP from 2000-01-01 to 2019-12-31\n"
     ]
    },
    {
     "name": "stderr",
     "output_type": "stream",
     "text": [
      "[*********************100%***********************]  1 of 1 completed\n"
     ]
    },
    {
     "name": "stdout",
     "output_type": "stream",
     "text": [
      "=> Downloading data for KEY from 2000-01-01 to 2019-12-31\n"
     ]
    },
    {
     "name": "stderr",
     "output_type": "stream",
     "text": [
      "[*********************100%***********************]  1 of 1 completed\n"
     ]
    },
    {
     "name": "stdout",
     "output_type": "stream",
     "text": [
      "=> Downloading data for KEYS from 2000-01-01 to 2019-12-31\n"
     ]
    },
    {
     "name": "stderr",
     "output_type": "stream",
     "text": [
      "[*********************100%***********************]  1 of 1 completed\n"
     ]
    },
    {
     "name": "stdout",
     "output_type": "stream",
     "text": [
      "=> Downloading data for KMB from 2000-01-01 to 2019-12-31\n"
     ]
    },
    {
     "name": "stderr",
     "output_type": "stream",
     "text": [
      "[*********************100%***********************]  1 of 1 completed\n"
     ]
    },
    {
     "name": "stdout",
     "output_type": "stream",
     "text": [
      "=> Downloading data for KIM from 2000-01-01 to 2019-12-31\n"
     ]
    },
    {
     "name": "stderr",
     "output_type": "stream",
     "text": [
      "[*********************100%***********************]  1 of 1 completed\n"
     ]
    },
    {
     "name": "stdout",
     "output_type": "stream",
     "text": [
      "=> Downloading data for KMI from 2000-01-01 to 2019-12-31\n"
     ]
    },
    {
     "name": "stderr",
     "output_type": "stream",
     "text": [
      "[*********************100%***********************]  1 of 1 completed\n"
     ]
    },
    {
     "name": "stdout",
     "output_type": "stream",
     "text": [
      "=> Downloading data for KKR from 2000-01-01 to 2019-12-31\n"
     ]
    },
    {
     "name": "stderr",
     "output_type": "stream",
     "text": [
      "[*********************100%***********************]  1 of 1 completed\n"
     ]
    },
    {
     "name": "stdout",
     "output_type": "stream",
     "text": [
      "=> Downloading data for KLAC from 2000-01-01 to 2019-12-31\n"
     ]
    },
    {
     "name": "stderr",
     "output_type": "stream",
     "text": [
      "[*********************100%***********************]  1 of 1 completed\n",
      "[*********************100%***********************]  1 of 1 completed\n"
     ]
    },
    {
     "name": "stdout",
     "output_type": "stream",
     "text": [
      "=> Downloading data for KHC from 2000-01-01 to 2019-12-31\n",
      "=> Downloading data for KR from 2000-01-01 to 2019-12-31\n"
     ]
    },
    {
     "name": "stderr",
     "output_type": "stream",
     "text": [
      "[*********************100%***********************]  1 of 1 completed\n"
     ]
    },
    {
     "name": "stdout",
     "output_type": "stream",
     "text": [
      "=> Downloading data for LHX from 2000-01-01 to 2019-12-31\n"
     ]
    },
    {
     "name": "stderr",
     "output_type": "stream",
     "text": [
      "[*********************100%***********************]  1 of 1 completed\n"
     ]
    },
    {
     "name": "stdout",
     "output_type": "stream",
     "text": [
      "=> Downloading data for LH from 2000-01-01 to 2019-12-31\n"
     ]
    },
    {
     "name": "stderr",
     "output_type": "stream",
     "text": [
      "[*********************100%***********************]  1 of 1 completed\n"
     ]
    },
    {
     "name": "stdout",
     "output_type": "stream",
     "text": [
      "=> Downloading data for LRCX from 2000-01-01 to 2019-12-31\n"
     ]
    },
    {
     "name": "stderr",
     "output_type": "stream",
     "text": [
      "[*********************100%***********************]  1 of 1 completed\n",
      "[*********************100%***********************]  1 of 1 completed\n"
     ]
    },
    {
     "name": "stdout",
     "output_type": "stream",
     "text": [
      "=> Downloading data for LW from 2000-01-01 to 2019-12-31\n",
      "=> Downloading data for LVS from 2000-01-01 to 2019-12-31\n"
     ]
    },
    {
     "name": "stderr",
     "output_type": "stream",
     "text": [
      "[*********************100%***********************]  1 of 1 completed\n"
     ]
    },
    {
     "name": "stdout",
     "output_type": "stream",
     "text": [
      "=> Downloading data for LDOS from 2000-01-01 to 2019-12-31\n"
     ]
    },
    {
     "name": "stderr",
     "output_type": "stream",
     "text": [
      "[*********************100%***********************]  1 of 1 completed\n"
     ]
    },
    {
     "name": "stdout",
     "output_type": "stream",
     "text": [
      "=> Downloading data for LEN from 2000-01-01 to 2019-12-31\n"
     ]
    },
    {
     "name": "stderr",
     "output_type": "stream",
     "text": [
      "[*********************100%***********************]  1 of 1 completed\n"
     ]
    },
    {
     "name": "stdout",
     "output_type": "stream",
     "text": [
      "=> Downloading data for LII from 2000-01-01 to 2019-12-31\n"
     ]
    },
    {
     "name": "stderr",
     "output_type": "stream",
     "text": [
      "[*********************100%***********************]  1 of 1 completed\n"
     ]
    },
    {
     "name": "stdout",
     "output_type": "stream",
     "text": [
      "=> Downloading data for LLY from 2000-01-01 to 2019-12-31\n"
     ]
    },
    {
     "name": "stderr",
     "output_type": "stream",
     "text": [
      "[*********************100%***********************]  1 of 1 completed\n"
     ]
    },
    {
     "name": "stdout",
     "output_type": "stream",
     "text": [
      "=> Downloading data for LIN from 2000-01-01 to 2019-12-31\n"
     ]
    },
    {
     "name": "stderr",
     "output_type": "stream",
     "text": [
      "[*********************100%***********************]  1 of 1 completed\n"
     ]
    },
    {
     "name": "stdout",
     "output_type": "stream",
     "text": [
      "=> Downloading data for LYV from 2000-01-01 to 2019-12-31\n"
     ]
    },
    {
     "name": "stderr",
     "output_type": "stream",
     "text": [
      "[*********************100%***********************]  1 of 1 completed\n"
     ]
    },
    {
     "name": "stdout",
     "output_type": "stream",
     "text": [
      "=> Downloading data for LKQ from 2000-01-01 to 2019-12-31\n"
     ]
    },
    {
     "name": "stderr",
     "output_type": "stream",
     "text": [
      "[*********************100%***********************]  1 of 1 completed\n"
     ]
    },
    {
     "name": "stdout",
     "output_type": "stream",
     "text": [
      "=> Downloading data for LMT from 2000-01-01 to 2019-12-31\n"
     ]
    },
    {
     "name": "stderr",
     "output_type": "stream",
     "text": [
      "[*********************100%***********************]  1 of 1 completed\n"
     ]
    },
    {
     "name": "stdout",
     "output_type": "stream",
     "text": [
      "=> Downloading data for L from 2000-01-01 to 2019-12-31\n"
     ]
    },
    {
     "name": "stderr",
     "output_type": "stream",
     "text": [
      "[*********************100%***********************]  1 of 1 completed\n"
     ]
    },
    {
     "name": "stdout",
     "output_type": "stream",
     "text": [
      "=> Downloading data for LOW from 2000-01-01 to 2019-12-31\n"
     ]
    },
    {
     "name": "stderr",
     "output_type": "stream",
     "text": [
      "[*********************100%***********************]  1 of 1 completed\n"
     ]
    },
    {
     "name": "stdout",
     "output_type": "stream",
     "text": [
      "=> Downloading data for LULU from 2000-01-01 to 2019-12-31\n"
     ]
    },
    {
     "name": "stderr",
     "output_type": "stream",
     "text": [
      "[*********************100%***********************]  1 of 1 completed\n"
     ]
    },
    {
     "name": "stdout",
     "output_type": "stream",
     "text": [
      "=> Downloading data for LYB from 2000-01-01 to 2019-12-31\n"
     ]
    },
    {
     "name": "stderr",
     "output_type": "stream",
     "text": [
      "[*********************100%***********************]  1 of 1 completed\n"
     ]
    },
    {
     "name": "stdout",
     "output_type": "stream",
     "text": [
      "=> Downloading data for MTB from 2000-01-01 to 2019-12-31\n"
     ]
    },
    {
     "name": "stderr",
     "output_type": "stream",
     "text": [
      "[*********************100%***********************]  1 of 1 completed\n"
     ]
    },
    {
     "name": "stdout",
     "output_type": "stream",
     "text": [
      "=> Downloading data for MPC from 2000-01-01 to 2019-12-31\n"
     ]
    },
    {
     "name": "stderr",
     "output_type": "stream",
     "text": [
      "[*********************100%***********************]  1 of 1 completed\n"
     ]
    },
    {
     "name": "stdout",
     "output_type": "stream",
     "text": [
      "=> Downloading data for MKTX from 2000-01-01 to 2019-12-31\n"
     ]
    },
    {
     "name": "stderr",
     "output_type": "stream",
     "text": [
      "[*********************100%***********************]  1 of 1 completed\n"
     ]
    },
    {
     "name": "stdout",
     "output_type": "stream",
     "text": [
      "=> Downloading data for MAR from 2000-01-01 to 2019-12-31\n"
     ]
    },
    {
     "name": "stderr",
     "output_type": "stream",
     "text": [
      "[*********************100%***********************]  1 of 1 completed\n"
     ]
    },
    {
     "name": "stdout",
     "output_type": "stream",
     "text": [
      "=> Downloading data for MMC from 2000-01-01 to 2019-12-31\n"
     ]
    },
    {
     "name": "stderr",
     "output_type": "stream",
     "text": [
      "[*********************100%***********************]  1 of 1 completed\n"
     ]
    },
    {
     "name": "stdout",
     "output_type": "stream",
     "text": [
      "=> Downloading data for MLM from 2000-01-01 to 2019-12-31\n"
     ]
    },
    {
     "name": "stderr",
     "output_type": "stream",
     "text": [
      "[*********************100%***********************]  1 of 1 completed\n"
     ]
    },
    {
     "name": "stdout",
     "output_type": "stream",
     "text": [
      "=> Downloading data for MAS from 2000-01-01 to 2019-12-31\n"
     ]
    },
    {
     "name": "stderr",
     "output_type": "stream",
     "text": [
      "[*********************100%***********************]  1 of 1 completed\n"
     ]
    },
    {
     "name": "stdout",
     "output_type": "stream",
     "text": [
      "=> Downloading data for MA from 2000-01-01 to 2019-12-31\n"
     ]
    },
    {
     "name": "stderr",
     "output_type": "stream",
     "text": [
      "[*********************100%***********************]  1 of 1 completed\n"
     ]
    },
    {
     "name": "stdout",
     "output_type": "stream",
     "text": [
      "=> Downloading data for MTCH from 2000-01-01 to 2019-12-31\n"
     ]
    },
    {
     "name": "stderr",
     "output_type": "stream",
     "text": [
      "[*********************100%***********************]  1 of 1 completed\n"
     ]
    },
    {
     "name": "stdout",
     "output_type": "stream",
     "text": [
      "=> Downloading data for MKC from 2000-01-01 to 2019-12-31\n"
     ]
    },
    {
     "name": "stderr",
     "output_type": "stream",
     "text": [
      "[*********************100%***********************]  1 of 1 completed\n"
     ]
    },
    {
     "name": "stdout",
     "output_type": "stream",
     "text": [
      "=> Downloading data for MCD from 2000-01-01 to 2019-12-31\n"
     ]
    },
    {
     "name": "stderr",
     "output_type": "stream",
     "text": [
      "[*********************100%***********************]  1 of 1 completed\n"
     ]
    },
    {
     "name": "stdout",
     "output_type": "stream",
     "text": [
      "=> Downloading data for MCK from 2000-01-01 to 2019-12-31\n"
     ]
    },
    {
     "name": "stderr",
     "output_type": "stream",
     "text": [
      "[*********************100%***********************]  1 of 1 completed\n"
     ]
    },
    {
     "name": "stdout",
     "output_type": "stream",
     "text": [
      "=> Downloading data for MDT from 2000-01-01 to 2019-12-31\n"
     ]
    },
    {
     "name": "stderr",
     "output_type": "stream",
     "text": [
      "[*********************100%***********************]  1 of 1 completed\n"
     ]
    },
    {
     "name": "stdout",
     "output_type": "stream",
     "text": [
      "=> Downloading data for MRK from 2000-01-01 to 2019-12-31\n"
     ]
    },
    {
     "name": "stderr",
     "output_type": "stream",
     "text": [
      "[*********************100%***********************]  1 of 1 completed\n"
     ]
    },
    {
     "name": "stdout",
     "output_type": "stream",
     "text": [
      "=> Downloading data for META from 2000-01-01 to 2019-12-31\n"
     ]
    },
    {
     "name": "stderr",
     "output_type": "stream",
     "text": [
      "[*********************100%***********************]  1 of 1 completed\n"
     ]
    },
    {
     "name": "stdout",
     "output_type": "stream",
     "text": [
      "=> Downloading data for MET from 2000-01-01 to 2019-12-31\n"
     ]
    },
    {
     "name": "stderr",
     "output_type": "stream",
     "text": [
      "[*********************100%***********************]  1 of 1 completed\n"
     ]
    },
    {
     "name": "stdout",
     "output_type": "stream",
     "text": [
      "=> Downloading data for MTD from 2000-01-01 to 2019-12-31\n"
     ]
    },
    {
     "name": "stderr",
     "output_type": "stream",
     "text": [
      "[*********************100%***********************]  1 of 1 completed\n"
     ]
    },
    {
     "name": "stdout",
     "output_type": "stream",
     "text": [
      "=> Downloading data for MGM from 2000-01-01 to 2019-12-31\n"
     ]
    },
    {
     "name": "stderr",
     "output_type": "stream",
     "text": [
      "[*********************100%***********************]  1 of 1 completed\n"
     ]
    },
    {
     "name": "stdout",
     "output_type": "stream",
     "text": [
      "=> Downloading data for MCHP from 2000-01-01 to 2019-12-31\n"
     ]
    },
    {
     "name": "stderr",
     "output_type": "stream",
     "text": [
      "[*********************100%***********************]  1 of 1 completed\n"
     ]
    },
    {
     "name": "stdout",
     "output_type": "stream",
     "text": [
      "=> Downloading data for MU from 2000-01-01 to 2019-12-31\n"
     ]
    },
    {
     "name": "stderr",
     "output_type": "stream",
     "text": [
      "[*********************100%***********************]  1 of 1 completed\n"
     ]
    },
    {
     "name": "stdout",
     "output_type": "stream",
     "text": [
      "=> Downloading data for MSFT from 2000-01-01 to 2019-12-31\n"
     ]
    },
    {
     "name": "stderr",
     "output_type": "stream",
     "text": [
      "[*********************100%***********************]  1 of 1 completed\n"
     ]
    },
    {
     "name": "stdout",
     "output_type": "stream",
     "text": [
      "=> Downloading data for MAA from 2000-01-01 to 2019-12-31\n"
     ]
    },
    {
     "name": "stderr",
     "output_type": "stream",
     "text": [
      "[*********************100%***********************]  1 of 1 completed\n",
      "[*********************100%***********************]  1 of 1 completed\n"
     ]
    },
    {
     "name": "stdout",
     "output_type": "stream",
     "text": [
      "=> Downloading data for MRNA from 2000-01-01 to 2019-12-31\n",
      "=> Downloading data for MHK from 2000-01-01 to 2019-12-31\n"
     ]
    },
    {
     "name": "stderr",
     "output_type": "stream",
     "text": [
      "[*********************100%***********************]  1 of 1 completed\n"
     ]
    },
    {
     "name": "stdout",
     "output_type": "stream",
     "text": [
      "=> Downloading data for MOH from 2000-01-01 to 2019-12-31\n"
     ]
    },
    {
     "name": "stderr",
     "output_type": "stream",
     "text": [
      "[*********************100%***********************]  1 of 1 completed\n"
     ]
    },
    {
     "name": "stdout",
     "output_type": "stream",
     "text": [
      "=> Downloading data for TAP from 2000-01-01 to 2019-12-31\n"
     ]
    },
    {
     "name": "stderr",
     "output_type": "stream",
     "text": [
      "[*********************100%***********************]  1 of 1 completed\n"
     ]
    },
    {
     "name": "stdout",
     "output_type": "stream",
     "text": [
      "=> Downloading data for MDLZ from 2000-01-01 to 2019-12-31\n"
     ]
    },
    {
     "name": "stderr",
     "output_type": "stream",
     "text": [
      "[*********************100%***********************]  1 of 1 completed\n"
     ]
    },
    {
     "name": "stdout",
     "output_type": "stream",
     "text": [
      "=> Downloading data for MPWR from 2000-01-01 to 2019-12-31\n"
     ]
    },
    {
     "name": "stderr",
     "output_type": "stream",
     "text": [
      "[*********************100%***********************]  1 of 1 completed\n"
     ]
    },
    {
     "name": "stdout",
     "output_type": "stream",
     "text": [
      "=> Downloading data for MNST from 2000-01-01 to 2019-12-31\n"
     ]
    },
    {
     "name": "stderr",
     "output_type": "stream",
     "text": [
      "[*********************100%***********************]  1 of 1 completed\n"
     ]
    },
    {
     "name": "stdout",
     "output_type": "stream",
     "text": [
      "=> Downloading data for MCO from 2000-01-01 to 2019-12-31\n"
     ]
    },
    {
     "name": "stderr",
     "output_type": "stream",
     "text": [
      "[*********************100%***********************]  1 of 1 completed\n"
     ]
    },
    {
     "name": "stdout",
     "output_type": "stream",
     "text": [
      "=> Downloading data for MS from 2000-01-01 to 2019-12-31\n"
     ]
    },
    {
     "name": "stderr",
     "output_type": "stream",
     "text": [
      "[*********************100%***********************]  1 of 1 completed\n"
     ]
    },
    {
     "name": "stdout",
     "output_type": "stream",
     "text": [
      "=> Downloading data for MOS from 2000-01-01 to 2019-12-31\n"
     ]
    },
    {
     "name": "stderr",
     "output_type": "stream",
     "text": [
      "[*********************100%***********************]  1 of 1 completed\n"
     ]
    },
    {
     "name": "stdout",
     "output_type": "stream",
     "text": [
      "=> Downloading data for MSI from 2000-01-01 to 2019-12-31\n"
     ]
    },
    {
     "name": "stderr",
     "output_type": "stream",
     "text": [
      "[*********************100%***********************]  1 of 1 completed\n"
     ]
    },
    {
     "name": "stdout",
     "output_type": "stream",
     "text": [
      "=> Downloading data for MSCI from 2000-01-01 to 2019-12-31\n"
     ]
    },
    {
     "name": "stderr",
     "output_type": "stream",
     "text": [
      "[*********************100%***********************]  1 of 1 completed\n"
     ]
    },
    {
     "name": "stdout",
     "output_type": "stream",
     "text": [
      "=> Downloading data for NDAQ from 2000-01-01 to 2019-12-31\n"
     ]
    },
    {
     "name": "stderr",
     "output_type": "stream",
     "text": [
      "[*********************100%***********************]  1 of 1 completed\n"
     ]
    },
    {
     "name": "stdout",
     "output_type": "stream",
     "text": [
      "=> Downloading data for NTAP from 2000-01-01 to 2019-12-31\n"
     ]
    },
    {
     "name": "stderr",
     "output_type": "stream",
     "text": [
      "[*********************100%***********************]  1 of 1 completed\n"
     ]
    },
    {
     "name": "stdout",
     "output_type": "stream",
     "text": [
      "=> Downloading data for NFLX from 2000-01-01 to 2019-12-31\n"
     ]
    },
    {
     "name": "stderr",
     "output_type": "stream",
     "text": [
      "[*********************100%***********************]  1 of 1 completed\n"
     ]
    },
    {
     "name": "stdout",
     "output_type": "stream",
     "text": [
      "=> Downloading data for NEM from 2000-01-01 to 2019-12-31\n"
     ]
    },
    {
     "name": "stderr",
     "output_type": "stream",
     "text": [
      "[*********************100%***********************]  1 of 1 completed\n"
     ]
    },
    {
     "name": "stdout",
     "output_type": "stream",
     "text": [
      "=> Downloading data for NWSA from 2000-01-01 to 2019-12-31\n"
     ]
    },
    {
     "name": "stderr",
     "output_type": "stream",
     "text": [
      "[*********************100%***********************]  1 of 1 completed\n"
     ]
    },
    {
     "name": "stdout",
     "output_type": "stream",
     "text": [
      "=> Downloading data for NWS from 2000-01-01 to 2019-12-31\n"
     ]
    },
    {
     "name": "stderr",
     "output_type": "stream",
     "text": [
      "[*********************100%***********************]  1 of 1 completed\n"
     ]
    },
    {
     "name": "stdout",
     "output_type": "stream",
     "text": [
      "=> Downloading data for NEE from 2000-01-01 to 2019-12-31\n"
     ]
    },
    {
     "name": "stderr",
     "output_type": "stream",
     "text": [
      "[*********************100%***********************]  1 of 1 completed\n"
     ]
    },
    {
     "name": "stdout",
     "output_type": "stream",
     "text": [
      "=> Downloading data for NKE from 2000-01-01 to 2019-12-31\n"
     ]
    },
    {
     "name": "stderr",
     "output_type": "stream",
     "text": [
      "[*********************100%***********************]  1 of 1 completed\n"
     ]
    },
    {
     "name": "stdout",
     "output_type": "stream",
     "text": [
      "=> Downloading data for NI from 2000-01-01 to 2019-12-31\n"
     ]
    },
    {
     "name": "stderr",
     "output_type": "stream",
     "text": [
      "[*********************100%***********************]  1 of 1 completed\n"
     ]
    },
    {
     "name": "stdout",
     "output_type": "stream",
     "text": [
      "=> Downloading data for NDSN from 2000-01-01 to 2019-12-31\n"
     ]
    },
    {
     "name": "stderr",
     "output_type": "stream",
     "text": [
      "[*********************100%***********************]  1 of 1 completed\n"
     ]
    },
    {
     "name": "stdout",
     "output_type": "stream",
     "text": [
      "=> Downloading data for NSC from 2000-01-01 to 2019-12-31\n"
     ]
    },
    {
     "name": "stderr",
     "output_type": "stream",
     "text": [
      "[*********************100%***********************]  1 of 1 completed\n"
     ]
    },
    {
     "name": "stdout",
     "output_type": "stream",
     "text": [
      "=> Downloading data for NTRS from 2000-01-01 to 2019-12-31\n"
     ]
    },
    {
     "name": "stderr",
     "output_type": "stream",
     "text": [
      "[*********************100%***********************]  1 of 1 completed\n"
     ]
    },
    {
     "name": "stdout",
     "output_type": "stream",
     "text": [
      "=> Downloading data for NOC from 2000-01-01 to 2019-12-31\n"
     ]
    },
    {
     "name": "stderr",
     "output_type": "stream",
     "text": [
      "[*********************100%***********************]  1 of 1 completed\n",
      "[*********************100%***********************]  1 of 1 completed\n"
     ]
    },
    {
     "name": "stdout",
     "output_type": "stream",
     "text": [
      "=> Downloading data for NCLH from 2000-01-01 to 2019-12-31\n",
      "=> Downloading data for NRG from 2000-01-01 to 2019-12-31\n"
     ]
    },
    {
     "name": "stderr",
     "output_type": "stream",
     "text": [
      "[*********************100%***********************]  1 of 1 completed\n"
     ]
    },
    {
     "name": "stdout",
     "output_type": "stream",
     "text": [
      "=> Downloading data for NUE from 2000-01-01 to 2019-12-31\n"
     ]
    },
    {
     "name": "stderr",
     "output_type": "stream",
     "text": [
      "[*********************100%***********************]  1 of 1 completed\n"
     ]
    },
    {
     "name": "stdout",
     "output_type": "stream",
     "text": [
      "=> Downloading data for NVDA from 2000-01-01 to 2019-12-31\n"
     ]
    },
    {
     "name": "stderr",
     "output_type": "stream",
     "text": [
      "[*********************100%***********************]  1 of 1 completed\n"
     ]
    },
    {
     "name": "stdout",
     "output_type": "stream",
     "text": [
      "=> Downloading data for NVR from 2000-01-01 to 2019-12-31\n"
     ]
    },
    {
     "name": "stderr",
     "output_type": "stream",
     "text": [
      "[*********************100%***********************]  1 of 1 completed\n"
     ]
    },
    {
     "name": "stdout",
     "output_type": "stream",
     "text": [
      "=> Downloading data for NXPI from 2000-01-01 to 2019-12-31\n"
     ]
    },
    {
     "name": "stderr",
     "output_type": "stream",
     "text": [
      "[*********************100%***********************]  1 of 1 completed\n"
     ]
    },
    {
     "name": "stdout",
     "output_type": "stream",
     "text": [
      "=> Downloading data for ORLY from 2000-01-01 to 2019-12-31\n"
     ]
    },
    {
     "name": "stderr",
     "output_type": "stream",
     "text": [
      "[*********************100%***********************]  1 of 1 completed\n"
     ]
    },
    {
     "name": "stdout",
     "output_type": "stream",
     "text": [
      "=> Downloading data for OXY from 2000-01-01 to 2019-12-31\n"
     ]
    },
    {
     "name": "stderr",
     "output_type": "stream",
     "text": [
      "[*********************100%***********************]  1 of 1 completed\n"
     ]
    },
    {
     "name": "stdout",
     "output_type": "stream",
     "text": [
      "=> Downloading data for ODFL from 2000-01-01 to 2019-12-31\n"
     ]
    },
    {
     "name": "stderr",
     "output_type": "stream",
     "text": [
      "[*********************100%***********************]  1 of 1 completed\n"
     ]
    },
    {
     "name": "stdout",
     "output_type": "stream",
     "text": [
      "=> Downloading data for OMC from 2000-01-01 to 2019-12-31\n"
     ]
    },
    {
     "name": "stderr",
     "output_type": "stream",
     "text": [
      "[*********************100%***********************]  1 of 1 completed\n"
     ]
    },
    {
     "name": "stdout",
     "output_type": "stream",
     "text": [
      "=> Downloading data for ON from 2000-01-01 to 2019-12-31\n"
     ]
    },
    {
     "name": "stderr",
     "output_type": "stream",
     "text": [
      "[*********************100%***********************]  1 of 1 completed\n"
     ]
    },
    {
     "name": "stdout",
     "output_type": "stream",
     "text": [
      "=> Downloading data for OKE from 2000-01-01 to 2019-12-31\n"
     ]
    },
    {
     "name": "stderr",
     "output_type": "stream",
     "text": [
      "[*********************100%***********************]  1 of 1 completed\n"
     ]
    },
    {
     "name": "stdout",
     "output_type": "stream",
     "text": [
      "=> Downloading data for ORCL from 2000-01-01 to 2019-12-31\n"
     ]
    },
    {
     "name": "stderr",
     "output_type": "stream",
     "text": [
      "[*********************100%***********************]  1 of 1 completed\n"
     ]
    },
    {
     "name": "stdout",
     "output_type": "stream",
     "text": [
      "=> Downloading data for OTIS from 2000-01-01 to 2019-12-31\n"
     ]
    },
    {
     "name": "stderr",
     "output_type": "stream",
     "text": [
      "[*********************100%***********************]  1 of 1 completed\n",
      "\n",
      "1 Failed download:\n",
      "['OTIS']: YFPricesMissingError('possibly delisted; no price data found  (1d 2000-01-01 -> 2019-12-31) (Yahoo error = \"Data doesn\\'t exist for startDate = 946702800, endDate = 1577768400\")')\n"
     ]
    },
    {
     "name": "stdout",
     "output_type": "stream",
     "text": [
      "Error downloading data for OTIS: No data for OTIS in 2000-01-01–2019-12-31\n",
      "=> Downloading data for PCAR from 2000-01-01 to 2019-12-31\n"
     ]
    },
    {
     "name": "stderr",
     "output_type": "stream",
     "text": [
      "[*********************100%***********************]  1 of 1 completed\n"
     ]
    },
    {
     "name": "stdout",
     "output_type": "stream",
     "text": [
      "=> Downloading data for PKG from 2000-01-01 to 2019-12-31\n"
     ]
    },
    {
     "name": "stderr",
     "output_type": "stream",
     "text": [
      "[*********************100%***********************]  1 of 1 completed\n"
     ]
    },
    {
     "name": "stdout",
     "output_type": "stream",
     "text": [
      "=> Downloading data for PLTR from 2000-01-01 to 2019-12-31\n"
     ]
    },
    {
     "name": "stderr",
     "output_type": "stream",
     "text": [
      "[*********************100%***********************]  1 of 1 completed\n",
      "\n",
      "1 Failed download:\n",
      "['PLTR']: YFPricesMissingError('possibly delisted; no price data found  (1d 2000-01-01 -> 2019-12-31) (Yahoo error = \"Data doesn\\'t exist for startDate = 946702800, endDate = 1577768400\")')\n"
     ]
    },
    {
     "name": "stdout",
     "output_type": "stream",
     "text": [
      "Error downloading data for PLTR: No data for PLTR in 2000-01-01–2019-12-31\n",
      "=> Downloading data for PANW from 2000-01-01 to 2019-12-31\n"
     ]
    },
    {
     "name": "stderr",
     "output_type": "stream",
     "text": [
      "[*********************100%***********************]  1 of 1 completed\n"
     ]
    },
    {
     "name": "stdout",
     "output_type": "stream",
     "text": [
      "=> Downloading data for PARA from 2000-01-01 to 2019-12-31\n"
     ]
    },
    {
     "name": "stderr",
     "output_type": "stream",
     "text": [
      "[*********************100%***********************]  1 of 1 completed\n"
     ]
    },
    {
     "name": "stdout",
     "output_type": "stream",
     "text": [
      "=> Downloading data for PH from 2000-01-01 to 2019-12-31\n"
     ]
    },
    {
     "name": "stderr",
     "output_type": "stream",
     "text": [
      "[*********************100%***********************]  1 of 1 completed\n"
     ]
    },
    {
     "name": "stdout",
     "output_type": "stream",
     "text": [
      "=> Downloading data for PAYX from 2000-01-01 to 2019-12-31\n"
     ]
    },
    {
     "name": "stderr",
     "output_type": "stream",
     "text": [
      "[*********************100%***********************]  1 of 1 completed\n",
      "[*********************100%***********************]  1 of 1 completed\n"
     ]
    },
    {
     "name": "stdout",
     "output_type": "stream",
     "text": [
      "=> Downloading data for PAYC from 2000-01-01 to 2019-12-31\n",
      "=> Downloading data for PYPL from 2000-01-01 to 2019-12-31\n"
     ]
    },
    {
     "name": "stderr",
     "output_type": "stream",
     "text": [
      "[*********************100%***********************]  1 of 1 completed\n"
     ]
    },
    {
     "name": "stdout",
     "output_type": "stream",
     "text": [
      "=> Downloading data for PNR from 2000-01-01 to 2019-12-31\n"
     ]
    },
    {
     "name": "stderr",
     "output_type": "stream",
     "text": [
      "[*********************100%***********************]  1 of 1 completed\n"
     ]
    },
    {
     "name": "stdout",
     "output_type": "stream",
     "text": [
      "=> Downloading data for PEP from 2000-01-01 to 2019-12-31\n"
     ]
    },
    {
     "name": "stderr",
     "output_type": "stream",
     "text": [
      "[*********************100%***********************]  1 of 1 completed\n"
     ]
    },
    {
     "name": "stdout",
     "output_type": "stream",
     "text": [
      "=> Downloading data for PFE from 2000-01-01 to 2019-12-31\n"
     ]
    },
    {
     "name": "stderr",
     "output_type": "stream",
     "text": [
      "[*********************100%***********************]  1 of 1 completed\n"
     ]
    },
    {
     "name": "stdout",
     "output_type": "stream",
     "text": [
      "=> Downloading data for PCG from 2000-01-01 to 2019-12-31\n"
     ]
    },
    {
     "name": "stderr",
     "output_type": "stream",
     "text": [
      "[*********************100%***********************]  1 of 1 completed\n"
     ]
    },
    {
     "name": "stdout",
     "output_type": "stream",
     "text": [
      "=> Downloading data for PM from 2000-01-01 to 2019-12-31\n"
     ]
    },
    {
     "name": "stderr",
     "output_type": "stream",
     "text": [
      "[*********************100%***********************]  1 of 1 completed\n",
      "[*********************100%***********************]  1 of 1 completed\n"
     ]
    },
    {
     "name": "stdout",
     "output_type": "stream",
     "text": [
      "=> Downloading data for PSX from 2000-01-01 to 2019-12-31\n",
      "=> Downloading data for PNW from 2000-01-01 to 2019-12-31\n"
     ]
    },
    {
     "name": "stderr",
     "output_type": "stream",
     "text": [
      "[*********************100%***********************]  1 of 1 completed\n"
     ]
    },
    {
     "name": "stdout",
     "output_type": "stream",
     "text": [
      "=> Downloading data for PNC from 2000-01-01 to 2019-12-31\n"
     ]
    },
    {
     "name": "stderr",
     "output_type": "stream",
     "text": [
      "[*********************100%***********************]  1 of 1 completed\n"
     ]
    },
    {
     "name": "stdout",
     "output_type": "stream",
     "text": [
      "=> Downloading data for POOL from 2000-01-01 to 2019-12-31\n"
     ]
    },
    {
     "name": "stderr",
     "output_type": "stream",
     "text": [
      "[*********************100%***********************]  1 of 1 completed\n"
     ]
    },
    {
     "name": "stdout",
     "output_type": "stream",
     "text": [
      "=> Downloading data for PPG from 2000-01-01 to 2019-12-31\n"
     ]
    },
    {
     "name": "stderr",
     "output_type": "stream",
     "text": [
      "[*********************100%***********************]  1 of 1 completed\n"
     ]
    },
    {
     "name": "stdout",
     "output_type": "stream",
     "text": [
      "=> Downloading data for PPL from 2000-01-01 to 2019-12-31\n"
     ]
    },
    {
     "name": "stderr",
     "output_type": "stream",
     "text": [
      "[*********************100%***********************]  1 of 1 completed\n"
     ]
    },
    {
     "name": "stdout",
     "output_type": "stream",
     "text": [
      "=> Downloading data for PFG from 2000-01-01 to 2019-12-31\n"
     ]
    },
    {
     "name": "stderr",
     "output_type": "stream",
     "text": [
      "[*********************100%***********************]  1 of 1 completed\n"
     ]
    },
    {
     "name": "stdout",
     "output_type": "stream",
     "text": [
      "=> Downloading data for PG from 2000-01-01 to 2019-12-31\n"
     ]
    },
    {
     "name": "stderr",
     "output_type": "stream",
     "text": [
      "[*********************100%***********************]  1 of 1 completed\n"
     ]
    },
    {
     "name": "stdout",
     "output_type": "stream",
     "text": [
      "=> Downloading data for PGR from 2000-01-01 to 2019-12-31\n"
     ]
    },
    {
     "name": "stderr",
     "output_type": "stream",
     "text": [
      "[*********************100%***********************]  1 of 1 completed\n"
     ]
    },
    {
     "name": "stdout",
     "output_type": "stream",
     "text": [
      "=> Downloading data for PLD from 2000-01-01 to 2019-12-31\n"
     ]
    },
    {
     "name": "stderr",
     "output_type": "stream",
     "text": [
      "[*********************100%***********************]  1 of 1 completed\n"
     ]
    },
    {
     "name": "stdout",
     "output_type": "stream",
     "text": [
      "=> Downloading data for PRU from 2000-01-01 to 2019-12-31\n"
     ]
    },
    {
     "name": "stderr",
     "output_type": "stream",
     "text": [
      "[*********************100%***********************]  1 of 1 completed\n"
     ]
    },
    {
     "name": "stdout",
     "output_type": "stream",
     "text": [
      "=> Downloading data for PEG from 2000-01-01 to 2019-12-31\n"
     ]
    },
    {
     "name": "stderr",
     "output_type": "stream",
     "text": [
      "[*********************100%***********************]  1 of 1 completed\n"
     ]
    },
    {
     "name": "stdout",
     "output_type": "stream",
     "text": [
      "=> Downloading data for PTC from 2000-01-01 to 2019-12-31\n"
     ]
    },
    {
     "name": "stderr",
     "output_type": "stream",
     "text": [
      "[*********************100%***********************]  1 of 1 completed\n"
     ]
    },
    {
     "name": "stdout",
     "output_type": "stream",
     "text": [
      "=> Downloading data for PSA from 2000-01-01 to 2019-12-31\n"
     ]
    },
    {
     "name": "stderr",
     "output_type": "stream",
     "text": [
      "[*********************100%***********************]  1 of 1 completed\n"
     ]
    },
    {
     "name": "stdout",
     "output_type": "stream",
     "text": [
      "=> Downloading data for PHM from 2000-01-01 to 2019-12-31\n"
     ]
    },
    {
     "name": "stderr",
     "output_type": "stream",
     "text": [
      "[*********************100%***********************]  1 of 1 completed\n"
     ]
    },
    {
     "name": "stdout",
     "output_type": "stream",
     "text": [
      "=> Downloading data for PWR from 2000-01-01 to 2019-12-31\n"
     ]
    },
    {
     "name": "stderr",
     "output_type": "stream",
     "text": [
      "[*********************100%***********************]  1 of 1 completed\n"
     ]
    },
    {
     "name": "stdout",
     "output_type": "stream",
     "text": [
      "=> Downloading data for QCOM from 2000-01-01 to 2019-12-31\n"
     ]
    },
    {
     "name": "stderr",
     "output_type": "stream",
     "text": [
      "[*********************100%***********************]  1 of 1 completed\n"
     ]
    },
    {
     "name": "stdout",
     "output_type": "stream",
     "text": [
      "=> Downloading data for DGX from 2000-01-01 to 2019-12-31\n"
     ]
    },
    {
     "name": "stderr",
     "output_type": "stream",
     "text": [
      "[*********************100%***********************]  1 of 1 completed\n"
     ]
    },
    {
     "name": "stdout",
     "output_type": "stream",
     "text": [
      "=> Downloading data for RL from 2000-01-01 to 2019-12-31\n"
     ]
    },
    {
     "name": "stderr",
     "output_type": "stream",
     "text": [
      "[*********************100%***********************]  1 of 1 completed\n"
     ]
    },
    {
     "name": "stdout",
     "output_type": "stream",
     "text": [
      "=> Downloading data for RJF from 2000-01-01 to 2019-12-31\n"
     ]
    },
    {
     "name": "stderr",
     "output_type": "stream",
     "text": [
      "[*********************100%***********************]  1 of 1 completed\n"
     ]
    },
    {
     "name": "stdout",
     "output_type": "stream",
     "text": [
      "=> Downloading data for RTX from 2000-01-01 to 2019-12-31\n"
     ]
    },
    {
     "name": "stderr",
     "output_type": "stream",
     "text": [
      "[*********************100%***********************]  1 of 1 completed\n"
     ]
    },
    {
     "name": "stdout",
     "output_type": "stream",
     "text": [
      "=> Downloading data for O from 2000-01-01 to 2019-12-31\n"
     ]
    },
    {
     "name": "stderr",
     "output_type": "stream",
     "text": [
      "[*********************100%***********************]  1 of 1 completed\n"
     ]
    },
    {
     "name": "stdout",
     "output_type": "stream",
     "text": [
      "=> Downloading data for REG from 2000-01-01 to 2019-12-31\n"
     ]
    },
    {
     "name": "stderr",
     "output_type": "stream",
     "text": [
      "[*********************100%***********************]  1 of 1 completed\n"
     ]
    },
    {
     "name": "stdout",
     "output_type": "stream",
     "text": [
      "=> Downloading data for REGN from 2000-01-01 to 2019-12-31\n"
     ]
    },
    {
     "name": "stderr",
     "output_type": "stream",
     "text": [
      "[*********************100%***********************]  1 of 1 completed\n"
     ]
    },
    {
     "name": "stdout",
     "output_type": "stream",
     "text": [
      "=> Downloading data for RF from 2000-01-01 to 2019-12-31\n"
     ]
    },
    {
     "name": "stderr",
     "output_type": "stream",
     "text": [
      "[*********************100%***********************]  1 of 1 completed\n"
     ]
    },
    {
     "name": "stdout",
     "output_type": "stream",
     "text": [
      "=> Downloading data for RSG from 2000-01-01 to 2019-12-31\n"
     ]
    },
    {
     "name": "stderr",
     "output_type": "stream",
     "text": [
      "[*********************100%***********************]  1 of 1 completed\n"
     ]
    },
    {
     "name": "stdout",
     "output_type": "stream",
     "text": [
      "=> Downloading data for RMD from 2000-01-01 to 2019-12-31\n"
     ]
    },
    {
     "name": "stderr",
     "output_type": "stream",
     "text": [
      "[*********************100%***********************]  1 of 1 completed\n"
     ]
    },
    {
     "name": "stdout",
     "output_type": "stream",
     "text": [
      "=> Downloading data for RVTY from 2000-01-01 to 2019-12-31\n"
     ]
    },
    {
     "name": "stderr",
     "output_type": "stream",
     "text": [
      "[*********************100%***********************]  1 of 1 completed\n"
     ]
    },
    {
     "name": "stdout",
     "output_type": "stream",
     "text": [
      "=> Downloading data for ROK from 2000-01-01 to 2019-12-31\n"
     ]
    },
    {
     "name": "stderr",
     "output_type": "stream",
     "text": [
      "[*********************100%***********************]  1 of 1 completed\n"
     ]
    },
    {
     "name": "stdout",
     "output_type": "stream",
     "text": [
      "=> Downloading data for ROL from 2000-01-01 to 2019-12-31\n"
     ]
    },
    {
     "name": "stderr",
     "output_type": "stream",
     "text": [
      "[*********************100%***********************]  1 of 1 completed\n"
     ]
    },
    {
     "name": "stdout",
     "output_type": "stream",
     "text": [
      "=> Downloading data for ROP from 2000-01-01 to 2019-12-31\n"
     ]
    },
    {
     "name": "stderr",
     "output_type": "stream",
     "text": [
      "[*********************100%***********************]  1 of 1 completed\n"
     ]
    },
    {
     "name": "stdout",
     "output_type": "stream",
     "text": [
      "=> Downloading data for ROST from 2000-01-01 to 2019-12-31\n"
     ]
    },
    {
     "name": "stderr",
     "output_type": "stream",
     "text": [
      "[*********************100%***********************]  1 of 1 completed\n"
     ]
    },
    {
     "name": "stdout",
     "output_type": "stream",
     "text": [
      "=> Downloading data for RCL from 2000-01-01 to 2019-12-31\n"
     ]
    },
    {
     "name": "stderr",
     "output_type": "stream",
     "text": [
      "[*********************100%***********************]  1 of 1 completed\n"
     ]
    },
    {
     "name": "stdout",
     "output_type": "stream",
     "text": [
      "=> Downloading data for SPGI from 2000-01-01 to 2019-12-31\n"
     ]
    },
    {
     "name": "stderr",
     "output_type": "stream",
     "text": [
      "[*********************100%***********************]  1 of 1 completed\n"
     ]
    },
    {
     "name": "stdout",
     "output_type": "stream",
     "text": [
      "=> Downloading data for CRM from 2000-01-01 to 2019-12-31\n"
     ]
    },
    {
     "name": "stderr",
     "output_type": "stream",
     "text": [
      "[*********************100%***********************]  1 of 1 completed\n"
     ]
    },
    {
     "name": "stdout",
     "output_type": "stream",
     "text": [
      "=> Downloading data for SBAC from 2000-01-01 to 2019-12-31\n"
     ]
    },
    {
     "name": "stderr",
     "output_type": "stream",
     "text": [
      "[*********************100%***********************]  1 of 1 completed\n"
     ]
    },
    {
     "name": "stdout",
     "output_type": "stream",
     "text": [
      "=> Downloading data for SLB from 2000-01-01 to 2019-12-31\n"
     ]
    },
    {
     "name": "stderr",
     "output_type": "stream",
     "text": [
      "[*********************100%***********************]  1 of 1 completed\n"
     ]
    },
    {
     "name": "stdout",
     "output_type": "stream",
     "text": [
      "=> Downloading data for STX from 2000-01-01 to 2019-12-31\n"
     ]
    },
    {
     "name": "stderr",
     "output_type": "stream",
     "text": [
      "[*********************100%***********************]  1 of 1 completed\n"
     ]
    },
    {
     "name": "stdout",
     "output_type": "stream",
     "text": [
      "=> Downloading data for SRE from 2000-01-01 to 2019-12-31\n"
     ]
    },
    {
     "name": "stderr",
     "output_type": "stream",
     "text": [
      "[*********************100%***********************]  1 of 1 completed\n"
     ]
    },
    {
     "name": "stdout",
     "output_type": "stream",
     "text": [
      "=> Downloading data for NOW from 2000-01-01 to 2019-12-31\n"
     ]
    },
    {
     "name": "stderr",
     "output_type": "stream",
     "text": [
      "[*********************100%***********************]  1 of 1 completed\n"
     ]
    },
    {
     "name": "stdout",
     "output_type": "stream",
     "text": [
      "=> Downloading data for SHW from 2000-01-01 to 2019-12-31\n"
     ]
    },
    {
     "name": "stderr",
     "output_type": "stream",
     "text": [
      "[*********************100%***********************]  1 of 1 completed\n"
     ]
    },
    {
     "name": "stdout",
     "output_type": "stream",
     "text": [
      "=> Downloading data for SPG from 2000-01-01 to 2019-12-31\n"
     ]
    },
    {
     "name": "stderr",
     "output_type": "stream",
     "text": [
      "[*********************100%***********************]  1 of 1 completed\n"
     ]
    },
    {
     "name": "stdout",
     "output_type": "stream",
     "text": [
      "=> Downloading data for SWKS from 2000-01-01 to 2019-12-31\n"
     ]
    },
    {
     "name": "stderr",
     "output_type": "stream",
     "text": [
      "[*********************100%***********************]  1 of 1 completed\n"
     ]
    },
    {
     "name": "stdout",
     "output_type": "stream",
     "text": [
      "=> Downloading data for SJM from 2000-01-01 to 2019-12-31\n"
     ]
    },
    {
     "name": "stderr",
     "output_type": "stream",
     "text": [
      "[*********************100%***********************]  1 of 1 completed\n"
     ]
    },
    {
     "name": "stdout",
     "output_type": "stream",
     "text": [
      "=> Downloading data for SW from 2000-01-01 to 2019-12-31\n"
     ]
    },
    {
     "name": "stderr",
     "output_type": "stream",
     "text": [
      "[*********************100%***********************]  1 of 1 completed\n",
      "\n",
      "1 Failed download:\n",
      "['SW']: YFPricesMissingError('possibly delisted; no price data found  (1d 2000-01-01 -> 2019-12-31) (Yahoo error = \"Data doesn\\'t exist for startDate = 946702800, endDate = 1577768400\")')\n"
     ]
    },
    {
     "name": "stdout",
     "output_type": "stream",
     "text": [
      "Error downloading data for SW: No data for SW in 2000-01-01–2019-12-31\n",
      "=> Downloading data for SNA from 2000-01-01 to 2019-12-31\n"
     ]
    },
    {
     "name": "stderr",
     "output_type": "stream",
     "text": [
      "[*********************100%***********************]  1 of 1 completed\n"
     ]
    },
    {
     "name": "stdout",
     "output_type": "stream",
     "text": [
      "=> Downloading data for SOLV from 2000-01-01 to 2019-12-31\n"
     ]
    },
    {
     "name": "stderr",
     "output_type": "stream",
     "text": [
      "[*********************100%***********************]  1 of 1 completed\n",
      "\n",
      "1 Failed download:\n",
      "['SOLV']: YFPricesMissingError('possibly delisted; no price data found  (1d 2000-01-01 -> 2019-12-31) (Yahoo error = \"Data doesn\\'t exist for startDate = 946702800, endDate = 1577768400\")')\n"
     ]
    },
    {
     "name": "stdout",
     "output_type": "stream",
     "text": [
      "Error downloading data for SOLV: No data for SOLV in 2000-01-01–2019-12-31\n",
      "=> Downloading data for SO from 2000-01-01 to 2019-12-31\n"
     ]
    },
    {
     "name": "stderr",
     "output_type": "stream",
     "text": [
      "[*********************100%***********************]  1 of 1 completed\n"
     ]
    },
    {
     "name": "stdout",
     "output_type": "stream",
     "text": [
      "=> Downloading data for LUV from 2000-01-01 to 2019-12-31\n"
     ]
    },
    {
     "name": "stderr",
     "output_type": "stream",
     "text": [
      "[*********************100%***********************]  1 of 1 completed\n"
     ]
    },
    {
     "name": "stdout",
     "output_type": "stream",
     "text": [
      "=> Downloading data for SWK from 2000-01-01 to 2019-12-31\n"
     ]
    },
    {
     "name": "stderr",
     "output_type": "stream",
     "text": [
      "[*********************100%***********************]  1 of 1 completed\n"
     ]
    },
    {
     "name": "stdout",
     "output_type": "stream",
     "text": [
      "=> Downloading data for SBUX from 2000-01-01 to 2019-12-31\n"
     ]
    },
    {
     "name": "stderr",
     "output_type": "stream",
     "text": [
      "[*********************100%***********************]  1 of 1 completed\n"
     ]
    },
    {
     "name": "stdout",
     "output_type": "stream",
     "text": [
      "=> Downloading data for STT from 2000-01-01 to 2019-12-31\n"
     ]
    },
    {
     "name": "stderr",
     "output_type": "stream",
     "text": [
      "[*********************100%***********************]  1 of 1 completed\n"
     ]
    },
    {
     "name": "stdout",
     "output_type": "stream",
     "text": [
      "=> Downloading data for STLD from 2000-01-01 to 2019-12-31\n"
     ]
    },
    {
     "name": "stderr",
     "output_type": "stream",
     "text": [
      "[*********************100%***********************]  1 of 1 completed\n"
     ]
    },
    {
     "name": "stdout",
     "output_type": "stream",
     "text": [
      "=> Downloading data for STE from 2000-01-01 to 2019-12-31\n"
     ]
    },
    {
     "name": "stderr",
     "output_type": "stream",
     "text": [
      "[*********************100%***********************]  1 of 1 completed\n"
     ]
    },
    {
     "name": "stdout",
     "output_type": "stream",
     "text": [
      "=> Downloading data for SYK from 2000-01-01 to 2019-12-31\n"
     ]
    },
    {
     "name": "stderr",
     "output_type": "stream",
     "text": [
      "[*********************100%***********************]  1 of 1 completed\n"
     ]
    },
    {
     "name": "stdout",
     "output_type": "stream",
     "text": [
      "=> Downloading data for SMCI from 2000-01-01 to 2019-12-31\n"
     ]
    },
    {
     "name": "stderr",
     "output_type": "stream",
     "text": [
      "[*********************100%***********************]  1 of 1 completed\n"
     ]
    },
    {
     "name": "stdout",
     "output_type": "stream",
     "text": [
      "=> Downloading data for SYF from 2000-01-01 to 2019-12-31\n"
     ]
    },
    {
     "name": "stderr",
     "output_type": "stream",
     "text": [
      "[*********************100%***********************]  1 of 1 completed\n"
     ]
    },
    {
     "name": "stdout",
     "output_type": "stream",
     "text": [
      "=> Downloading data for SNPS from 2000-01-01 to 2019-12-31\n"
     ]
    },
    {
     "name": "stderr",
     "output_type": "stream",
     "text": [
      "[*********************100%***********************]  1 of 1 completed\n"
     ]
    },
    {
     "name": "stdout",
     "output_type": "stream",
     "text": [
      "=> Downloading data for SYY from 2000-01-01 to 2019-12-31\n"
     ]
    },
    {
     "name": "stderr",
     "output_type": "stream",
     "text": [
      "[*********************100%***********************]  1 of 1 completed\n"
     ]
    },
    {
     "name": "stdout",
     "output_type": "stream",
     "text": [
      "=> Downloading data for TMUS from 2000-01-01 to 2019-12-31\n"
     ]
    },
    {
     "name": "stderr",
     "output_type": "stream",
     "text": [
      "[*********************100%***********************]  1 of 1 completed\n"
     ]
    },
    {
     "name": "stdout",
     "output_type": "stream",
     "text": [
      "=> Downloading data for TROW from 2000-01-01 to 2019-12-31\n"
     ]
    },
    {
     "name": "stderr",
     "output_type": "stream",
     "text": [
      "[*********************100%***********************]  1 of 1 completed\n"
     ]
    },
    {
     "name": "stdout",
     "output_type": "stream",
     "text": [
      "=> Downloading data for TTWO from 2000-01-01 to 2019-12-31\n"
     ]
    },
    {
     "name": "stderr",
     "output_type": "stream",
     "text": [
      "[*********************100%***********************]  1 of 1 completed\n"
     ]
    },
    {
     "name": "stdout",
     "output_type": "stream",
     "text": [
      "=> Downloading data for TPR from 2000-01-01 to 2019-12-31\n"
     ]
    },
    {
     "name": "stderr",
     "output_type": "stream",
     "text": [
      "[*********************100%***********************]  1 of 1 completed\n",
      "[*********************100%***********************]  1 of 1 completed\n"
     ]
    },
    {
     "name": "stdout",
     "output_type": "stream",
     "text": [
      "=> Downloading data for TRGP from 2000-01-01 to 2019-12-31\n",
      "=> Downloading data for TGT from 2000-01-01 to 2019-12-31\n"
     ]
    },
    {
     "name": "stderr",
     "output_type": "stream",
     "text": [
      "[*********************100%***********************]  1 of 1 completed\n"
     ]
    },
    {
     "name": "stdout",
     "output_type": "stream",
     "text": [
      "=> Downloading data for TEL from 2000-01-01 to 2019-12-31\n"
     ]
    },
    {
     "name": "stderr",
     "output_type": "stream",
     "text": [
      "[*********************100%***********************]  1 of 1 completed\n"
     ]
    },
    {
     "name": "stdout",
     "output_type": "stream",
     "text": [
      "=> Downloading data for TDY from 2000-01-01 to 2019-12-31\n"
     ]
    },
    {
     "name": "stderr",
     "output_type": "stream",
     "text": [
      "[*********************100%***********************]  1 of 1 completed\n"
     ]
    },
    {
     "name": "stdout",
     "output_type": "stream",
     "text": [
      "=> Downloading data for TER from 2000-01-01 to 2019-12-31\n"
     ]
    },
    {
     "name": "stderr",
     "output_type": "stream",
     "text": [
      "[*********************100%***********************]  1 of 1 completed\n"
     ]
    },
    {
     "name": "stdout",
     "output_type": "stream",
     "text": [
      "=> Downloading data for TSLA from 2000-01-01 to 2019-12-31\n"
     ]
    },
    {
     "name": "stderr",
     "output_type": "stream",
     "text": [
      "[*********************100%***********************]  1 of 1 completed\n"
     ]
    },
    {
     "name": "stdout",
     "output_type": "stream",
     "text": [
      "=> Downloading data for TXN from 2000-01-01 to 2019-12-31\n"
     ]
    },
    {
     "name": "stderr",
     "output_type": "stream",
     "text": [
      "[*********************100%***********************]  1 of 1 completed\n"
     ]
    },
    {
     "name": "stdout",
     "output_type": "stream",
     "text": [
      "=> Downloading data for TPL from 2000-01-01 to 2019-12-31\n"
     ]
    },
    {
     "name": "stderr",
     "output_type": "stream",
     "text": [
      "[*********************100%***********************]  1 of 1 completed\n"
     ]
    },
    {
     "name": "stdout",
     "output_type": "stream",
     "text": [
      "=> Downloading data for TXT from 2000-01-01 to 2019-12-31\n"
     ]
    },
    {
     "name": "stderr",
     "output_type": "stream",
     "text": [
      "[*********************100%***********************]  1 of 1 completed\n"
     ]
    },
    {
     "name": "stdout",
     "output_type": "stream",
     "text": [
      "=> Downloading data for TMO from 2000-01-01 to 2019-12-31\n"
     ]
    },
    {
     "name": "stderr",
     "output_type": "stream",
     "text": [
      "[*********************100%***********************]  1 of 1 completed\n"
     ]
    },
    {
     "name": "stdout",
     "output_type": "stream",
     "text": [
      "=> Downloading data for TJX from 2000-01-01 to 2019-12-31\n"
     ]
    },
    {
     "name": "stderr",
     "output_type": "stream",
     "text": [
      "[*********************100%***********************]  1 of 1 completed\n"
     ]
    },
    {
     "name": "stdout",
     "output_type": "stream",
     "text": [
      "=> Downloading data for TKO from 2000-01-01 to 2019-12-31\n"
     ]
    },
    {
     "name": "stderr",
     "output_type": "stream",
     "text": [
      "[*********************100%***********************]  1 of 1 completed\n"
     ]
    },
    {
     "name": "stdout",
     "output_type": "stream",
     "text": [
      "=> Downloading data for TSCO from 2000-01-01 to 2019-12-31\n"
     ]
    },
    {
     "name": "stderr",
     "output_type": "stream",
     "text": [
      "[*********************100%***********************]  1 of 1 completed\n"
     ]
    },
    {
     "name": "stdout",
     "output_type": "stream",
     "text": [
      "=> Downloading data for TT from 2000-01-01 to 2019-12-31\n"
     ]
    },
    {
     "name": "stderr",
     "output_type": "stream",
     "text": [
      "[*********************100%***********************]  1 of 1 completed\n"
     ]
    },
    {
     "name": "stdout",
     "output_type": "stream",
     "text": [
      "=> Downloading data for TDG from 2000-01-01 to 2019-12-31\n"
     ]
    },
    {
     "name": "stderr",
     "output_type": "stream",
     "text": [
      "[*********************100%***********************]  1 of 1 completed\n"
     ]
    },
    {
     "name": "stdout",
     "output_type": "stream",
     "text": [
      "=> Downloading data for TRV from 2000-01-01 to 2019-12-31\n"
     ]
    },
    {
     "name": "stderr",
     "output_type": "stream",
     "text": [
      "[*********************100%***********************]  1 of 1 completed\n",
      "[*********************100%***********************]  1 of 1 completed"
     ]
    },
    {
     "name": "stdout",
     "output_type": "stream",
     "text": [
      "=> Downloading data for TRMB from 2000-01-01 to 2019-12-31\n"
     ]
    },
    {
     "name": "stderr",
     "output_type": "stream",
     "text": [
      "\n"
     ]
    },
    {
     "name": "stdout",
     "output_type": "stream",
     "text": [
      "=> Downloading data for TFC from 2000-01-01 to 2019-12-31\n"
     ]
    },
    {
     "name": "stderr",
     "output_type": "stream",
     "text": [
      "[*********************100%***********************]  1 of 1 completed\n"
     ]
    },
    {
     "name": "stdout",
     "output_type": "stream",
     "text": [
      "=> Downloading data for TYL from 2000-01-01 to 2019-12-31\n"
     ]
    },
    {
     "name": "stderr",
     "output_type": "stream",
     "text": [
      "[*********************100%***********************]  1 of 1 completed\n"
     ]
    },
    {
     "name": "stdout",
     "output_type": "stream",
     "text": [
      "=> Downloading data for TSN from 2000-01-01 to 2019-12-31\n"
     ]
    },
    {
     "name": "stderr",
     "output_type": "stream",
     "text": [
      "[*********************100%***********************]  1 of 1 completed\n"
     ]
    },
    {
     "name": "stdout",
     "output_type": "stream",
     "text": [
      "=> Downloading data for USB from 2000-01-01 to 2019-12-31\n"
     ]
    },
    {
     "name": "stderr",
     "output_type": "stream",
     "text": [
      "[*********************100%***********************]  1 of 1 completed\n",
      "[*********************100%***********************]  1 of 1 completed\n"
     ]
    },
    {
     "name": "stdout",
     "output_type": "stream",
     "text": [
      "=> Downloading data for UBER from 2000-01-01 to 2019-12-31\n",
      "=> Downloading data for UDR from 2000-01-01 to 2019-12-31\n"
     ]
    },
    {
     "name": "stderr",
     "output_type": "stream",
     "text": [
      "[*********************100%***********************]  1 of 1 completed\n",
      "[*********************100%***********************]  1 of 1 completed\n"
     ]
    },
    {
     "name": "stdout",
     "output_type": "stream",
     "text": [
      "=> Downloading data for ULTA from 2000-01-01 to 2019-12-31\n",
      "=> Downloading data for UNP from 2000-01-01 to 2019-12-31\n"
     ]
    },
    {
     "name": "stderr",
     "output_type": "stream",
     "text": [
      "[*********************100%***********************]  1 of 1 completed\n"
     ]
    },
    {
     "name": "stdout",
     "output_type": "stream",
     "text": [
      "=> Downloading data for UAL from 2000-01-01 to 2019-12-31\n"
     ]
    },
    {
     "name": "stderr",
     "output_type": "stream",
     "text": [
      "[*********************100%***********************]  1 of 1 completed\n"
     ]
    },
    {
     "name": "stdout",
     "output_type": "stream",
     "text": [
      "=> Downloading data for UPS from 2000-01-01 to 2019-12-31\n"
     ]
    },
    {
     "name": "stderr",
     "output_type": "stream",
     "text": [
      "[*********************100%***********************]  1 of 1 completed\n"
     ]
    },
    {
     "name": "stdout",
     "output_type": "stream",
     "text": [
      "=> Downloading data for URI from 2000-01-01 to 2019-12-31\n"
     ]
    },
    {
     "name": "stderr",
     "output_type": "stream",
     "text": [
      "[*********************100%***********************]  1 of 1 completed\n"
     ]
    },
    {
     "name": "stdout",
     "output_type": "stream",
     "text": [
      "=> Downloading data for UNH from 2000-01-01 to 2019-12-31\n"
     ]
    },
    {
     "name": "stderr",
     "output_type": "stream",
     "text": [
      "[*********************100%***********************]  1 of 1 completed\n"
     ]
    },
    {
     "name": "stdout",
     "output_type": "stream",
     "text": [
      "=> Downloading data for UHS from 2000-01-01 to 2019-12-31\n"
     ]
    },
    {
     "name": "stderr",
     "output_type": "stream",
     "text": [
      "[*********************100%***********************]  1 of 1 completed\n"
     ]
    },
    {
     "name": "stdout",
     "output_type": "stream",
     "text": [
      "=> Downloading data for VLO from 2000-01-01 to 2019-12-31\n"
     ]
    },
    {
     "name": "stderr",
     "output_type": "stream",
     "text": [
      "[*********************100%***********************]  1 of 1 completed\n"
     ]
    },
    {
     "name": "stdout",
     "output_type": "stream",
     "text": [
      "=> Downloading data for VTR from 2000-01-01 to 2019-12-31\n"
     ]
    },
    {
     "name": "stderr",
     "output_type": "stream",
     "text": [
      "[*********************100%***********************]  1 of 1 completed\n"
     ]
    },
    {
     "name": "stdout",
     "output_type": "stream",
     "text": [
      "=> Downloading data for VLTO from 2000-01-01 to 2019-12-31\n"
     ]
    },
    {
     "name": "stderr",
     "output_type": "stream",
     "text": [
      "[*********************100%***********************]  1 of 1 completed\n",
      "\n",
      "1 Failed download:\n",
      "['VLTO']: YFPricesMissingError('possibly delisted; no price data found  (1d 2000-01-01 -> 2019-12-31) (Yahoo error = \"Data doesn\\'t exist for startDate = 946702800, endDate = 1577768400\")')\n"
     ]
    },
    {
     "name": "stdout",
     "output_type": "stream",
     "text": [
      "Error downloading data for VLTO: No data for VLTO in 2000-01-01–2019-12-31\n",
      "=> Downloading data for VRSN from 2000-01-01 to 2019-12-31\n"
     ]
    },
    {
     "name": "stderr",
     "output_type": "stream",
     "text": [
      "[*********************100%***********************]  1 of 1 completed\n"
     ]
    },
    {
     "name": "stdout",
     "output_type": "stream",
     "text": [
      "=> Downloading data for VRSK from 2000-01-01 to 2019-12-31\n"
     ]
    },
    {
     "name": "stderr",
     "output_type": "stream",
     "text": [
      "[*********************100%***********************]  1 of 1 completed\n"
     ]
    },
    {
     "name": "stdout",
     "output_type": "stream",
     "text": [
      "=> Downloading data for VZ from 2000-01-01 to 2019-12-31\n"
     ]
    },
    {
     "name": "stderr",
     "output_type": "stream",
     "text": [
      "[*********************100%***********************]  1 of 1 completed\n"
     ]
    },
    {
     "name": "stdout",
     "output_type": "stream",
     "text": [
      "=> Downloading data for VRTX from 2000-01-01 to 2019-12-31\n"
     ]
    },
    {
     "name": "stderr",
     "output_type": "stream",
     "text": [
      "[*********************100%***********************]  1 of 1 completed\n"
     ]
    },
    {
     "name": "stdout",
     "output_type": "stream",
     "text": [
      "=> Downloading data for VTRS from 2000-01-01 to 2019-12-31\n"
     ]
    },
    {
     "name": "stderr",
     "output_type": "stream",
     "text": [
      "[*********************100%***********************]  1 of 1 completed\n",
      "[*********************100%***********************]  1 of 1 completed\n"
     ]
    },
    {
     "name": "stdout",
     "output_type": "stream",
     "text": [
      "=> Downloading data for VICI from 2000-01-01 to 2019-12-31\n",
      "=> Downloading data for V from 2000-01-01 to 2019-12-31\n"
     ]
    },
    {
     "name": "stderr",
     "output_type": "stream",
     "text": [
      "[*********************100%***********************]  1 of 1 completed\n",
      "[*********************100%***********************]  1 of 1 completed\n"
     ]
    },
    {
     "name": "stdout",
     "output_type": "stream",
     "text": [
      "=> Downloading data for VST from 2000-01-01 to 2019-12-31\n",
      "=> Downloading data for VMC from 2000-01-01 to 2019-12-31\n"
     ]
    },
    {
     "name": "stderr",
     "output_type": "stream",
     "text": [
      "[*********************100%***********************]  1 of 1 completed\n"
     ]
    },
    {
     "name": "stdout",
     "output_type": "stream",
     "text": [
      "=> Downloading data for WRB from 2000-01-01 to 2019-12-31\n"
     ]
    },
    {
     "name": "stderr",
     "output_type": "stream",
     "text": [
      "[*********************100%***********************]  1 of 1 completed\n"
     ]
    },
    {
     "name": "stdout",
     "output_type": "stream",
     "text": [
      "=> Downloading data for GWW from 2000-01-01 to 2019-12-31\n"
     ]
    },
    {
     "name": "stderr",
     "output_type": "stream",
     "text": [
      "[*********************100%***********************]  1 of 1 completed\n"
     ]
    },
    {
     "name": "stdout",
     "output_type": "stream",
     "text": [
      "=> Downloading data for WAB from 2000-01-01 to 2019-12-31\n"
     ]
    },
    {
     "name": "stderr",
     "output_type": "stream",
     "text": [
      "[*********************100%***********************]  1 of 1 completed\n"
     ]
    },
    {
     "name": "stdout",
     "output_type": "stream",
     "text": [
      "=> Downloading data for WBA from 2000-01-01 to 2019-12-31\n"
     ]
    },
    {
     "name": "stderr",
     "output_type": "stream",
     "text": [
      "[*********************100%***********************]  1 of 1 completed\n"
     ]
    },
    {
     "name": "stdout",
     "output_type": "stream",
     "text": [
      "=> Downloading data for WMT from 2000-01-01 to 2019-12-31\n"
     ]
    },
    {
     "name": "stderr",
     "output_type": "stream",
     "text": [
      "[*********************100%***********************]  1 of 1 completed\n"
     ]
    },
    {
     "name": "stdout",
     "output_type": "stream",
     "text": [
      "=> Downloading data for DIS from 2000-01-01 to 2019-12-31\n"
     ]
    },
    {
     "name": "stderr",
     "output_type": "stream",
     "text": [
      "[*********************100%***********************]  1 of 1 completed\n"
     ]
    },
    {
     "name": "stdout",
     "output_type": "stream",
     "text": [
      "=> Downloading data for WBD from 2000-01-01 to 2019-12-31\n"
     ]
    },
    {
     "name": "stderr",
     "output_type": "stream",
     "text": [
      "[*********************100%***********************]  1 of 1 completed\n"
     ]
    },
    {
     "name": "stdout",
     "output_type": "stream",
     "text": [
      "=> Downloading data for WM from 2000-01-01 to 2019-12-31\n"
     ]
    },
    {
     "name": "stderr",
     "output_type": "stream",
     "text": [
      "[*********************100%***********************]  1 of 1 completed\n"
     ]
    },
    {
     "name": "stdout",
     "output_type": "stream",
     "text": [
      "=> Downloading data for WAT from 2000-01-01 to 2019-12-31\n"
     ]
    },
    {
     "name": "stderr",
     "output_type": "stream",
     "text": [
      "[*********************100%***********************]  1 of 1 completed\n"
     ]
    },
    {
     "name": "stdout",
     "output_type": "stream",
     "text": [
      "=> Downloading data for WEC from 2000-01-01 to 2019-12-31\n"
     ]
    },
    {
     "name": "stderr",
     "output_type": "stream",
     "text": [
      "[*********************100%***********************]  1 of 1 completed\n"
     ]
    },
    {
     "name": "stdout",
     "output_type": "stream",
     "text": [
      "=> Downloading data for WFC from 2000-01-01 to 2019-12-31\n"
     ]
    },
    {
     "name": "stderr",
     "output_type": "stream",
     "text": [
      "[*********************100%***********************]  1 of 1 completed\n"
     ]
    },
    {
     "name": "stdout",
     "output_type": "stream",
     "text": [
      "=> Downloading data for WELL from 2000-01-01 to 2019-12-31\n"
     ]
    },
    {
     "name": "stderr",
     "output_type": "stream",
     "text": [
      "[*********************100%***********************]  1 of 1 completed\n"
     ]
    },
    {
     "name": "stdout",
     "output_type": "stream",
     "text": [
      "=> Downloading data for WST from 2000-01-01 to 2019-12-31\n"
     ]
    },
    {
     "name": "stderr",
     "output_type": "stream",
     "text": [
      "[*********************100%***********************]  1 of 1 completed\n"
     ]
    },
    {
     "name": "stdout",
     "output_type": "stream",
     "text": [
      "=> Downloading data for WDC from 2000-01-01 to 2019-12-31\n"
     ]
    },
    {
     "name": "stderr",
     "output_type": "stream",
     "text": [
      "[*********************100%***********************]  1 of 1 completed\n"
     ]
    },
    {
     "name": "stdout",
     "output_type": "stream",
     "text": [
      "=> Downloading data for WY from 2000-01-01 to 2019-12-31\n"
     ]
    },
    {
     "name": "stderr",
     "output_type": "stream",
     "text": [
      "[*********************100%***********************]  1 of 1 completed\n"
     ]
    },
    {
     "name": "stdout",
     "output_type": "stream",
     "text": [
      "=> Downloading data for WSM from 2000-01-01 to 2019-12-31\n"
     ]
    },
    {
     "name": "stderr",
     "output_type": "stream",
     "text": [
      "[*********************100%***********************]  1 of 1 completed\n"
     ]
    },
    {
     "name": "stdout",
     "output_type": "stream",
     "text": [
      "=> Downloading data for WMB from 2000-01-01 to 2019-12-31\n"
     ]
    },
    {
     "name": "stderr",
     "output_type": "stream",
     "text": [
      "[*********************100%***********************]  1 of 1 completed\n"
     ]
    },
    {
     "name": "stdout",
     "output_type": "stream",
     "text": [
      "=> Downloading data for WTW from 2000-01-01 to 2019-12-31\n"
     ]
    },
    {
     "name": "stderr",
     "output_type": "stream",
     "text": [
      "[*********************100%***********************]  1 of 1 completed\n"
     ]
    },
    {
     "name": "stdout",
     "output_type": "stream",
     "text": [
      "=> Downloading data for WDAY from 2000-01-01 to 2019-12-31\n"
     ]
    },
    {
     "name": "stderr",
     "output_type": "stream",
     "text": [
      "[*********************100%***********************]  1 of 1 completed\n"
     ]
    },
    {
     "name": "stdout",
     "output_type": "stream",
     "text": [
      "=> Downloading data for WYNN from 2000-01-01 to 2019-12-31\n"
     ]
    },
    {
     "name": "stderr",
     "output_type": "stream",
     "text": [
      "[*********************100%***********************]  1 of 1 completed\n"
     ]
    },
    {
     "name": "stdout",
     "output_type": "stream",
     "text": [
      "=> Downloading data for XEL from 2000-01-01 to 2019-12-31\n"
     ]
    },
    {
     "name": "stderr",
     "output_type": "stream",
     "text": [
      "[*********************100%***********************]  1 of 1 completed\n"
     ]
    },
    {
     "name": "stdout",
     "output_type": "stream",
     "text": [
      "=> Downloading data for XYL from 2000-01-01 to 2019-12-31\n"
     ]
    },
    {
     "name": "stderr",
     "output_type": "stream",
     "text": [
      "[*********************100%***********************]  1 of 1 completed\n"
     ]
    },
    {
     "name": "stdout",
     "output_type": "stream",
     "text": [
      "=> Downloading data for YUM from 2000-01-01 to 2019-12-31\n"
     ]
    },
    {
     "name": "stderr",
     "output_type": "stream",
     "text": [
      "[*********************100%***********************]  1 of 1 completed\n"
     ]
    },
    {
     "name": "stdout",
     "output_type": "stream",
     "text": [
      "=> Downloading data for ZBRA from 2000-01-01 to 2019-12-31\n"
     ]
    },
    {
     "name": "stderr",
     "output_type": "stream",
     "text": [
      "[*********************100%***********************]  1 of 1 completed\n"
     ]
    },
    {
     "name": "stdout",
     "output_type": "stream",
     "text": [
      "=> Downloading data for ZBH from 2000-01-01 to 2019-12-31\n"
     ]
    },
    {
     "name": "stderr",
     "output_type": "stream",
     "text": [
      "[*********************100%***********************]  1 of 1 completed\n"
     ]
    }
   ],
   "source": [
    "portfolio.update_tickers(list_of_tickers, start_date, end_date)"
   ]
  },
  {
   "cell_type": "code",
   "execution_count": 8,
   "metadata": {},
   "outputs": [],
   "source": [
    "#portfolio.analyze_securities()"
   ]
  },
  {
   "cell_type": "markdown",
   "metadata": {},
   "source": [
    "Now lets observe the expected returns if we were to invest solely in a single asset"
   ]
  },
  {
   "cell_type": "code",
   "execution_count": 9,
   "metadata": {},
   "outputs": [
    {
     "name": "stdout",
     "output_type": "stream",
     "text": [
      "Security: MMM\n",
      "Mean expected return: 0.00046497159378685167\n",
      "Risk: 0.01452309221862303\n",
      "\n",
      "\n",
      "Security: AOS\n",
      "Mean expected return: 0.0008044228804192706\n",
      "Risk: 0.021028788783818555\n",
      "\n",
      "\n",
      "Security: ABT\n",
      "Mean expected return: 0.0005600134732419832\n",
      "Risk: 0.014826613844221403\n",
      "\n",
      "\n",
      "Security: ABBV\n",
      "Mean expected return: 0.0008293444640195269\n",
      "Risk: 0.01727161614531234\n",
      "\n",
      "\n",
      "Security: ACN\n",
      "Mean expected return: 0.0008010429869778595\n",
      "Risk: 0.018743468573590695\n",
      "\n",
      "\n",
      "Security: ADBE\n",
      "Mean expected return: 0.0009710596462454912\n",
      "Risk: 0.02728284117559818\n",
      "\n",
      "\n",
      "Security: AMD\n",
      "Mean expected return: 0.0010160754314046754\n",
      "Risk: 0.04015535591989144\n",
      "\n",
      "\n",
      "Security: AES\n",
      "Mean expected return: 0.00047386409507213577\n",
      "Risk: 0.03283365360268176\n",
      "\n",
      "\n",
      "Security: AFL\n",
      "Mean expected return: 0.0006398385543451201\n",
      "Risk: 0.022567029135904065\n",
      "\n",
      "\n",
      "Security: A\n",
      "Mean expected return: 0.0004902355194792904\n",
      "Risk: 0.027130467473721488\n",
      "\n",
      "\n",
      "Security: APD\n",
      "Mean expected return: 0.0006450623374939343\n",
      "Risk: 0.0170753459160073\n",
      "\n",
      "\n",
      "Security: AKAM\n",
      "Mean expected return: 0.0006384759350206703\n",
      "Risk: 0.04303162222850159\n",
      "\n",
      "\n",
      "Security: ALB\n",
      "Mean expected return: 0.0007198212068866801\n",
      "Risk: 0.021775879604584818\n",
      "\n",
      "\n",
      "Security: ARE\n",
      "Mean expected return: 0.0006473291329175667\n",
      "Risk: 0.018960380653453828\n",
      "\n",
      "\n",
      "Security: ALGN\n",
      "Mean expected return: 0.0013280013087413362\n",
      "Risk: 0.03868615770616549\n",
      "\n",
      "\n",
      "Security: ALLE\n",
      "Mean expected return: 0.0007297842546081659\n",
      "Risk: 0.013191137733276551\n",
      "\n",
      "\n",
      "Security: LNT\n",
      "Mean expected return: 0.0005522468367818016\n",
      "Risk: 0.013899052920527486\n",
      "\n",
      "\n",
      "Security: ALL\n",
      "Mean expected return: 0.0005921831172888019\n",
      "Risk: 0.019225299820733937\n",
      "\n",
      "\n",
      "Security: GOOGL\n",
      "Mean expected return: 0.0010256801672908493\n",
      "Risk: 0.01886283650719104\n",
      "\n",
      "\n",
      "Security: GOOG\n",
      "Mean expected return: 0.0010268495952545753\n",
      "Risk: 0.018898231009478357\n",
      "\n",
      "\n",
      "Security: MO\n",
      "Mean expected return: 0.0007682984559798445\n",
      "Risk: 0.01533989215154714\n",
      "\n",
      "\n",
      "Security: AMZN\n",
      "Mean expected return: 0.0011325425110704527\n",
      "Risk: 0.03286595896201861\n",
      "\n",
      "\n",
      "Security: AMCR\n",
      "Mean expected return: 0.0003980615186590238\n",
      "Risk: 0.0131383042793342\n",
      "\n",
      "\n",
      "Security: AEE\n",
      "Mean expected return: 0.00045254086503487655\n",
      "Risk: 0.012958123660711572\n",
      "\n",
      "\n",
      "Security: AEP\n",
      "Mean expected return: 0.0005156212061298741\n",
      "Risk: 0.015285262824934556\n",
      "\n",
      "\n",
      "Security: AXP\n",
      "Mean expected return: 0.0004927664887036066\n",
      "Risk: 0.021970915147959215\n",
      "\n",
      "\n",
      "Security: AIG\n",
      "Mean expected return: 9.395719644386106e-05\n",
      "Risk: 0.03645662728797518\n",
      "\n",
      "\n",
      "Security: AMT\n",
      "Mean expected return: 0.0008732455743021419\n",
      "Risk: 0.02952720925466325\n",
      "\n",
      "\n",
      "Security: AWK\n",
      "Mean expected return: 0.000800456152460216\n",
      "Risk: 0.013125119284290776\n",
      "\n",
      "\n",
      "Security: AMP\n",
      "Mean expected return: 0.0008263669797722964\n",
      "Risk: 0.02562499638732289\n",
      "\n",
      "\n",
      "Security: AME\n",
      "Mean expected return: 0.0008947295225071888\n",
      "Risk: 0.017609224392340108\n",
      "\n",
      "\n",
      "Security: AMGN\n",
      "Mean expected return: 0.0005041116315704728\n",
      "Risk: 0.019950078714198422\n",
      "\n",
      "\n",
      "Security: APH\n",
      "Mean expected return: 0.000911938122282725\n",
      "Risk: 0.022386238171822066\n",
      "\n",
      "\n",
      "Security: ADI\n",
      "Mean expected return: 0.000613972832912082\n",
      "Risk: 0.026371325839344192\n",
      "\n",
      "\n",
      "Security: ANSS\n",
      "Mean expected return: 0.0011791694027682269\n",
      "Risk: 0.023629631018684892\n",
      "\n",
      "\n",
      "Security: AON\n",
      "Mean expected return: 0.0005766757576668611\n",
      "Risk: 0.01855056957282295\n",
      "\n",
      "\n",
      "Security: APA\n",
      "Mean expected return: 0.0004478252270737517\n",
      "Risk: 0.024319165214061553\n",
      "\n",
      "\n",
      "Security: APO\n",
      "Mean expected return: 0.0009795165996689546\n",
      "Risk: 0.019440448027874622\n",
      "\n",
      "\n",
      "Security: AAPL\n",
      "Mean expected return: 0.0012188982251628952\n",
      "Risk: 0.025393890768792438\n",
      "\n",
      "\n",
      "Security: AMAT\n",
      "Mean expected return: 0.0005486900381711064\n",
      "Risk: 0.02713771419637929\n",
      "\n",
      "\n",
      "Security: APTV\n",
      "Mean expected return: 0.0010140993298681997\n",
      "Risk: 0.017355649060133867\n",
      "\n",
      "\n",
      "Security: ACGL\n",
      "Mean expected return: 0.000814254055721207\n",
      "Risk: 0.015440164355438284\n",
      "\n",
      "\n",
      "Security: ADM\n",
      "Mean expected return: 0.0005566155419543505\n",
      "Risk: 0.019256230098439645\n",
      "\n",
      "\n",
      "Security: ANET\n",
      "Mean expected return: 0.0013250786856637338\n",
      "Risk: 0.027916395752147223\n",
      "\n",
      "\n",
      "Security: AJG\n",
      "Mean expected return: 0.0006239107009371101\n",
      "Risk: 0.01631032381053501\n",
      "\n",
      "\n",
      "Security: AIZ\n",
      "Mean expected return: 0.0006895428815587513\n",
      "Risk: 0.02015109665526128\n",
      "\n",
      "\n",
      "Security: T\n",
      "Mean expected return: 0.0003501445098351511\n",
      "Risk: 0.0160319648424547\n",
      "\n",
      "\n",
      "Security: ATO\n",
      "Mean expected return: 0.0005906888937771853\n",
      "Risk: 0.013457496800931262\n",
      "\n",
      "\n",
      "Security: ADSK\n",
      "Mean expected return: 0.000964151322616831\n",
      "Risk: 0.026148410646277525\n",
      "\n",
      "\n",
      "Security: ADP\n",
      "Mean expected return: 0.00048193580947916774\n",
      "Risk: 0.015231665810030279\n",
      "\n",
      "\n",
      "Security: AZO\n",
      "Mean expected return: 0.0008796138222919254\n",
      "Risk: 0.01748350782639144\n",
      "\n",
      "\n",
      "Security: AVB\n",
      "Mean expected return: 0.0007001554458964063\n",
      "Risk: 0.018831141549769777\n",
      "\n",
      "\n",
      "Security: AVY\n",
      "Mean expected return: 0.000389826319171107\n",
      "Risk: 0.018094428470335572\n",
      "\n",
      "\n",
      "Security: AXON\n",
      "Mean expected return: 0.0018610180497767716\n",
      "Risk: 0.03958294998054747\n",
      "\n",
      "\n",
      "Security: BKR\n",
      "Mean expected return: 0.00048372356154414894\n",
      "Risk: 0.02491909864147202\n",
      "\n",
      "\n",
      "Security: BALL\n",
      "Mean expected return: 0.0008207727488322658\n",
      "Risk: 0.016530221689917177\n",
      "\n",
      "\n",
      "Security: BAC\n",
      "Mean expected return: 0.0005871039149591265\n",
      "Risk: 0.028703303166498557\n",
      "\n",
      "\n",
      "Security: BAX\n",
      "Mean expected return: 0.0005309501051506897\n",
      "Risk: 0.016029227651968972\n",
      "\n",
      "\n",
      "Security: BDX\n",
      "Mean expected return: 0.0006377043988765787\n",
      "Risk: 0.014915357612528692\n",
      "\n",
      "\n",
      "Security: BBY\n",
      "Mean expected return: 0.0007391138091203452\n",
      "Risk: 0.028773076131285494\n",
      "\n",
      "\n",
      "Security: TECH\n",
      "Mean expected return: 0.0006825996419097623\n",
      "Risk: 0.022495333772645638\n",
      "\n",
      "\n",
      "Security: BIIB\n",
      "Mean expected return: 0.0008837851878085107\n",
      "Risk: 0.029168051011357693\n",
      "\n",
      "\n",
      "Security: BLK\n",
      "Mean expected return: 0.0009811704861074342\n",
      "Risk: 0.021517133331484004\n",
      "\n",
      "\n",
      "Security: BX\n",
      "Mean expected return: 0.0007199421239910935\n",
      "Risk: 0.0291539310574812\n",
      "\n",
      "\n",
      "Security: BK\n",
      "Mean expected return: 0.00040335878679903525\n",
      "Risk: 0.02330298160792225\n",
      "\n",
      "\n",
      "Security: BA\n",
      "Mean expected return: 0.0006800340968393145\n",
      "Risk: 0.018828439065758196\n",
      "\n",
      "\n",
      "Security: BKNG\n",
      "Mean expected return: 0.0011655595340997315\n",
      "Risk: 0.039436878621964454\n",
      "\n",
      "\n",
      "Security: BSX\n",
      "Mean expected return: 0.0005337785731661039\n",
      "Risk: 0.022906863636118307\n",
      "\n",
      "\n",
      "Security: BMY\n",
      "Mean expected return: 0.00031179378301836167\n",
      "Risk: 0.01765548119248919\n",
      "\n",
      "\n",
      "Security: AVGO\n",
      "Mean expected return: 0.0014375240576815396\n",
      "Risk: 0.021375196315749516\n",
      "\n",
      "\n",
      "Security: BR\n",
      "Mean expected return: 0.0007863862746788024\n",
      "Risk: 0.016698556097436673\n",
      "\n",
      "\n",
      "Security: BRO\n",
      "Mean expected return: 0.0007298776377974674\n",
      "Risk: 0.015863529645367167\n",
      "\n",
      "\n",
      "Security: BLDR\n",
      "Mean expected return: 0.001127983861746119\n",
      "Risk: 0.04524077589085654\n",
      "\n",
      "\n",
      "Security: BG\n",
      "Mean expected return: 0.0005680501949566225\n",
      "Risk: 0.021182685650001122\n",
      "\n",
      "\n",
      "Security: BXP\n",
      "Mean expected return: 0.0006646443574684992\n",
      "Risk: 0.019432491507998646\n",
      "\n",
      "\n",
      "Security: CHRW\n",
      "Mean expected return: 0.0006737086030776709\n",
      "Risk: 0.019711048767580897\n",
      "\n",
      "\n",
      "Security: CDNS\n",
      "Mean expected return: 0.0005732377208042251\n",
      "Risk: 0.025967619293519255\n",
      "\n",
      "\n",
      "Security: CZR\n",
      "Mean expected return: 0.0022710062315889285\n",
      "Risk: 0.024767274950466264\n",
      "\n",
      "\n",
      "Security: CPT\n",
      "Mean expected return: 0.0006620798392252815\n",
      "Risk: 0.019447567641141122\n",
      "\n",
      "\n",
      "Security: CPB\n",
      "Mean expected return: 0.00027053683107234943\n",
      "Risk: 0.014407010548039029\n",
      "\n",
      "\n",
      "Security: COF\n",
      "Mean expected return: 0.0006327396174626636\n",
      "Risk: 0.029127004325826336\n",
      "\n",
      "\n",
      "Security: CAH\n",
      "Mean expected return: 0.0003770174770145856\n",
      "Risk: 0.018071364907959214\n",
      "\n",
      "\n",
      "Security: KMX\n",
      "Mean expected return: 0.001289644277912663\n",
      "Risk: 0.02926257442313371\n",
      "\n",
      "\n",
      "Security: CCL\n",
      "Mean expected return: 0.00036204525438333836\n",
      "Risk: 0.02225247049856776\n",
      "\n",
      "\n",
      "Security: CAT\n",
      "Mean expected return: 0.0006663862185066525\n",
      "Risk: 0.020077846922964656\n",
      "\n",
      "\n",
      "Security: CBOE\n",
      "Mean expected return: 0.0007622563910849548\n",
      "Risk: 0.014322278021030631\n",
      "\n",
      "\n",
      "Security: CBRE\n",
      "Mean expected return: 0.001189420970043915\n",
      "Risk: 0.035351495054313044\n",
      "\n",
      "\n",
      "Security: CDW\n",
      "Mean expected return: 0.00140284141151331\n",
      "Risk: 0.015046272420435615\n",
      "\n",
      "\n",
      "Security: COR\n",
      "Mean expected return: 0.0008293069751956507\n",
      "Risk: 0.018815950549484848\n",
      "\n",
      "\n",
      "Security: CNC\n",
      "Mean expected return: 0.0011933265758364466\n",
      "Risk: 0.026605383743036285\n",
      "\n",
      "\n",
      "Security: CNP\n",
      "Mean expected return: 0.000532688090486152\n",
      "Risk: 0.022214484292016983\n",
      "\n",
      "\n",
      "Security: CF\n",
      "Mean expected return: 0.0012288517224435637\n",
      "Risk: 0.028961210966047223\n",
      "\n",
      "\n",
      "Security: CRL\n",
      "Mean expected return: 0.0006099536521748443\n",
      "Risk: 0.02073436126379806\n",
      "\n",
      "\n",
      "Security: SCHW\n",
      "Mean expected return: 0.0005398463997298935\n",
      "Risk: 0.026989632104648335\n",
      "\n",
      "\n",
      "Security: CHTR\n",
      "Mean expected return: 0.0011889813061635515\n",
      "Risk: 0.017011328180725444\n",
      "\n",
      "\n",
      "Security: CVX\n",
      "Mean expected return: 0.0004738188407087178\n",
      "Risk: 0.015831774109868364\n",
      "\n",
      "\n",
      "Security: CMG\n",
      "Mean expected return: 0.0011464483108775895\n",
      "Risk: 0.02475145816472197\n",
      "\n",
      "\n",
      "Security: CB\n",
      "Mean expected return: 0.0007316337537744316\n",
      "Risk: 0.019997441666020306\n",
      "\n",
      "\n",
      "Security: CHD\n",
      "Mean expected return: 0.0007139893980665963\n",
      "Risk: 0.014875130321893184\n",
      "\n",
      "\n",
      "Security: CI\n",
      "Mean expected return: 0.0006983638743108929\n",
      "Risk: 0.02301009970466208\n",
      "\n",
      "\n",
      "Security: CINF\n",
      "Mean expected return: 0.0005459351137677096\n",
      "Risk: 0.01689693581048718\n",
      "\n",
      "\n",
      "Security: CTAS\n",
      "Mean expected return: 0.0006110740713236019\n",
      "Risk: 0.01874798177060889\n",
      "\n",
      "\n",
      "Security: CSCO\n",
      "Mean expected return: 0.0003162683063130471\n",
      "Risk: 0.024235180304458842\n",
      "\n",
      "\n",
      "Security: C\n",
      "Mean expected return: 0.00022328043398887987\n",
      "Risk: 0.030395318309948526\n",
      "\n",
      "\n",
      "Security: CFG\n",
      "Mean expected return: 0.0006504576535439554\n",
      "Risk: 0.016513955135883607\n",
      "\n",
      "\n",
      "Security: CLX\n",
      "Mean expected return: 0.00043530868967148325\n",
      "Risk: 0.014452034638510872\n",
      "\n",
      "\n",
      "Security: CME\n",
      "Mean expected return: 0.001087184194822931\n",
      "Risk: 0.021910133950415623\n",
      "\n",
      "\n",
      "Security: CMS\n",
      "Mean expected return: 0.00044875754517883793\n",
      "Risk: 0.018521081696811322\n",
      "\n",
      "\n",
      "Security: KO\n",
      "Mean expected return: 0.0003244881303823983\n",
      "Risk: 0.012849071320097633\n",
      "\n",
      "\n",
      "Security: CTSH\n",
      "Mean expected return: 0.0010730713906495113\n",
      "Risk: 0.0277488053269418\n",
      "\n",
      "\n",
      "Security: CL\n",
      "Mean expected return: 0.00033353381770559546\n",
      "Risk: 0.013613216696927867\n",
      "\n",
      "\n",
      "Security: CMCSA\n",
      "Mean expected return: 0.0004662171382796291\n",
      "Risk: 0.02061339831048345\n",
      "\n",
      "\n",
      "Security: CAG\n",
      "Mean expected return: 0.0003749250607673853\n",
      "Risk: 0.014776457372685493\n",
      "\n",
      "\n",
      "Security: COP\n",
      "Mean expected return: 0.0005600333961767623\n",
      "Risk: 0.018802394706710114\n",
      "\n",
      "\n",
      "Security: ED\n",
      "Mean expected return: 0.00044944658687121476\n",
      "Risk: 0.011351862133918582\n",
      "\n",
      "\n",
      "Security: STZ\n",
      "Mean expected return: 0.0008798048045271374\n",
      "Risk: 0.01963960562508999\n",
      "\n",
      "\n",
      "Security: COO\n",
      "Mean expected return: 0.0008309013839720693\n",
      "Risk: 0.02065569965460343\n",
      "\n",
      "\n",
      "Security: CPRT\n",
      "Mean expected return: 0.0008968211693055968\n",
      "Risk: 0.021573481540389714\n",
      "\n",
      "\n",
      "Security: GLW\n",
      "Mean expected return: 0.00047513300401254174\n",
      "Risk: 0.031218354783919846\n",
      "\n",
      "\n",
      "Security: CPAY\n",
      "Mean expected return: 0.001183763962938346\n",
      "Risk: 0.01730375737774904\n",
      "\n",
      "\n",
      "Security: CTVA\n",
      "Mean expected return: 0.0003399366807813807\n",
      "Risk: 0.02491436967441389\n",
      "\n",
      "\n",
      "Security: CSGP\n",
      "Mean expected return: 0.0009259104986884275\n",
      "Risk: 0.02617113182450598\n",
      "\n",
      "\n",
      "Security: COST\n",
      "Mean expected return: 0.0005933800804765133\n",
      "Risk: 0.017529098080040075\n",
      "\n",
      "\n",
      "Security: CTRA\n",
      "Mean expected return: 0.0008824706682623514\n",
      "Risk: 0.026075568438095525\n",
      "\n",
      "\n",
      "Security: CRWD\n",
      "Mean expected return: 0.0001881555666045898\n",
      "Risk: 0.050394158675538925\n",
      "\n",
      "\n",
      "Security: CCI\n",
      "Mean expected return: 0.000776258346312038\n",
      "Risk: 0.02934093589939389\n",
      "\n",
      "\n",
      "Security: CSX\n",
      "Mean expected return: 0.0008143620168052481\n",
      "Risk: 0.0206616874098551\n",
      "\n",
      "\n",
      "Security: CMI\n",
      "Mean expected return: 0.0009343168920110321\n",
      "Risk: 0.02472997937685008\n",
      "\n",
      "\n",
      "Security: CVS\n",
      "Mean expected return: 0.0004940525175774105\n",
      "Risk: 0.01846394488831358\n",
      "\n",
      "\n",
      "Security: DHR\n",
      "Mean expected return: 0.0008143508385440336\n",
      "Risk: 0.01779261513063211\n",
      "\n",
      "\n",
      "Security: DRI\n",
      "Mean expected return: 0.0007747002302887087\n",
      "Risk: 0.02093481608613459\n",
      "\n",
      "\n",
      "Security: DVA\n",
      "Mean expected return: 0.0009469975243396243\n",
      "Risk: 0.022803208253659755\n",
      "\n",
      "\n",
      "Security: DAY\n",
      "Mean expected return: 0.002159047636336487\n",
      "Risk: 0.024931882574603548\n",
      "\n",
      "\n",
      "Security: DECK\n",
      "Mean expected return: 0.0016205053866640046\n",
      "Risk: 0.0340049939911214\n",
      "\n",
      "\n",
      "Security: DE\n",
      "Mean expected return: 0.0007161643002963987\n",
      "Risk: 0.020770304221520503\n",
      "\n",
      "\n",
      "Security: DELL\n",
      "Mean expected return: 0.0010914829827945894\n",
      "Risk: 0.01941504606550717\n",
      "\n",
      "\n",
      "Security: DAL\n",
      "Mean expected return: 0.0008980946307945104\n",
      "Risk: 0.03281822728013541\n",
      "\n",
      "\n",
      "Security: DVN\n",
      "Mean expected return: 0.00042958363108055726\n",
      "Risk: 0.024546570494066434\n",
      "\n",
      "\n",
      "Security: DXCM\n",
      "Mean expected return: 0.0014278872669482494\n",
      "Risk: 0.03604321779555972\n",
      "\n",
      "\n",
      "Security: FANG\n",
      "Mean expected return: 0.0012145680339139086\n",
      "Risk: 0.024417546118279815\n",
      "\n",
      "\n",
      "Security: DLR\n",
      "Mean expected return: 0.0009832824938929997\n",
      "Risk: 0.020822255594228036\n",
      "\n",
      "\n",
      "Security: DFS\n",
      "Mean expected return: 0.0007437330794516147\n",
      "Risk: 0.026202913243005402\n",
      "\n",
      "\n",
      "Security: DG\n",
      "Mean expected return: 0.000908388149566906\n",
      "Risk: 0.015863706203221976\n",
      "\n",
      "\n",
      "Security: DLTR\n",
      "Mean expected return: 0.0007349707492998292\n",
      "Risk: 0.024400630124301357\n",
      "\n",
      "\n",
      "Security: D\n",
      "Mean expected return: 0.0005386501800136032\n",
      "Risk: 0.013012363967092645\n",
      "\n",
      "\n",
      "Security: DPZ\n",
      "Mean expected return: 0.001237372533634139\n",
      "Risk: 0.022683856094391892\n",
      "\n",
      "\n",
      "Security: DOV\n",
      "Mean expected return: 0.0005150614771600732\n",
      "Risk: 0.01821165437060893\n",
      "\n",
      "\n",
      "Security: DOW\n",
      "Mean expected return: 0.0008836645658728615\n",
      "Risk: 0.020888591067572012\n",
      "\n",
      "\n",
      "Security: DHI\n",
      "Mean expected return: 0.0010072414827409638\n",
      "Risk: 0.02921534065876988\n",
      "\n",
      "\n",
      "Security: DTE\n",
      "Mean expected return: 0.0005493448499271925\n",
      "Risk: 0.012913287710974742\n",
      "\n",
      "\n",
      "Security: DUK\n",
      "Mean expected return: 0.00045208444199537184\n",
      "Risk: 0.014969843859990267\n",
      "\n",
      "\n",
      "Security: DD\n",
      "Mean expected return: 0.00037405715622379645\n",
      "Risk: 0.021910349350466582\n",
      "\n",
      "\n",
      "Security: EMN\n",
      "Mean expected return: 0.0005709534705082138\n",
      "Risk: 0.02001038158537664\n",
      "\n",
      "\n",
      "Security: ETN\n",
      "Mean expected return: 0.0006729025664527118\n",
      "Risk: 0.018486930152185846\n",
      "\n",
      "\n",
      "Security: EBAY\n",
      "Mean expected return: 0.0007080007583445723\n",
      "Risk: 0.028119805745995118\n",
      "\n",
      "\n",
      "Security: ECL\n",
      "Mean expected return: 0.0006159921937442649\n",
      "Risk: 0.014569110937400905\n",
      "\n",
      "\n",
      "Security: EIX\n",
      "Mean expected return: 0.0005598061112998475\n",
      "Risk: 0.02158583588547118\n",
      "\n",
      "\n",
      "Security: EW\n",
      "Mean expected return: 0.0010324553495417341\n",
      "Risk: 0.020666665008225584\n",
      "\n",
      "\n",
      "Security: EA\n",
      "Mean expected return: 0.0006434815062913935\n",
      "Risk: 0.026782260245421532\n",
      "\n",
      "\n",
      "Security: ELV\n",
      "Mean expected return: 0.0007996429252428435\n",
      "Risk: 0.018688849573963415\n",
      "\n",
      "\n",
      "Security: EMR\n",
      "Mean expected return: 0.000461495429798674\n",
      "Risk: 0.01751563361511945\n",
      "\n",
      "\n",
      "Security: ENPH\n",
      "Mean expected return: 0.0020035216740240357\n",
      "Risk: 0.052462303725729485\n",
      "\n",
      "\n",
      "Security: ETR\n",
      "Mean expected return: 0.00050861365144138\n",
      "Risk: 0.014755458640257301\n",
      "\n",
      "\n",
      "Security: EOG\n",
      "Mean expected return: 0.0009146574580689337\n",
      "Risk: 0.023828077192272673\n",
      "\n",
      "\n",
      "Security: EPAM\n",
      "Mean expected return: 0.001608447471137712\n",
      "Risk: 0.022007347099940747\n",
      "\n",
      "\n",
      "Security: EQT\n",
      "Mean expected return: 0.00045041738950729306\n",
      "Risk: 0.021104975741510535\n",
      "\n",
      "\n",
      "Security: EFX\n",
      "Mean expected return: 0.0006462213306983426\n",
      "Risk: 0.01677566659985266\n",
      "\n",
      "\n",
      "Security: EQIX\n",
      "Mean expected return: 0.0009574589713312174\n",
      "Risk: 0.041785636575952086\n",
      "\n",
      "\n",
      "Security: EQR\n",
      "Mean expected return: 0.0006826458578021539\n",
      "Risk: 0.02070928977679147\n",
      "\n",
      "\n",
      "Security: ERIE\n",
      "Mean expected return: 0.0005650726387309922\n",
      "Risk: 0.015000205021331413\n",
      "\n",
      "\n",
      "Security: ESS\n",
      "Mean expected return: 0.0007415334181081186\n",
      "Risk: 0.017484207011291147\n",
      "\n",
      "\n",
      "Security: EL\n",
      "Mean expected return: 0.0006317448316208865\n",
      "Risk: 0.018303907733777467\n",
      "\n",
      "\n",
      "Security: EG\n",
      "Mean expected return: 0.0007138028259525772\n",
      "Risk: 0.017212287677708236\n",
      "\n",
      "\n",
      "Security: EVRG\n",
      "Mean expected return: 0.000572044262956209\n",
      "Risk: 0.014981492861137527\n",
      "\n",
      "\n",
      "Security: ES\n",
      "Mean expected return: 0.0004934313725158046\n",
      "Risk: 0.013119740028042236\n",
      "\n",
      "\n",
      "Security: EXC\n",
      "Mean expected return: 0.0004667630071237304\n",
      "Risk: 0.015880772950986916\n",
      "\n",
      "\n",
      "Security: EXPE\n",
      "Mean expected return: 0.0006980806194096898\n",
      "Risk: 0.026613464926225638\n",
      "\n",
      "\n",
      "Security: EXPD\n",
      "Mean expected return: 0.000654283431640906\n",
      "Risk: 0.021180749529500952\n",
      "\n",
      "\n",
      "Security: EXR\n",
      "Mean expected return: 0.000937932899623528\n",
      "Risk: 0.020991042647223762\n",
      "\n",
      "\n",
      "Security: XOM\n",
      "Mean expected return: 0.00033466345595759315\n",
      "Risk: 0.015050922488381876\n",
      "\n",
      "\n",
      "Security: FFIV\n",
      "Mean expected return: 0.0008761462492609755\n",
      "Risk: 0.03776966996897492\n",
      "\n",
      "\n",
      "Security: FDS\n",
      "Mean expected return: 0.0007272517641272049\n",
      "Risk: 0.021353887635705966\n",
      "\n",
      "\n",
      "Security: FICO\n",
      "Mean expected return: 0.0008987101819179535\n",
      "Risk: 0.022738712700302515\n",
      "\n",
      "\n",
      "Security: FAST\n",
      "Mean expected return: 0.0008167504209489995\n",
      "Risk: 0.02126616925352831\n",
      "\n",
      "\n",
      "Security: FRT\n",
      "Mean expected return: 0.000708068385095307\n",
      "Risk: 0.017980597845319045\n",
      "\n",
      "\n",
      "Security: FDX\n",
      "Mean expected return: 0.00044981808654653713\n",
      "Risk: 0.018891348739852345\n",
      "\n",
      "\n",
      "Security: FIS\n",
      "Mean expected return: 0.0007244832849755735\n",
      "Risk: 0.017960463774704907\n",
      "\n",
      "\n",
      "Security: FITB\n",
      "Mean expected return: 0.0005198636804536073\n",
      "Risk: 0.03207618143781278\n",
      "\n",
      "\n",
      "Security: FSLR\n",
      "Mean expected return: 0.0009899693112493707\n",
      "Risk: 0.03891576665321995\n",
      "\n",
      "\n",
      "Security: FE\n",
      "Mean expected return: 0.0004553858197834364\n",
      "Risk: 0.015385653576652435\n",
      "\n",
      "\n",
      "Security: FI\n",
      "Mean expected return: 0.0007607120789246004\n",
      "Risk: 0.019189032712822306\n",
      "\n",
      "\n",
      "Security: F\n",
      "Mean expected return: 0.0002364794494390848\n",
      "Risk: 0.026064353953541827\n",
      "\n",
      "\n",
      "Security: FTNT\n",
      "Mean expected return: 0.0013064881805908914\n",
      "Risk: 0.02456595296149772\n",
      "\n",
      "\n",
      "Security: FTV\n",
      "Mean expected return: 0.0006113477212466889\n",
      "Risk: 0.012762309107111484\n",
      "\n",
      "\n",
      "Security: FOXA\n",
      "Mean expected return: 7.252030557976302e-05\n",
      "Risk: 0.015983721947150423\n",
      "\n",
      "\n",
      "Security: FOX\n",
      "Mean expected return: -0.00017620371478867619\n",
      "Risk: 0.015394402650500077\n",
      "\n",
      "\n",
      "Security: BEN\n",
      "Mean expected return: 0.000486170890623128\n",
      "Risk: 0.021133284143199014\n",
      "\n",
      "\n",
      "Security: FCX\n",
      "Mean expected return: 0.0006620495218026996\n",
      "Risk: 0.03245854688319233\n",
      "\n",
      "\n",
      "Security: GRMN\n",
      "Mean expected return: 0.0008853725869819312\n",
      "Risk: 0.024523316182913663\n",
      "\n",
      "\n",
      "Security: IT\n",
      "Mean expected return: 0.0007352345225487578\n",
      "Risk: 0.024377284950883298\n",
      "\n",
      "\n",
      "Security: GE\n",
      "Mean expected return: 2.0401570063854276e-05\n",
      "Risk: 0.019804029352806587\n",
      "\n",
      "\n",
      "Security: GEN\n",
      "Mean expected return: 0.0006927620309723035\n",
      "Risk: 0.026899129107427266\n",
      "\n",
      "\n",
      "Security: GNRC\n",
      "Mean expected return: 0.001265402416973128\n",
      "Risk: 0.02333655348461749\n",
      "\n",
      "\n",
      "Security: GD\n",
      "Mean expected return: 0.0005923147615001673\n",
      "Risk: 0.01558012105804537\n",
      "\n",
      "\n",
      "Security: GIS\n",
      "Mean expected return: 0.00040982706933242997\n",
      "Risk: 0.011789791675626427\n",
      "\n",
      "\n",
      "Security: GM\n",
      "Mean expected return: 0.0002928847057238672\n",
      "Risk: 0.017794588177482286\n",
      "\n",
      "\n",
      "Security: GPC\n",
      "Mean expected return: 0.0005226682564831931\n",
      "Risk: 0.013769072217516134\n",
      "\n",
      "\n",
      "Security: GILD\n",
      "Mean expected return: 0.0010801027943024772\n",
      "Risk: 0.025987807180740084\n",
      "\n",
      "\n",
      "Security: GPN\n",
      "Mean expected return: 0.001017460942192616\n",
      "Risk: 0.019782815200929785\n",
      "\n",
      "\n",
      "Security: GL\n",
      "Mean expected return: 0.000626959577012414\n",
      "Risk: 0.01819790441919342\n",
      "\n",
      "\n",
      "Security: GDDY\n",
      "Mean expected return: 0.001267214184265537\n",
      "Risk: 0.022702087867525915\n",
      "\n",
      "\n",
      "Security: GS\n",
      "Mean expected return: 0.00049795620035733\n",
      "Risk: 0.023060293538342685\n",
      "\n",
      "\n",
      "Security: HAL\n",
      "Mean expected return: 0.00047903717073681816\n",
      "Risk: 0.02691106444764903\n",
      "\n",
      "\n",
      "Security: HIG\n",
      "Mean expected return: 0.0007351449567805161\n",
      "Risk: 0.0353236056170489\n",
      "\n",
      "\n",
      "Security: HAS\n",
      "Mean expected return: 0.000627110305486919\n",
      "Risk: 0.019478731990662277\n",
      "\n",
      "\n",
      "Security: HCA\n",
      "Mean expected return: 0.0010011963143639125\n",
      "Risk: 0.019222117864183992\n",
      "\n",
      "\n",
      "Security: DOC\n",
      "Mean expected return: 0.000687661347934939\n",
      "Risk: 0.020619351002848837\n",
      "\n",
      "\n",
      "Security: HSIC\n",
      "Mean expected return: 0.0008205602692469662\n",
      "Risk: 0.018274390816290172\n",
      "\n",
      "\n",
      "Security: HSY\n",
      "Mean expected return: 0.0005570656822740344\n",
      "Risk: 0.014106914513235562\n",
      "\n",
      "\n",
      "Security: HES\n",
      "Mean expected return: 0.0006117710865395675\n",
      "Risk: 0.024464114995647244\n",
      "\n",
      "\n",
      "Security: HPE\n",
      "Mean expected return: 0.0007448807784017827\n",
      "Risk: 0.019616111056389753\n",
      "\n",
      "\n",
      "Security: HLT\n",
      "Mean expected return: 0.0007414630156896837\n",
      "Risk: 0.014490682572250592\n",
      "\n",
      "\n",
      "Security: HOLX\n",
      "Mean expected return: 0.0011005861997162214\n",
      "Risk: 0.028226814782912845\n",
      "\n",
      "\n",
      "Security: HD\n",
      "Mean expected return: 0.0005029467801506859\n",
      "Risk: 0.019137108558852922\n",
      "\n",
      "\n",
      "Security: HON\n",
      "Mean expected return: 0.0005119815706080641\n",
      "Risk: 0.019264329546920617\n",
      "\n",
      "\n",
      "Security: HRL\n",
      "Mean expected return: 0.0006092788685647936\n",
      "Risk: 0.01421014770085209\n",
      "\n",
      "\n",
      "Security: HST\n",
      "Mean expected return: 0.0006304529815652516\n",
      "Risk: 0.026062391968208382\n",
      "\n",
      "\n",
      "Security: HWM\n",
      "Mean expected return: 0.0008730863144886603\n",
      "Risk: 0.021707648644682807\n",
      "\n",
      "\n",
      "Security: HPQ\n",
      "Mean expected return: 0.0003461080527764407\n",
      "Risk: 0.023534042769946396\n",
      "\n",
      "\n",
      "Security: HUBB\n",
      "Mean expected return: 0.0006064831066685379\n",
      "Risk: 0.017194871526526052\n",
      "\n",
      "\n",
      "Security: HUM\n",
      "Mean expected return: 0.0010908772086162745\n",
      "Risk: 0.02450222054684739\n",
      "\n",
      "\n",
      "Security: HBAN\n",
      "Mean expected return: 0.0005963756953852741\n",
      "Risk: 0.032884979937108864\n",
      "\n",
      "\n",
      "Security: HII\n",
      "Mean expected return: 0.001026810300167623\n",
      "Risk: 0.015731596997610547\n",
      "\n",
      "\n",
      "Security: IBM\n",
      "Mean expected return: 0.000236315399542372\n",
      "Risk: 0.016111624850071848\n",
      "\n",
      "\n",
      "Security: IEX\n",
      "Mean expected return: 0.000729584867299695\n",
      "Risk: 0.017844653871180435\n",
      "\n",
      "\n",
      "Security: IDXX\n",
      "Mean expected return: 0.0010381302687437921\n",
      "Risk: 0.020389102843195325\n",
      "\n",
      "\n",
      "Security: ITW\n",
      "Mean expected return: 0.0005585803621275213\n",
      "Risk: 0.016240353212321108\n",
      "\n",
      "\n",
      "Security: INCY\n",
      "Mean expected return: 0.001006428365333351\n",
      "Risk: 0.041619619014085965\n",
      "\n",
      "\n",
      "Security: IR\n",
      "Mean expected return: 0.001062197252613309\n",
      "Risk: 0.021719042910231547\n",
      "\n",
      "\n",
      "Security: PODD\n",
      "Mean expected return: 0.0013103906019894444\n",
      "Risk: 0.03374681407551574\n",
      "\n",
      "\n",
      "Security: INTC\n",
      "Mean expected return: 0.00041925979554060085\n",
      "Risk: 0.02314807773473771\n",
      "\n",
      "\n",
      "Security: ICE\n",
      "Mean expected return: 0.0010740013801850085\n",
      "Risk: 0.02690106288257496\n",
      "\n",
      "\n",
      "Security: IFF\n",
      "Mean expected return: 0.00047302725057805646\n",
      "Risk: 0.01617728187503231\n",
      "\n",
      "\n",
      "Security: IP\n",
      "Mean expected return: 0.00034038757596208786\n",
      "Risk: 0.022325448863453147\n",
      "\n",
      "\n",
      "Security: IPG\n",
      "Mean expected return: 0.0002103573892887855\n",
      "Risk: 0.02545490722073451\n",
      "\n",
      "\n",
      "Security: INTU\n",
      "Mean expected return: 0.0007669148507255347\n",
      "Risk: 0.025273025319803712\n",
      "\n",
      "\n",
      "Security: ISRG\n",
      "Mean expected return: 0.0014488369411493483\n",
      "Risk: 0.032482571028694826\n",
      "\n",
      "\n",
      "Security: IVZ\n",
      "Mean expected return: 0.00044846385508409616\n",
      "Risk: 0.027729384913410437\n",
      "\n",
      "\n",
      "Security: INVH\n",
      "Mean expected return: 0.0006664654627318493\n",
      "Risk: 0.010506280724705847\n",
      "\n",
      "\n",
      "Security: IQV\n",
      "Mean expected return: 0.0008725241992055486\n",
      "Risk: 0.014063782311685473\n",
      "\n",
      "\n",
      "Security: IRM\n",
      "Mean expected return: 0.0005255984922998446\n",
      "Risk: 0.018319585192594783\n",
      "\n",
      "\n",
      "Security: JBHT\n",
      "Mean expected return: 0.0009943900086227834\n",
      "Risk: 0.022527382150447084\n",
      "\n",
      "\n",
      "Security: JBL\n",
      "Mean expected return: 0.0006015091311735755\n",
      "Risk: 0.032322382918413224\n",
      "\n",
      "\n",
      "Security: JKHY\n",
      "Mean expected return: 0.0007208655103098113\n",
      "Risk: 0.019942301632451812\n",
      "\n",
      "\n",
      "Security: J\n",
      "Mean expected return: 0.0007446931274841766\n",
      "Risk: 0.022837643100152714\n",
      "\n",
      "\n",
      "Security: JNJ\n",
      "Mean expected return: 0.00040128576032846797\n",
      "Risk: 0.011957964778941097\n",
      "\n",
      "\n",
      "Security: JCI\n",
      "Mean expected return: 0.0003217890286069349\n",
      "Risk: 0.02517716441344377\n",
      "\n",
      "\n",
      "Security: JPM\n",
      "Mean expected return: 0.0006156898640492933\n",
      "Risk: 0.024258617855866717\n",
      "\n",
      "\n",
      "Security: JNPR\n",
      "Mean expected return: 0.0004646296201464785\n",
      "Risk: 0.0351967528107309\n",
      "\n",
      "\n",
      "Security: K\n",
      "Mean expected return: 0.00037812099468691575\n",
      "Risk: 0.01364849475298531\n",
      "\n",
      "\n",
      "Security: KDP\n",
      "Mean expected return: 0.0008804462069032615\n",
      "Risk: 0.0159925859499565\n",
      "\n",
      "\n",
      "Security: KEY\n",
      "Mean expected return: 0.0005115499048668516\n",
      "Risk: 0.0279937732008603\n",
      "\n",
      "\n",
      "Security: KEYS\n",
      "Mean expected return: 0.0011387164108768268\n",
      "Risk: 0.017678557722092137\n",
      "\n",
      "\n",
      "Security: KMB\n",
      "Mean expected return: 0.00037071930398523725\n",
      "Risk: 0.012884333353696995\n",
      "\n",
      "\n",
      "Security: KIM\n",
      "Mean expected return: 0.0005867410152817934\n",
      "Risk: 0.02314910878391191\n",
      "\n",
      "\n",
      "Security: KMI\n",
      "Mean expected return: 0.00012726773461601792\n",
      "Risk: 0.01704917757803004\n",
      "\n",
      "\n",
      "Security: KKR\n",
      "Mean expected return: 0.0008410436064449528\n",
      "Risk: 0.019655341921466455\n",
      "\n",
      "\n",
      "Security: KLAC\n",
      "Mean expected return: 0.0007544026926002954\n",
      "Risk: 0.028529103174251117\n",
      "\n",
      "\n",
      "Security: KHC\n",
      "Mean expected return: -0.0004306538232588313\n",
      "Risk: 0.016925125747355385\n",
      "\n",
      "\n",
      "Security: KR\n",
      "Mean expected return: 0.00042730263170797294\n",
      "Risk: 0.017818693314688282\n",
      "\n",
      "\n",
      "Security: LHX\n",
      "Mean expected return: 0.0008270834228301117\n",
      "Risk: 0.020267083729851296\n",
      "\n",
      "\n",
      "Security: LH\n",
      "Mean expected return: 0.0007555080958444118\n",
      "Risk: 0.018418693393597918\n",
      "\n",
      "\n",
      "Security: LRCX\n",
      "Mean expected return: 0.0009011043705163836\n",
      "Risk: 0.0312169644676305\n",
      "\n",
      "\n",
      "Security: LW\n",
      "Mean expected return: 0.0014566696806941788\n",
      "Risk: 0.01332561780832805\n",
      "\n",
      "\n",
      "Security: LVS\n",
      "Mean expected return: 0.0009548582819659157\n",
      "Risk: 0.0391865221221459\n",
      "\n",
      "\n",
      "Security: LDOS\n",
      "Mean expected return: 0.0005563698589935874\n",
      "Risk: 0.016388813002685854\n",
      "\n",
      "\n",
      "Security: LEN\n",
      "Mean expected return: 0.000879068556525165\n",
      "Risk: 0.030267309221119414\n",
      "\n",
      "\n",
      "Security: LII\n",
      "Mean expected return: 0.0009591931698167192\n",
      "Risk: 0.02193300143060416\n",
      "\n",
      "\n",
      "Security: LLY\n",
      "Mean expected return: 0.00039498448816600607\n",
      "Risk: 0.016156902225922948\n",
      "\n",
      "\n",
      "Security: LIN\n",
      "Mean expected return: 0.000646099119187102\n",
      "Risk: 0.017028292009921953\n",
      "\n",
      "\n",
      "Security: LYV\n",
      "Mean expected return: 0.0009739909519486486\n",
      "Risk: 0.02978151387491205\n",
      "\n",
      "\n",
      "Security: LKQ\n",
      "Mean expected return: 0.0009438277047912001\n",
      "Risk: 0.021722244542776322\n",
      "\n",
      "\n",
      "Security: LMT\n",
      "Mean expected return: 0.0008087105549806206\n",
      "Risk: 0.015545231026867177\n",
      "\n",
      "\n",
      "Security: L\n",
      "Mean expected return: 0.0005163018761697338\n",
      "Risk: 0.01753665325850212\n",
      "\n",
      "\n",
      "Security: LOW\n",
      "Mean expected return: 0.0006829930731845542\n",
      "Risk: 0.020352787089913\n",
      "\n",
      "\n",
      "Security: LULU\n",
      "Mean expected return: 0.0014322798070533552\n",
      "Risk: 0.03259718468615114\n",
      "\n",
      "\n",
      "Security: LYB\n",
      "Mean expected return: 0.0010084337834662762\n",
      "Risk: 0.020298879986960755\n",
      "\n",
      "\n",
      "Security: MTB\n",
      "Mean expected return: 0.0005620999562551551\n",
      "Risk: 0.01910352347448381\n",
      "\n",
      "\n",
      "Security: MPC\n",
      "Mean expected return: 0.0008864871186524836\n",
      "Risk: 0.02169373928133383\n",
      "\n",
      "\n",
      "Security: MKTX\n",
      "Mean expected return: 0.0012615549054302972\n",
      "Risk: 0.029346023781714293\n",
      "\n",
      "\n",
      "Security: MAR\n",
      "Mean expected return: 0.0007154378385772944\n",
      "Risk: 0.020216539882362338\n",
      "\n",
      "\n",
      "Security: MMC\n",
      "Mean expected return: 0.00041648928934205555\n",
      "Risk: 0.017098274599798326\n",
      "\n",
      "\n",
      "Security: MLM\n",
      "Mean expected return: 0.0006539878996563369\n",
      "Risk: 0.02081028367578055\n",
      "\n",
      "\n",
      "Security: MAS\n",
      "Mean expected return: 0.0005313130199293516\n",
      "Risk: 0.023820935978697264\n",
      "\n",
      "\n",
      "Security: MA\n",
      "Mean expected return: 0.0014592794685987464\n",
      "Risk: 0.021159535720587572\n",
      "\n",
      "\n",
      "Security: MTCH\n",
      "Mean expected return: 0.0008089452446914629\n",
      "Risk: 0.025384484900693064\n",
      "\n",
      "\n",
      "Security: MKC\n",
      "Mean expected return: 0.0006666401158603822\n",
      "Risk: 0.013178435804674041\n",
      "\n",
      "\n",
      "Security: MCD\n",
      "Mean expected return: 0.0005197851611586355\n",
      "Risk: 0.014325791863621517\n",
      "\n",
      "\n",
      "Security: MCK\n",
      "Mean expected return: 0.0005654580485383041\n",
      "Risk: 0.019058143946940193\n",
      "\n",
      "\n",
      "Security: MDT\n",
      "Mean expected return: 0.000420002815489759\n",
      "Risk: 0.015582022607845424\n",
      "\n",
      "\n",
      "Security: MRK\n",
      "Mean expected return: 0.00035241920683725536\n",
      "Risk: 0.016881440599577094\n",
      "\n",
      "\n",
      "Security: META\n",
      "Mean expected return: 0.0011317526654156496\n",
      "Risk: 0.022787315066065683\n",
      "\n",
      "\n",
      "Security: MET\n",
      "Mean expected return: 0.0006648172213228663\n",
      "Risk: 0.02545944649808225\n",
      "\n",
      "\n",
      "Security: MTD\n",
      "Mean expected return: 0.0007890352397200601\n",
      "Risk: 0.018481539334799162\n",
      "\n",
      "\n",
      "Security: MGM\n",
      "Mean expected return: 0.0007578438249510012\n",
      "Risk: 0.03313931413336191\n",
      "\n",
      "\n",
      "Security: MCHP\n",
      "Mean expected return: 0.0007764443385391866\n",
      "Risk: 0.026513529595719103\n",
      "\n",
      "\n",
      "Security: MU\n",
      "Mean expected return: 0.0007208020978867807\n",
      "Risk: 0.03617478053444666\n",
      "\n",
      "\n",
      "Security: MSFT\n",
      "Mean expected return: 0.0004656412881724657\n",
      "Risk: 0.01898726378574997\n",
      "\n",
      "\n",
      "Security: MAA\n",
      "Mean expected return: 0.0007417010947025559\n",
      "Risk: 0.018611893037385994\n",
      "\n",
      "\n",
      "Security: MRNA\n",
      "Mean expected return: 0.000844772445949166\n",
      "Risk: 0.038948171282819535\n",
      "\n",
      "\n",
      "Security: MHK\n",
      "Mean expected return: 0.0005979493616778085\n",
      "Risk: 0.022758848084687068\n",
      "\n",
      "\n",
      "Security: MOH\n",
      "Mean expected return: 0.0009369404702729454\n",
      "Risk: 0.026987252458053414\n",
      "\n",
      "\n",
      "Security: TAP\n",
      "Mean expected return: 0.0003723903122003775\n",
      "Risk: 0.016787887045105778\n",
      "\n",
      "\n",
      "Security: MDLZ\n",
      "Mean expected return: 0.0003950962010830868\n",
      "Risk: 0.013145457600019927\n",
      "\n",
      "\n",
      "Security: MPWR\n",
      "Mean expected return: 0.0011735039296439573\n",
      "Risk: 0.027711983145494445\n",
      "\n",
      "\n",
      "Security: MNST\n",
      "Mean expected return: 0.0017470655298935942\n",
      "Risk: 0.029899918695207098\n",
      "\n",
      "\n",
      "Security: MCO\n",
      "Mean expected return: 0.0008733080963251625\n",
      "Risk: 0.020905036223025933\n",
      "\n",
      "\n",
      "Security: MS\n",
      "Mean expected return: 0.0005180875641360831\n",
      "Risk: 0.03145675023119456\n",
      "\n",
      "\n",
      "Security: MOS\n",
      "Mean expected return: 0.0005110515402606095\n",
      "Risk: 0.02865996335637174\n",
      "\n",
      "\n",
      "Security: MSI\n",
      "Mean expected return: 0.00036433707920602537\n",
      "Risk: 0.025656845040775627\n",
      "\n",
      "\n",
      "Security: MSCI\n",
      "Mean expected return: 0.001024972250313908\n",
      "Risk: 0.02240730778680152\n",
      "\n",
      "\n",
      "Security: NDAQ\n",
      "Mean expected return: 0.0007890477446384365\n",
      "Risk: 0.025097702843003365\n",
      "\n",
      "\n",
      "Security: NTAP\n",
      "Mean expected return: 0.000765236238592164\n",
      "Risk: 0.03670127921598136\n",
      "\n",
      "\n",
      "Security: NFLX\n",
      "Mean expected return: 0.001934345665125013\n",
      "Risk: 0.03651641751816108\n",
      "\n",
      "\n",
      "Security: NEM\n",
      "Mean expected return: 0.0004817417090835818\n",
      "Risk: 0.02512989291299167\n",
      "\n",
      "\n",
      "Security: NWSA\n",
      "Mean expected return: 9.44376113405228e-05\n",
      "Risk: 0.015650718353141628\n",
      "\n",
      "\n",
      "Security: NWS\n",
      "Mean expected return: 0.00011218256492446657\n",
      "Risk: 0.015140284291001718\n",
      "\n",
      "\n",
      "Security: NEE\n",
      "Mean expected return: 0.0007188525873211073\n",
      "Risk: 0.0137979005985114\n",
      "\n",
      "\n",
      "Security: NKE\n",
      "Mean expected return: 0.0007776046665085721\n",
      "Risk: 0.018642422114050507\n",
      "\n",
      "\n",
      "Security: NI\n",
      "Mean expected return: 0.0005570197084034769\n",
      "Risk: 0.01490776596640899\n",
      "\n",
      "\n",
      "Security: NDSN\n",
      "Mean expected return: 0.0008437071720891468\n",
      "Risk: 0.023282852790696477\n",
      "\n",
      "\n",
      "Security: NSC\n",
      "Mean expected return: 0.0007475342441470626\n",
      "Risk: 0.020423610887481083\n",
      "\n",
      "\n",
      "Security: NTRS\n",
      "Mean expected return: 0.00045172184496314295\n",
      "Risk: 0.021460373724347222\n",
      "\n",
      "\n",
      "Security: NOC\n",
      "Mean expected return: 0.0007411616280694671\n",
      "Risk: 0.015541567520476389\n",
      "\n",
      "\n",
      "Security: NCLH\n",
      "Mean expected return: 0.000665801049444441\n",
      "Risk: 0.018616375835961103\n",
      "\n",
      "\n",
      "Security: NRG\n",
      "Mean expected return: 0.0006499591095141947\n",
      "Risk: 0.023631517119123067\n",
      "\n",
      "\n",
      "Security: NUE\n",
      "Mean expected return: 0.0006912118740474023\n",
      "Risk: 0.024390132626180023\n",
      "\n",
      "\n",
      "Security: NVDA\n",
      "Mean expected return: 0.0015558807084534686\n",
      "Risk: 0.038233354365449314\n",
      "\n",
      "\n",
      "Security: NVR\n",
      "Mean expected return: 0.0011158997907921402\n",
      "Risk: 0.021921194030485612\n",
      "\n",
      "\n",
      "Security: NXPI\n",
      "Mean expected return: 0.0012811823918249222\n",
      "Risk: 0.026132516030276855\n",
      "\n",
      "\n",
      "Security: ORLY\n",
      "Mean expected return: 0.0009606260229646953\n",
      "Risk: 0.02119617355048105\n",
      "\n",
      "\n",
      "Security: OXY\n",
      "Mean expected return: 0.0006101115235160051\n",
      "Risk: 0.020347036173967124\n",
      "\n",
      "\n",
      "Security: ODFL\n",
      "Mean expected return: 0.0013174443563264704\n",
      "Risk: 0.026599123042851343\n",
      "\n",
      "\n",
      "Security: OMC\n",
      "Mean expected return: 0.00033394628144843596\n",
      "Risk: 0.017606766641110445\n",
      "\n",
      "\n",
      "Security: ON\n",
      "Mean expected return: 0.0007460637729579698\n",
      "Risk: 0.038805209178737345\n",
      "\n",
      "\n",
      "Security: OKE\n",
      "Mean expected return: 0.0008691415015391764\n",
      "Risk: 0.019249006692264155\n",
      "\n",
      "\n",
      "Security: ORCL\n",
      "Mean expected return: 0.00043814148454263986\n",
      "Risk: 0.024383320390337644\n",
      "\n",
      "\n",
      "Security: PCAR\n",
      "Mean expected return: 0.0008100955148722204\n",
      "Risk: 0.021693791386897185\n",
      "\n",
      "\n",
      "Security: PKG\n",
      "Mean expected return: 0.0007593117786234264\n",
      "Risk: 0.02025494080332307\n",
      "\n",
      "\n",
      "Security: PANW\n",
      "Mean expected return: 0.0010681648002239638\n",
      "Risk: 0.023601638312683356\n",
      "\n",
      "\n",
      "Security: PARA\n",
      "Mean expected return: 0.0005066973149433447\n",
      "Risk: 0.024506734968928804\n",
      "\n",
      "\n",
      "Security: PH\n",
      "Mean expected return: 0.000627574913899563\n",
      "Risk: 0.019664547501042524\n",
      "\n",
      "\n",
      "Security: PAYX\n",
      "Mean expected return: 0.0005075628082680108\n",
      "Risk: 0.018218215784904634\n",
      "\n",
      "\n",
      "Security: PAYC\n",
      "Mean expected return: 0.0023361850132775338\n",
      "Risk: 0.02690303298480322\n",
      "\n",
      "\n",
      "Security: PYPL\n",
      "Mean expected return: 0.0011176761589255261\n",
      "Risk: 0.018050081191399055\n",
      "\n",
      "\n",
      "Security: PNR\n",
      "Mean expected return: 0.0005432126862573785\n",
      "Risk: 0.01990542424893535\n",
      "\n",
      "\n",
      "Security: PEP\n",
      "Mean expected return: 0.0004302729477138466\n",
      "Risk: 0.012163283828440242\n",
      "\n",
      "\n",
      "Security: PFE\n",
      "Mean expected return: 0.0002927172918252443\n",
      "Risk: 0.01546996559854227\n",
      "\n",
      "\n",
      "Security: PCG\n",
      "Mean expected return: 0.0004583279275344354\n",
      "Risk: 0.030392296686224476\n",
      "\n",
      "\n",
      "Security: PM\n",
      "Mean expected return: 0.00046213469829302264\n",
      "Risk: 0.014063237608921897\n",
      "\n",
      "\n",
      "Security: PSX\n",
      "Mean expected return: 0.0008451313975747031\n",
      "Risk: 0.016085285295546203\n",
      "\n",
      "\n",
      "Security: PNW\n",
      "Mean expected return: 0.000484809762767152\n",
      "Risk: 0.013492571601124348\n",
      "\n",
      "\n",
      "Security: PNC\n",
      "Mean expected return: 0.0006447869654449672\n",
      "Risk: 0.022976546025147444\n",
      "\n",
      "\n",
      "Security: POOL\n",
      "Mean expected return: 0.000996803469806641\n",
      "Risk: 0.02039232621312575\n",
      "\n",
      "\n",
      "Security: PPG\n",
      "Mean expected return: 0.0005460116110327695\n",
      "Risk: 0.01719274785156893\n",
      "\n",
      "\n",
      "Security: PPL\n",
      "Mean expected return: 0.000532023857504205\n",
      "Risk: 0.015251329634776649\n",
      "\n",
      "\n",
      "Security: PFG\n",
      "Mean expected return: 0.0006979861322294891\n",
      "Risk: 0.028268804032329706\n",
      "\n",
      "\n",
      "Security: PG\n",
      "Mean expected return: 0.0003623421756837364\n",
      "Risk: 0.013107490806114026\n",
      "\n",
      "\n",
      "Security: PGR\n",
      "Mean expected return: 0.0007567930428321243\n",
      "Risk: 0.0181141891388723\n",
      "\n",
      "\n",
      "Security: PLD\n",
      "Mean expected return: 0.000759124901008444\n",
      "Risk: 0.024357525665986122\n",
      "\n",
      "\n",
      "Security: PRU\n",
      "Mean expected return: 0.0007215577774799623\n",
      "Risk: 0.027448931427622867\n",
      "\n",
      "\n",
      "Security: PEG\n",
      "Mean expected return: 0.0005317899766661111\n",
      "Risk: 0.015336945931603344\n",
      "\n",
      "\n",
      "Security: PTC\n",
      "Mean expected return: 0.00056678903489599\n",
      "Risk: 0.03220900651889606\n",
      "\n",
      "\n",
      "Security: PSA\n",
      "Mean expected return: 0.000757991994289903\n",
      "Risk: 0.018410203822170602\n",
      "\n",
      "\n",
      "Security: PHM\n",
      "Mean expected return: 0.0008460804554505758\n",
      "Risk: 0.02907047358932449\n",
      "\n",
      "\n",
      "Security: PWR\n",
      "Mean expected return: 0.0007421609387209999\n",
      "Risk: 0.032853013399600325\n",
      "\n",
      "\n",
      "Security: QCOM\n",
      "Mean expected return: 0.0004196167761399983\n",
      "Risk: 0.026627014268494894\n",
      "\n",
      "\n",
      "Security: DGX\n",
      "Mean expected return: 0.0007508643731735596\n",
      "Risk: 0.01896550477563829\n",
      "\n",
      "\n",
      "Security: RL\n",
      "Mean expected return: 0.0006884210204607821\n",
      "Risk: 0.023496726044743396\n",
      "\n",
      "\n",
      "Security: RJF\n",
      "Mean expected return: 0.0008492966359420729\n",
      "Risk: 0.024967790115180407\n",
      "\n",
      "\n",
      "Security: RTX\n",
      "Mean expected return: 0.0005295327527856793\n",
      "Risk: 0.016481467625076636\n",
      "\n",
      "\n",
      "Security: O\n",
      "Mean expected return: 0.0007810775033061127\n",
      "Risk: 0.018194301702422856\n",
      "\n",
      "\n",
      "Security: REG\n",
      "Mean expected return: 0.0006191331014612255\n",
      "Risk: 0.020157344903188233\n",
      "\n",
      "\n",
      "Security: REGN\n",
      "Mean expected return: 0.0014457650861214256\n",
      "Risk: 0.03956183703673156\n",
      "\n",
      "\n",
      "Security: RF\n",
      "Mean expected return: 0.0005717225681133728\n",
      "Risk: 0.030723319243026275\n",
      "\n",
      "\n",
      "Security: RSG\n",
      "Mean expected return: 0.0006525119639381534\n",
      "Risk: 0.01610499524708291\n",
      "\n",
      "\n",
      "Security: RMD\n",
      "Mean expected return: 0.0009496588203587299\n",
      "Risk: 0.022140734058396637\n",
      "\n",
      "\n",
      "Security: RVTY\n",
      "Mean expected return: 0.0006349944806919791\n",
      "Risk: 0.02365581819892035\n",
      "\n",
      "\n",
      "Security: ROK\n",
      "Mean expected return: 0.0007965354579629592\n",
      "Risk: 0.021460177322487617\n",
      "\n",
      "\n",
      "Security: ROL\n",
      "Mean expected return: 0.0008710859877939434\n",
      "Risk: 0.018964995727062884\n",
      "\n",
      "\n",
      "Security: ROP\n",
      "Mean expected return: 0.0008032568375636277\n",
      "Risk: 0.019054986623009487\n",
      "\n",
      "\n",
      "Security: ROST\n",
      "Mean expected return: 0.0010488172713092117\n",
      "Risk: 0.02106525925662104\n",
      "\n",
      "\n",
      "Security: RCL\n",
      "Mean expected return: 0.000701987257690345\n",
      "Risk: 0.0290673168402328\n",
      "\n",
      "\n",
      "Security: SPGI\n",
      "Mean expected return: 0.0007004569546375572\n",
      "Risk: 0.01888486863228257\n",
      "\n",
      "\n",
      "Security: CRM\n",
      "Mean expected return: 0.0012878647962173378\n",
      "Risk: 0.026797804175826754\n",
      "\n",
      "\n",
      "Security: SBAC\n",
      "Mean expected return: 0.0012571026170923676\n",
      "Risk: 0.03870291508566849\n",
      "\n",
      "\n",
      "Security: SLB\n",
      "Mean expected return: 0.00039475728940773164\n",
      "Risk: 0.022156306474791238\n",
      "\n",
      "\n",
      "Security: STX\n",
      "Mean expected return: 0.0009455147386844273\n",
      "Risk: 0.029291041831834782\n",
      "\n",
      "\n",
      "Security: SRE\n",
      "Mean expected return: 0.0006830395975380688\n",
      "Risk: 0.015151577953946258\n",
      "\n",
      "\n",
      "Security: NOW\n",
      "Mean expected return: 0.00160179886376151\n",
      "Risk: 0.024759835100750457\n",
      "\n",
      "\n",
      "Security: SHW\n",
      "Mean expected return: 0.0008891589931318337\n",
      "Risk: 0.017503795922801397\n",
      "\n",
      "\n",
      "Security: SPG\n",
      "Mean expected return: 0.0007788212431979133\n",
      "Risk: 0.02093482544132219\n",
      "\n",
      "\n",
      "Security: SWKS\n",
      "Mean expected return: 0.001084600090902655\n",
      "Risk: 0.04036491694288524\n",
      "\n",
      "\n",
      "Security: SJM\n",
      "Mean expected return: 0.0005616784657647185\n",
      "Risk: 0.015180171158282036\n",
      "\n",
      "\n",
      "Security: SNA\n",
      "Mean expected return: 0.0006283952426183332\n",
      "Risk: 0.01802279296648438\n",
      "\n",
      "\n",
      "Security: SO\n",
      "Mean expected return: 0.0005596641796982326\n",
      "Risk: 0.011771448708353966\n",
      "\n",
      "\n",
      "Security: LUV\n",
      "Mean expected return: 0.0005729314527248866\n",
      "Risk: 0.02145088310365975\n",
      "\n",
      "\n",
      "Security: SWK\n",
      "Mean expected return: 0.0006304839816621123\n",
      "Risk: 0.01910285502008198\n",
      "\n",
      "\n",
      "Security: SBUX\n",
      "Mean expected return: 0.0009170326996216317\n",
      "Risk: 0.021028978391399254\n",
      "\n",
      "\n",
      "Security: STT\n",
      "Mean expected return: 0.000593118748521251\n",
      "Risk: 0.026429556348981274\n",
      "\n",
      "\n",
      "Security: STLD\n",
      "Mean expected return: 0.0009532531425328567\n",
      "Risk: 0.030297379496465\n",
      "\n",
      "\n",
      "Security: STE\n",
      "Mean expected return: 0.000791179288557338\n",
      "Risk: 0.019941648128339096\n",
      "\n",
      "\n",
      "Security: SYK\n",
      "Mean expected return: 0.0006697034012727125\n",
      "Risk: 0.016608761450447315\n",
      "\n",
      "\n",
      "Security: SMCI\n",
      "Mean expected return: 0.0008584677979580614\n",
      "Risk: 0.0326869345083993\n",
      "\n",
      "\n",
      "Security: SYF\n",
      "Mean expected return: 0.0005257188738150469\n",
      "Risk: 0.01665473241111042\n",
      "\n",
      "\n",
      "Security: SNPS\n",
      "Mean expected return: 0.0005173762173582738\n",
      "Risk: 0.021296532832345918\n",
      "\n",
      "\n",
      "Security: SYY\n",
      "Mean expected return: 0.0005017525853165356\n",
      "Risk: 0.014419846379927586\n",
      "\n",
      "\n",
      "Security: TMUS\n",
      "Mean expected return: 0.0005777301860626604\n",
      "Risk: 0.028251920028829966\n",
      "\n",
      "\n",
      "Security: TROW\n",
      "Mean expected return: 0.0007374536104368518\n",
      "Risk: 0.02288427865245618\n",
      "\n",
      "\n",
      "Security: TTWO\n",
      "Mean expected return: 0.0010507922683595022\n",
      "Risk: 0.032793324276969404\n",
      "\n",
      "\n",
      "Security: TPR\n",
      "Mean expected return: 0.0008936916737201259\n",
      "Risk: 0.025944164560523723\n",
      "\n",
      "\n",
      "Security: TRGP\n",
      "Mean expected return: 0.0007491557956205739\n",
      "Risk: 0.024981690737879727\n",
      "\n",
      "\n",
      "Security: TGT\n",
      "Mean expected return: 0.0005330429815975815\n",
      "Risk: 0.020343671371192133\n",
      "\n",
      "\n",
      "Security: TEL\n",
      "Mean expected return: 0.0005654939691293301\n",
      "Risk: 0.019786809970117548\n",
      "\n",
      "\n",
      "Security: TDY\n",
      "Mean expected return: 0.0010487271626250466\n",
      "Risk: 0.025734215093774278\n",
      "\n",
      "\n",
      "Security: TER\n",
      "Mean expected return: 0.0005347521315133489\n",
      "Risk: 0.03169060720648572\n",
      "\n",
      "\n",
      "Security: TSLA\n",
      "Mean expected return: 0.0017156576066577822\n",
      "Risk: 0.03243727416773169\n",
      "\n",
      "\n",
      "Security: TXN\n",
      "Mean expected return: 0.000544911659683229\n",
      "Risk: 0.024583545660317827\n",
      "\n",
      "\n",
      "Security: TPL\n",
      "Mean expected return: 0.0012001064845786088\n",
      "Risk: 0.022363810738895075\n",
      "\n",
      "\n",
      "Security: TXT\n",
      "Mean expected return: 0.00042449138379776287\n",
      "Risk: 0.025982985663032754\n",
      "\n",
      "\n",
      "Security: TMO\n",
      "Mean expected return: 0.0008115854088480684\n",
      "Risk: 0.01805204485232136\n",
      "\n",
      "\n",
      "Security: TJX\n",
      "Mean expected return: 0.0008424833172346528\n",
      "Risk: 0.01815942377757546\n",
      "\n",
      "\n",
      "Security: TKO\n",
      "Mean expected return: 0.0007660028070597479\n",
      "Risk: 0.025502668808743335\n",
      "\n",
      "\n",
      "Security: TSCO\n",
      "Mean expected return: 0.0011909924025095236\n",
      "Risk: 0.023737002340118437\n",
      "\n",
      "\n",
      "Security: TT\n",
      "Mean expected return: 0.0006557021917637961\n",
      "Risk: 0.02115799882949945\n",
      "\n",
      "\n",
      "Security: TDG\n",
      "Mean expected return: 0.0013232064250571444\n",
      "Risk: 0.018853149160598198\n",
      "\n",
      "\n",
      "Security: TRV\n",
      "Mean expected return: 0.0005434918260700996\n",
      "Risk: 0.017895429744422674\n",
      "\n",
      "\n",
      "Security: TRMB\n",
      "Mean expected return: 0.0009012148129773982\n",
      "Risk: 0.029914866043659387\n",
      "\n",
      "\n",
      "Security: TFC\n",
      "Mean expected return: 0.000505317441700991\n",
      "Risk: 0.020716375892221733\n",
      "\n",
      "\n",
      "Security: TYL\n",
      "Mean expected return: 0.0012103586156599737\n",
      "Risk: 0.02952036714272735\n",
      "\n",
      "\n",
      "Security: TSN\n",
      "Mean expected return: 0.0006391023388895139\n",
      "Risk: 0.02213009952297296\n",
      "\n",
      "\n",
      "Security: USB\n",
      "Mean expected return: 0.0005518884770322692\n",
      "Risk: 0.021029186789357498\n",
      "\n",
      "\n",
      "Security: UBER\n",
      "Mean expected return: -0.0016597752450672966\n",
      "Risk: 0.028787705078126575\n",
      "\n",
      "\n",
      "Security: UDR\n",
      "Mean expected return: 0.0007273544490157334\n",
      "Risk: 0.0201549686437326\n",
      "\n",
      "\n",
      "Security: ULTA\n",
      "Mean expected return: 0.0011564910084742575\n",
      "Risk: 0.030098949911864226\n",
      "\n",
      "\n",
      "Security: UNP\n",
      "Mean expected return: 0.0007904017416353168\n",
      "Risk: 0.017608255192628708\n",
      "\n",
      "\n",
      "Security: UAL\n",
      "Mean expected return: 0.0011098005665131816\n",
      "Risk: 0.04088159985303869\n",
      "\n",
      "\n",
      "Security: UPS\n",
      "Mean expected return: 0.00030736480390483134\n",
      "Risk: 0.014160008619021839\n",
      "\n",
      "\n",
      "Security: URI\n",
      "Mean expected return: 0.0009783861528868325\n",
      "Risk: 0.03205424291654763\n",
      "\n",
      "\n",
      "Security: UNH\n",
      "Mean expected return: 0.0009737115807056239\n",
      "Risk: 0.019630274281895007\n",
      "\n",
      "\n",
      "Security: UHS\n",
      "Mean expected return: 0.0007497908047499166\n",
      "Risk: 0.019445058575560312\n",
      "\n",
      "\n",
      "Security: VLO\n",
      "Mean expected return: 0.0009899571223724961\n",
      "Risk: 0.024634756081805265\n",
      "\n",
      "\n",
      "Security: VTR\n",
      "Mean expected return: 0.000985562425394533\n",
      "Risk: 0.022252515871568124\n",
      "\n",
      "\n",
      "Security: VRSN\n",
      "Mean expected return: 0.0006000903161581386\n",
      "Risk: 0.033423130836884266\n",
      "\n",
      "\n",
      "Security: VRSK\n",
      "Mean expected return: 0.0007341495988749008\n",
      "Risk: 0.012220893462140914\n",
      "\n",
      "\n",
      "Security: VZ\n",
      "Mean expected return: 0.0003219681938522886\n",
      "Risk: 0.015377643805934248\n",
      "\n",
      "\n",
      "Security: VRTX\n",
      "Mean expected return: 0.0011342418354628602\n",
      "Risk: 0.03652694385403168\n",
      "\n",
      "\n",
      "Security: VTRS\n",
      "Mean expected return: 0.000408301324749091\n",
      "Risk: 0.023566083260803363\n",
      "\n",
      "\n",
      "Security: VICI\n",
      "Mean expected return: 0.00074325674198487\n",
      "Risk: 0.012770717183340467\n",
      "\n",
      "\n",
      "Security: V\n",
      "Mean expected return: 0.0010696120800990354\n",
      "Risk: 0.018411784180687667\n",
      "\n",
      "\n",
      "Security: VST\n",
      "Mean expected return: 0.0008127737522098356\n",
      "Risk: 0.01566896479256444\n",
      "\n",
      "\n",
      "Security: VMC\n",
      "Mean expected return: 0.0005418737380306031\n",
      "Risk: 0.021179899170062817\n",
      "\n",
      "\n",
      "Security: WRB\n",
      "Mean expected return: 0.0008349616127670856\n",
      "Risk: 0.016220521975506358\n",
      "\n",
      "\n",
      "Security: GWW\n",
      "Mean expected return: 0.0006236679298632107\n",
      "Risk: 0.017710452949065557\n",
      "\n",
      "\n",
      "Security: WAB\n",
      "Mean expected return: 0.0007148158492178128\n",
      "Risk: 0.023088675309941173\n",
      "\n",
      "\n",
      "Security: WBA\n",
      "Mean expected return: 0.00035242993270843113\n",
      "Risk: 0.01730188295605868\n",
      "\n",
      "\n",
      "Security: WMT\n",
      "Mean expected return: 0.0002976600557568542\n",
      "Risk: 0.014825912030687779\n",
      "\n",
      "\n",
      "Security: DIS\n",
      "Mean expected return: 0.0005378931188113583\n",
      "Risk: 0.01869361972241519\n",
      "\n",
      "\n",
      "Security: WBD\n",
      "Mean expected return: 0.0006216145690103832\n",
      "Risk: 0.02137048959502607\n",
      "\n",
      "\n",
      "Security: WM\n",
      "Mean expected return: 0.0005901525941117942\n",
      "Risk: 0.015548659836689608\n",
      "\n",
      "\n",
      "Security: WAT\n",
      "Mean expected return: 0.0007177991998859358\n",
      "Risk: 0.023608009541233464\n",
      "\n",
      "\n",
      "Security: WEC\n",
      "Mean expected return: 0.00064817593599448\n",
      "Risk: 0.011695701066545173\n",
      "\n",
      "\n",
      "Security: WFC\n",
      "Mean expected return: 0.0005862565606503873\n",
      "Risk: 0.02375960729514178\n",
      "\n",
      "\n",
      "Security: WELL\n",
      "Mean expected return: 0.0007322432822777001\n",
      "Risk: 0.016755290524043186\n",
      "\n",
      "\n",
      "Security: WST\n",
      "Mean expected return: 0.0008127079221708075\n",
      "Risk: 0.01755036265907742\n",
      "\n",
      "\n",
      "Security: WDC\n",
      "Mean expected return: 0.0012399593330529011\n",
      "Risk: 0.036949204743453985\n",
      "\n",
      "\n",
      "Security: WY\n",
      "Mean expected return: 0.0003559241557047126\n",
      "Risk: 0.01993868343845523\n",
      "\n",
      "\n",
      "Security: WSM\n",
      "Mean expected return: 0.0007432808559624264\n",
      "Risk: 0.02948572375686936\n",
      "\n",
      "\n",
      "Security: WMB\n",
      "Mean expected return: 0.0007961901209269573\n",
      "Risk: 0.03666076416325312\n",
      "\n",
      "\n",
      "Security: WTW\n",
      "Mean expected return: 0.0005498069959311837\n",
      "Risk: 0.016279416663471165\n",
      "\n",
      "\n",
      "Security: WDAY\n",
      "Mean expected return: 0.0009414478025998665\n",
      "Risk: 0.023302139391220878\n",
      "\n",
      "\n",
      "Security: WYNN\n",
      "Mean expected return: 0.0011398015327601962\n",
      "Risk: 0.030356382804958403\n",
      "\n",
      "\n",
      "Security: XEL\n",
      "Mean expected return: 0.0005554547421531234\n",
      "Risk: 0.016530513020900684\n",
      "\n",
      "\n",
      "Security: XYL\n",
      "Mean expected return: 0.0007319276057772859\n",
      "Risk: 0.014436833363093685\n",
      "\n",
      "\n",
      "Security: YUM\n",
      "Mean expected return: 0.0007557293392070631\n",
      "Risk: 0.01791476063866008\n",
      "\n",
      "\n",
      "Security: ZBRA\n",
      "Mean expected return: 0.0007392772964817446\n",
      "Risk: 0.023596024629829175\n",
      "\n",
      "\n",
      "Security: ZBH\n",
      "Mean expected return: 0.0005048069746703661\n",
      "Risk: 0.016855760687966435\n",
      "\n",
      "\n"
     ]
    }
   ],
   "source": [
    "portfolio.data_extractor.analayze_single_security_returns()"
   ]
  },
  {
   "cell_type": "code",
   "execution_count": 10,
   "metadata": {},
   "outputs": [
    {
     "name": "stderr",
     "output_type": "stream",
     "text": [
      "/Users/javierdominguezsegura/Academics/College/Courses/2nd year/Lin Algebra/library/plots/plots.py:136: UserWarning: No artists with labels found to put in legend.  Note that artists whose label start with an underscore are ignored when legend() is called with no argument.\n",
      "  ax.legend()\n"
     ]
    },
    {
     "data": {
      "image/png": "[encoded data removed]",
      "text/plain": [
       "<Figure size 1000x600 with 1 Axes>"
      ]
     },
     "metadata": {},
     "output_type": "display_data"
    }
   ],
   "source": [
    "portfolio.plots.plot_results(include_individual_securities=True)"
   ]
  },
  {
   "cell_type": "markdown",
   "metadata": {},
   "source": [
    "As you will be able to observe in our library, the way we extract returns is by levearing yfinance's dataframe column 'Adj close'. It stands for adjusted close (price) and it account for the splits and dividends over time. We then compute the percentage change over time of this returns (current value and prior). Note these measures are taken on a daily basis. If you are interested into reading more about this way of computing the returns, you can [read yahoo's blog](https://help.yahoo.com/kb/SLN28256.html#:~:text=What%20is%20the%20adjusted%20close%3F)."
   ]
  },
  {
   "cell_type": "markdown",
   "metadata": {},
   "source": [
    "In accordance with the CER (cosntant expected return) model -- returns follow a i.i.d normal distribution we need to check the fitting of such distribution and alert of possible violations of this assumption."
   ]
  },
  {
   "cell_type": "markdown",
   "metadata": {},
   "source": [
    "<hr>"
   ]
  },
  {
   "cell_type": "markdown",
   "metadata": {},
   "source": [
    "## 1) Extracting matrices "
   ]
  },
  {
   "cell_type": "code",
   "execution_count": 11,
   "metadata": {},
   "outputs": [],
   "source": [
    "portfolio.data_extractor.compute_matrices()"
   ]
  },
  {
   "cell_type": "code",
   "execution_count": 12,
   "metadata": {},
   "outputs": [
    {
     "data": {
      "text/plain": [
       "array([[2.10962157e-04, 1.27483585e-04, 7.96522828e-05, ...,\n",
       "        1.04550069e-04, 1.12939021e-04, 8.82500407e-05],\n",
       "       [1.27483585e-04, 4.42297907e-04, 7.79533034e-05, ...,\n",
       "        1.24079220e-04, 1.62234709e-04, 1.06328515e-04],\n",
       "       [7.96522828e-05, 7.79533034e-05, 2.19872199e-04, ...,\n",
       "        8.05947019e-05, 6.64184164e-05, 9.38802056e-05],\n",
       "       ...,\n",
       "       [1.04550069e-04, 1.24079220e-04, 8.05947019e-05, ...,\n",
       "        3.21002479e-04, 1.16050531e-04, 8.88230670e-05],\n",
       "       [1.12939021e-04, 1.62234709e-04, 6.64184164e-05, ...,\n",
       "        1.16050531e-04, 5.56883113e-04, 1.03886617e-04],\n",
       "       [8.82500407e-05, 1.06328515e-04, 9.38802056e-05, ...,\n",
       "        8.88230670e-05, 1.03886617e-04, 2.84177966e-04]], shape=(487, 487))"
      ]
     },
     "execution_count": 12,
     "metadata": {},
     "output_type": "execute_result"
    }
   ],
   "source": [
    "portfolio.data_extractor.SIGMA"
   ]
  },
  {
   "cell_type": "code",
   "execution_count": 13,
   "metadata": {},
   "outputs": [
    {
     "data": {
      "text/plain": [
       "array([[ 1.45102280e+04,  5.20815928e+02, -8.90960303e+01, ...,\n",
       "        -8.89195959e+02, -3.99792965e+01, -6.20089711e+02],\n",
       "       [ 5.20815928e+02,  4.64778122e+03,  8.34251775e+01, ...,\n",
       "        -2.54153259e+02, -4.22391869e+01, -4.61331541e+02],\n",
       "       [-8.90960303e+01,  8.34251775e+01,  9.73188267e+03, ...,\n",
       "        -4.41758118e+02, -5.24593820e-01, -1.01100470e+03],\n",
       "       ...,\n",
       "       [-8.89195959e+02, -2.54153259e+02, -4.41758118e+02, ...,\n",
       "         6.35157622e+03, -2.82863508e+02,  6.33499525e+02],\n",
       "       [-3.99792965e+01, -4.22391869e+01, -5.24593820e-01, ...,\n",
       "        -2.82863508e+02,  3.14005023e+03, -3.04565970e+02],\n",
       "       [-6.20089711e+02, -4.61331541e+02, -1.01100470e+03, ...,\n",
       "         6.33499525e+02, -3.04565970e+02,  8.98461917e+03]],\n",
       "      shape=(487, 487))"
      ]
     },
     "execution_count": 13,
     "metadata": {},
     "output_type": "execute_result"
    }
   ],
   "source": [
    "portfolio.data_extractor.SIGMA_INV"
   ]
  },
  {
   "cell_type": "code",
   "execution_count": 14,
   "metadata": {},
   "outputs": [
    {
     "data": {
      "text/plain": [
       "array([[ 4.64971594e-04],\n",
       "       [ 8.04422880e-04],\n",
       "       [ 5.60013473e-04],\n",
       "       [ 8.29344464e-04],\n",
       "       [ 8.01042987e-04],\n",
       "       [ 9.71059646e-04],\n",
       "       [ 1.01607543e-03],\n",
       "       [ 4.73864095e-04],\n",
       "       [ 6.39838554e-04],\n",
       "       [ 4.90235519e-04],\n",
       "       [ 6.45062337e-04],\n",
       "       [ 6.38475935e-04],\n",
       "       [ 7.19821207e-04],\n",
       "       [ 6.47329133e-04],\n",
       "       [ 1.32800131e-03],\n",
       "       [ 7.29784255e-04],\n",
       "       [ 5.52246837e-04],\n",
       "       [ 5.92183117e-04],\n",
       "       [ 1.02568017e-03],\n",
       "       [ 1.02684960e-03],\n",
       "       [ 7.68298456e-04],\n",
       "       [ 1.13254251e-03],\n",
       "       [ 3.98061519e-04],\n",
       "       [ 4.52540865e-04],\n",
       "       [ 5.15621206e-04],\n",
       "       [ 4.92766489e-04],\n",
       "       [ 9.39571964e-05],\n",
       "       [ 8.73245574e-04],\n",
       "       [ 8.00456152e-04],\n",
       "       [ 8.26366980e-04],\n",
       "       [ 8.94729523e-04],\n",
       "       [ 5.04111632e-04],\n",
       "       [ 9.11938122e-04],\n",
       "       [ 6.13972833e-04],\n",
       "       [ 1.17916940e-03],\n",
       "       [ 5.76675758e-04],\n",
       "       [ 4.47825227e-04],\n",
       "       [ 9.79516600e-04],\n",
       "       [ 1.21889823e-03],\n",
       "       [ 5.48690038e-04],\n",
       "       [ 1.01409933e-03],\n",
       "       [ 8.14254056e-04],\n",
       "       [ 5.56615542e-04],\n",
       "       [ 1.32507869e-03],\n",
       "       [ 6.23910701e-04],\n",
       "       [ 6.89542882e-04],\n",
       "       [ 3.50144510e-04],\n",
       "       [ 5.90688894e-04],\n",
       "       [ 9.64151323e-04],\n",
       "       [ 4.81935809e-04],\n",
       "       [ 8.79613822e-04],\n",
       "       [ 7.00155446e-04],\n",
       "       [ 3.89826319e-04],\n",
       "       [ 1.86101805e-03],\n",
       "       [ 4.83723562e-04],\n",
       "       [ 8.20772749e-04],\n",
       "       [ 5.87103915e-04],\n",
       "       [ 5.30950105e-04],\n",
       "       [ 6.37704399e-04],\n",
       "       [ 7.39113809e-04],\n",
       "       [ 6.82599642e-04],\n",
       "       [ 8.83785188e-04],\n",
       "       [ 9.81170486e-04],\n",
       "       [ 7.19942124e-04],\n",
       "       [ 4.03358787e-04],\n",
       "       [ 6.80034097e-04],\n",
       "       [ 1.16555953e-03],\n",
       "       [ 5.33778573e-04],\n",
       "       [ 3.11793783e-04],\n",
       "       [ 1.43752406e-03],\n",
       "       [ 7.86386275e-04],\n",
       "       [ 7.29877638e-04],\n",
       "       [ 1.12798386e-03],\n",
       "       [ 5.68050195e-04],\n",
       "       [ 6.64644357e-04],\n",
       "       [ 6.73708603e-04],\n",
       "       [ 5.73237721e-04],\n",
       "       [ 2.27100623e-03],\n",
       "       [ 6.62079839e-04],\n",
       "       [ 2.70536831e-04],\n",
       "       [ 6.32739617e-04],\n",
       "       [ 3.77017477e-04],\n",
       "       [ 1.28964428e-03],\n",
       "       [ 3.62045254e-04],\n",
       "       [ 6.66386219e-04],\n",
       "       [ 7.62256391e-04],\n",
       "       [ 1.18942097e-03],\n",
       "       [ 1.40284141e-03],\n",
       "       [ 8.29306975e-04],\n",
       "       [ 1.19332658e-03],\n",
       "       [ 5.32688090e-04],\n",
       "       [ 1.22885172e-03],\n",
       "       [ 6.09953652e-04],\n",
       "       [ 5.39846400e-04],\n",
       "       [ 1.18898131e-03],\n",
       "       [ 4.73818841e-04],\n",
       "       [ 1.14644831e-03],\n",
       "       [ 7.31633754e-04],\n",
       "       [ 7.13989398e-04],\n",
       "       [ 6.98363874e-04],\n",
       "       [ 5.45935114e-04],\n",
       "       [ 6.11074071e-04],\n",
       "       [ 3.16268306e-04],\n",
       "       [ 2.23280434e-04],\n",
       "       [ 6.50457654e-04],\n",
       "       [ 4.35308690e-04],\n",
       "       [ 1.08718419e-03],\n",
       "       [ 4.48757545e-04],\n",
       "       [ 3.24488130e-04],\n",
       "       [ 1.07307139e-03],\n",
       "       [ 3.33533818e-04],\n",
       "       [ 4.66217138e-04],\n",
       "       [ 3.74925061e-04],\n",
       "       [ 5.60033396e-04],\n",
       "       [ 4.49446587e-04],\n",
       "       [ 8.79804805e-04],\n",
       "       [ 8.30901384e-04],\n",
       "       [ 8.96821169e-04],\n",
       "       [ 4.75133004e-04],\n",
       "       [ 1.18376396e-03],\n",
       "       [ 3.39936681e-04],\n",
       "       [ 9.25910499e-04],\n",
       "       [ 5.93380080e-04],\n",
       "       [ 8.82470668e-04],\n",
       "       [ 1.88155567e-04],\n",
       "       [ 7.76258346e-04],\n",
       "       [ 8.14362017e-04],\n",
       "       [ 9.34316892e-04],\n",
       "       [ 4.94052518e-04],\n",
       "       [ 8.14350839e-04],\n",
       "       [ 7.74700230e-04],\n",
       "       [ 9.46997524e-04],\n",
       "       [ 2.15904764e-03],\n",
       "       [ 1.62050539e-03],\n",
       "       [ 7.16164300e-04],\n",
       "       [ 1.09148298e-03],\n",
       "       [ 8.98094631e-04],\n",
       "       [ 4.29583631e-04],\n",
       "       [ 1.42788727e-03],\n",
       "       [ 1.21456803e-03],\n",
       "       [ 9.83282494e-04],\n",
       "       [ 7.43733079e-04],\n",
       "       [ 9.08388150e-04],\n",
       "       [ 7.34970749e-04],\n",
       "       [ 5.38650180e-04],\n",
       "       [ 1.23737253e-03],\n",
       "       [ 5.15061477e-04],\n",
       "       [ 8.83664566e-04],\n",
       "       [ 1.00724148e-03],\n",
       "       [ 5.49344850e-04],\n",
       "       [ 4.52084442e-04],\n",
       "       [ 3.74057156e-04],\n",
       "       [ 5.70953471e-04],\n",
       "       [ 6.72902566e-04],\n",
       "       [ 7.08000758e-04],\n",
       "       [ 6.15992194e-04],\n",
       "       [ 5.59806111e-04],\n",
       "       [ 1.03245535e-03],\n",
       "       [ 6.43481506e-04],\n",
       "       [ 7.99642925e-04],\n",
       "       [ 4.61495430e-04],\n",
       "       [ 2.00352167e-03],\n",
       "       [ 5.08613651e-04],\n",
       "       [ 9.14657458e-04],\n",
       "       [ 1.60844747e-03],\n",
       "       [ 4.50417390e-04],\n",
       "       [ 6.46221331e-04],\n",
       "       [ 9.57458971e-04],\n",
       "       [ 6.82645858e-04],\n",
       "       [ 5.65072639e-04],\n",
       "       [ 7.41533418e-04],\n",
       "       [ 6.31744832e-04],\n",
       "       [ 7.13802826e-04],\n",
       "       [ 5.72044263e-04],\n",
       "       [ 4.93431373e-04],\n",
       "       [ 4.66763007e-04],\n",
       "       [ 6.98080619e-04],\n",
       "       [ 6.54283432e-04],\n",
       "       [ 9.37932900e-04],\n",
       "       [ 3.34663456e-04],\n",
       "       [ 8.76146249e-04],\n",
       "       [ 7.27251764e-04],\n",
       "       [ 8.98710182e-04],\n",
       "       [ 8.16750421e-04],\n",
       "       [ 7.08068385e-04],\n",
       "       [ 4.49818087e-04],\n",
       "       [ 7.24483285e-04],\n",
       "       [ 5.19863680e-04],\n",
       "       [ 9.89969311e-04],\n",
       "       [ 4.55385820e-04],\n",
       "       [ 7.60712079e-04],\n",
       "       [ 2.36479449e-04],\n",
       "       [ 1.30648818e-03],\n",
       "       [ 6.11347721e-04],\n",
       "       [ 7.25203056e-05],\n",
       "       [-1.76203715e-04],\n",
       "       [ 4.86170891e-04],\n",
       "       [ 6.62049522e-04],\n",
       "       [ 8.85372587e-04],\n",
       "       [ 7.35234523e-04],\n",
       "       [ 2.04015701e-05],\n",
       "       [ 6.92762031e-04],\n",
       "       [ 1.26540242e-03],\n",
       "       [ 5.92314762e-04],\n",
       "       [ 4.09827069e-04],\n",
       "       [ 2.92884706e-04],\n",
       "       [ 5.22668256e-04],\n",
       "       [ 1.08010279e-03],\n",
       "       [ 1.01746094e-03],\n",
       "       [ 6.26959577e-04],\n",
       "       [ 1.26721418e-03],\n",
       "       [ 4.97956200e-04],\n",
       "       [ 4.79037171e-04],\n",
       "       [ 7.35144957e-04],\n",
       "       [ 6.27110305e-04],\n",
       "       [ 1.00119631e-03],\n",
       "       [ 6.87661348e-04],\n",
       "       [ 8.20560269e-04],\n",
       "       [ 5.57065682e-04],\n",
       "       [ 6.11771087e-04],\n",
       "       [ 7.44880778e-04],\n",
       "       [ 7.41463016e-04],\n",
       "       [ 1.10058620e-03],\n",
       "       [ 5.02946780e-04],\n",
       "       [ 5.11981571e-04],\n",
       "       [ 6.09278869e-04],\n",
       "       [ 6.30452982e-04],\n",
       "       [ 8.73086314e-04],\n",
       "       [ 3.46108053e-04],\n",
       "       [ 6.06483107e-04],\n",
       "       [ 1.09087721e-03],\n",
       "       [ 5.96375695e-04],\n",
       "       [ 1.02681030e-03],\n",
       "       [ 2.36315400e-04],\n",
       "       [ 7.29584867e-04],\n",
       "       [ 1.03813027e-03],\n",
       "       [ 5.58580362e-04],\n",
       "       [ 1.00642837e-03],\n",
       "       [ 1.06219725e-03],\n",
       "       [ 1.31039060e-03],\n",
       "       [ 4.19259796e-04],\n",
       "       [ 1.07400138e-03],\n",
       "       [ 4.73027251e-04],\n",
       "       [ 3.40387576e-04],\n",
       "       [ 2.10357389e-04],\n",
       "       [ 7.66914851e-04],\n",
       "       [ 1.44883694e-03],\n",
       "       [ 4.48463855e-04],\n",
       "       [ 6.66465463e-04],\n",
       "       [ 8.72524199e-04],\n",
       "       [ 5.25598492e-04],\n",
       "       [ 9.94390009e-04],\n",
       "       [ 6.01509131e-04],\n",
       "       [ 7.20865510e-04],\n",
       "       [ 7.44693127e-04],\n",
       "       [ 4.01285760e-04],\n",
       "       [ 3.21789029e-04],\n",
       "       [ 6.15689864e-04],\n",
       "       [ 4.64629620e-04],\n",
       "       [ 3.78120995e-04],\n",
       "       [ 8.80446207e-04],\n",
       "       [ 5.11549905e-04],\n",
       "       [ 1.13871641e-03],\n",
       "       [ 3.70719304e-04],\n",
       "       [ 5.86741015e-04],\n",
       "       [ 1.27267735e-04],\n",
       "       [ 8.41043606e-04],\n",
       "       [ 7.54402693e-04],\n",
       "       [-4.30653823e-04],\n",
       "       [ 4.27302632e-04],\n",
       "       [ 8.27083423e-04],\n",
       "       [ 7.55508096e-04],\n",
       "       [ 9.01104371e-04],\n",
       "       [ 1.45666968e-03],\n",
       "       [ 9.54858282e-04],\n",
       "       [ 5.56369859e-04],\n",
       "       [ 8.79068557e-04],\n",
       "       [ 9.59193170e-04],\n",
       "       [ 3.94984488e-04],\n",
       "       [ 6.46099119e-04],\n",
       "       [ 9.73990952e-04],\n",
       "       [ 9.43827705e-04],\n",
       "       [ 8.08710555e-04],\n",
       "       [ 5.16301876e-04],\n",
       "       [ 6.82993073e-04],\n",
       "       [ 1.43227981e-03],\n",
       "       [ 1.00843378e-03],\n",
       "       [ 5.62099956e-04],\n",
       "       [ 8.86487119e-04],\n",
       "       [ 1.26155491e-03],\n",
       "       [ 7.15437839e-04],\n",
       "       [ 4.16489289e-04],\n",
       "       [ 6.53987900e-04],\n",
       "       [ 5.31313020e-04],\n",
       "       [ 1.45927947e-03],\n",
       "       [ 8.08945245e-04],\n",
       "       [ 6.66640116e-04],\n",
       "       [ 5.19785161e-04],\n",
       "       [ 5.65458049e-04],\n",
       "       [ 4.20002815e-04],\n",
       "       [ 3.52419207e-04],\n",
       "       [ 1.13175267e-03],\n",
       "       [ 6.64817221e-04],\n",
       "       [ 7.89035240e-04],\n",
       "       [ 7.57843825e-04],\n",
       "       [ 7.76444339e-04],\n",
       "       [ 7.20802098e-04],\n",
       "       [ 4.65641288e-04],\n",
       "       [ 7.41701095e-04],\n",
       "       [ 8.44772446e-04],\n",
       "       [ 5.97949362e-04],\n",
       "       [ 9.36940470e-04],\n",
       "       [ 3.72390312e-04],\n",
       "       [ 3.95096201e-04],\n",
       "       [ 1.17350393e-03],\n",
       "       [ 1.74706553e-03],\n",
       "       [ 8.73308096e-04],\n",
       "       [ 5.18087564e-04],\n",
       "       [ 5.11051540e-04],\n",
       "       [ 3.64337079e-04],\n",
       "       [ 1.02497225e-03],\n",
       "       [ 7.89047745e-04],\n",
       "       [ 7.65236239e-04],\n",
       "       [ 1.93434567e-03],\n",
       "       [ 4.81741709e-04],\n",
       "       [ 9.44376113e-05],\n",
       "       [ 1.12182565e-04],\n",
       "       [ 7.18852587e-04],\n",
       "       [ 7.77604667e-04],\n",
       "       [ 5.57019708e-04],\n",
       "       [ 8.43707172e-04],\n",
       "       [ 7.47534244e-04],\n",
       "       [ 4.51721845e-04],\n",
       "       [ 7.41161628e-04],\n",
       "       [ 6.65801049e-04],\n",
       "       [ 6.49959110e-04],\n",
       "       [ 6.91211874e-04],\n",
       "       [ 1.55588071e-03],\n",
       "       [ 1.11589979e-03],\n",
       "       [ 1.28118239e-03],\n",
       "       [ 9.60626023e-04],\n",
       "       [ 6.10111524e-04],\n",
       "       [ 1.31744436e-03],\n",
       "       [ 3.33946281e-04],\n",
       "       [ 7.46063773e-04],\n",
       "       [ 8.69141502e-04],\n",
       "       [ 4.38141485e-04],\n",
       "       [ 8.10095515e-04],\n",
       "       [ 7.59311779e-04],\n",
       "       [ 1.06816480e-03],\n",
       "       [ 5.06697315e-04],\n",
       "       [ 6.27574914e-04],\n",
       "       [ 5.07562808e-04],\n",
       "       [ 2.33618501e-03],\n",
       "       [ 1.11767616e-03],\n",
       "       [ 5.43212686e-04],\n",
       "       [ 4.30272948e-04],\n",
       "       [ 2.92717292e-04],\n",
       "       [ 4.58327928e-04],\n",
       "       [ 4.62134698e-04],\n",
       "       [ 8.45131398e-04],\n",
       "       [ 4.84809763e-04],\n",
       "       [ 6.44786965e-04],\n",
       "       [ 9.96803470e-04],\n",
       "       [ 5.46011611e-04],\n",
       "       [ 5.32023858e-04],\n",
       "       [ 6.97986132e-04],\n",
       "       [ 3.62342176e-04],\n",
       "       [ 7.56793043e-04],\n",
       "       [ 7.59124901e-04],\n",
       "       [ 7.21557777e-04],\n",
       "       [ 5.31789977e-04],\n",
       "       [ 5.66789035e-04],\n",
       "       [ 7.57991994e-04],\n",
       "       [ 8.46080455e-04],\n",
       "       [ 7.42160939e-04],\n",
       "       [ 4.19616776e-04],\n",
       "       [ 7.50864373e-04],\n",
       "       [ 6.88421020e-04],\n",
       "       [ 8.49296636e-04],\n",
       "       [ 5.29532753e-04],\n",
       "       [ 7.81077503e-04],\n",
       "       [ 6.19133101e-04],\n",
       "       [ 1.44576509e-03],\n",
       "       [ 5.71722568e-04],\n",
       "       [ 6.52511964e-04],\n",
       "       [ 9.49658820e-04],\n",
       "       [ 6.34994481e-04],\n",
       "       [ 7.96535458e-04],\n",
       "       [ 8.71085988e-04],\n",
       "       [ 8.03256838e-04],\n",
       "       [ 1.04881727e-03],\n",
       "       [ 7.01987258e-04],\n",
       "       [ 7.00456955e-04],\n",
       "       [ 1.28786480e-03],\n",
       "       [ 1.25710262e-03],\n",
       "       [ 3.94757289e-04],\n",
       "       [ 9.45514739e-04],\n",
       "       [ 6.83039598e-04],\n",
       "       [ 1.60179886e-03],\n",
       "       [ 8.89158993e-04],\n",
       "       [ 7.78821243e-04],\n",
       "       [ 1.08460009e-03],\n",
       "       [ 5.61678466e-04],\n",
       "       [ 6.28395243e-04],\n",
       "       [ 5.59664180e-04],\n",
       "       [ 5.72931453e-04],\n",
       "       [ 6.30483982e-04],\n",
       "       [ 9.17032700e-04],\n",
       "       [ 5.93118749e-04],\n",
       "       [ 9.53253143e-04],\n",
       "       [ 7.91179289e-04],\n",
       "       [ 6.69703401e-04],\n",
       "       [ 8.58467798e-04],\n",
       "       [ 5.25718874e-04],\n",
       "       [ 5.17376217e-04],\n",
       "       [ 5.01752585e-04],\n",
       "       [ 5.77730186e-04],\n",
       "       [ 7.37453610e-04],\n",
       "       [ 1.05079227e-03],\n",
       "       [ 8.93691674e-04],\n",
       "       [ 7.49155796e-04],\n",
       "       [ 5.33042982e-04],\n",
       "       [ 5.65493969e-04],\n",
       "       [ 1.04872716e-03],\n",
       "       [ 5.34752132e-04],\n",
       "       [ 1.71565761e-03],\n",
       "       [ 5.44911660e-04],\n",
       "       [ 1.20010648e-03],\n",
       "       [ 4.24491384e-04],\n",
       "       [ 8.11585409e-04],\n",
       "       [ 8.42483317e-04],\n",
       "       [ 7.66002807e-04],\n",
       "       [ 1.19099240e-03],\n",
       "       [ 6.55702192e-04],\n",
       "       [ 1.32320643e-03],\n",
       "       [ 5.43491826e-04],\n",
       "       [ 9.01214813e-04],\n",
       "       [ 5.05317442e-04],\n",
       "       [ 1.21035862e-03],\n",
       "       [ 6.39102339e-04],\n",
       "       [ 5.51888477e-04],\n",
       "       [-1.65977525e-03],\n",
       "       [ 7.27354449e-04],\n",
       "       [ 1.15649101e-03],\n",
       "       [ 7.90401742e-04],\n",
       "       [ 1.10980057e-03],\n",
       "       [ 3.07364804e-04],\n",
       "       [ 9.78386153e-04],\n",
       "       [ 9.73711581e-04],\n",
       "       [ 7.49790805e-04],\n",
       "       [ 9.89957122e-04],\n",
       "       [ 9.85562425e-04],\n",
       "       [ 6.00090316e-04],\n",
       "       [ 7.34149599e-04],\n",
       "       [ 3.21968194e-04],\n",
       "       [ 1.13424184e-03],\n",
       "       [ 4.08301325e-04],\n",
       "       [ 7.43256742e-04],\n",
       "       [ 1.06961208e-03],\n",
       "       [ 8.12773752e-04],\n",
       "       [ 5.41873738e-04],\n",
       "       [ 8.34961613e-04],\n",
       "       [ 6.23667930e-04],\n",
       "       [ 7.14815849e-04],\n",
       "       [ 3.52429933e-04],\n",
       "       [ 2.97660056e-04],\n",
       "       [ 5.37893119e-04],\n",
       "       [ 6.21614569e-04],\n",
       "       [ 5.90152594e-04],\n",
       "       [ 7.17799200e-04],\n",
       "       [ 6.48175936e-04],\n",
       "       [ 5.86256561e-04],\n",
       "       [ 7.32243282e-04],\n",
       "       [ 8.12707922e-04],\n",
       "       [ 1.23995933e-03],\n",
       "       [ 3.55924156e-04],\n",
       "       [ 7.43280856e-04],\n",
       "       [ 7.96190121e-04],\n",
       "       [ 5.49806996e-04],\n",
       "       [ 9.41447803e-04],\n",
       "       [ 1.13980153e-03],\n",
       "       [ 5.55454742e-04],\n",
       "       [ 7.31927606e-04],\n",
       "       [ 7.55729339e-04],\n",
       "       [ 7.39277296e-04],\n",
       "       [ 5.04806975e-04]])"
      ]
     },
     "execution_count": 14,
     "metadata": {},
     "output_type": "execute_result"
    }
   ],
   "source": [
    "portfolio.data_extractor.MU"
   ]
  },
  {
   "cell_type": "code",
   "execution_count": 15,
   "metadata": {},
   "outputs": [
    {
     "data": {
      "text/plain": [
       "array([[1.],\n",
       "       [1.],\n",
       "       [1.],\n",
       "       [1.],\n",
       "       [1.],\n",
       "       [1.],\n",
       "       [1.],\n",
       "       [1.],\n",
       "       [1.],\n",
       "       [1.],\n",
       "       [1.],\n",
       "       [1.],\n",
       "       [1.],\n",
       "       [1.],\n",
       "       [1.],\n",
       "       [1.],\n",
       "       [1.],\n",
       "       [1.],\n",
       "       [1.],\n",
       "       [1.],\n",
       "       [1.],\n",
       "       [1.],\n",
       "       [1.],\n",
       "       [1.],\n",
       "       [1.],\n",
       "       [1.],\n",
       "       [1.],\n",
       "       [1.],\n",
       "       [1.],\n",
       "       [1.],\n",
       "       [1.],\n",
       "       [1.],\n",
       "       [1.],\n",
       "       [1.],\n",
       "       [1.],\n",
       "       [1.],\n",
       "       [1.],\n",
       "       [1.],\n",
       "       [1.],\n",
       "       [1.],\n",
       "       [1.],\n",
       "       [1.],\n",
       "       [1.],\n",
       "       [1.],\n",
       "       [1.],\n",
       "       [1.],\n",
       "       [1.],\n",
       "       [1.],\n",
       "       [1.],\n",
       "       [1.],\n",
       "       [1.],\n",
       "       [1.],\n",
       "       [1.],\n",
       "       [1.],\n",
       "       [1.],\n",
       "       [1.],\n",
       "       [1.],\n",
       "       [1.],\n",
       "       [1.],\n",
       "       [1.],\n",
       "       [1.],\n",
       "       [1.],\n",
       "       [1.],\n",
       "       [1.],\n",
       "       [1.],\n",
       "       [1.],\n",
       "       [1.],\n",
       "       [1.],\n",
       "       [1.],\n",
       "       [1.],\n",
       "       [1.],\n",
       "       [1.],\n",
       "       [1.],\n",
       "       [1.],\n",
       "       [1.],\n",
       "       [1.],\n",
       "       [1.],\n",
       "       [1.],\n",
       "       [1.],\n",
       "       [1.],\n",
       "       [1.],\n",
       "       [1.],\n",
       "       [1.],\n",
       "       [1.],\n",
       "       [1.],\n",
       "       [1.],\n",
       "       [1.],\n",
       "       [1.],\n",
       "       [1.],\n",
       "       [1.],\n",
       "       [1.],\n",
       "       [1.],\n",
       "       [1.],\n",
       "       [1.],\n",
       "       [1.],\n",
       "       [1.],\n",
       "       [1.],\n",
       "       [1.],\n",
       "       [1.],\n",
       "       [1.],\n",
       "       [1.],\n",
       "       [1.],\n",
       "       [1.],\n",
       "       [1.],\n",
       "       [1.],\n",
       "       [1.],\n",
       "       [1.],\n",
       "       [1.],\n",
       "       [1.],\n",
       "       [1.],\n",
       "       [1.],\n",
       "       [1.],\n",
       "       [1.],\n",
       "       [1.],\n",
       "       [1.],\n",
       "       [1.],\n",
       "       [1.],\n",
       "       [1.],\n",
       "       [1.],\n",
       "       [1.],\n",
       "       [1.],\n",
       "       [1.],\n",
       "       [1.],\n",
       "       [1.],\n",
       "       [1.],\n",
       "       [1.],\n",
       "       [1.],\n",
       "       [1.],\n",
       "       [1.],\n",
       "       [1.],\n",
       "       [1.],\n",
       "       [1.],\n",
       "       [1.],\n",
       "       [1.],\n",
       "       [1.],\n",
       "       [1.],\n",
       "       [1.],\n",
       "       [1.],\n",
       "       [1.],\n",
       "       [1.],\n",
       "       [1.],\n",
       "       [1.],\n",
       "       [1.],\n",
       "       [1.],\n",
       "       [1.],\n",
       "       [1.],\n",
       "       [1.],\n",
       "       [1.],\n",
       "       [1.],\n",
       "       [1.],\n",
       "       [1.],\n",
       "       [1.],\n",
       "       [1.],\n",
       "       [1.],\n",
       "       [1.],\n",
       "       [1.],\n",
       "       [1.],\n",
       "       [1.],\n",
       "       [1.],\n",
       "       [1.],\n",
       "       [1.],\n",
       "       [1.],\n",
       "       [1.],\n",
       "       [1.],\n",
       "       [1.],\n",
       "       [1.],\n",
       "       [1.],\n",
       "       [1.],\n",
       "       [1.],\n",
       "       [1.],\n",
       "       [1.],\n",
       "       [1.],\n",
       "       [1.],\n",
       "       [1.],\n",
       "       [1.],\n",
       "       [1.],\n",
       "       [1.],\n",
       "       [1.],\n",
       "       [1.],\n",
       "       [1.],\n",
       "       [1.],\n",
       "       [1.],\n",
       "       [1.],\n",
       "       [1.],\n",
       "       [1.],\n",
       "       [1.],\n",
       "       [1.],\n",
       "       [1.],\n",
       "       [1.],\n",
       "       [1.],\n",
       "       [1.],\n",
       "       [1.],\n",
       "       [1.],\n",
       "       [1.],\n",
       "       [1.],\n",
       "       [1.],\n",
       "       [1.],\n",
       "       [1.],\n",
       "       [1.],\n",
       "       [1.],\n",
       "       [1.],\n",
       "       [1.],\n",
       "       [1.],\n",
       "       [1.],\n",
       "       [1.],\n",
       "       [1.],\n",
       "       [1.],\n",
       "       [1.],\n",
       "       [1.],\n",
       "       [1.],\n",
       "       [1.],\n",
       "       [1.],\n",
       "       [1.],\n",
       "       [1.],\n",
       "       [1.],\n",
       "       [1.],\n",
       "       [1.],\n",
       "       [1.],\n",
       "       [1.],\n",
       "       [1.],\n",
       "       [1.],\n",
       "       [1.],\n",
       "       [1.],\n",
       "       [1.],\n",
       "       [1.],\n",
       "       [1.],\n",
       "       [1.],\n",
       "       [1.],\n",
       "       [1.],\n",
       "       [1.],\n",
       "       [1.],\n",
       "       [1.],\n",
       "       [1.],\n",
       "       [1.],\n",
       "       [1.],\n",
       "       [1.],\n",
       "       [1.],\n",
       "       [1.],\n",
       "       [1.],\n",
       "       [1.],\n",
       "       [1.],\n",
       "       [1.],\n",
       "       [1.],\n",
       "       [1.],\n",
       "       [1.],\n",
       "       [1.],\n",
       "       [1.],\n",
       "       [1.],\n",
       "       [1.],\n",
       "       [1.],\n",
       "       [1.],\n",
       "       [1.],\n",
       "       [1.],\n",
       "       [1.],\n",
       "       [1.],\n",
       "       [1.],\n",
       "       [1.],\n",
       "       [1.],\n",
       "       [1.],\n",
       "       [1.],\n",
       "       [1.],\n",
       "       [1.],\n",
       "       [1.],\n",
       "       [1.],\n",
       "       [1.],\n",
       "       [1.],\n",
       "       [1.],\n",
       "       [1.],\n",
       "       [1.],\n",
       "       [1.],\n",
       "       [1.],\n",
       "       [1.],\n",
       "       [1.],\n",
       "       [1.],\n",
       "       [1.],\n",
       "       [1.],\n",
       "       [1.],\n",
       "       [1.],\n",
       "       [1.],\n",
       "       [1.],\n",
       "       [1.],\n",
       "       [1.],\n",
       "       [1.],\n",
       "       [1.],\n",
       "       [1.],\n",
       "       [1.],\n",
       "       [1.],\n",
       "       [1.],\n",
       "       [1.],\n",
       "       [1.],\n",
       "       [1.],\n",
       "       [1.],\n",
       "       [1.],\n",
       "       [1.],\n",
       "       [1.],\n",
       "       [1.],\n",
       "       [1.],\n",
       "       [1.],\n",
       "       [1.],\n",
       "       [1.],\n",
       "       [1.],\n",
       "       [1.],\n",
       "       [1.],\n",
       "       [1.],\n",
       "       [1.],\n",
       "       [1.],\n",
       "       [1.],\n",
       "       [1.],\n",
       "       [1.],\n",
       "       [1.],\n",
       "       [1.],\n",
       "       [1.],\n",
       "       [1.],\n",
       "       [1.],\n",
       "       [1.],\n",
       "       [1.],\n",
       "       [1.],\n",
       "       [1.],\n",
       "       [1.],\n",
       "       [1.],\n",
       "       [1.],\n",
       "       [1.],\n",
       "       [1.],\n",
       "       [1.],\n",
       "       [1.],\n",
       "       [1.],\n",
       "       [1.],\n",
       "       [1.],\n",
       "       [1.],\n",
       "       [1.],\n",
       "       [1.],\n",
       "       [1.],\n",
       "       [1.],\n",
       "       [1.],\n",
       "       [1.],\n",
       "       [1.],\n",
       "       [1.],\n",
       "       [1.],\n",
       "       [1.],\n",
       "       [1.],\n",
       "       [1.],\n",
       "       [1.],\n",
       "       [1.],\n",
       "       [1.],\n",
       "       [1.],\n",
       "       [1.],\n",
       "       [1.],\n",
       "       [1.],\n",
       "       [1.],\n",
       "       [1.],\n",
       "       [1.],\n",
       "       [1.],\n",
       "       [1.],\n",
       "       [1.],\n",
       "       [1.],\n",
       "       [1.],\n",
       "       [1.],\n",
       "       [1.],\n",
       "       [1.],\n",
       "       [1.],\n",
       "       [1.],\n",
       "       [1.],\n",
       "       [1.],\n",
       "       [1.],\n",
       "       [1.],\n",
       "       [1.],\n",
       "       [1.],\n",
       "       [1.],\n",
       "       [1.],\n",
       "       [1.],\n",
       "       [1.],\n",
       "       [1.],\n",
       "       [1.],\n",
       "       [1.],\n",
       "       [1.],\n",
       "       [1.],\n",
       "       [1.],\n",
       "       [1.],\n",
       "       [1.],\n",
       "       [1.],\n",
       "       [1.],\n",
       "       [1.],\n",
       "       [1.],\n",
       "       [1.],\n",
       "       [1.],\n",
       "       [1.],\n",
       "       [1.],\n",
       "       [1.],\n",
       "       [1.],\n",
       "       [1.],\n",
       "       [1.],\n",
       "       [1.],\n",
       "       [1.],\n",
       "       [1.],\n",
       "       [1.],\n",
       "       [1.],\n",
       "       [1.],\n",
       "       [1.],\n",
       "       [1.],\n",
       "       [1.],\n",
       "       [1.],\n",
       "       [1.],\n",
       "       [1.],\n",
       "       [1.],\n",
       "       [1.],\n",
       "       [1.],\n",
       "       [1.],\n",
       "       [1.],\n",
       "       [1.],\n",
       "       [1.],\n",
       "       [1.],\n",
       "       [1.],\n",
       "       [1.],\n",
       "       [1.],\n",
       "       [1.],\n",
       "       [1.],\n",
       "       [1.],\n",
       "       [1.],\n",
       "       [1.],\n",
       "       [1.],\n",
       "       [1.],\n",
       "       [1.],\n",
       "       [1.],\n",
       "       [1.],\n",
       "       [1.],\n",
       "       [1.],\n",
       "       [1.],\n",
       "       [1.],\n",
       "       [1.],\n",
       "       [1.],\n",
       "       [1.],\n",
       "       [1.],\n",
       "       [1.],\n",
       "       [1.],\n",
       "       [1.],\n",
       "       [1.],\n",
       "       [1.],\n",
       "       [1.],\n",
       "       [1.],\n",
       "       [1.],\n",
       "       [1.],\n",
       "       [1.],\n",
       "       [1.],\n",
       "       [1.],\n",
       "       [1.],\n",
       "       [1.],\n",
       "       [1.],\n",
       "       [1.],\n",
       "       [1.],\n",
       "       [1.],\n",
       "       [1.],\n",
       "       [1.],\n",
       "       [1.],\n",
       "       [1.],\n",
       "       [1.],\n",
       "       [1.],\n",
       "       [1.],\n",
       "       [1.],\n",
       "       [1.],\n",
       "       [1.],\n",
       "       [1.],\n",
       "       [1.],\n",
       "       [1.],\n",
       "       [1.],\n",
       "       [1.],\n",
       "       [1.],\n",
       "       [1.],\n",
       "       [1.],\n",
       "       [1.],\n",
       "       [1.],\n",
       "       [1.],\n",
       "       [1.],\n",
       "       [1.],\n",
       "       [1.],\n",
       "       [1.],\n",
       "       [1.],\n",
       "       [1.],\n",
       "       [1.],\n",
       "       [1.],\n",
       "       [1.],\n",
       "       [1.],\n",
       "       [1.],\n",
       "       [1.],\n",
       "       [1.],\n",
       "       [1.],\n",
       "       [1.],\n",
       "       [1.]])"
      ]
     },
     "execution_count": 15,
     "metadata": {},
     "output_type": "execute_result"
    }
   ],
   "source": [
    "portfolio.data_extractor.ONE_VECTOR"
   ]
  },
  {
   "cell_type": "markdown",
   "metadata": {},
   "source": [
    "We want to smooth out noise, thus we can cleverly apply PCA to the Sigma matrix. This will significanlty improve the robustness of our model. This is accomplished by making the model less sensitive to estimation errors in the original sigma"
   ]
  },
  {
   "cell_type": "code",
   "execution_count": 16,
   "metadata": {},
   "outputs": [
    {
     "data": {
      "text/plain": [
       "(array([[2.35110544e-04, 1.31312949e-04, 8.39708182e-05, ...,\n",
       "         1.02254960e-04, 1.14448855e-04, 8.96837333e-05],\n",
       "        [1.31312949e-04, 4.21756379e-04, 8.10988137e-05, ...,\n",
       "         1.28105268e-04, 1.70134651e-04, 1.01472693e-04],\n",
       "        [8.39708182e-05, 8.10988137e-05, 2.25564473e-04, ...,\n",
       "         7.75880213e-05, 8.01973909e-05, 9.33283480e-05],\n",
       "        ...,\n",
       "        [1.02254960e-04, 1.28105268e-04, 7.75880213e-05, ...,\n",
       "         2.94061737e-04, 1.13025003e-04, 8.79219742e-05],\n",
       "        [1.14448855e-04, 1.70134651e-04, 8.01973909e-05, ...,\n",
       "         1.13025003e-04, 5.66281536e-04, 1.08433834e-04],\n",
       "        [8.96837333e-05, 1.01472693e-04, 9.33283480e-05, ...,\n",
       "         8.79219742e-05, 1.08433834e-04, 2.58009784e-04]], shape=(487, 487)),\n",
       " array([[ 9.78622888e+03, -3.17610682e+00, -1.27586175e+02, ...,\n",
       "         -8.07957250e+01, -8.30682073e+01,  6.61298649e+00],\n",
       "        [-3.17610682e+00,  6.06841415e+03,  3.97934353e+01, ...,\n",
       "          1.37675418e+02, -3.46228725e+02,  2.39274393e+02],\n",
       "        [-1.27586175e+02,  3.97934353e+01,  9.38931174e+03, ...,\n",
       "         -4.47328853e+01,  5.68911028e+01, -2.01155441e+02],\n",
       "        ...,\n",
       "        [-8.07957250e+01,  1.37675418e+02, -4.47328853e+01, ...,\n",
       "          8.22030013e+03, -1.70853109e+02,  5.80239024e+01],\n",
       "        [-8.30682073e+01, -3.46228725e+02,  5.68911028e+01, ...,\n",
       "         -1.70853109e+02,  4.14330601e+03,  1.17599862e+02],\n",
       "        [ 6.61298649e+00,  2.39274393e+02, -2.01155441e+02, ...,\n",
       "          5.80239024e+01,  1.17599862e+02,  8.59221323e+03]],\n",
       "       shape=(487, 487)))"
      ]
     },
     "execution_count": 16,
     "metadata": {},
     "output_type": "execute_result"
    }
   ],
   "source": [
    "portfolio.data_extractor.pca_shrinkage(var_threshold=0.90)"
   ]
  },
  {
   "cell_type": "code",
   "execution_count": 17,
   "metadata": {},
   "outputs": [],
   "source": [
    "# Lets update the class with the new computed data\n",
    "portfolio.update_data()"
   ]
  },
  {
   "cell_type": "markdown",
   "metadata": {},
   "source": [
    "# 2) Global Minimum Variance Portfolio\n",
    "A baseline for our modelling in the risk-return space"
   ]
  },
  {
   "cell_type": "code",
   "execution_count": 18,
   "metadata": {},
   "outputs": [],
   "source": [
    "results_dict = portfolio.compute_global_minimum_variance_portfolio()"
   ]
  },
  {
   "cell_type": "code",
   "execution_count": 19,
   "metadata": {},
   "outputs": [
    {
     "data": {
      "text/plain": [
       "(array([[-3.91832786e-03],\n",
       "        [-1.21545927e-02],\n",
       "        [-2.21739928e-02],\n",
       "        [ 5.89315575e-03],\n",
       "        [ 6.60826880e-03],\n",
       "        [-9.83996647e-04],\n",
       "        [-4.42107889e-03],\n",
       "        [ 1.59963167e-03],\n",
       "        [ 1.32760079e-02],\n",
       "        [-2.51517353e-03],\n",
       "        [ 7.11483556e-03],\n",
       "        [ 2.34385989e-03],\n",
       "        [-3.17671806e-03],\n",
       "        [ 5.93428816e-03],\n",
       "        [-4.42554663e-03],\n",
       "        [ 1.67858500e-02],\n",
       "        [ 2.43856526e-03],\n",
       "        [ 6.54413422e-03],\n",
       "        [-2.76992652e-03],\n",
       "        [-2.18539409e-03],\n",
       "        [ 3.71037542e-03],\n",
       "        [-2.17095475e-04],\n",
       "        [ 1.06533449e-01],\n",
       "        [ 3.47954141e-03],\n",
       "        [ 2.10819528e-04],\n",
       "        [ 2.31655496e-03],\n",
       "        [ 7.51389616e-03],\n",
       "        [ 9.19788610e-03],\n",
       "        [ 5.13213323e-03],\n",
       "        [-3.89726992e-02],\n",
       "        [-2.36785338e-03],\n",
       "        [-9.07411932e-03],\n",
       "        [-3.33430686e-03],\n",
       "        [ 6.28772519e-03],\n",
       "        [-1.78830976e-03],\n",
       "        [-1.39994523e-02],\n",
       "        [-2.38826614e-02],\n",
       "        [ 1.93834180e-02],\n",
       "        [-4.12974651e-03],\n",
       "        [-1.15716244e-04],\n",
       "        [-5.09706846e-03],\n",
       "        [ 1.78023134e-02],\n",
       "        [-1.65754530e-02],\n",
       "        [ 2.19161588e-02],\n",
       "        [-3.80312763e-03],\n",
       "        [-6.46057939e-04],\n",
       "        [ 7.02205606e-03],\n",
       "        [ 1.55071127e-02],\n",
       "        [-7.87921793e-03],\n",
       "        [-1.05821188e-02],\n",
       "        [ 2.24530909e-02],\n",
       "        [ 1.48716164e-02],\n",
       "        [-4.87458773e-03],\n",
       "        [-2.30314904e-03],\n",
       "        [ 1.74743822e-02],\n",
       "        [ 7.81010244e-03],\n",
       "        [ 6.26706751e-03],\n",
       "        [-8.42083287e-03],\n",
       "        [-4.37587782e-03],\n",
       "        [-7.84802941e-03],\n",
       "        [ 4.67711136e-03],\n",
       "        [ 2.53327866e-03],\n",
       "        [-8.55563138e-03],\n",
       "        [ 6.00635880e-03],\n",
       "        [ 5.43727162e-03],\n",
       "        [-2.69220823e-03],\n",
       "        [ 1.11535935e-03],\n",
       "        [-3.95474313e-05],\n",
       "        [-1.78296943e-03],\n",
       "        [-6.63892337e-03],\n",
       "        [-2.64195176e-03],\n",
       "        [ 7.53991041e-03],\n",
       "        [-1.19126979e-02],\n",
       "        [ 2.66560228e-02],\n",
       "        [ 6.22842784e-03],\n",
       "        [ 9.74701546e-03],\n",
       "        [ 8.62923313e-03],\n",
       "        [ 8.42436515e-03],\n",
       "        [ 2.10209784e-02],\n",
       "        [-5.24250398e-03],\n",
       "        [ 7.23200247e-03],\n",
       "        [-1.63725431e-02],\n",
       "        [ 6.61699716e-04],\n",
       "        [-1.46489077e-03],\n",
       "        [-6.01210565e-03],\n",
       "        [ 4.15586837e-02],\n",
       "        [-1.22999144e-02],\n",
       "        [ 1.49680224e-03],\n",
       "        [-1.82180187e-03],\n",
       "        [-1.02202538e-02],\n",
       "        [-4.40289102e-03],\n",
       "        [ 3.70019561e-03],\n",
       "        [-3.76925993e-03],\n",
       "        [-5.43882910e-03],\n",
       "        [-7.30850600e-06],\n",
       "        [ 8.99623517e-03],\n",
       "        [ 1.07446809e-02],\n",
       "        [-3.83852765e-03],\n",
       "        [ 1.48569542e-02],\n",
       "        [-9.13064895e-03],\n",
       "        [-7.70567933e-03],\n",
       "        [-1.25286314e-02],\n",
       "        [-4.05373974e-03],\n",
       "        [-2.67635846e-03],\n",
       "        [ 4.69482462e-02],\n",
       "        [ 9.97063483e-03],\n",
       "        [ 1.36285830e-02],\n",
       "        [ 9.41253002e-04],\n",
       "        [ 1.24977069e-02],\n",
       "        [ 7.13546420e-03],\n",
       "        [-2.84446503e-03],\n",
       "        [-8.39630320e-03],\n",
       "        [-1.11582168e-02],\n",
       "        [ 2.94137572e-03],\n",
       "        [ 1.75641551e-02],\n",
       "        [-2.02682183e-03],\n",
       "        [ 1.13862844e-02],\n",
       "        [-6.82314270e-03],\n",
       "        [-3.64991172e-03],\n",
       "        [ 1.58082546e-02],\n",
       "        [ 3.60130598e-02],\n",
       "        [ 1.96330380e-03],\n",
       "        [ 9.63800352e-04],\n",
       "        [ 1.42914488e-02],\n",
       "        [-1.82238381e-02],\n",
       "        [ 2.06721237e-02],\n",
       "        [-5.81007581e-03],\n",
       "        [ 7.38954720e-03],\n",
       "        [-2.48161452e-03],\n",
       "        [ 7.81482498e-03],\n",
       "        [-5.83917128e-04],\n",
       "        [-6.67524103e-03],\n",
       "        [ 1.61045746e-02],\n",
       "        [ 1.32059269e-03],\n",
       "        [ 2.11829065e-02],\n",
       "        [ 4.76658728e-03],\n",
       "        [-1.43073863e-02],\n",
       "        [-1.88579968e-02],\n",
       "        [-9.81906739e-03],\n",
       "        [ 2.23443462e-02],\n",
       "        [-1.30222259e-02],\n",
       "        [-2.88728422e-02],\n",
       "        [ 7.69120305e-03],\n",
       "        [-8.29222721e-03],\n",
       "        [ 1.42948915e-02],\n",
       "        [-5.63107370e-03],\n",
       "        [-2.43744668e-03],\n",
       "        [ 6.07212485e-02],\n",
       "        [ 4.34104899e-04],\n",
       "        [ 9.67822726e-03],\n",
       "        [ 8.06732561e-03],\n",
       "        [-2.12480011e-02],\n",
       "        [-1.06359186e-02],\n",
       "        [-5.64653006e-03],\n",
       "        [ 5.21722978e-03],\n",
       "        [-2.60285838e-03],\n",
       "        [-8.03321605e-03],\n",
       "        [-3.07770216e-03],\n",
       "        [ 3.18746561e-03],\n",
       "        [ 8.91183183e-03],\n",
       "        [-8.39000489e-03],\n",
       "        [ 3.73055006e-03],\n",
       "        [ 8.56669638e-03],\n",
       "        [-1.15552247e-02],\n",
       "        [-1.56290690e-03],\n",
       "        [-1.36037283e-02],\n",
       "        [ 5.43096891e-03],\n",
       "        [ 1.04598915e-02],\n",
       "        [ 1.28590537e-02],\n",
       "        [ 1.39110024e-02],\n",
       "        [ 1.30690041e-02],\n",
       "        [-7.60063575e-03],\n",
       "        [ 2.41199700e-02],\n",
       "        [ 1.99031701e-02],\n",
       "        [ 1.66096417e-02],\n",
       "        [ 2.47376212e-03],\n",
       "        [ 7.76355038e-03],\n",
       "        [-2.65623890e-03],\n",
       "        [ 5.44264200e-04],\n",
       "        [-1.67114009e-03],\n",
       "        [ 6.78708642e-03],\n",
       "        [-1.15535996e-04],\n",
       "        [-1.97740563e-03],\n",
       "        [-2.16118641e-02],\n",
       "        [ 1.18322730e-02],\n",
       "        [-1.24879038e-02],\n",
       "        [ 7.21943002e-03],\n",
       "        [-8.83659102e-03],\n",
       "        [ 1.81524935e-03],\n",
       "        [-2.84973318e-03],\n",
       "        [-4.99683003e-03],\n",
       "        [ 1.13851945e-02],\n",
       "        [-7.87130063e-03],\n",
       "        [ 1.81129382e-02],\n",
       "        [ 5.03485878e-02],\n",
       "        [ 5.29613207e-02],\n",
       "        [-1.81141851e-02],\n",
       "        [-2.45266851e-02],\n",
       "        [ 6.47087950e-03],\n",
       "        [ 5.14701447e-03],\n",
       "        [ 2.94479028e-03],\n",
       "        [-8.23617735e-04],\n",
       "        [-5.19459412e-03],\n",
       "        [-4.20440396e-03],\n",
       "        [ 8.95711754e-03],\n",
       "        [ 4.52199380e-03],\n",
       "        [-4.14857312e-03],\n",
       "        [-6.22420916e-03],\n",
       "        [-1.26580368e-02],\n",
       "        [ 6.92820202e-03],\n",
       "        [ 1.23716330e-02],\n",
       "        [ 7.53814655e-03],\n",
       "        [-5.48470608e-03],\n",
       "        [ 1.98837555e-02],\n",
       "        [ 2.03113162e-02],\n",
       "        [-1.29649498e-03],\n",
       "        [ 2.21635674e-02],\n",
       "        [-7.84448834e-03],\n",
       "        [ 1.43011127e-02],\n",
       "        [-2.70630488e-02],\n",
       "        [ 1.81406927e-02],\n",
       "        [ 2.36758370e-02],\n",
       "        [-7.95911924e-04],\n",
       "        [-7.54371158e-04],\n",
       "        [ 4.75565891e-04],\n",
       "        [ 5.66870354e-03],\n",
       "        [-3.84825813e-03],\n",
       "        [ 5.44385824e-03],\n",
       "        [-2.03426256e-02],\n",
       "        [ 5.72409066e-03],\n",
       "        [ 4.15957621e-03],\n",
       "        [ 4.35367331e-03],\n",
       "        [ 7.91658533e-04],\n",
       "        [ 1.30559678e-02],\n",
       "        [ 1.05483874e-02],\n",
       "        [-3.66708457e-03],\n",
       "        [-7.72959451e-03],\n",
       "        [ 3.62475752e-03],\n",
       "        [ 1.16444474e-02],\n",
       "        [-6.49316357e-03],\n",
       "        [-9.07676480e-03],\n",
       "        [-3.82366646e-03],\n",
       "        [-1.33926414e-03],\n",
       "        [-4.15229862e-03],\n",
       "        [ 6.97910544e-04],\n",
       "        [-6.54365953e-04],\n",
       "        [ 1.64768770e-03],\n",
       "        [-1.42156921e-02],\n",
       "        [ 1.74519020e-02],\n",
       "        [ 1.56463877e-02],\n",
       "        [-8.52662537e-04],\n",
       "        [ 6.76457800e-03],\n",
       "        [ 4.32236600e-03],\n",
       "        [ 7.45949463e-03],\n",
       "        [ 3.13805811e-03],\n",
       "        [ 1.47203227e-02],\n",
       "        [ 6.05070745e-03],\n",
       "        [-9.49113902e-03],\n",
       "        [ 6.61006124e-03],\n",
       "        [ 5.30035834e-03],\n",
       "        [ 9.83855002e-03],\n",
       "        [-1.07335310e-02],\n",
       "        [ 1.69667001e-02],\n",
       "        [ 8.72061929e-03],\n",
       "        [ 3.18459154e-03],\n",
       "        [ 2.82293600e-02],\n",
       "        [ 6.67619852e-04],\n",
       "        [ 5.92194473e-03],\n",
       "        [-2.40596214e-02],\n",
       "        [-2.18266857e-03],\n",
       "        [ 2.31101472e-02],\n",
       "        [ 2.75497561e-05],\n",
       "        [ 1.11626520e-03],\n",
       "        [ 1.98524822e-02],\n",
       "        [ 6.58307793e-03],\n",
       "        [-7.79315983e-03],\n",
       "        [ 2.58999645e-02],\n",
       "        [ 3.96680070e-03],\n",
       "        [ 8.84319013e-03],\n",
       "        [ 1.46671579e-02],\n",
       "        [-4.18865144e-03],\n",
       "        [-1.23482104e-02],\n",
       "        [ 1.23855796e-02],\n",
       "        [-3.29279881e-03],\n",
       "        [-5.86856478e-03],\n",
       "        [ 1.86575450e-03],\n",
       "        [ 5.49889793e-03],\n",
       "        [ 5.70954325e-03],\n",
       "        [-2.44357790e-03],\n",
       "        [ 1.12367329e-02],\n",
       "        [-6.44111864e-04],\n",
       "        [-7.56528357e-03],\n",
       "        [ 1.58078360e-02],\n",
       "        [-9.77114885e-03],\n",
       "        [-2.40069433e-02],\n",
       "        [-1.26030561e-02],\n",
       "        [ 8.19586680e-03],\n",
       "        [ 1.91964414e-02],\n",
       "        [ 1.46078674e-03],\n",
       "        [ 6.34073030e-03],\n",
       "        [ 7.08938738e-04],\n",
       "        [ 2.92752197e-03],\n",
       "        [ 9.62093911e-03],\n",
       "        [-5.07507040e-03],\n",
       "        [ 2.37619400e-03],\n",
       "        [-1.32655446e-02],\n",
       "        [-3.18244649e-03],\n",
       "        [-7.43128562e-03],\n",
       "        [ 9.61253391e-03],\n",
       "        [-2.16375239e-03],\n",
       "        [-1.29895883e-02],\n",
       "        [-2.92235143e-03],\n",
       "        [-1.31545595e-02],\n",
       "        [-8.25910982e-04],\n",
       "        [-7.08102545e-03],\n",
       "        [ 1.30446716e-03],\n",
       "        [-4.18047525e-03],\n",
       "        [-3.77041801e-03],\n",
       "        [-1.51178200e-02],\n",
       "        [ 9.10014825e-03],\n",
       "        [-1.21178411e-02],\n",
       "        [ 1.19218862e-02],\n",
       "        [ 4.70352778e-04],\n",
       "        [-8.21032560e-03],\n",
       "        [ 4.15660199e-02],\n",
       "        [ 2.98922811e-03],\n",
       "        [ 9.26355469e-03],\n",
       "        [ 1.06841015e-02],\n",
       "        [-1.01033780e-02],\n",
       "        [ 1.06683069e-02],\n",
       "        [-1.46765396e-02],\n",
       "        [-1.30187119e-02],\n",
       "        [-2.07576111e-02],\n",
       "        [ 4.58673600e-03],\n",
       "        [ 6.78986608e-03],\n",
       "        [-1.30546237e-02],\n",
       "        [-1.23348682e-02],\n",
       "        [-6.45287590e-03],\n",
       "        [ 2.68805289e-02],\n",
       "        [ 1.12305669e-02],\n",
       "        [ 2.98045681e-04],\n",
       "        [ 1.59075431e-02],\n",
       "        [-1.19871259e-02],\n",
       "        [ 2.18506549e-02],\n",
       "        [-6.77362449e-03],\n",
       "        [-2.19414077e-02],\n",
       "        [-4.69294696e-03],\n",
       "        [-1.58240560e-02],\n",
       "        [-5.09433998e-03],\n",
       "        [ 2.01058943e-02],\n",
       "        [-1.62441974e-02],\n",
       "        [-1.79378086e-02],\n",
       "        [ 1.18288845e-03],\n",
       "        [-6.21581151e-03],\n",
       "        [-1.07264950e-02],\n",
       "        [-1.04338716e-02],\n",
       "        [ 1.25728281e-02],\n",
       "        [ 6.34982737e-03],\n",
       "        [ 7.68555099e-03],\n",
       "        [-4.30358590e-03],\n",
       "        [ 1.82900208e-02],\n",
       "        [ 2.34112073e-03],\n",
       "        [ 1.51744398e-03],\n",
       "        [ 1.02826017e-02],\n",
       "        [-1.00075919e-02],\n",
       "        [-1.37719504e-03],\n",
       "        [-1.20971616e-02],\n",
       "        [ 1.43090692e-02],\n",
       "        [-1.21983259e-02],\n",
       "        [-1.12351544e-02],\n",
       "        [-1.20884298e-02],\n",
       "        [-1.30649391e-02],\n",
       "        [-2.79083931e-05],\n",
       "        [ 1.93218379e-02],\n",
       "        [-1.07102111e-03],\n",
       "        [-1.80827446e-03],\n",
       "        [-3.55271450e-03],\n",
       "        [-3.00045227e-03],\n",
       "        [-1.29219421e-02],\n",
       "        [-1.22901551e-03],\n",
       "        [-8.07780396e-03],\n",
       "        [ 5.87709034e-03],\n",
       "        [ 4.89471784e-03],\n",
       "        [ 1.82826980e-03],\n",
       "        [-5.30690853e-03],\n",
       "        [ 2.54383500e-02],\n",
       "        [-2.04985505e-03],\n",
       "        [ 3.25620584e-04],\n",
       "        [-6.85872421e-03],\n",
       "        [ 2.42184837e-03],\n",
       "        [ 7.78715151e-03],\n",
       "        [-8.85914681e-03],\n",
       "        [-3.66166292e-03],\n",
       "        [ 7.24883856e-03],\n",
       "        [-5.70412153e-03],\n",
       "        [ 1.05910704e-02],\n",
       "        [ 1.07203266e-02],\n",
       "        [-5.21214506e-03],\n",
       "        [ 9.02113432e-03],\n",
       "        [-8.87484749e-04],\n",
       "        [ 7.83772177e-04],\n",
       "        [ 9.41642652e-03],\n",
       "        [-3.78752382e-03],\n",
       "        [ 1.97799505e-02],\n",
       "        [ 6.66170242e-04],\n",
       "        [ 2.20688390e-02],\n",
       "        [ 8.13619202e-03],\n",
       "        [-4.65021890e-03],\n",
       "        [ 8.36524255e-03],\n",
       "        [ 5.12796113e-04],\n",
       "        [ 8.82913852e-03],\n",
       "        [ 3.87124864e-03],\n",
       "        [-5.52600960e-03],\n",
       "        [-4.92576350e-03],\n",
       "        [ 1.98041563e-02],\n",
       "        [ 3.99950734e-03],\n",
       "        [ 1.17503748e-02],\n",
       "        [ 4.41941115e-04],\n",
       "        [-1.44344156e-02],\n",
       "        [ 2.10034228e-03],\n",
       "        [-1.37986112e-02],\n",
       "        [ 1.74158194e-02],\n",
       "        [ 1.63270987e-02],\n",
       "        [-5.30311613e-03],\n",
       "        [-4.05083235e-03],\n",
       "        [ 4.96146384e-03],\n",
       "        [ 1.87176093e-03],\n",
       "        [-1.11133847e-04],\n",
       "        [ 1.77537932e-02],\n",
       "        [ 6.73716344e-03],\n",
       "        [-8.82325438e-03],\n",
       "        [ 2.81928751e-03],\n",
       "        [-3.06038856e-03],\n",
       "        [ 1.79429778e-03],\n",
       "        [ 4.48911134e-04],\n",
       "        [-1.91314174e-02],\n",
       "        [-4.23906640e-03],\n",
       "        [ 3.66172526e-03],\n",
       "        [-8.15537171e-04],\n",
       "        [-7.05332024e-03],\n",
       "        [ 1.42111614e-02],\n",
       "        [ 9.25423418e-03],\n",
       "        [-3.72379569e-03],\n",
       "        [ 1.50116793e-02],\n",
       "        [-1.12246529e-03],\n",
       "        [-5.37507401e-03],\n",
       "        [-6.50469313e-03],\n",
       "        [ 1.52929446e-02],\n",
       "        [-3.05874584e-02],\n",
       "        [-1.40374777e-03],\n",
       "        [ 1.03943832e-02],\n",
       "        [ 2.41134689e-03],\n",
       "        [ 1.71903550e-02],\n",
       "        [ 2.78193699e-03],\n",
       "        [ 1.71952511e-02],\n",
       "        [ 1.58187564e-02],\n",
       "        [-6.56179825e-03],\n",
       "        [-1.79084480e-02],\n",
       "        [ 3.99625085e-03],\n",
       "        [-2.08570392e-03],\n",
       "        [ 3.00901557e-02],\n",
       "        [ 5.10037151e-03],\n",
       "        [ 6.34493558e-04],\n",
       "        [ 4.53949602e-03],\n",
       "        [-9.01340157e-03],\n",
       "        [-1.63521198e-02],\n",
       "        [ 1.21011814e-02],\n",
       "        [ 6.11217233e-03],\n",
       "        [-1.54608857e-02],\n",
       "        [ 1.09651975e-02],\n",
       "        [-4.38018247e-03],\n",
       "        [ 1.56913407e-02],\n",
       "        [ 1.31891976e-02],\n",
       "        [ 2.19045994e-02],\n",
       "        [ 1.45341491e-03],\n",
       "        [-6.43558885e-03],\n",
       "        [-1.61739781e-03],\n",
       "        [ 7.52422917e-03],\n",
       "        [-1.17664799e-02],\n",
       "        [ 8.91708501e-03],\n",
       "        [ 2.45689364e-02],\n",
       "        [-2.19979391e-02],\n",
       "        [ 4.27606018e-03],\n",
       "        [ 8.11515334e-03],\n",
       "        [-5.26197087e-03],\n",
       "        [-5.53505566e-03],\n",
       "        [ 1.03651524e-02]]),\n",
       " np.float64(0.9999999999999998))"
      ]
     },
     "execution_count": 19,
     "metadata": {},
     "output_type": "execute_result"
    }
   ],
   "source": [
    "results_dict[\"weights\"], results_dict[\"weights\"].sum()"
   ]
  },
  {
   "cell_type": "code",
   "execution_count": 20,
   "metadata": {},
   "outputs": [
    {
     "data": {
      "text/plain": [
       "(0.0006023179242082667, 1.3055747845607258e-05)"
      ]
     },
     "execution_count": 20,
     "metadata": {},
     "output_type": "execute_result"
    }
   ],
   "source": [
    "results_dict[\"expected_return\"], results_dict[\"expected_variance\"]"
   ]
  },
  {
   "cell_type": "markdown",
   "metadata": {},
   "source": [
    "# 3) Efficient Portfolios\n",
    "Note we do not restrict to long positions on the securities. We allow for shorting"
   ]
  },
  {
   "cell_type": "code",
   "execution_count": 21,
   "metadata": {},
   "outputs": [
    {
     "data": {
      "text/html": [
       "<div>\n",
       "<style scoped>\n",
       "    .dataframe tbody tr th:only-of-type {\n",
       "        vertical-align: middle;\n",
       "    }\n",
       "\n",
       "    .dataframe tbody tr th {\n",
       "        vertical-align: top;\n",
       "    }\n",
       "\n",
       "    .dataframe thead th {\n",
       "        text-align: right;\n",
       "    }\n",
       "</style>\n",
       "<table border=\"1\" class=\"dataframe\">\n",
       "  <thead>\n",
       "    <tr style=\"text-align: right;\">\n",
       "      <th></th>\n",
       "      <th>weights</th>\n",
       "      <th>variance</th>\n",
       "      <th>sigma</th>\n",
       "      <th>expected_return</th>\n",
       "    </tr>\n",
       "  </thead>\n",
       "  <tbody>\n",
       "    <tr>\n",
       "      <th>0</th>\n",
       "      <td>[[0.018076580575179933], [-0.00412615175359153...</td>\n",
       "      <td>0.000049</td>\n",
       "      <td>0.007008</td>\n",
       "      <td>-0.001660</td>\n",
       "    </tr>\n",
       "    <tr>\n",
       "      <th>1</th>\n",
       "      <td>[[0.01768411855433749], [-0.004269405732430674...</td>\n",
       "      <td>0.000048</td>\n",
       "      <td>0.006917</td>\n",
       "      <td>-0.001619</td>\n",
       "    </tr>\n",
       "    <tr>\n",
       "      <th>2</th>\n",
       "      <td>[[0.017291656533495212], [-0.00441265971126979...</td>\n",
       "      <td>0.000047</td>\n",
       "      <td>0.006826</td>\n",
       "      <td>-0.001579</td>\n",
       "    </tr>\n",
       "    <tr>\n",
       "      <th>3</th>\n",
       "      <td>[[0.01689919451265285], [-0.004555913690108937...</td>\n",
       "      <td>0.000045</td>\n",
       "      <td>0.006735</td>\n",
       "      <td>-0.001539</td>\n",
       "    </tr>\n",
       "    <tr>\n",
       "      <th>4</th>\n",
       "      <td>[[0.016506732491810457], [-0.00469916766894806...</td>\n",
       "      <td>0.000044</td>\n",
       "      <td>0.006645</td>\n",
       "      <td>-0.001498</td>\n",
       "    </tr>\n",
       "    <tr>\n",
       "      <th>...</th>\n",
       "      <td>...</td>\n",
       "      <td>...</td>\n",
       "      <td>...</td>\n",
       "      <td>...</td>\n",
       "    </tr>\n",
       "    <tr>\n",
       "      <th>95</th>\n",
       "      <td>[[-0.019207311404844732], [-0.0177352797433087...</td>\n",
       "      <td>0.000030</td>\n",
       "      <td>0.005521</td>\n",
       "      <td>0.002175</td>\n",
       "    </tr>\n",
       "    <tr>\n",
       "      <th>96</th>\n",
       "      <td>[[-0.019599773425687046], [-0.0178785337221478...</td>\n",
       "      <td>0.000031</td>\n",
       "      <td>0.005602</td>\n",
       "      <td>0.002215</td>\n",
       "    </tr>\n",
       "    <tr>\n",
       "      <th>97</th>\n",
       "      <td>[[-0.01999223544652938], [-0.01802178770098700...</td>\n",
       "      <td>0.000032</td>\n",
       "      <td>0.005685</td>\n",
       "      <td>0.002255</td>\n",
       "    </tr>\n",
       "    <tr>\n",
       "      <th>98</th>\n",
       "      <td>[[-0.0203846974673718], [-0.018165041679826133...</td>\n",
       "      <td>0.000033</td>\n",
       "      <td>0.005768</td>\n",
       "      <td>0.002296</td>\n",
       "    </tr>\n",
       "    <tr>\n",
       "      <th>99</th>\n",
       "      <td>[[-0.020777159488214198], [-0.0183082956586652...</td>\n",
       "      <td>0.000034</td>\n",
       "      <td>0.005852</td>\n",
       "      <td>0.002336</td>\n",
       "    </tr>\n",
       "  </tbody>\n",
       "</table>\n",
       "<p>100 rows × 4 columns</p>\n",
       "</div>"
      ],
      "text/plain": [
       "                                              weights  variance     sigma  \\\n",
       "0   [[0.018076580575179933], [-0.00412615175359153...  0.000049  0.007008   \n",
       "1   [[0.01768411855433749], [-0.004269405732430674...  0.000048  0.006917   \n",
       "2   [[0.017291656533495212], [-0.00441265971126979...  0.000047  0.006826   \n",
       "3   [[0.01689919451265285], [-0.004555913690108937...  0.000045  0.006735   \n",
       "4   [[0.016506732491810457], [-0.00469916766894806...  0.000044  0.006645   \n",
       "..                                                ...       ...       ...   \n",
       "95  [[-0.019207311404844732], [-0.0177352797433087...  0.000030  0.005521   \n",
       "96  [[-0.019599773425687046], [-0.0178785337221478...  0.000031  0.005602   \n",
       "97  [[-0.01999223544652938], [-0.01802178770098700...  0.000032  0.005685   \n",
       "98  [[-0.0203846974673718], [-0.018165041679826133...  0.000033  0.005768   \n",
       "99  [[-0.020777159488214198], [-0.0183082956586652...  0.000034  0.005852   \n",
       "\n",
       "    expected_return  \n",
       "0         -0.001660  \n",
       "1         -0.001619  \n",
       "2         -0.001579  \n",
       "3         -0.001539  \n",
       "4         -0.001498  \n",
       "..              ...  \n",
       "95         0.002175  \n",
       "96         0.002215  \n",
       "97         0.002255  \n",
       "98         0.002296  \n",
       "99         0.002336  \n",
       "\n",
       "[100 rows x 4 columns]"
      ]
     },
     "execution_count": 21,
     "metadata": {},
     "output_type": "execute_result"
    }
   ],
   "source": [
    "df = portfolio.compute_efficient_frontier()\n",
    "df"
   ]
  },
  {
   "cell_type": "code",
   "execution_count": 22,
   "metadata": {},
   "outputs": [
    {
     "data": {
      "image/png": "[encoded data removed]",
      "text/plain": [
       "<Figure size 1000x600 with 1 Axes>"
      ]
     },
     "metadata": {},
     "output_type": "display_data"
    }
   ],
   "source": [
    "portfolio.plots.plot_results(include_gmvp=True, include_efficient_frontier=True, include_individual_securities=True)"
   ]
  },
  {
   "cell_type": "markdown",
   "metadata": {},
   "source": [
    "# 4) Capital Asset Pricing Model"
   ]
  },
  {
   "cell_type": "code",
   "execution_count": 23,
   "metadata": {},
   "outputs": [
    {
     "data": {
      "text/plain": [
       "7.85849419846496e-05"
      ]
     },
     "execution_count": 23,
     "metadata": {},
     "output_type": "execute_result"
    }
   ],
   "source": [
    "annual_risk_free_rate = 0.02\n",
    "daily_risk_free_rate = (1 + annual_risk_free_rate)**(1/252) - 1 # Formula (assuming 252 days of trading)\n",
    "daily_risk_free_rate"
   ]
  },
  {
   "cell_type": "code",
   "execution_count": 24,
   "metadata": {},
   "outputs": [],
   "source": [
    "results_dict = portfolio.compute_sharpe_portfolio(daily_risk_free_rate)"
   ]
  },
  {
   "cell_type": "code",
   "execution_count": 25,
   "metadata": {},
   "outputs": [
    {
     "data": {
      "text/plain": [
       "array([[-3.83125845e-02],\n",
       "       [-2.47089644e-02],\n",
       "       [-2.93164180e-02],\n",
       "       [ 7.33407572e-02],\n",
       "       [ 1.16120848e-02],\n",
       "       [ 2.09520740e-02],\n",
       "       [-9.19158724e-03],\n",
       "       [ 9.01286356e-03],\n",
       "       [ 4.56149359e-02],\n",
       "       [-2.31324223e-02],\n",
       "       [ 3.17987286e-03],\n",
       "       [ 8.63389352e-03],\n",
       "       [ 1.81635219e-02],\n",
       "       [-2.57416674e-02],\n",
       "       [-2.69326883e-02],\n",
       "       [-4.69117333e-03],\n",
       "       [-1.08071825e-02],\n",
       "       [-5.83484762e-03],\n",
       "       [ 7.68182042e-03],\n",
       "       [ 7.89140255e-03],\n",
       "       [ 9.18674910e-02],\n",
       "       [-1.36645049e-02],\n",
       "       [ 8.59803526e-02],\n",
       "       [-8.50879101e-03],\n",
       "       [ 1.29025629e-02],\n",
       "       [-1.60376109e-02],\n",
       "       [-1.87816725e-03],\n",
       "       [ 3.41117597e-02],\n",
       "       [ 3.72288938e-02],\n",
       "       [-2.03921145e-02],\n",
       "       [-4.28338226e-02],\n",
       "       [-6.35267589e-02],\n",
       "       [ 1.88906901e-03],\n",
       "       [ 2.44853735e-02],\n",
       "       [ 6.19655242e-03],\n",
       "       [-3.20672673e-02],\n",
       "       [-2.60567913e-02],\n",
       "       [ 8.82943900e-02],\n",
       "       [ 1.91288539e-02],\n",
       "       [-3.66148749e-02],\n",
       "       [ 1.15391741e-01],\n",
       "       [ 4.40404866e-02],\n",
       "       [-2.26185695e-02],\n",
       "       [ 9.05868637e-02],\n",
       "       [-1.59852954e-02],\n",
       "       [-4.27565542e-03],\n",
       "       [ 3.16896663e-02],\n",
       "       [ 1.70350467e-02],\n",
       "       [-5.13097633e-02],\n",
       "       [-2.82277530e-02],\n",
       "       [ 6.29680984e-02],\n",
       "       [ 7.46134080e-03],\n",
       "       [-8.30486916e-02],\n",
       "       [ 6.23801774e-04],\n",
       "       [ 1.38077468e-02],\n",
       "       [ 2.29107159e-02],\n",
       "       [ 1.72983185e-02],\n",
       "       [-3.65312362e-02],\n",
       "       [ 5.80950014e-03],\n",
       "       [-2.40099580e-02],\n",
       "       [-2.37826864e-02],\n",
       "       [ 3.33759456e-02],\n",
       "       [-2.06652694e-02],\n",
       "       [ 3.83532966e-02],\n",
       "       [-3.35324793e-02],\n",
       "       [-3.82261679e-02],\n",
       "       [ 1.44478000e-02],\n",
       "       [-4.89930680e-02],\n",
       "       [-1.51947924e-02],\n",
       "       [ 3.98018329e-02],\n",
       "       [-4.33578694e-02],\n",
       "       [-4.46474008e-03],\n",
       "       [-6.10333081e-03],\n",
       "       [ 1.08245159e-02],\n",
       "       [ 1.15989380e-02],\n",
       "       [-7.95947693e-03],\n",
       "       [ 1.04724592e-03],\n",
       "       [ 1.36489264e-01],\n",
       "       [-1.37080671e-02],\n",
       "       [ 1.81291482e-02],\n",
       "       [ 2.33836959e-02],\n",
       "       [ 3.47094427e-03],\n",
       "       [ 3.07966494e-03],\n",
       "       [-5.73808915e-02],\n",
       "       [-9.69897142e-03],\n",
       "       [ 5.82133213e-03],\n",
       "       [ 5.51992934e-02],\n",
       "       [ 1.18690833e-01],\n",
       "       [ 5.42662361e-02],\n",
       "       [ 2.26024025e-02],\n",
       "       [-2.45195122e-02],\n",
       "       [ 5.24655995e-02],\n",
       "       [-5.72113818e-02],\n",
       "       [-1.19974849e-02],\n",
       "       [ 8.38556446e-02],\n",
       "       [ 8.06195033e-03],\n",
       "       [ 1.67394575e-02],\n",
       "       [ 3.58567209e-02],\n",
       "       [ 3.54917168e-02],\n",
       "       [-5.31596456e-02],\n",
       "       [-2.51594016e-02],\n",
       "       [-1.73430875e-02],\n",
       "       [ 3.76981529e-02],\n",
       "       [-4.24078877e-02],\n",
       "       [ 5.18200748e-02],\n",
       "       [-1.60264092e-02],\n",
       "       [ 1.70457070e-02],\n",
       "       [-4.92261173e-03],\n",
       "       [-2.37522528e-02],\n",
       "       [ 3.89252313e-03],\n",
       "       [-4.40354532e-02],\n",
       "       [ 7.18755849e-03],\n",
       "       [-5.69878723e-02],\n",
       "       [-3.06631189e-02],\n",
       "       [ 1.38864845e-02],\n",
       "       [-1.09178937e-02],\n",
       "       [ 8.73341141e-04],\n",
       "       [ 4.35610897e-04],\n",
       "       [ 8.15254498e-04],\n",
       "       [ 7.97464056e-02],\n",
       "       [-4.38218664e-02],\n",
       "       [-9.56256827e-03],\n",
       "       [-1.75895615e-03],\n",
       "       [ 2.24997372e-02],\n",
       "       [-8.94978039e-02],\n",
       "       [ 2.48015867e-02],\n",
       "       [ 2.39381211e-03],\n",
       "       [ 3.24296859e-02],\n",
       "       [ 3.91862485e-03],\n",
       "       [ 4.50791491e-02],\n",
       "       [-6.01890320e-03],\n",
       "       [ 1.68903142e-02],\n",
       "       [ 1.94417361e-02],\n",
       "       [-1.71403107e-03],\n",
       "       [ 3.61655312e-02],\n",
       "       [ 1.66833374e-02],\n",
       "       [-9.69497624e-03],\n",
       "       [-5.84271779e-02],\n",
       "       [ 1.56036108e-02],\n",
       "       [ 1.07189951e-01],\n",
       "       [ 6.89857879e-03],\n",
       "       [ 7.20719434e-03],\n",
       "       [ 1.35176566e-02],\n",
       "       [-2.95062033e-02],\n",
       "       [ 2.67447927e-02],\n",
       "       [ 2.62973364e-02],\n",
       "       [-2.93704973e-02],\n",
       "       [ 1.56197347e-01],\n",
       "       [-8.14954453e-03],\n",
       "       [ 2.71076647e-02],\n",
       "       [-2.32253475e-03],\n",
       "       [-5.11594639e-02],\n",
       "       [-4.53863273e-02],\n",
       "       [ 1.46457960e-02],\n",
       "       [-1.39416885e-02],\n",
       "       [-3.17059832e-02],\n",
       "       [ 4.12294481e-03],\n",
       "       [-1.20655897e-02],\n",
       "       [-1.26910186e-02],\n",
       "       [-2.00772992e-05],\n",
       "       [-3.49300653e-02],\n",
       "       [ 1.05969347e-02],\n",
       "       [ 7.18488239e-03],\n",
       "       [ 2.08172639e-02],\n",
       "       [ 3.57881010e-02],\n",
       "       [-1.37319453e-01],\n",
       "       [ 1.50748243e-02],\n",
       "       [ 8.93158839e-03],\n",
       "       [-2.47986243e-03],\n",
       "       [-2.92017362e-02],\n",
       "       [ 1.24474143e-02],\n",
       "       [-4.12340693e-02],\n",
       "       [ 2.72897324e-02],\n",
       "       [ 1.07094987e-02],\n",
       "       [-8.20550264e-03],\n",
       "       [-7.42568610e-03],\n",
       "       [-3.49753332e-03],\n",
       "       [ 5.26338375e-03],\n",
       "       [ 3.55982341e-02],\n",
       "       [-2.59920119e-02],\n",
       "       [ 1.63749928e-02],\n",
       "       [ 1.48321792e-02],\n",
       "       [-2.71484196e-02],\n",
       "       [ 1.49829216e-04],\n",
       "       [ 1.79771195e-02],\n",
       "       [-5.14880475e-02],\n",
       "       [-7.45954399e-03],\n",
       "       [-1.35442690e-02],\n",
       "       [ 2.39518898e-02],\n",
       "       [-7.66472448e-03],\n",
       "       [ 3.60659091e-02],\n",
       "       [-1.15245317e-02],\n",
       "       [ 2.28812076e-02],\n",
       "       [-1.59642717e-02],\n",
       "       [ 7.81880263e-03],\n",
       "       [-4.71416659e-02],\n",
       "       [-2.17186753e-02],\n",
       "       [-3.56542072e-02],\n",
       "       [-1.08733941e-02],\n",
       "       [-1.01616741e-02],\n",
       "       [ 2.79215790e-02],\n",
       "       [ 2.06613667e-02],\n",
       "       [ 4.53180112e-02],\n",
       "       [-2.09919206e-02],\n",
       "       [ 7.24507191e-03],\n",
       "       [-2.32178936e-02],\n",
       "       [-1.64716102e-02],\n",
       "       [ 2.63150502e-02],\n",
       "       [-2.85114396e-02],\n",
       "       [ 1.00407198e-02],\n",
       "       [ 6.56070731e-02],\n",
       "       [-7.41314074e-03],\n",
       "       [-3.70135395e-02],\n",
       "       [ 4.28456813e-03],\n",
       "       [-3.18373698e-02],\n",
       "       [ 4.23230484e-02],\n",
       "       [-3.48505227e-03],\n",
       "       [-5.32557295e-03],\n",
       "       [ 7.61619188e-03],\n",
       "       [-9.02900550e-02],\n",
       "       [ 1.40401932e-02],\n",
       "       [-1.00651059e-02],\n",
       "       [ 8.54546050e-03],\n",
       "       [-3.04267623e-02],\n",
       "       [ 3.77888750e-03],\n",
       "       [ 2.47162973e-02],\n",
       "       [-3.51270799e-02],\n",
       "       [ 1.30304080e-02],\n",
       "       [-2.01361660e-02],\n",
       "       [-3.64852974e-02],\n",
       "       [ 4.61338170e-02],\n",
       "       [-1.44589479e-02],\n",
       "       [ 7.80847338e-02],\n",
       "       [-2.56189870e-02],\n",
       "       [-4.38548385e-02],\n",
       "       [-1.91381349e-03],\n",
       "       [-1.96895885e-03],\n",
       "       [-1.43015036e-02],\n",
       "       [ 9.56199720e-02],\n",
       "       [-5.58150803e-03],\n",
       "       [-4.54328616e-02],\n",
       "       [ 6.49855003e-03],\n",
       "       [-7.14156028e-02],\n",
       "       [-2.61265269e-02],\n",
       "       [ 5.16663084e-03],\n",
       "       [-1.06325358e-02],\n",
       "       [ 2.86698082e-03],\n",
       "       [-2.04427252e-02],\n",
       "       [ 2.20481178e-02],\n",
       "       [ 4.44793972e-02],\n",
       "       [ 8.04649718e-03],\n",
       "       [ 3.61696160e-02],\n",
       "       [ 7.87657254e-03],\n",
       "       [-7.09469365e-02],\n",
       "       [-3.92949973e-02],\n",
       "       [ 1.07460049e-02],\n",
       "       [-7.72295743e-03],\n",
       "       [ 2.98692580e-02],\n",
       "       [-1.92349081e-02],\n",
       "       [ 1.19970426e-02],\n",
       "       [ 1.30137957e-01],\n",
       "       [-2.60906792e-02],\n",
       "       [ 8.61750251e-02],\n",
       "       [-2.44334047e-02],\n",
       "       [-1.46260760e-02],\n",
       "       [-8.51959703e-02],\n",
       "       [ 3.59899833e-02],\n",
       "       [ 6.64547062e-05],\n",
       "       [-2.09115635e-01],\n",
       "       [-4.90921426e-02],\n",
       "       [ 4.34821993e-02],\n",
       "       [-1.27326591e-02],\n",
       "       [ 4.86377904e-02],\n",
       "       [ 2.07189115e-01],\n",
       "       [ 2.53569185e-02],\n",
       "       [-5.78921979e-02],\n",
       "       [ 3.77159043e-02],\n",
       "       [-2.90950661e-02],\n",
       "       [ 1.18523383e-02],\n",
       "       [ 1.99885372e-02],\n",
       "       [ 2.47182859e-02],\n",
       "       [-8.98420355e-03],\n",
       "       [ 3.03904707e-02],\n",
       "       [-1.89244108e-02],\n",
       "       [-5.33730035e-03],\n",
       "       [ 4.88568385e-02],\n",
       "       [ 4.32096458e-02],\n",
       "       [-6.57351672e-03],\n",
       "       [ 5.75432842e-03],\n",
       "       [ 4.53678573e-02],\n",
       "       [-1.96375732e-02],\n",
       "       [-2.17131514e-02],\n",
       "       [-2.64073795e-02],\n",
       "       [-6.42330193e-03],\n",
       "       [ 3.85774987e-02],\n",
       "       [-3.71814045e-02],\n",
       "       [ 1.24818744e-02],\n",
       "       [-1.25181067e-02],\n",
       "       [ 1.55501418e-03],\n",
       "       [-3.44663393e-02],\n",
       "       [-4.93134870e-03],\n",
       "       [ 9.30516392e-03],\n",
       "       [-2.98223497e-02],\n",
       "       [ 1.15730925e-03],\n",
       "       [-3.81289886e-02],\n",
       "       [-8.44597458e-04],\n",
       "       [-2.46555700e-02],\n",
       "       [-3.64850125e-02],\n",
       "       [-2.97330619e-03],\n",
       "       [-6.01122932e-03],\n",
       "       [-6.53415806e-02],\n",
       "       [-3.31141677e-02],\n",
       "       [-1.32816029e-02],\n",
       "       [-6.09699229e-02],\n",
       "       [ 7.97286320e-03],\n",
       "       [ 1.75855748e-02],\n",
       "       [ 5.42889313e-03],\n",
       "       [ 8.84635045e-03],\n",
       "       [-6.52476484e-03],\n",
       "       [-1.56911336e-02],\n",
       "       [ 3.31923140e-02],\n",
       "       [-3.10414809e-03],\n",
       "       [ 1.53467363e-02],\n",
       "       [-1.51702457e-03],\n",
       "       [-5.39040660e-04],\n",
       "       [-1.00832172e-01],\n",
       "       [-8.35306366e-02],\n",
       "       [ 5.19459992e-02],\n",
       "       [-1.55525205e-02],\n",
       "       [ 4.20717210e-02],\n",
       "       [ 1.10400395e-02],\n",
       "       [-2.18410566e-02],\n",
       "       [-5.68086492e-02],\n",
       "       [ 1.90229501e-02],\n",
       "       [-2.74421431e-02],\n",
       "       [ 1.31746091e-02],\n",
       "       [-7.59613984e-03],\n",
       "       [ 1.34983810e-02],\n",
       "       [ 4.01865468e-02],\n",
       "       [ 6.85636431e-02],\n",
       "       [ 8.64442354e-03],\n",
       "       [ 4.44532895e-02],\n",
       "       [-2.95400429e-02],\n",
       "       [ 1.09817303e-02],\n",
       "       [-2.54519195e-02],\n",
       "       [ 2.82128168e-02],\n",
       "       [-1.75920813e-02],\n",
       "       [ 3.69050958e-02],\n",
       "       [-1.50776427e-02],\n",
       "       [-1.93809746e-02],\n",
       "       [ 2.97088840e-02],\n",
       "       [-8.42048539e-03],\n",
       "       [-1.62474857e-03],\n",
       "       [ 8.46181776e-02],\n",
       "       [-3.58648413e-02],\n",
       "       [-1.83396990e-02],\n",
       "       [ 1.73797630e-02],\n",
       "       [-2.03782424e-02],\n",
       "       [ 7.63148493e-02],\n",
       "       [ 2.55405958e-02],\n",
       "       [ 2.47550024e-02],\n",
       "       [-5.46606358e-03],\n",
       "       [ 1.76409479e-02],\n",
       "       [ 4.06649573e-02],\n",
       "       [-2.28326083e-02],\n",
       "       [ 2.16619580e-02],\n",
       "       [ 2.15891964e-02],\n",
       "       [ 1.34488720e-02],\n",
       "       [ 1.30737343e-02],\n",
       "       [-2.86759886e-02],\n",
       "       [ 1.73440892e-02],\n",
       "       [ 1.39958032e-02],\n",
       "       [-2.47535738e-02],\n",
       "       [ 1.56314620e-02],\n",
       "       [-2.98990840e-02],\n",
       "       [ 1.19863228e-02],\n",
       "       [-1.05156087e-02],\n",
       "       [ 3.13022068e-03],\n",
       "       [-5.48843119e-02],\n",
       "       [-2.00732540e-02],\n",
       "       [ 3.75173485e-03],\n",
       "       [-3.25040567e-03],\n",
       "       [-1.99026621e-02],\n",
       "       [ 5.83922986e-03],\n",
       "       [-1.01736654e-02],\n",
       "       [ 1.93575657e-02],\n",
       "       [-8.77558456e-03],\n",
       "       [-2.79789915e-02],\n",
       "       [-6.06318440e-03],\n",
       "       [-1.75864599e-02],\n",
       "       [-3.04015596e-02],\n",
       "       [ 2.66360226e-02],\n",
       "       [ 2.21140735e-02],\n",
       "       [ 7.79326855e-04],\n",
       "       [-1.25020543e-02],\n",
       "       [ 2.55050507e-02],\n",
       "       [ 9.57361981e-03],\n",
       "       [-2.12504412e-02],\n",
       "       [ 4.45552614e-02],\n",
       "       [ 6.76462630e-02],\n",
       "       [ 3.82470118e-02],\n",
       "       [ 3.59057650e-02],\n",
       "       [-9.97741487e-03],\n",
       "       [ 1.78394800e-02],\n",
       "       [ 2.38813668e-02],\n",
       "       [ 4.34817921e-02],\n",
       "       [-9.56279940e-03],\n",
       "       [-3.69732196e-03],\n",
       "       [ 6.27796047e-02],\n",
       "       [-1.46287140e-02],\n",
       "       [ 5.54421614e-02],\n",
       "       [ 4.68338355e-04],\n",
       "       [-6.39611798e-03],\n",
       "       [ 5.32580764e-03],\n",
       "       [ 1.16587771e-02],\n",
       "       [-3.06011106e-02],\n",
       "       [-9.23775943e-03],\n",
       "       [-6.80025616e-04],\n",
       "       [ 2.30063994e-03],\n",
       "       [-8.82161052e-03],\n",
       "       [ 6.49373523e-02],\n",
       "       [ 3.84704176e-02],\n",
       "       [ 3.28955506e-02],\n",
       "       [-4.63912595e-02],\n",
       "       [ 1.25173529e-02],\n",
       "       [-2.81134498e-02],\n",
       "       [ 2.49739399e-02],\n",
       "       [-2.22027218e-03],\n",
       "       [ 2.26827433e-02],\n",
       "       [ 1.70347245e-03],\n",
       "       [ 2.06043002e-02],\n",
       "       [ 5.56566428e-02],\n",
       "       [-1.56244672e-02],\n",
       "       [ 3.47562092e-02],\n",
       "       [ 2.87902696e-03],\n",
       "       [ 4.02266281e-02],\n",
       "       [-2.44787790e-02],\n",
       "       [-9.84397437e-03],\n",
       "       [-1.97696586e-02],\n",
       "       [-7.00507171e-04],\n",
       "       [-1.15290190e-02],\n",
       "       [ 3.39312274e-02],\n",
       "       [-2.68275302e-01],\n",
       "       [ 9.30536740e-04],\n",
       "       [ 2.08106765e-02],\n",
       "       [ 4.97079974e-03],\n",
       "       [ 2.17526724e-02],\n",
       "       [-6.61048917e-02],\n",
       "       [-6.79031240e-02],\n",
       "       [ 1.79598913e-02],\n",
       "       [-4.88202169e-02],\n",
       "       [-1.82410890e-02],\n",
       "       [ 7.89200407e-02],\n",
       "       [ 1.24380143e-02],\n",
       "       [ 7.49693215e-03],\n",
       "       [ 4.69898453e-02],\n",
       "       [ 1.57635256e-02],\n",
       "       [ 2.89105329e-02],\n",
       "       [ 2.15380735e-02],\n",
       "       [ 4.30895306e-03],\n",
       "       [ 2.92431493e-02],\n",
       "       [-7.74206884e-02],\n",
       "       [ 1.76571741e-02],\n",
       "       [ 2.83089504e-03],\n",
       "       [-2.64736420e-02],\n",
       "       [-1.53188318e-02],\n",
       "       [-1.24787443e-02],\n",
       "       [ 6.48755689e-02],\n",
       "       [ 4.73551210e-02],\n",
       "       [ 2.22828178e-03],\n",
       "       [ 1.02157986e-02],\n",
       "       [ 3.83482702e-02],\n",
       "       [ 1.67197829e-02],\n",
       "       [ 2.95180410e-02],\n",
       "       [ 4.38643082e-03],\n",
       "       [ 3.09914966e-02],\n",
       "       [-2.68894522e-02],\n",
       "       [ 3.46331423e-02],\n",
       "       [ 8.16112779e-03],\n",
       "       [-1.63348569e-02],\n",
       "       [-2.33353444e-02],\n",
       "       [ 4.70540948e-03],\n",
       "       [ 1.50481369e-02],\n",
       "       [ 3.04369919e-02],\n",
       "       [-1.94028826e-02],\n",
       "       [-1.29195216e-02],\n",
       "       [-1.54293220e-02]])"
      ]
     },
     "execution_count": 25,
     "metadata": {},
     "output_type": "execute_result"
    }
   ],
   "source": [
    "results_dict[\"weights\"]"
   ]
  },
  {
   "cell_type": "code",
   "execution_count": 26,
   "metadata": {},
   "outputs": [
    {
     "data": {
      "text/plain": [
       "0.004139637175811003"
      ]
     },
     "execution_count": 26,
     "metadata": {},
     "output_type": "execute_result"
    }
   ],
   "source": [
    "results_dict[\"expected_return\"]"
   ]
  },
  {
   "cell_type": "code",
   "execution_count": 27,
   "metadata": {},
   "outputs": [
    {
     "data": {
      "text/plain": [
       "0.00010123493412152355"
      ]
     },
     "execution_count": 27,
     "metadata": {},
     "output_type": "execute_result"
    }
   ],
   "source": [
    "results_dict[\"expected_variance\"]"
   ]
  },
  {
   "cell_type": "code",
   "execution_count": 33,
   "metadata": {},
   "outputs": [
    {
     "name": "stdout",
     "output_type": "stream",
     "text": [
      "Daily Sharpe ratio: 0.403620646029363 \n",
      "Annualized Sharpe ratio: 6.407279120429545\n"
     ]
    }
   ],
   "source": [
    "print(f'Daily Sharpe ratio: {results_dict[\"sharpe_ratio\"]} \\nAnnualized Sharpe ratio: {results_dict[\"sharpe_ratio\"] * np.sqrt(252)}')"
   ]
  },
  {
   "cell_type": "code",
   "execution_count": 29,
   "metadata": {},
   "outputs": [
    {
     "data": {
      "image/png": "[encoded data removed]",
      "text/plain": [
       "<Figure size 1000x600 with 1 Axes>"
      ]
     },
     "metadata": {},
     "output_type": "display_data"
    }
   ],
   "source": [
    "portfolio.plots.plot_results(include_gmvp=True, include_efficient_frontier=True, include_sharpe=True, include_individual_securities=True)"
   ]
  }
 ],
 "metadata": {
  "kernelspec": {
   "display_name": ".venv",
   "language": "python",
   "name": "python3"
  },
  "language_info": {
   "codemirror_mode": {
    "name": "ipython",
    "version": 3
   },
   "file_extension": ".py",
   "mimetype": "text/x-python",
   "name": "python",
   "nbconvert_exporter": "python",
   "pygments_lexer": "ipython3",
   "version": "3.11.10"
  }
 },
 "nbformat": 4,
 "nbformat_minor": 2
}
